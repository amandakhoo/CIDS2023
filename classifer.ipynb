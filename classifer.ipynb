{
 "cells": [
  {
   "cell_type": "markdown",
   "id": "3ac0b920-c5f6-4e0b-8607-441bc1c68d00",
   "metadata": {},
   "source": [
    "# Classifier Notebook\n",
    "### Questions\n",
    "\n",
    "### Useful links"
   ]
  },
  {
   "cell_type": "markdown",
   "id": "c34e28ea-8f55-4c9a-ba96-2eb3797eca65",
   "metadata": {},
   "source": [
    "## Load rawcounts and normalized_logcounts"
   ]
  },
  {
   "cell_type": "code",
   "execution_count": 1,
   "id": "ce89b9d3-3044-4e50-9291-32472079501c",
   "metadata": {
    "execution": {
     "iopub.execute_input": "2023-01-25T19:01:32.882066Z",
     "iopub.status.busy": "2023-01-25T19:01:32.881647Z",
     "iopub.status.idle": "2023-01-25T19:01:34.335117Z",
     "shell.execute_reply": "2023-01-25T19:01:34.334299Z",
     "shell.execute_reply.started": "2023-01-25T19:01:32.882001Z"
    },
    "tags": []
   },
   "outputs": [],
   "source": [
    "import scanpy as sc\n",
    "\n",
    "from warnings import filterwarnings\n",
    "filterwarnings('ignore')\n",
    "\n",
    "from sklearn.model_selection import GridSearchCV\n",
    "\n",
    "from xgboost import XGBClassifier\n",
    "from sklearn.model_selection import train_test_split\n",
    "from sklearn.pipeline import Pipeline\n",
    "import pandas as pd\n",
    "\n",
    "from sklearn.svm import SVC\n",
    "from sklearn.metrics import confusion_matrix, ConfusionMatrixDisplay, f1_score\n",
    "import matplotlib.pyplot as plt\n",
    "\n",
    "import pickle\n"
   ]
  },
  {
   "cell_type": "markdown",
   "id": "9db49bd3-287b-4dfe-b6d9-61595d58f351",
   "metadata": {},
   "source": [
    "### Read data in"
   ]
  },
  {
   "cell_type": "code",
   "execution_count": 2,
   "id": "87cf8441-b43d-44f9-b349-ee26a85b994c",
   "metadata": {
    "execution": {
     "iopub.execute_input": "2023-01-25T19:01:34.337289Z",
     "iopub.status.busy": "2023-01-25T19:01:34.336672Z",
     "iopub.status.idle": "2023-01-25T19:01:37.525531Z",
     "shell.execute_reply": "2023-01-25T19:01:37.524863Z",
     "shell.execute_reply.started": "2023-01-25T19:01:34.337256Z"
    },
    "tags": []
   },
   "outputs": [],
   "source": [
    "adata = sc.read_h5ad('../sc_training.h5ad')\n",
    "adata.layers['normalized_logcounts'] = adata.X.copy()\n",
    "adata.X = adata.layers['rawcounts'].copy()  \n",
    "\n",
    "sc.pp.normalize_total(adata, target_sum=5e3)\n",
    "sc.pp.log1p(adata)"
   ]
  },
  {
   "cell_type": "code",
   "execution_count": 3,
   "id": "1417ad94-10f1-4c29-8d8f-e1d0b68ccf64",
   "metadata": {
    "execution": {
     "iopub.execute_input": "2023-01-25T19:01:37.527071Z",
     "iopub.status.busy": "2023-01-25T19:01:37.526791Z",
     "iopub.status.idle": "2023-01-25T19:01:39.020363Z",
     "shell.execute_reply": "2023-01-25T19:01:39.019733Z",
     "shell.execute_reply.started": "2023-01-25T19:01:37.527051Z"
    },
    "tags": []
   },
   "outputs": [],
   "source": [
    "normdf = adata.to_df(layer=\"normalized_logcounts\")"
   ]
  },
  {
   "cell_type": "code",
   "execution_count": 4,
   "id": "1f54dbe4-cc3f-42f5-bf7e-9001a16c1ad7",
   "metadata": {
    "execution": {
     "iopub.execute_input": "2023-01-25T19:01:39.021467Z",
     "iopub.status.busy": "2023-01-25T19:01:39.021244Z",
     "iopub.status.idle": "2023-01-25T19:01:39.048511Z",
     "shell.execute_reply": "2023-01-25T19:01:39.047980Z",
     "shell.execute_reply.started": "2023-01-25T19:01:39.021447Z"
    },
    "tags": []
   },
   "outputs": [
    {
     "data": {
      "text/html": [
       "<div>\n",
       "<style scoped>\n",
       "    .dataframe tbody tr th:only-of-type {\n",
       "        vertical-align: middle;\n",
       "    }\n",
       "\n",
       "    .dataframe tbody tr th {\n",
       "        vertical-align: top;\n",
       "    }\n",
       "\n",
       "    .dataframe thead th {\n",
       "        text-align: right;\n",
       "    }\n",
       "</style>\n",
       "<table border=\"1\" class=\"dataframe\">\n",
       "  <thead>\n",
       "    <tr style=\"text-align: right;\">\n",
       "      <th></th>\n",
       "      <th>Mrpl15</th>\n",
       "      <th>Lypla1</th>\n",
       "      <th>Tcea1</th>\n",
       "      <th>Atp6v1h</th>\n",
       "      <th>Rb1cc1</th>\n",
       "      <th>4732440D04Rik</th>\n",
       "      <th>Pcmtd1</th>\n",
       "      <th>Gm26901</th>\n",
       "      <th>Rrs1</th>\n",
       "      <th>Adhfe1</th>\n",
       "      <th>...</th>\n",
       "      <th>Slc3a1</th>\n",
       "      <th>Cfap53</th>\n",
       "      <th>Pstpip2</th>\n",
       "      <th>Gm17227</th>\n",
       "      <th>Ms4a8a</th>\n",
       "      <th>9130016M20Rik</th>\n",
       "      <th>Htr7</th>\n",
       "      <th>Col17a1</th>\n",
       "      <th>Awat2</th>\n",
       "      <th>Amot</th>\n",
       "    </tr>\n",
       "  </thead>\n",
       "  <tbody>\n",
       "    <tr>\n",
       "      <th>053l1_AAACCTGAGATGTCGG-1</th>\n",
       "      <td>0.511520</td>\n",
       "      <td>0.000000</td>\n",
       "      <td>0.000000</td>\n",
       "      <td>0.0</td>\n",
       "      <td>0.0</td>\n",
       "      <td>0.0</td>\n",
       "      <td>0.000000</td>\n",
       "      <td>0.0</td>\n",
       "      <td>0.000000</td>\n",
       "      <td>0.0</td>\n",
       "      <td>...</td>\n",
       "      <td>0.0</td>\n",
       "      <td>0.0</td>\n",
       "      <td>0.0</td>\n",
       "      <td>0.0</td>\n",
       "      <td>0.0</td>\n",
       "      <td>0.0</td>\n",
       "      <td>0.0</td>\n",
       "      <td>0.0</td>\n",
       "      <td>0.0</td>\n",
       "      <td>0.0</td>\n",
       "    </tr>\n",
       "    <tr>\n",
       "      <th>053l1_AAACCTGAGCAACGGT-1</th>\n",
       "      <td>0.484165</td>\n",
       "      <td>0.484165</td>\n",
       "      <td>0.808991</td>\n",
       "      <td>0.0</td>\n",
       "      <td>0.0</td>\n",
       "      <td>0.0</td>\n",
       "      <td>0.000000</td>\n",
       "      <td>0.0</td>\n",
       "      <td>0.484165</td>\n",
       "      <td>0.0</td>\n",
       "      <td>...</td>\n",
       "      <td>0.0</td>\n",
       "      <td>0.0</td>\n",
       "      <td>0.0</td>\n",
       "      <td>0.0</td>\n",
       "      <td>0.0</td>\n",
       "      <td>0.0</td>\n",
       "      <td>0.0</td>\n",
       "      <td>0.0</td>\n",
       "      <td>0.0</td>\n",
       "      <td>0.0</td>\n",
       "    </tr>\n",
       "    <tr>\n",
       "      <th>053l1_AAACCTGAGTACGACG-1</th>\n",
       "      <td>0.000000</td>\n",
       "      <td>0.000000</td>\n",
       "      <td>0.000000</td>\n",
       "      <td>0.0</td>\n",
       "      <td>0.0</td>\n",
       "      <td>0.0</td>\n",
       "      <td>0.693748</td>\n",
       "      <td>0.0</td>\n",
       "      <td>0.000000</td>\n",
       "      <td>0.0</td>\n",
       "      <td>...</td>\n",
       "      <td>0.0</td>\n",
       "      <td>0.0</td>\n",
       "      <td>0.0</td>\n",
       "      <td>0.0</td>\n",
       "      <td>0.0</td>\n",
       "      <td>0.0</td>\n",
       "      <td>0.0</td>\n",
       "      <td>0.0</td>\n",
       "      <td>0.0</td>\n",
       "      <td>0.0</td>\n",
       "    </tr>\n",
       "    <tr>\n",
       "      <th>053l1_AAACCTGAGTCGTTTG-1</th>\n",
       "      <td>0.000000</td>\n",
       "      <td>0.000000</td>\n",
       "      <td>0.000000</td>\n",
       "      <td>0.0</td>\n",
       "      <td>0.0</td>\n",
       "      <td>0.0</td>\n",
       "      <td>0.000000</td>\n",
       "      <td>0.0</td>\n",
       "      <td>0.000000</td>\n",
       "      <td>0.0</td>\n",
       "      <td>...</td>\n",
       "      <td>0.0</td>\n",
       "      <td>0.0</td>\n",
       "      <td>0.0</td>\n",
       "      <td>0.0</td>\n",
       "      <td>0.0</td>\n",
       "      <td>0.0</td>\n",
       "      <td>0.0</td>\n",
       "      <td>0.0</td>\n",
       "      <td>0.0</td>\n",
       "      <td>0.0</td>\n",
       "    </tr>\n",
       "    <tr>\n",
       "      <th>053l1_AAACCTGAGTGAAGAG-1</th>\n",
       "      <td>0.000000</td>\n",
       "      <td>0.000000</td>\n",
       "      <td>0.000000</td>\n",
       "      <td>0.0</td>\n",
       "      <td>0.0</td>\n",
       "      <td>0.0</td>\n",
       "      <td>0.000000</td>\n",
       "      <td>0.0</td>\n",
       "      <td>0.000000</td>\n",
       "      <td>0.0</td>\n",
       "      <td>...</td>\n",
       "      <td>0.0</td>\n",
       "      <td>0.0</td>\n",
       "      <td>0.0</td>\n",
       "      <td>0.0</td>\n",
       "      <td>0.0</td>\n",
       "      <td>0.0</td>\n",
       "      <td>0.0</td>\n",
       "      <td>0.0</td>\n",
       "      <td>0.0</td>\n",
       "      <td>0.0</td>\n",
       "    </tr>\n",
       "  </tbody>\n",
       "</table>\n",
       "<p>5 rows × 15077 columns</p>\n",
       "</div>"
      ],
      "text/plain": [
       "                            Mrpl15    Lypla1     Tcea1  Atp6v1h  Rb1cc1  \\\n",
       "053l1_AAACCTGAGATGTCGG-1  0.511520  0.000000  0.000000      0.0     0.0   \n",
       "053l1_AAACCTGAGCAACGGT-1  0.484165  0.484165  0.808991      0.0     0.0   \n",
       "053l1_AAACCTGAGTACGACG-1  0.000000  0.000000  0.000000      0.0     0.0   \n",
       "053l1_AAACCTGAGTCGTTTG-1  0.000000  0.000000  0.000000      0.0     0.0   \n",
       "053l1_AAACCTGAGTGAAGAG-1  0.000000  0.000000  0.000000      0.0     0.0   \n",
       "\n",
       "                          4732440D04Rik    Pcmtd1  Gm26901      Rrs1  Adhfe1  \\\n",
       "053l1_AAACCTGAGATGTCGG-1            0.0  0.000000      0.0  0.000000     0.0   \n",
       "053l1_AAACCTGAGCAACGGT-1            0.0  0.000000      0.0  0.484165     0.0   \n",
       "053l1_AAACCTGAGTACGACG-1            0.0  0.693748      0.0  0.000000     0.0   \n",
       "053l1_AAACCTGAGTCGTTTG-1            0.0  0.000000      0.0  0.000000     0.0   \n",
       "053l1_AAACCTGAGTGAAGAG-1            0.0  0.000000      0.0  0.000000     0.0   \n",
       "\n",
       "                          ...  Slc3a1  Cfap53  Pstpip2  Gm17227  Ms4a8a  \\\n",
       "053l1_AAACCTGAGATGTCGG-1  ...     0.0     0.0      0.0      0.0     0.0   \n",
       "053l1_AAACCTGAGCAACGGT-1  ...     0.0     0.0      0.0      0.0     0.0   \n",
       "053l1_AAACCTGAGTACGACG-1  ...     0.0     0.0      0.0      0.0     0.0   \n",
       "053l1_AAACCTGAGTCGTTTG-1  ...     0.0     0.0      0.0      0.0     0.0   \n",
       "053l1_AAACCTGAGTGAAGAG-1  ...     0.0     0.0      0.0      0.0     0.0   \n",
       "\n",
       "                          9130016M20Rik  Htr7  Col17a1  Awat2  Amot  \n",
       "053l1_AAACCTGAGATGTCGG-1            0.0   0.0      0.0    0.0   0.0  \n",
       "053l1_AAACCTGAGCAACGGT-1            0.0   0.0      0.0    0.0   0.0  \n",
       "053l1_AAACCTGAGTACGACG-1            0.0   0.0      0.0    0.0   0.0  \n",
       "053l1_AAACCTGAGTCGTTTG-1            0.0   0.0      0.0    0.0   0.0  \n",
       "053l1_AAACCTGAGTGAAGAG-1            0.0   0.0      0.0    0.0   0.0  \n",
       "\n",
       "[5 rows x 15077 columns]"
      ]
     },
     "execution_count": 4,
     "metadata": {},
     "output_type": "execute_result"
    }
   ],
   "source": [
    "normdf.head()"
   ]
  },
  {
   "cell_type": "code",
   "execution_count": 5,
   "id": "afcab10a-ae04-4649-91ba-e2cbf5034147",
   "metadata": {
    "execution": {
     "iopub.execute_input": "2023-01-25T01:37:32.981061Z",
     "iopub.status.busy": "2023-01-25T01:37:32.980775Z",
     "iopub.status.idle": "2023-01-25T01:37:32.987316Z",
     "shell.execute_reply": "2023-01-25T01:37:32.986641Z",
     "shell.execute_reply.started": "2023-01-25T01:37:32.981041Z"
    },
    "tags": []
   },
   "outputs": [
    {
     "data": {
      "text/plain": [
       "053l1_AAACCTGAGATGTCGG-1    terminal exhausted\n",
       "053l1_AAACCTGAGCAACGGT-1              effector\n",
       "053l1_AAACCTGAGTACGACG-1              effector\n",
       "053l1_AAACCTGAGTCGTTTG-1    terminal exhausted\n",
       "053l1_AAACCTGAGTGAAGAG-1              effector\n",
       "                                   ...        \n",
       "053l4_TTTGTCATCAGGTTCA-1                 other\n",
       "053l4_TTTGTCATCAGTGTTG-1               cycling\n",
       "053l4_TTTGTCATCCTCGCAT-1               cycling\n",
       "053l4_TTTGTCATCTTCAACT-1               cycling\n",
       "053l4_TTTGTCATCTTTCCTC-1               cycling\n",
       "Name: state, Length: 28697, dtype: category\n",
       "Categories (5, object): ['cycling', 'effector', 'other', 'progenitor', 'terminal exhausted']"
      ]
     },
     "execution_count": 5,
     "metadata": {},
     "output_type": "execute_result"
    }
   ],
   "source": [
    "adata.obs['state'] #labels"
   ]
  },
  {
   "cell_type": "markdown",
   "id": "d4a5b407-693d-4e01-b37f-deb14a6ff7de",
   "metadata": {},
   "source": [
    "## Models\n",
    "- consider putting this in a Pipeline with the variance filter as a custom Transformer: https://towardsdatascience.com/creating-custom-transformers-for-sklearn-pipelines-d3d51852ecc1"
   ]
  },
  {
   "cell_type": "code",
   "execution_count": 5,
   "id": "cd9d3f55-f9c8-48c5-8795-18987ca678c1",
   "metadata": {
    "execution": {
     "iopub.execute_input": "2023-01-25T19:01:39.049940Z",
     "iopub.status.busy": "2023-01-25T19:01:39.049679Z",
     "iopub.status.idle": "2023-01-25T19:01:39.052782Z",
     "shell.execute_reply": "2023-01-25T19:01:39.052293Z",
     "shell.execute_reply.started": "2023-01-25T19:01:39.049921Z"
    },
    "tags": []
   },
   "outputs": [],
   "source": [
    "X = normdf\n",
    "y = adata.obs['state']"
   ]
  },
  {
   "cell_type": "markdown",
   "id": "9d804471-d8ff-4884-86a2-8ade871cdf95",
   "metadata": {},
   "source": [
    "## Filter out low variance genes (see EDA)\n",
    "- Todo: save variance filtered set as another piece of adata"
   ]
  },
  {
   "cell_type": "code",
   "execution_count": 6,
   "id": "469995e6-76ae-4a29-a639-456c435e4db0",
   "metadata": {
    "execution": {
     "iopub.execute_input": "2023-01-25T19:01:39.331241Z",
     "iopub.status.busy": "2023-01-25T19:01:39.330857Z",
     "iopub.status.idle": "2023-01-25T19:01:51.732471Z",
     "shell.execute_reply": "2023-01-25T19:01:51.731841Z",
     "shell.execute_reply.started": "2023-01-25T19:01:39.331216Z"
    },
    "tags": []
   },
   "outputs": [],
   "source": [
    "var_per_gene = normdf.var(axis = 0)"
   ]
  },
  {
   "cell_type": "code",
   "execution_count": 7,
   "id": "3acbc110-6539-42e0-9206-75ce6a3efb64",
   "metadata": {
    "execution": {
     "iopub.execute_input": "2023-01-25T19:01:51.734081Z",
     "iopub.status.busy": "2023-01-25T19:01:51.733719Z",
     "iopub.status.idle": "2023-01-25T19:01:51.740178Z",
     "shell.execute_reply": "2023-01-25T19:01:51.739668Z",
     "shell.execute_reply.started": "2023-01-25T19:01:51.734060Z"
    },
    "tags": []
   },
   "outputs": [],
   "source": [
    "filt = var_per_gene[var_per_gene >= ((var_per_gene.sort_values()[-1:][0])/100)]"
   ]
  },
  {
   "cell_type": "code",
   "execution_count": 8,
   "id": "ee1f236d-edc6-467a-bbe9-e60edc12eef6",
   "metadata": {
    "execution": {
     "iopub.execute_input": "2023-01-25T19:01:51.741349Z",
     "iopub.status.busy": "2023-01-25T19:01:51.740900Z",
     "iopub.status.idle": "2023-01-25T19:01:52.156535Z",
     "shell.execute_reply": "2023-01-25T19:01:52.155915Z",
     "shell.execute_reply.started": "2023-01-25T19:01:51.741330Z"
    },
    "tags": []
   },
   "outputs": [],
   "source": [
    "X = normdf.filter(filt.index.values, axis = 1)"
   ]
  },
  {
   "cell_type": "code",
   "execution_count": 9,
   "id": "dca7c911-77eb-480e-bd77-93eae32d75b8",
   "metadata": {
    "execution": {
     "iopub.execute_input": "2023-01-25T19:01:52.158403Z",
     "iopub.status.busy": "2023-01-25T19:01:52.157879Z",
     "iopub.status.idle": "2023-01-25T19:01:52.161784Z",
     "shell.execute_reply": "2023-01-25T19:01:52.161259Z",
     "shell.execute_reply.started": "2023-01-25T19:01:52.158381Z"
    },
    "tags": []
   },
   "outputs": [],
   "source": [
    "def filter(normdf):\n",
    "    var_per_gene = normdf.var(axis = 0)\n",
    "    filt = var_per_gene[var_per_gene >= ((var_per_gene.sort_values()[-1:][0])/100)]\n",
    "    X = normdf.filter(filt.index.values, axis = 1)\n",
    "    return X"
   ]
  },
  {
   "cell_type": "markdown",
   "id": "3682ce0e-695a-421c-8c3c-31463b8a3e06",
   "metadata": {},
   "source": [
    "## Separate samples by perturbation class"
   ]
  },
  {
   "cell_type": "code",
   "execution_count": 10,
   "id": "02f63e93-54b5-45bc-af7b-3c6b59248cb7",
   "metadata": {
    "execution": {
     "iopub.execute_input": "2023-01-25T19:01:52.162973Z",
     "iopub.status.busy": "2023-01-25T19:01:52.162506Z",
     "iopub.status.idle": "2023-01-25T19:01:52.168943Z",
     "shell.execute_reply": "2023-01-25T19:01:52.168451Z",
     "shell.execute_reply.started": "2023-01-25T19:01:52.162954Z"
    },
    "tags": []
   },
   "outputs": [],
   "source": [
    "df_cond = pd.DataFrame(adata.obs['condition'])\n",
    "unpert_sample_in = df_cond[df_cond['condition'] == 'Unperturbed'].index"
   ]
  },
  {
   "cell_type": "code",
   "execution_count": 11,
   "id": "e236608d-d0d5-4604-8b57-340be53bbeb8",
   "metadata": {
    "execution": {
     "iopub.execute_input": "2023-01-25T19:01:52.169971Z",
     "iopub.status.busy": "2023-01-25T19:01:52.169609Z",
     "iopub.status.idle": "2023-01-25T19:01:52.281390Z",
     "shell.execute_reply": "2023-01-25T19:01:52.280851Z",
     "shell.execute_reply.started": "2023-01-25T19:01:52.169951Z"
    },
    "tags": []
   },
   "outputs": [
    {
     "data": {
      "text/html": [
       "<div>\n",
       "<style scoped>\n",
       "    .dataframe tbody tr th:only-of-type {\n",
       "        vertical-align: middle;\n",
       "    }\n",
       "\n",
       "    .dataframe tbody tr th {\n",
       "        vertical-align: top;\n",
       "    }\n",
       "\n",
       "    .dataframe thead th {\n",
       "        text-align: right;\n",
       "    }\n",
       "</style>\n",
       "<table border=\"1\" class=\"dataframe\">\n",
       "  <thead>\n",
       "    <tr style=\"text-align: right;\">\n",
       "      <th></th>\n",
       "      <th>Mrpl15</th>\n",
       "      <th>Lypla1</th>\n",
       "      <th>Tcea1</th>\n",
       "      <th>Atp6v1h</th>\n",
       "      <th>Rb1cc1</th>\n",
       "      <th>4732440D04Rik</th>\n",
       "      <th>Pcmtd1</th>\n",
       "      <th>Gm26901</th>\n",
       "      <th>Rrs1</th>\n",
       "      <th>Adhfe1</th>\n",
       "      <th>...</th>\n",
       "      <th>Slc3a1</th>\n",
       "      <th>Cfap53</th>\n",
       "      <th>Pstpip2</th>\n",
       "      <th>Gm17227</th>\n",
       "      <th>Ms4a8a</th>\n",
       "      <th>9130016M20Rik</th>\n",
       "      <th>Htr7</th>\n",
       "      <th>Col17a1</th>\n",
       "      <th>Awat2</th>\n",
       "      <th>Amot</th>\n",
       "    </tr>\n",
       "  </thead>\n",
       "  <tbody>\n",
       "    <tr>\n",
       "      <th>053l1_AAACCTGAGATGTCGG-1</th>\n",
       "      <td>0.511520</td>\n",
       "      <td>0.000000</td>\n",
       "      <td>0.000000</td>\n",
       "      <td>0.000000</td>\n",
       "      <td>0.000000</td>\n",
       "      <td>0.0</td>\n",
       "      <td>0.0</td>\n",
       "      <td>0.0</td>\n",
       "      <td>0.000000</td>\n",
       "      <td>0.0</td>\n",
       "      <td>...</td>\n",
       "      <td>0.0</td>\n",
       "      <td>0.0</td>\n",
       "      <td>0.0</td>\n",
       "      <td>0.0</td>\n",
       "      <td>0.0</td>\n",
       "      <td>0.0</td>\n",
       "      <td>0.0</td>\n",
       "      <td>0.0</td>\n",
       "      <td>0.0</td>\n",
       "      <td>0.0</td>\n",
       "    </tr>\n",
       "    <tr>\n",
       "      <th>053l1_AAACCTGAGTGTTAGA-1</th>\n",
       "      <td>0.000000</td>\n",
       "      <td>1.089103</td>\n",
       "      <td>0.686024</td>\n",
       "      <td>0.686024</td>\n",
       "      <td>0.000000</td>\n",
       "      <td>0.0</td>\n",
       "      <td>0.0</td>\n",
       "      <td>0.0</td>\n",
       "      <td>0.000000</td>\n",
       "      <td>0.0</td>\n",
       "      <td>...</td>\n",
       "      <td>0.0</td>\n",
       "      <td>0.0</td>\n",
       "      <td>0.0</td>\n",
       "      <td>0.0</td>\n",
       "      <td>0.0</td>\n",
       "      <td>0.0</td>\n",
       "      <td>0.0</td>\n",
       "      <td>0.0</td>\n",
       "      <td>0.0</td>\n",
       "      <td>0.0</td>\n",
       "    </tr>\n",
       "    <tr>\n",
       "      <th>053l1_AAACCTGCATAGACTC-1</th>\n",
       "      <td>0.292065</td>\n",
       "      <td>0.292065</td>\n",
       "      <td>0.292065</td>\n",
       "      <td>0.292065</td>\n",
       "      <td>0.292065</td>\n",
       "      <td>0.0</td>\n",
       "      <td>0.0</td>\n",
       "      <td>0.0</td>\n",
       "      <td>0.292065</td>\n",
       "      <td>0.0</td>\n",
       "      <td>...</td>\n",
       "      <td>0.0</td>\n",
       "      <td>0.0</td>\n",
       "      <td>0.0</td>\n",
       "      <td>0.0</td>\n",
       "      <td>0.0</td>\n",
       "      <td>0.0</td>\n",
       "      <td>0.0</td>\n",
       "      <td>0.0</td>\n",
       "      <td>0.0</td>\n",
       "      <td>0.0</td>\n",
       "    </tr>\n",
       "    <tr>\n",
       "      <th>053l1_AAACGGGAGTGGAGAA-1</th>\n",
       "      <td>1.020401</td>\n",
       "      <td>1.020401</td>\n",
       "      <td>0.000000</td>\n",
       "      <td>0.000000</td>\n",
       "      <td>0.000000</td>\n",
       "      <td>0.0</td>\n",
       "      <td>0.0</td>\n",
       "      <td>0.0</td>\n",
       "      <td>0.000000</td>\n",
       "      <td>0.0</td>\n",
       "      <td>...</td>\n",
       "      <td>0.0</td>\n",
       "      <td>0.0</td>\n",
       "      <td>0.0</td>\n",
       "      <td>0.0</td>\n",
       "      <td>0.0</td>\n",
       "      <td>0.0</td>\n",
       "      <td>0.0</td>\n",
       "      <td>0.0</td>\n",
       "      <td>0.0</td>\n",
       "      <td>0.0</td>\n",
       "    </tr>\n",
       "    <tr>\n",
       "      <th>053l1_AAACGGGCAATCGAAA-1</th>\n",
       "      <td>0.000000</td>\n",
       "      <td>0.000000</td>\n",
       "      <td>0.000000</td>\n",
       "      <td>0.000000</td>\n",
       "      <td>0.000000</td>\n",
       "      <td>0.0</td>\n",
       "      <td>0.0</td>\n",
       "      <td>0.0</td>\n",
       "      <td>0.000000</td>\n",
       "      <td>0.0</td>\n",
       "      <td>...</td>\n",
       "      <td>0.0</td>\n",
       "      <td>0.0</td>\n",
       "      <td>0.0</td>\n",
       "      <td>0.0</td>\n",
       "      <td>0.0</td>\n",
       "      <td>0.0</td>\n",
       "      <td>0.0</td>\n",
       "      <td>0.0</td>\n",
       "      <td>0.0</td>\n",
       "      <td>0.0</td>\n",
       "    </tr>\n",
       "  </tbody>\n",
       "</table>\n",
       "<p>5 rows × 15077 columns</p>\n",
       "</div>"
      ],
      "text/plain": [
       "                            Mrpl15    Lypla1     Tcea1   Atp6v1h    Rb1cc1  \\\n",
       "053l1_AAACCTGAGATGTCGG-1  0.511520  0.000000  0.000000  0.000000  0.000000   \n",
       "053l1_AAACCTGAGTGTTAGA-1  0.000000  1.089103  0.686024  0.686024  0.000000   \n",
       "053l1_AAACCTGCATAGACTC-1  0.292065  0.292065  0.292065  0.292065  0.292065   \n",
       "053l1_AAACGGGAGTGGAGAA-1  1.020401  1.020401  0.000000  0.000000  0.000000   \n",
       "053l1_AAACGGGCAATCGAAA-1  0.000000  0.000000  0.000000  0.000000  0.000000   \n",
       "\n",
       "                          4732440D04Rik  Pcmtd1  Gm26901      Rrs1  Adhfe1  \\\n",
       "053l1_AAACCTGAGATGTCGG-1            0.0     0.0      0.0  0.000000     0.0   \n",
       "053l1_AAACCTGAGTGTTAGA-1            0.0     0.0      0.0  0.000000     0.0   \n",
       "053l1_AAACCTGCATAGACTC-1            0.0     0.0      0.0  0.292065     0.0   \n",
       "053l1_AAACGGGAGTGGAGAA-1            0.0     0.0      0.0  0.000000     0.0   \n",
       "053l1_AAACGGGCAATCGAAA-1            0.0     0.0      0.0  0.000000     0.0   \n",
       "\n",
       "                          ...  Slc3a1  Cfap53  Pstpip2  Gm17227  Ms4a8a  \\\n",
       "053l1_AAACCTGAGATGTCGG-1  ...     0.0     0.0      0.0      0.0     0.0   \n",
       "053l1_AAACCTGAGTGTTAGA-1  ...     0.0     0.0      0.0      0.0     0.0   \n",
       "053l1_AAACCTGCATAGACTC-1  ...     0.0     0.0      0.0      0.0     0.0   \n",
       "053l1_AAACGGGAGTGGAGAA-1  ...     0.0     0.0      0.0      0.0     0.0   \n",
       "053l1_AAACGGGCAATCGAAA-1  ...     0.0     0.0      0.0      0.0     0.0   \n",
       "\n",
       "                          9130016M20Rik  Htr7  Col17a1  Awat2  Amot  \n",
       "053l1_AAACCTGAGATGTCGG-1            0.0   0.0      0.0    0.0   0.0  \n",
       "053l1_AAACCTGAGTGTTAGA-1            0.0   0.0      0.0    0.0   0.0  \n",
       "053l1_AAACCTGCATAGACTC-1            0.0   0.0      0.0    0.0   0.0  \n",
       "053l1_AAACGGGAGTGGAGAA-1            0.0   0.0      0.0    0.0   0.0  \n",
       "053l1_AAACGGGCAATCGAAA-1            0.0   0.0      0.0    0.0   0.0  \n",
       "\n",
       "[5 rows x 15077 columns]"
      ]
     },
     "execution_count": 11,
     "metadata": {},
     "output_type": "execute_result"
    }
   ],
   "source": [
    "df_unpert = normdf.filter(unpert_sample_in, axis = 0)\n",
    "df_unpert.head() "
   ]
  },
  {
   "cell_type": "code",
   "execution_count": 12,
   "id": "0ce7c47d-6e21-4166-b485-cc28e721182f",
   "metadata": {
    "execution": {
     "iopub.execute_input": "2023-01-25T19:01:52.282436Z",
     "iopub.status.busy": "2023-01-25T19:01:52.282171Z",
     "iopub.status.idle": "2023-01-25T19:01:52.289826Z",
     "shell.execute_reply": "2023-01-25T19:01:52.289325Z",
     "shell.execute_reply.started": "2023-01-25T19:01:52.282417Z"
    },
    "tags": []
   },
   "outputs": [],
   "source": [
    "df_unpert_labels = y.filter(unpert_sample_in, axis = 0)"
   ]
  },
  {
   "cell_type": "code",
   "execution_count": 13,
   "id": "3ab622de-780c-44e6-a364-12a2b5f0b48c",
   "metadata": {
    "execution": {
     "iopub.execute_input": "2023-01-25T19:01:52.290712Z",
     "iopub.status.busy": "2023-01-25T19:01:52.290507Z",
     "iopub.status.idle": "2023-01-25T19:01:53.393846Z",
     "shell.execute_reply": "2023-01-25T19:01:53.393248Z",
     "shell.execute_reply.started": "2023-01-25T19:01:52.290694Z"
    },
    "tags": []
   },
   "outputs": [
    {
     "data": {
      "text/html": [
       "<div>\n",
       "<style scoped>\n",
       "    .dataframe tbody tr th:only-of-type {\n",
       "        vertical-align: middle;\n",
       "    }\n",
       "\n",
       "    .dataframe tbody tr th {\n",
       "        vertical-align: top;\n",
       "    }\n",
       "\n",
       "    .dataframe thead th {\n",
       "        text-align: right;\n",
       "    }\n",
       "</style>\n",
       "<table border=\"1\" class=\"dataframe\">\n",
       "  <thead>\n",
       "    <tr style=\"text-align: right;\">\n",
       "      <th></th>\n",
       "      <th>Mrpl15</th>\n",
       "      <th>Lypla1</th>\n",
       "      <th>Tcea1</th>\n",
       "      <th>Atp6v1h</th>\n",
       "      <th>Rb1cc1</th>\n",
       "      <th>Pcmtd1</th>\n",
       "      <th>Rrs1</th>\n",
       "      <th>Vcpip1</th>\n",
       "      <th>Snhg6</th>\n",
       "      <th>Cops5</th>\n",
       "      <th>...</th>\n",
       "      <th>mt-Nd3</th>\n",
       "      <th>mt-Nd4l</th>\n",
       "      <th>mt-Nd4</th>\n",
       "      <th>mt-Nd5</th>\n",
       "      <th>mt-Nd6</th>\n",
       "      <th>mt-Cytb</th>\n",
       "      <th>CAAA01118383.1</th>\n",
       "      <th>Vamp7</th>\n",
       "      <th>CAAA01147332.1</th>\n",
       "      <th>AC149090.1</th>\n",
       "    </tr>\n",
       "  </thead>\n",
       "  <tbody>\n",
       "    <tr>\n",
       "      <th>053l1_AAACCTGAGATGTCGG-1</th>\n",
       "      <td>0.511520</td>\n",
       "      <td>0.000000</td>\n",
       "      <td>0.000000</td>\n",
       "      <td>0.000000</td>\n",
       "      <td>0.000000</td>\n",
       "      <td>0.0</td>\n",
       "      <td>0.000000</td>\n",
       "      <td>0.0</td>\n",
       "      <td>0.0</td>\n",
       "      <td>0.000000</td>\n",
       "      <td>...</td>\n",
       "      <td>0.000000</td>\n",
       "      <td>1.610826</td>\n",
       "      <td>1.099769</td>\n",
       "      <td>0.000000</td>\n",
       "      <td>0.000000</td>\n",
       "      <td>1.736030</td>\n",
       "      <td>0.000000</td>\n",
       "      <td>0.0</td>\n",
       "      <td>0.000000</td>\n",
       "      <td>0.0</td>\n",
       "    </tr>\n",
       "    <tr>\n",
       "      <th>053l1_AAACCTGAGTGTTAGA-1</th>\n",
       "      <td>0.000000</td>\n",
       "      <td>1.089103</td>\n",
       "      <td>0.686024</td>\n",
       "      <td>0.686024</td>\n",
       "      <td>0.000000</td>\n",
       "      <td>0.0</td>\n",
       "      <td>0.000000</td>\n",
       "      <td>0.0</td>\n",
       "      <td>0.0</td>\n",
       "      <td>0.000000</td>\n",
       "      <td>...</td>\n",
       "      <td>0.686024</td>\n",
       "      <td>1.375591</td>\n",
       "      <td>0.686024</td>\n",
       "      <td>0.000000</td>\n",
       "      <td>0.686024</td>\n",
       "      <td>1.779859</td>\n",
       "      <td>0.686024</td>\n",
       "      <td>0.0</td>\n",
       "      <td>0.000000</td>\n",
       "      <td>0.0</td>\n",
       "    </tr>\n",
       "    <tr>\n",
       "      <th>053l1_AAACCTGCATAGACTC-1</th>\n",
       "      <td>0.292065</td>\n",
       "      <td>0.292065</td>\n",
       "      <td>0.292065</td>\n",
       "      <td>0.292065</td>\n",
       "      <td>0.292065</td>\n",
       "      <td>0.0</td>\n",
       "      <td>0.292065</td>\n",
       "      <td>0.0</td>\n",
       "      <td>0.0</td>\n",
       "      <td>0.517829</td>\n",
       "      <td>...</td>\n",
       "      <td>0.517829</td>\n",
       "      <td>2.135607</td>\n",
       "      <td>1.216197</td>\n",
       "      <td>1.479762</td>\n",
       "      <td>0.000000</td>\n",
       "      <td>2.284313</td>\n",
       "      <td>0.292065</td>\n",
       "      <td>0.0</td>\n",
       "      <td>0.292065</td>\n",
       "      <td>0.0</td>\n",
       "    </tr>\n",
       "    <tr>\n",
       "      <th>053l1_AAACGGGAGTGGAGAA-1</th>\n",
       "      <td>1.020401</td>\n",
       "      <td>1.020401</td>\n",
       "      <td>0.000000</td>\n",
       "      <td>0.000000</td>\n",
       "      <td>0.000000</td>\n",
       "      <td>0.0</td>\n",
       "      <td>0.000000</td>\n",
       "      <td>0.0</td>\n",
       "      <td>0.0</td>\n",
       "      <td>0.000000</td>\n",
       "      <td>...</td>\n",
       "      <td>0.000000</td>\n",
       "      <td>0.000000</td>\n",
       "      <td>1.020401</td>\n",
       "      <td>0.000000</td>\n",
       "      <td>0.000000</td>\n",
       "      <td>1.844182</td>\n",
       "      <td>0.000000</td>\n",
       "      <td>0.0</td>\n",
       "      <td>1.020401</td>\n",
       "      <td>0.0</td>\n",
       "    </tr>\n",
       "    <tr>\n",
       "      <th>053l1_AAACGGGCAATCGAAA-1</th>\n",
       "      <td>0.000000</td>\n",
       "      <td>0.000000</td>\n",
       "      <td>0.000000</td>\n",
       "      <td>0.000000</td>\n",
       "      <td>0.000000</td>\n",
       "      <td>0.0</td>\n",
       "      <td>0.000000</td>\n",
       "      <td>0.0</td>\n",
       "      <td>0.0</td>\n",
       "      <td>0.000000</td>\n",
       "      <td>...</td>\n",
       "      <td>1.836899</td>\n",
       "      <td>2.187799</td>\n",
       "      <td>2.187799</td>\n",
       "      <td>0.000000</td>\n",
       "      <td>0.000000</td>\n",
       "      <td>2.187799</td>\n",
       "      <td>0.000000</td>\n",
       "      <td>0.0</td>\n",
       "      <td>0.000000</td>\n",
       "      <td>0.0</td>\n",
       "    </tr>\n",
       "  </tbody>\n",
       "</table>\n",
       "<p>5 rows × 7466 columns</p>\n",
       "</div>"
      ],
      "text/plain": [
       "                            Mrpl15    Lypla1     Tcea1   Atp6v1h    Rb1cc1  \\\n",
       "053l1_AAACCTGAGATGTCGG-1  0.511520  0.000000  0.000000  0.000000  0.000000   \n",
       "053l1_AAACCTGAGTGTTAGA-1  0.000000  1.089103  0.686024  0.686024  0.000000   \n",
       "053l1_AAACCTGCATAGACTC-1  0.292065  0.292065  0.292065  0.292065  0.292065   \n",
       "053l1_AAACGGGAGTGGAGAA-1  1.020401  1.020401  0.000000  0.000000  0.000000   \n",
       "053l1_AAACGGGCAATCGAAA-1  0.000000  0.000000  0.000000  0.000000  0.000000   \n",
       "\n",
       "                          Pcmtd1      Rrs1  Vcpip1  Snhg6     Cops5  ...  \\\n",
       "053l1_AAACCTGAGATGTCGG-1     0.0  0.000000     0.0    0.0  0.000000  ...   \n",
       "053l1_AAACCTGAGTGTTAGA-1     0.0  0.000000     0.0    0.0  0.000000  ...   \n",
       "053l1_AAACCTGCATAGACTC-1     0.0  0.292065     0.0    0.0  0.517829  ...   \n",
       "053l1_AAACGGGAGTGGAGAA-1     0.0  0.000000     0.0    0.0  0.000000  ...   \n",
       "053l1_AAACGGGCAATCGAAA-1     0.0  0.000000     0.0    0.0  0.000000  ...   \n",
       "\n",
       "                            mt-Nd3   mt-Nd4l    mt-Nd4    mt-Nd5    mt-Nd6  \\\n",
       "053l1_AAACCTGAGATGTCGG-1  0.000000  1.610826  1.099769  0.000000  0.000000   \n",
       "053l1_AAACCTGAGTGTTAGA-1  0.686024  1.375591  0.686024  0.000000  0.686024   \n",
       "053l1_AAACCTGCATAGACTC-1  0.517829  2.135607  1.216197  1.479762  0.000000   \n",
       "053l1_AAACGGGAGTGGAGAA-1  0.000000  0.000000  1.020401  0.000000  0.000000   \n",
       "053l1_AAACGGGCAATCGAAA-1  1.836899  2.187799  2.187799  0.000000  0.000000   \n",
       "\n",
       "                           mt-Cytb  CAAA01118383.1  Vamp7  CAAA01147332.1  \\\n",
       "053l1_AAACCTGAGATGTCGG-1  1.736030        0.000000    0.0        0.000000   \n",
       "053l1_AAACCTGAGTGTTAGA-1  1.779859        0.686024    0.0        0.000000   \n",
       "053l1_AAACCTGCATAGACTC-1  2.284313        0.292065    0.0        0.292065   \n",
       "053l1_AAACGGGAGTGGAGAA-1  1.844182        0.000000    0.0        1.020401   \n",
       "053l1_AAACGGGCAATCGAAA-1  2.187799        0.000000    0.0        0.000000   \n",
       "\n",
       "                          AC149090.1  \n",
       "053l1_AAACCTGAGATGTCGG-1         0.0  \n",
       "053l1_AAACCTGAGTGTTAGA-1         0.0  \n",
       "053l1_AAACCTGCATAGACTC-1         0.0  \n",
       "053l1_AAACGGGAGTGGAGAA-1         0.0  \n",
       "053l1_AAACGGGCAATCGAAA-1         0.0  \n",
       "\n",
       "[5 rows x 7466 columns]"
      ]
     },
     "execution_count": 13,
     "metadata": {},
     "output_type": "execute_result"
    }
   ],
   "source": [
    "filter(df_unpert).head()"
   ]
  },
  {
   "cell_type": "markdown",
   "id": "54dafc7b-759d-4d70-ac35-0ddb1d1c089a",
   "metadata": {},
   "source": [
    "## SVM\n",
    "- **unperturbed cells data only**"
   ]
  },
  {
   "cell_type": "code",
   "execution_count": 14,
   "id": "1d08c93f-0e78-470c-885a-8be1043d739a",
   "metadata": {
    "execution": {
     "iopub.execute_input": "2023-01-25T19:02:11.263339Z",
     "iopub.status.busy": "2023-01-25T19:02:11.262954Z",
     "iopub.status.idle": "2023-01-25T19:02:37.760866Z",
     "shell.execute_reply": "2023-01-25T19:02:37.760013Z",
     "shell.execute_reply.started": "2023-01-25T19:02:11.263314Z"
    },
    "tags": []
   },
   "outputs": [
    {
     "data": {
      "text/html": [
       "<style>#sk-container-id-1 {color: black;background-color: white;}#sk-container-id-1 pre{padding: 0;}#sk-container-id-1 div.sk-toggleable {background-color: white;}#sk-container-id-1 label.sk-toggleable__label {cursor: pointer;display: block;width: 100%;margin-bottom: 0;padding: 0.3em;box-sizing: border-box;text-align: center;}#sk-container-id-1 label.sk-toggleable__label-arrow:before {content: \"▸\";float: left;margin-right: 0.25em;color: #696969;}#sk-container-id-1 label.sk-toggleable__label-arrow:hover:before {color: black;}#sk-container-id-1 div.sk-estimator:hover label.sk-toggleable__label-arrow:before {color: black;}#sk-container-id-1 div.sk-toggleable__content {max-height: 0;max-width: 0;overflow: hidden;text-align: left;background-color: #f0f8ff;}#sk-container-id-1 div.sk-toggleable__content pre {margin: 0.2em;color: black;border-radius: 0.25em;background-color: #f0f8ff;}#sk-container-id-1 input.sk-toggleable__control:checked~div.sk-toggleable__content {max-height: 200px;max-width: 100%;overflow: auto;}#sk-container-id-1 input.sk-toggleable__control:checked~label.sk-toggleable__label-arrow:before {content: \"▾\";}#sk-container-id-1 div.sk-estimator input.sk-toggleable__control:checked~label.sk-toggleable__label {background-color: #d4ebff;}#sk-container-id-1 div.sk-label input.sk-toggleable__control:checked~label.sk-toggleable__label {background-color: #d4ebff;}#sk-container-id-1 input.sk-hidden--visually {border: 0;clip: rect(1px 1px 1px 1px);clip: rect(1px, 1px, 1px, 1px);height: 1px;margin: -1px;overflow: hidden;padding: 0;position: absolute;width: 1px;}#sk-container-id-1 div.sk-estimator {font-family: monospace;background-color: #f0f8ff;border: 1px dotted black;border-radius: 0.25em;box-sizing: border-box;margin-bottom: 0.5em;}#sk-container-id-1 div.sk-estimator:hover {background-color: #d4ebff;}#sk-container-id-1 div.sk-parallel-item::after {content: \"\";width: 100%;border-bottom: 1px solid gray;flex-grow: 1;}#sk-container-id-1 div.sk-label:hover label.sk-toggleable__label {background-color: #d4ebff;}#sk-container-id-1 div.sk-serial::before {content: \"\";position: absolute;border-left: 1px solid gray;box-sizing: border-box;top: 0;bottom: 0;left: 50%;z-index: 0;}#sk-container-id-1 div.sk-serial {display: flex;flex-direction: column;align-items: center;background-color: white;padding-right: 0.2em;padding-left: 0.2em;position: relative;}#sk-container-id-1 div.sk-item {position: relative;z-index: 1;}#sk-container-id-1 div.sk-parallel {display: flex;align-items: stretch;justify-content: center;background-color: white;position: relative;}#sk-container-id-1 div.sk-item::before, #sk-container-id-1 div.sk-parallel-item::before {content: \"\";position: absolute;border-left: 1px solid gray;box-sizing: border-box;top: 0;bottom: 0;left: 50%;z-index: -1;}#sk-container-id-1 div.sk-parallel-item {display: flex;flex-direction: column;z-index: 1;position: relative;background-color: white;}#sk-container-id-1 div.sk-parallel-item:first-child::after {align-self: flex-end;width: 50%;}#sk-container-id-1 div.sk-parallel-item:last-child::after {align-self: flex-start;width: 50%;}#sk-container-id-1 div.sk-parallel-item:only-child::after {width: 0;}#sk-container-id-1 div.sk-dashed-wrapped {border: 1px dashed gray;margin: 0 0.4em 0.5em 0.4em;box-sizing: border-box;padding-bottom: 0.4em;background-color: white;}#sk-container-id-1 div.sk-label label {font-family: monospace;font-weight: bold;display: inline-block;line-height: 1.2em;}#sk-container-id-1 div.sk-label-container {text-align: center;}#sk-container-id-1 div.sk-container {/* jupyter's `normalize.less` sets `[hidden] { display: none; }` but bootstrap.min.css set `[hidden] { display: none !important; }` so we also need the `!important` here to be able to override the default hidden behavior on the sphinx rendered scikit-learn.org. See: https://github.com/scikit-learn/scikit-learn/issues/21755 */display: inline-block !important;position: relative;}#sk-container-id-1 div.sk-text-repr-fallback {display: none;}</style><div id=\"sk-container-id-1\" class=\"sk-top-container\"><div class=\"sk-text-repr-fallback\"><pre>SVC(C=100, gamma=0.001)</pre><b>In a Jupyter environment, please rerun this cell to show the HTML representation or trust the notebook. <br />On GitHub, the HTML representation is unable to render, please try loading this page with nbviewer.org.</b></div><div class=\"sk-container\" hidden><div class=\"sk-item\"><div class=\"sk-estimator sk-toggleable\"><input class=\"sk-toggleable__control sk-hidden--visually\" id=\"sk-estimator-id-1\" type=\"checkbox\" checked><label for=\"sk-estimator-id-1\" class=\"sk-toggleable__label sk-toggleable__label-arrow\">SVC</label><div class=\"sk-toggleable__content\"><pre>SVC(C=100, gamma=0.001)</pre></div></div></div></div></div>"
      ],
      "text/plain": [
       "SVC(C=100, gamma=0.001)"
      ]
     },
     "execution_count": 14,
     "metadata": {},
     "output_type": "execute_result"
    }
   ],
   "source": [
    "X_train, X_test, y_train, y_test = train_test_split(filter(df_unpert), df_unpert_labels, test_size=.2, random_state=88)\n",
    "svc = SVC(gamma = 1e-3, C = 100) #auto = 1/n_features, scale = 1/(n_features * variance(X)), used these values based on gridsearch\n",
    "svc.fit(X_train, y_train)\n"
   ]
  },
  {
   "cell_type": "code",
   "execution_count": 15,
   "id": "45bcecb4-bbee-4280-bb7b-a5bad77f516d",
   "metadata": {
    "execution": {
     "iopub.execute_input": "2023-01-25T19:02:37.762996Z",
     "iopub.status.busy": "2023-01-25T19:02:37.762662Z",
     "iopub.status.idle": "2023-01-25T19:03:05.383382Z",
     "shell.execute_reply": "2023-01-25T19:03:05.382680Z",
     "shell.execute_reply.started": "2023-01-25T19:02:37.762963Z"
    },
    "tags": []
   },
   "outputs": [],
   "source": [
    "preds = svc.predict(X_test)\n",
    "cm = confusion_matrix(y_test, preds)"
   ]
  },
  {
   "cell_type": "code",
   "execution_count": 17,
   "id": "0a9d16e6-aadb-481e-8d6c-7a1e03331c89",
   "metadata": {
    "execution": {
     "iopub.execute_input": "2023-01-25T19:03:40.196968Z",
     "iopub.status.busy": "2023-01-25T19:03:40.196582Z",
     "iopub.status.idle": "2023-01-25T19:03:40.397295Z",
     "shell.execute_reply": "2023-01-25T19:03:40.396675Z",
     "shell.execute_reply.started": "2023-01-25T19:03:40.196944Z"
    }
   },
   "outputs": [],
   "source": [
    "filename = 'svc_model_unperturbed.sav'\n",
    "pickle.dump(svc, open(filename, 'wb'))"
   ]
  },
  {
   "cell_type": "code",
   "execution_count": 84,
   "id": "dcea88c5-5fa1-43ad-903a-6f1943cf204a",
   "metadata": {
    "execution": {
     "iopub.execute_input": "2023-01-21T02:42:06.231947Z",
     "iopub.status.busy": "2023-01-21T02:42:06.231647Z",
     "iopub.status.idle": "2023-01-21T02:42:06.427138Z",
     "shell.execute_reply": "2023-01-21T02:42:06.426583Z",
     "shell.execute_reply.started": "2023-01-21T02:42:06.231925Z"
    },
    "tags": []
   },
   "outputs": [
    {
     "data": {
      "image/png": "[encoded data removed]",
      "text/plain": [
       "<Figure size 640x480 with 2 Axes>"
      ]
     },
     "metadata": {},
     "output_type": "display_data"
    }
   ],
   "source": [
    "ConfusionMatrixDisplay(confusion_matrix=cm, display_labels= svc.classes_).plot()\n",
    "\n",
    "#plt.savefig('../graphs/cm_plot_svm.png')\n",
    "plt.show()"
   ]
  },
  {
   "cell_type": "code",
   "execution_count": 16,
   "id": "49cedf69-1d37-4c8b-97e2-ef5ae83ed7d2",
   "metadata": {
    "execution": {
     "iopub.execute_input": "2023-01-25T19:03:34.478849Z",
     "iopub.status.busy": "2023-01-25T19:03:34.478454Z",
     "iopub.status.idle": "2023-01-25T19:03:34.489071Z",
     "shell.execute_reply": "2023-01-25T19:03:34.488559Z",
     "shell.execute_reply.started": "2023-01-25T19:03:34.478823Z"
    },
    "tags": []
   },
   "outputs": [
    {
     "name": "stdout",
     "output_type": "stream",
     "text": [
      "['cycling' 'effector' 'other' 'progenitor' 'terminal exhausted']\n"
     ]
    },
    {
     "data": {
      "text/plain": [
       "array([0.9821883 , 0.9223301 , 0.72727273, 0.94520548, 0.94249201])"
      ]
     },
     "execution_count": 16,
     "metadata": {},
     "output_type": "execute_result"
    }
   ],
   "source": [
    "print(svc.classes_)\n",
    "f1_score(y_test, preds, average=None)\n"
   ]
  },
  {
   "cell_type": "markdown",
   "id": "850c9f88-2fba-4c04-9d8a-861349724ccc",
   "metadata": {},
   "source": [
    "**Are these the best hyperparameters? Check a wide range via GridSearch**"
   ]
  },
  {
   "cell_type": "code",
   "execution_count": 24,
   "id": "f8f82554-cee9-494a-a7f6-2504dd4e641e",
   "metadata": {
    "execution": {
     "iopub.execute_input": "2023-01-21T00:11:01.433849Z",
     "iopub.status.busy": "2023-01-21T00:11:01.433446Z",
     "iopub.status.idle": "2023-01-21T00:54:15.698208Z",
     "shell.execute_reply": "2023-01-21T00:54:15.697428Z",
     "shell.execute_reply.started": "2023-01-21T00:11:01.433821Z"
    },
    "tags": []
   },
   "outputs": [
    {
     "name": "stdout",
     "output_type": "stream",
     "text": [
      "Fitting 5 folds for each of 24 candidates, totalling 120 fits\n"
     ]
    },
    {
     "data": {
      "text/html": [
       "<style>#sk-container-id-2 {color: black;background-color: white;}#sk-container-id-2 pre{padding: 0;}#sk-container-id-2 div.sk-toggleable {background-color: white;}#sk-container-id-2 label.sk-toggleable__label {cursor: pointer;display: block;width: 100%;margin-bottom: 0;padding: 0.3em;box-sizing: border-box;text-align: center;}#sk-container-id-2 label.sk-toggleable__label-arrow:before {content: \"▸\";float: left;margin-right: 0.25em;color: #696969;}#sk-container-id-2 label.sk-toggleable__label-arrow:hover:before {color: black;}#sk-container-id-2 div.sk-estimator:hover label.sk-toggleable__label-arrow:before {color: black;}#sk-container-id-2 div.sk-toggleable__content {max-height: 0;max-width: 0;overflow: hidden;text-align: left;background-color: #f0f8ff;}#sk-container-id-2 div.sk-toggleable__content pre {margin: 0.2em;color: black;border-radius: 0.25em;background-color: #f0f8ff;}#sk-container-id-2 input.sk-toggleable__control:checked~div.sk-toggleable__content {max-height: 200px;max-width: 100%;overflow: auto;}#sk-container-id-2 input.sk-toggleable__control:checked~label.sk-toggleable__label-arrow:before {content: \"▾\";}#sk-container-id-2 div.sk-estimator input.sk-toggleable__control:checked~label.sk-toggleable__label {background-color: #d4ebff;}#sk-container-id-2 div.sk-label input.sk-toggleable__control:checked~label.sk-toggleable__label {background-color: #d4ebff;}#sk-container-id-2 input.sk-hidden--visually {border: 0;clip: rect(1px 1px 1px 1px);clip: rect(1px, 1px, 1px, 1px);height: 1px;margin: -1px;overflow: hidden;padding: 0;position: absolute;width: 1px;}#sk-container-id-2 div.sk-estimator {font-family: monospace;background-color: #f0f8ff;border: 1px dotted black;border-radius: 0.25em;box-sizing: border-box;margin-bottom: 0.5em;}#sk-container-id-2 div.sk-estimator:hover {background-color: #d4ebff;}#sk-container-id-2 div.sk-parallel-item::after {content: \"\";width: 100%;border-bottom: 1px solid gray;flex-grow: 1;}#sk-container-id-2 div.sk-label:hover label.sk-toggleable__label {background-color: #d4ebff;}#sk-container-id-2 div.sk-serial::before {content: \"\";position: absolute;border-left: 1px solid gray;box-sizing: border-box;top: 0;bottom: 0;left: 50%;z-index: 0;}#sk-container-id-2 div.sk-serial {display: flex;flex-direction: column;align-items: center;background-color: white;padding-right: 0.2em;padding-left: 0.2em;position: relative;}#sk-container-id-2 div.sk-item {position: relative;z-index: 1;}#sk-container-id-2 div.sk-parallel {display: flex;align-items: stretch;justify-content: center;background-color: white;position: relative;}#sk-container-id-2 div.sk-item::before, #sk-container-id-2 div.sk-parallel-item::before {content: \"\";position: absolute;border-left: 1px solid gray;box-sizing: border-box;top: 0;bottom: 0;left: 50%;z-index: -1;}#sk-container-id-2 div.sk-parallel-item {display: flex;flex-direction: column;z-index: 1;position: relative;background-color: white;}#sk-container-id-2 div.sk-parallel-item:first-child::after {align-self: flex-end;width: 50%;}#sk-container-id-2 div.sk-parallel-item:last-child::after {align-self: flex-start;width: 50%;}#sk-container-id-2 div.sk-parallel-item:only-child::after {width: 0;}#sk-container-id-2 div.sk-dashed-wrapped {border: 1px dashed gray;margin: 0 0.4em 0.5em 0.4em;box-sizing: border-box;padding-bottom: 0.4em;background-color: white;}#sk-container-id-2 div.sk-label label {font-family: monospace;font-weight: bold;display: inline-block;line-height: 1.2em;}#sk-container-id-2 div.sk-label-container {text-align: center;}#sk-container-id-2 div.sk-container {/* jupyter's `normalize.less` sets `[hidden] { display: none; }` but bootstrap.min.css set `[hidden] { display: none !important; }` so we also need the `!important` here to be able to override the default hidden behavior on the sphinx rendered scikit-learn.org. See: https://github.com/scikit-learn/scikit-learn/issues/21755 */display: inline-block !important;position: relative;}#sk-container-id-2 div.sk-text-repr-fallback {display: none;}</style><div id=\"sk-container-id-2\" class=\"sk-top-container\"><div class=\"sk-text-repr-fallback\"><pre>GridSearchCV(estimator=SVC(), n_jobs=-1,\n",
       "             param_grid={&#x27;C&#x27;: [0.1, 1, 100.0, 1000.0],\n",
       "                         &#x27;gamma&#x27;: [0.0001, 0.001, 0.01, 0.1, 1, 100.0],\n",
       "                         &#x27;kernel&#x27;: [&#x27;rbf&#x27;]},\n",
       "             verbose=3)</pre><b>In a Jupyter environment, please rerun this cell to show the HTML representation or trust the notebook. <br />On GitHub, the HTML representation is unable to render, please try loading this page with nbviewer.org.</b></div><div class=\"sk-container\" hidden><div class=\"sk-item sk-dashed-wrapped\"><div class=\"sk-label-container\"><div class=\"sk-label sk-toggleable\"><input class=\"sk-toggleable__control sk-hidden--visually\" id=\"sk-estimator-id-2\" type=\"checkbox\" ><label for=\"sk-estimator-id-2\" class=\"sk-toggleable__label sk-toggleable__label-arrow\">GridSearchCV</label><div class=\"sk-toggleable__content\"><pre>GridSearchCV(estimator=SVC(), n_jobs=-1,\n",
       "             param_grid={&#x27;C&#x27;: [0.1, 1, 100.0, 1000.0],\n",
       "                         &#x27;gamma&#x27;: [0.0001, 0.001, 0.01, 0.1, 1, 100.0],\n",
       "                         &#x27;kernel&#x27;: [&#x27;rbf&#x27;]},\n",
       "             verbose=3)</pre></div></div></div><div class=\"sk-parallel\"><div class=\"sk-parallel-item\"><div class=\"sk-item\"><div class=\"sk-label-container\"><div class=\"sk-label sk-toggleable\"><input class=\"sk-toggleable__control sk-hidden--visually\" id=\"sk-estimator-id-3\" type=\"checkbox\" ><label for=\"sk-estimator-id-3\" class=\"sk-toggleable__label sk-toggleable__label-arrow\">estimator: SVC</label><div class=\"sk-toggleable__content\"><pre>SVC()</pre></div></div></div><div class=\"sk-serial\"><div class=\"sk-item\"><div class=\"sk-estimator sk-toggleable\"><input class=\"sk-toggleable__control sk-hidden--visually\" id=\"sk-estimator-id-4\" type=\"checkbox\" ><label for=\"sk-estimator-id-4\" class=\"sk-toggleable__label sk-toggleable__label-arrow\">SVC</label><div class=\"sk-toggleable__content\"><pre>SVC()</pre></div></div></div></div></div></div></div></div></div></div>"
      ],
      "text/plain": [
       "GridSearchCV(estimator=SVC(), n_jobs=-1,\n",
       "             param_grid={'C': [0.1, 1, 100.0, 1000.0],\n",
       "                         'gamma': [0.0001, 0.001, 0.01, 0.1, 1, 100.0],\n",
       "                         'kernel': ['rbf']},\n",
       "             verbose=3)"
      ]
     },
     "execution_count": 24,
     "metadata": {},
     "output_type": "execute_result"
    }
   ],
   "source": [
    "#this takes a million years to run\n",
    "X_train, X_test, y_train, y_test = train_test_split(filter(df_unpert), df_unpert_labels, test_size=.2, random_state=88)\n",
    "parameters = {'kernel':['rbf'], 'C':[1e-1, 1, 1e2, 1e3], 'gamma': [1e-4, 1e-3, 1e-2, 1e-1, 1, 1e2]}\n",
    "#parameters = {'kernel':['rbf'], 'C':[1e-1, 1], 'gamma': [1e-3]}\n",
    "svc = SVC()\n",
    "clf = GridSearchCV(estimator = svc, param_grid = parameters, n_jobs=-1, verbose=3)\n",
    "clf.fit(X_train, y_train)\n"
   ]
  },
  {
   "cell_type": "code",
   "execution_count": 41,
   "id": "f0c75e5e-3beb-4d7f-a1e0-1298e872dd47",
   "metadata": {
    "execution": {
     "iopub.execute_input": "2023-01-21T02:03:15.567026Z",
     "iopub.status.busy": "2023-01-21T02:03:15.566627Z",
     "iopub.status.idle": "2023-01-21T02:03:15.571870Z",
     "shell.execute_reply": "2023-01-21T02:03:15.571312Z",
     "shell.execute_reply.started": "2023-01-21T02:03:15.567001Z"
    },
    "tags": []
   },
   "outputs": [
    {
     "data": {
      "text/html": [
       "<style>#sk-container-id-9 {color: black;background-color: white;}#sk-container-id-9 pre{padding: 0;}#sk-container-id-9 div.sk-toggleable {background-color: white;}#sk-container-id-9 label.sk-toggleable__label {cursor: pointer;display: block;width: 100%;margin-bottom: 0;padding: 0.3em;box-sizing: border-box;text-align: center;}#sk-container-id-9 label.sk-toggleable__label-arrow:before {content: \"▸\";float: left;margin-right: 0.25em;color: #696969;}#sk-container-id-9 label.sk-toggleable__label-arrow:hover:before {color: black;}#sk-container-id-9 div.sk-estimator:hover label.sk-toggleable__label-arrow:before {color: black;}#sk-container-id-9 div.sk-toggleable__content {max-height: 0;max-width: 0;overflow: hidden;text-align: left;background-color: #f0f8ff;}#sk-container-id-9 div.sk-toggleable__content pre {margin: 0.2em;color: black;border-radius: 0.25em;background-color: #f0f8ff;}#sk-container-id-9 input.sk-toggleable__control:checked~div.sk-toggleable__content {max-height: 200px;max-width: 100%;overflow: auto;}#sk-container-id-9 input.sk-toggleable__control:checked~label.sk-toggleable__label-arrow:before {content: \"▾\";}#sk-container-id-9 div.sk-estimator input.sk-toggleable__control:checked~label.sk-toggleable__label {background-color: #d4ebff;}#sk-container-id-9 div.sk-label input.sk-toggleable__control:checked~label.sk-toggleable__label {background-color: #d4ebff;}#sk-container-id-9 input.sk-hidden--visually {border: 0;clip: rect(1px 1px 1px 1px);clip: rect(1px, 1px, 1px, 1px);height: 1px;margin: -1px;overflow: hidden;padding: 0;position: absolute;width: 1px;}#sk-container-id-9 div.sk-estimator {font-family: monospace;background-color: #f0f8ff;border: 1px dotted black;border-radius: 0.25em;box-sizing: border-box;margin-bottom: 0.5em;}#sk-container-id-9 div.sk-estimator:hover {background-color: #d4ebff;}#sk-container-id-9 div.sk-parallel-item::after {content: \"\";width: 100%;border-bottom: 1px solid gray;flex-grow: 1;}#sk-container-id-9 div.sk-label:hover label.sk-toggleable__label {background-color: #d4ebff;}#sk-container-id-9 div.sk-serial::before {content: \"\";position: absolute;border-left: 1px solid gray;box-sizing: border-box;top: 0;bottom: 0;left: 50%;z-index: 0;}#sk-container-id-9 div.sk-serial {display: flex;flex-direction: column;align-items: center;background-color: white;padding-right: 0.2em;padding-left: 0.2em;position: relative;}#sk-container-id-9 div.sk-item {position: relative;z-index: 1;}#sk-container-id-9 div.sk-parallel {display: flex;align-items: stretch;justify-content: center;background-color: white;position: relative;}#sk-container-id-9 div.sk-item::before, #sk-container-id-9 div.sk-parallel-item::before {content: \"\";position: absolute;border-left: 1px solid gray;box-sizing: border-box;top: 0;bottom: 0;left: 50%;z-index: -1;}#sk-container-id-9 div.sk-parallel-item {display: flex;flex-direction: column;z-index: 1;position: relative;background-color: white;}#sk-container-id-9 div.sk-parallel-item:first-child::after {align-self: flex-end;width: 50%;}#sk-container-id-9 div.sk-parallel-item:last-child::after {align-self: flex-start;width: 50%;}#sk-container-id-9 div.sk-parallel-item:only-child::after {width: 0;}#sk-container-id-9 div.sk-dashed-wrapped {border: 1px dashed gray;margin: 0 0.4em 0.5em 0.4em;box-sizing: border-box;padding-bottom: 0.4em;background-color: white;}#sk-container-id-9 div.sk-label label {font-family: monospace;font-weight: bold;display: inline-block;line-height: 1.2em;}#sk-container-id-9 div.sk-label-container {text-align: center;}#sk-container-id-9 div.sk-container {/* jupyter's `normalize.less` sets `[hidden] { display: none; }` but bootstrap.min.css set `[hidden] { display: none !important; }` so we also need the `!important` here to be able to override the default hidden behavior on the sphinx rendered scikit-learn.org. See: https://github.com/scikit-learn/scikit-learn/issues/21755 */display: inline-block !important;position: relative;}#sk-container-id-9 div.sk-text-repr-fallback {display: none;}</style><div id=\"sk-container-id-9\" class=\"sk-top-container\"><div class=\"sk-text-repr-fallback\"><pre>SVC(C=100.0, gamma=0.0001)</pre><b>In a Jupyter environment, please rerun this cell to show the HTML representation or trust the notebook. <br />On GitHub, the HTML representation is unable to render, please try loading this page with nbviewer.org.</b></div><div class=\"sk-container\" hidden><div class=\"sk-item\"><div class=\"sk-estimator sk-toggleable\"><input class=\"sk-toggleable__control sk-hidden--visually\" id=\"sk-estimator-id-11\" type=\"checkbox\" checked><label for=\"sk-estimator-id-11\" class=\"sk-toggleable__label sk-toggleable__label-arrow\">SVC</label><div class=\"sk-toggleable__content\"><pre>SVC(C=100.0, gamma=0.0001)</pre></div></div></div></div></div>"
      ],
      "text/plain": [
       "SVC(C=100.0, gamma=0.0001)"
      ]
     },
     "execution_count": 41,
     "metadata": {},
     "output_type": "execute_result"
    }
   ],
   "source": [
    "clf.best_estimator_"
   ]
  },
  {
   "cell_type": "code",
   "execution_count": null,
   "id": "8244ed54-47ad-4cb9-bcb5-70d863b3eede",
   "metadata": {},
   "outputs": [],
   "source": [
    "#cv = pd.DataFrame(clf.cv_results_)\n",
    "#cv.to_csv('svm_gridsearch_results.csv') #saved the results"
   ]
  },
  {
   "cell_type": "markdown",
   "id": "a6f6ead1-e82d-47a0-9af5-b42e7fc6f208",
   "metadata": {},
   "source": [
    "### Does the SVM trained on unperturbed data translate well to the perturbseq data?"
   ]
  },
  {
   "cell_type": "code",
   "execution_count": 23,
   "id": "395e06f2-5637-4b79-9ea5-b83c1cceb601",
   "metadata": {
    "execution": {
     "iopub.execute_input": "2023-01-25T19:48:49.799255Z",
     "iopub.status.busy": "2023-01-25T19:48:49.798886Z",
     "iopub.status.idle": "2023-01-25T19:48:51.313884Z",
     "shell.execute_reply": "2023-01-25T19:48:51.313323Z",
     "shell.execute_reply.started": "2023-01-25T19:48:49.799230Z"
    },
    "tags": []
   },
   "outputs": [
    {
     "data": {
      "text/html": [
       "<div>\n",
       "<style scoped>\n",
       "    .dataframe tbody tr th:only-of-type {\n",
       "        vertical-align: middle;\n",
       "    }\n",
       "\n",
       "    .dataframe tbody tr th {\n",
       "        vertical-align: top;\n",
       "    }\n",
       "\n",
       "    .dataframe thead th {\n",
       "        text-align: right;\n",
       "    }\n",
       "</style>\n",
       "<table border=\"1\" class=\"dataframe\">\n",
       "  <thead>\n",
       "    <tr style=\"text-align: right;\">\n",
       "      <th></th>\n",
       "      <th>Mrpl15</th>\n",
       "      <th>Lypla1</th>\n",
       "      <th>Tcea1</th>\n",
       "      <th>Atp6v1h</th>\n",
       "      <th>Rb1cc1</th>\n",
       "      <th>Pcmtd1</th>\n",
       "      <th>Rrs1</th>\n",
       "      <th>Vcpip1</th>\n",
       "      <th>Snhg6</th>\n",
       "      <th>Cops5</th>\n",
       "      <th>...</th>\n",
       "      <th>mt-Nd3</th>\n",
       "      <th>mt-Nd4l</th>\n",
       "      <th>mt-Nd4</th>\n",
       "      <th>mt-Nd5</th>\n",
       "      <th>mt-Nd6</th>\n",
       "      <th>mt-Cytb</th>\n",
       "      <th>CAAA01118383.1</th>\n",
       "      <th>Vamp7</th>\n",
       "      <th>CAAA01147332.1</th>\n",
       "      <th>AC149090.1</th>\n",
       "    </tr>\n",
       "  </thead>\n",
       "  <tbody>\n",
       "    <tr>\n",
       "      <th>053l1_AAACCTGAGATGTCGG-1</th>\n",
       "      <td>0.511520</td>\n",
       "      <td>0.000000</td>\n",
       "      <td>0.000000</td>\n",
       "      <td>0.0</td>\n",
       "      <td>0.0</td>\n",
       "      <td>0.000000</td>\n",
       "      <td>0.000000</td>\n",
       "      <td>0.000000</td>\n",
       "      <td>0.000000</td>\n",
       "      <td>0.000000</td>\n",
       "      <td>...</td>\n",
       "      <td>0.000000</td>\n",
       "      <td>1.610826</td>\n",
       "      <td>1.099769</td>\n",
       "      <td>0.000000</td>\n",
       "      <td>0.0</td>\n",
       "      <td>1.736030</td>\n",
       "      <td>0.0</td>\n",
       "      <td>0.0</td>\n",
       "      <td>0.000000</td>\n",
       "      <td>0.000000</td>\n",
       "    </tr>\n",
       "    <tr>\n",
       "      <th>053l1_AAACCTGAGCAACGGT-1</th>\n",
       "      <td>0.484165</td>\n",
       "      <td>0.484165</td>\n",
       "      <td>0.808991</td>\n",
       "      <td>0.0</td>\n",
       "      <td>0.0</td>\n",
       "      <td>0.000000</td>\n",
       "      <td>0.484165</td>\n",
       "      <td>0.000000</td>\n",
       "      <td>0.484165</td>\n",
       "      <td>0.808991</td>\n",
       "      <td>...</td>\n",
       "      <td>0.484165</td>\n",
       "      <td>0.808991</td>\n",
       "      <td>1.053775</td>\n",
       "      <td>0.000000</td>\n",
       "      <td>0.0</td>\n",
       "      <td>2.060644</td>\n",
       "      <td>0.0</td>\n",
       "      <td>0.0</td>\n",
       "      <td>1.053775</td>\n",
       "      <td>0.000000</td>\n",
       "    </tr>\n",
       "    <tr>\n",
       "      <th>053l1_AAACCTGAGTACGACG-1</th>\n",
       "      <td>0.000000</td>\n",
       "      <td>0.000000</td>\n",
       "      <td>0.000000</td>\n",
       "      <td>0.0</td>\n",
       "      <td>0.0</td>\n",
       "      <td>0.693748</td>\n",
       "      <td>0.000000</td>\n",
       "      <td>0.000000</td>\n",
       "      <td>0.000000</td>\n",
       "      <td>0.000000</td>\n",
       "      <td>...</td>\n",
       "      <td>0.693748</td>\n",
       "      <td>0.693748</td>\n",
       "      <td>1.099413</td>\n",
       "      <td>0.000000</td>\n",
       "      <td>0.0</td>\n",
       "      <td>1.610399</td>\n",
       "      <td>0.0</td>\n",
       "      <td>0.0</td>\n",
       "      <td>0.000000</td>\n",
       "      <td>1.099413</td>\n",
       "    </tr>\n",
       "    <tr>\n",
       "      <th>053l1_AAACCTGAGTCGTTTG-1</th>\n",
       "      <td>0.000000</td>\n",
       "      <td>0.000000</td>\n",
       "      <td>0.000000</td>\n",
       "      <td>0.0</td>\n",
       "      <td>0.0</td>\n",
       "      <td>0.000000</td>\n",
       "      <td>0.000000</td>\n",
       "      <td>0.000000</td>\n",
       "      <td>0.000000</td>\n",
       "      <td>0.000000</td>\n",
       "      <td>...</td>\n",
       "      <td>0.000000</td>\n",
       "      <td>1.923451</td>\n",
       "      <td>0.000000</td>\n",
       "      <td>1.923451</td>\n",
       "      <td>0.0</td>\n",
       "      <td>1.923451</td>\n",
       "      <td>0.0</td>\n",
       "      <td>0.0</td>\n",
       "      <td>0.000000</td>\n",
       "      <td>0.000000</td>\n",
       "    </tr>\n",
       "    <tr>\n",
       "      <th>053l1_AAACCTGAGTGAAGAG-1</th>\n",
       "      <td>0.000000</td>\n",
       "      <td>0.000000</td>\n",
       "      <td>0.000000</td>\n",
       "      <td>0.0</td>\n",
       "      <td>0.0</td>\n",
       "      <td>0.000000</td>\n",
       "      <td>0.000000</td>\n",
       "      <td>0.617566</td>\n",
       "      <td>0.000000</td>\n",
       "      <td>0.000000</td>\n",
       "      <td>...</td>\n",
       "      <td>0.617566</td>\n",
       "      <td>1.943172</td>\n",
       "      <td>0.000000</td>\n",
       "      <td>1.270666</td>\n",
       "      <td>0.0</td>\n",
       "      <td>2.058635</td>\n",
       "      <td>0.0</td>\n",
       "      <td>0.0</td>\n",
       "      <td>0.617566</td>\n",
       "      <td>0.996512</td>\n",
       "    </tr>\n",
       "  </tbody>\n",
       "</table>\n",
       "<p>5 rows × 7466 columns</p>\n",
       "</div>"
      ],
      "text/plain": [
       "                            Mrpl15    Lypla1     Tcea1  Atp6v1h  Rb1cc1  \\\n",
       "053l1_AAACCTGAGATGTCGG-1  0.511520  0.000000  0.000000      0.0     0.0   \n",
       "053l1_AAACCTGAGCAACGGT-1  0.484165  0.484165  0.808991      0.0     0.0   \n",
       "053l1_AAACCTGAGTACGACG-1  0.000000  0.000000  0.000000      0.0     0.0   \n",
       "053l1_AAACCTGAGTCGTTTG-1  0.000000  0.000000  0.000000      0.0     0.0   \n",
       "053l1_AAACCTGAGTGAAGAG-1  0.000000  0.000000  0.000000      0.0     0.0   \n",
       "\n",
       "                            Pcmtd1      Rrs1    Vcpip1     Snhg6     Cops5  \\\n",
       "053l1_AAACCTGAGATGTCGG-1  0.000000  0.000000  0.000000  0.000000  0.000000   \n",
       "053l1_AAACCTGAGCAACGGT-1  0.000000  0.484165  0.000000  0.484165  0.808991   \n",
       "053l1_AAACCTGAGTACGACG-1  0.693748  0.000000  0.000000  0.000000  0.000000   \n",
       "053l1_AAACCTGAGTCGTTTG-1  0.000000  0.000000  0.000000  0.000000  0.000000   \n",
       "053l1_AAACCTGAGTGAAGAG-1  0.000000  0.000000  0.617566  0.000000  0.000000   \n",
       "\n",
       "                          ...    mt-Nd3   mt-Nd4l    mt-Nd4    mt-Nd5  mt-Nd6  \\\n",
       "053l1_AAACCTGAGATGTCGG-1  ...  0.000000  1.610826  1.099769  0.000000     0.0   \n",
       "053l1_AAACCTGAGCAACGGT-1  ...  0.484165  0.808991  1.053775  0.000000     0.0   \n",
       "053l1_AAACCTGAGTACGACG-1  ...  0.693748  0.693748  1.099413  0.000000     0.0   \n",
       "053l1_AAACCTGAGTCGTTTG-1  ...  0.000000  1.923451  0.000000  1.923451     0.0   \n",
       "053l1_AAACCTGAGTGAAGAG-1  ...  0.617566  1.943172  0.000000  1.270666     0.0   \n",
       "\n",
       "                           mt-Cytb  CAAA01118383.1  Vamp7  CAAA01147332.1  \\\n",
       "053l1_AAACCTGAGATGTCGG-1  1.736030             0.0    0.0        0.000000   \n",
       "053l1_AAACCTGAGCAACGGT-1  2.060644             0.0    0.0        1.053775   \n",
       "053l1_AAACCTGAGTACGACG-1  1.610399             0.0    0.0        0.000000   \n",
       "053l1_AAACCTGAGTCGTTTG-1  1.923451             0.0    0.0        0.000000   \n",
       "053l1_AAACCTGAGTGAAGAG-1  2.058635             0.0    0.0        0.617566   \n",
       "\n",
       "                          AC149090.1  \n",
       "053l1_AAACCTGAGATGTCGG-1    0.000000  \n",
       "053l1_AAACCTGAGCAACGGT-1    0.000000  \n",
       "053l1_AAACCTGAGTACGACG-1    1.099413  \n",
       "053l1_AAACCTGAGTCGTTTG-1    0.000000  \n",
       "053l1_AAACCTGAGTGAAGAG-1    0.996512  \n",
       "\n",
       "[5 rows x 7466 columns]"
      ]
     },
     "execution_count": 23,
     "metadata": {},
     "output_type": "execute_result"
    }
   ],
   "source": [
    "#note that filter(normdf) won't work bc the genes filtered out are based on variance of unperturbed cells. Instead, use a mask to get the same genes\n",
    "normdf[filter(df_unpert).columns].head()"
   ]
  },
  {
   "cell_type": "code",
   "execution_count": 29,
   "id": "21c886cd-d38a-49e5-b873-6e719d104833",
   "metadata": {
    "execution": {
     "iopub.execute_input": "2023-01-25T19:51:13.280984Z",
     "iopub.status.busy": "2023-01-25T19:51:13.280595Z",
     "iopub.status.idle": "2023-01-25T19:56:47.545739Z",
     "shell.execute_reply": "2023-01-25T19:56:47.544929Z",
     "shell.execute_reply.started": "2023-01-25T19:51:13.280959Z"
    },
    "tags": []
   },
   "outputs": [
    {
     "name": "stdout",
     "output_type": "stream",
     "text": [
      "0.9578397212543553 rb\n"
     ]
    },
    {
     "data": {
      "image/png": "[encoded data removed]",
      "text/plain": [
       "<Figure size 640x480 with 2 Axes>"
      ]
     },
     "metadata": {},
     "output_type": "display_data"
    }
   ],
   "source": [
    "#split the full perturb seq dataset into test and train\n",
    "X_train, X_test, y_train, y_test = train_test_split(normdf[filter(df_unpert).columns], adata.obs['state'], test_size=.2, random_state=88)\n",
    "\n",
    "#load the pretrained model\n",
    "loaded_model = pickle.load(open('../saved_models/svc_model_unperturbed.sav', 'rb'))\n",
    "result = loaded_model.score(X_test, y_test)\n",
    "print(result, 'rb')\n",
    "preds = loaded_model.predict(X_test)\n",
    "\n",
    "\n",
    "cm = confusion_matrix(y_test, preds)\n",
    "ConfusionMatrixDisplay(confusion_matrix=cm, display_labels= loaded_model.classes_).plot()\n",
    "\n",
    "plt.show()"
   ]
  },
  {
   "cell_type": "code",
   "execution_count": 30,
   "id": "cb64e034-4ed5-42b6-b6fe-34038e29086d",
   "metadata": {
    "execution": {
     "iopub.execute_input": "2023-01-25T19:56:47.547312Z",
     "iopub.status.busy": "2023-01-25T19:56:47.547010Z",
     "iopub.status.idle": "2023-01-25T19:56:47.581714Z",
     "shell.execute_reply": "2023-01-25T19:56:47.580998Z",
     "shell.execute_reply.started": "2023-01-25T19:56:47.547291Z"
    },
    "tags": []
   },
   "outputs": [
    {
     "name": "stdout",
     "output_type": "stream",
     "text": [
      "['cycling' 'effector' 'other' 'progenitor' 'terminal exhausted']\n"
     ]
    },
    {
     "data": {
      "text/plain": [
       "array([0.98295455, 0.9279661 , 0.68926554, 0.95594714, 0.95278011])"
      ]
     },
     "execution_count": 30,
     "metadata": {},
     "output_type": "execute_result"
    }
   ],
   "source": [
    "print(svc.classes_)\n",
    "f1_score(y_test, preds, average=None)"
   ]
  },
  {
   "cell_type": "markdown",
   "id": "1b6fdfa1-f5b8-470b-9138-c4fb54f24377",
   "metadata": {},
   "source": [
    "## SVM\n",
    "- try with all cells"
   ]
  },
  {
   "cell_type": "code",
   "execution_count": 31,
   "id": "df680939-1a46-444a-9de6-5199f99dcbbf",
   "metadata": {
    "execution": {
     "iopub.execute_input": "2023-01-25T20:03:45.897801Z",
     "iopub.status.busy": "2023-01-25T20:03:45.897408Z",
     "iopub.status.idle": "2023-01-25T20:20:58.426552Z",
     "shell.execute_reply": "2023-01-25T20:20:58.425803Z",
     "shell.execute_reply.started": "2023-01-25T20:03:45.897777Z"
    },
    "tags": []
   },
   "outputs": [
    {
     "name": "stdout",
     "output_type": "stream",
     "text": [
      "[LibSVM]*\n",
      "optimization finished, #iter = 833\n",
      "obj = -346.203436, rho = 1.969793\n",
      "nSV = 827, nBSV = 425\n",
      "*\n",
      "optimization finished, #iter = 614\n",
      "obj = -377.217110, rho = 2.115924\n",
      "nSV = 663, nBSV = 417\n",
      "*\n",
      "optimization finished, #iter = 739\n",
      "obj = -572.718064, rho = 0.356239\n",
      "nSV = 1023, nBSV = 786\n",
      ".\n",
      "Warning: using -h 0 may be faster\n",
      "*.*\n",
      "optimization finished, #iter = 2264\n",
      "obj = -2138.812131, rho = 3.406305\n",
      "nSV = 3378, nBSV = 2835\n",
      "*\n",
      "optimization finished, #iter = 677\n",
      "obj = -381.154560, rho = 0.631350\n",
      "nSV = 720, nBSV = 426\n",
      "*\n",
      "optimization finished, #iter = 880\n",
      "obj = -525.600201, rho = -1.757037\n",
      "nSV = 1015, nBSV = 662\n",
      ".\n",
      "Warning: using -h 0 may be faster\n",
      "*\n",
      "optimization finished, #iter = 1854\n",
      "obj = -1846.530409, rho = -3.724617\n",
      "nSV = 2714, nBSV = 2279\n",
      "*\n",
      "optimization finished, #iter = 468\n",
      "obj = -217.749988, rho = -1.906228\n",
      "nSV = 493, nBSV = 272\n",
      "*\n",
      "optimization finished, #iter = 825\n",
      "obj = -411.304498, rho = -1.617644\n",
      "nSV = 761, nBSV = 405\n",
      "*\n",
      "optimization finished, #iter = 827\n",
      "obj = -515.484101, rho = -0.012983\n",
      "nSV = 988, nBSV = 672\n",
      "Total nSV = 8714\n"
     ]
    },
    {
     "data": {
      "image/png": "[encoded data removed]",
      "text/plain": [
       "<Figure size 640x480 with 2 Axes>"
      ]
     },
     "metadata": {},
     "output_type": "display_data"
    }
   ],
   "source": [
    "#takes a long time like 1.5 hours\n",
    "X_train, X_test, y_train, y_test = train_test_split(filter(normdf), adata.obs['state'], test_size=.2, random_state=88)\n",
    "svc = SVC(gamma = 'auto', C = 1, verbose = 3) #auto = 1/n_features, scale = 1/(n_features * variance(X))\n",
    "svc.fit(X_train, y_train)\n",
    "preds = svc.predict(X_test)\n",
    "cm = confusion_matrix(y_test, preds)\n",
    "\n",
    "ConfusionMatrixDisplay(confusion_matrix=cm, display_labels= svc.classes_).plot()\n",
    "\n",
    "#plt.savefig('../graphs/cm_plot_svm_all.png')\n",
    "plt.show()"
   ]
  },
  {
   "cell_type": "markdown",
   "id": "ca4d4649-10d8-4dcf-8246-42f0f7e6adbc",
   "metadata": {},
   "source": [
    "### save all cells svm model, which takes a long time to train"
   ]
  },
  {
   "cell_type": "code",
   "execution_count": 1,
   "id": "1a07fb95-4af1-431a-8c3c-1b1fe7f5e080",
   "metadata": {
    "execution": {
     "iopub.execute_input": "2023-01-23T18:12:35.343653Z",
     "iopub.status.busy": "2023-01-23T18:12:35.343180Z",
     "iopub.status.idle": "2023-01-23T18:12:35.349763Z",
     "shell.execute_reply": "2023-01-23T18:12:35.349049Z",
     "shell.execute_reply.started": "2023-01-23T18:12:35.343580Z"
    },
    "tags": []
   },
   "outputs": [],
   "source": [
    "filename = 'svc_model_allcells.sav'\n",
    "pickle.dump(svc, open(filename, 'wb'))"
   ]
  },
  {
   "cell_type": "code",
   "execution_count": null,
   "id": "ff241025-7c08-40ca-ad21-bb48c484eaaf",
   "metadata": {
    "tags": []
   },
   "outputs": [],
   "source": [
    "#load model for use, but the predict feature takes really long like hours\n",
    "loaded_model = pickle.load(open('../saved_models/svc_model_allcells.sav', 'rb'))\n",
    "result = loaded_model.score(X_test, y_test)\n",
    "print(result, 'rb')\n",
    "#result = loaded_model.score(X_test[0:10], y_test[0:10])\n",
    "preds = loaded_model.predict(X_test)\n",
    "\n",
    "\n",
    "cm = confusion_matrix(y_test, preds)\n",
    "ConfusionMatrixDisplay(confusion_matrix=cm, display_labels= loaded_model.classes_).plot()\n",
    "\n",
    "plt.show()"
   ]
  },
  {
   "cell_type": "code",
   "execution_count": 9,
   "id": "fa45c77f-cd53-4d90-a4c1-cbab64b45daf",
   "metadata": {
    "execution": {
     "iopub.execute_input": "2023-01-23T05:46:32.712808Z",
     "iopub.status.busy": "2023-01-23T05:46:32.712438Z",
     "iopub.status.idle": "2023-01-23T05:46:32.743544Z",
     "shell.execute_reply": "2023-01-23T05:46:32.743002Z",
     "shell.execute_reply.started": "2023-01-23T05:46:32.712788Z"
    },
    "tags": []
   },
   "outputs": [
    {
     "name": "stdout",
     "output_type": "stream",
     "text": [
      "['cycling' 'effector' 'other' 'progenitor' 'terminal exhausted']\n"
     ]
    },
    {
     "data": {
      "text/plain": [
       "array([0.98119312, 0.92720307, 0.72222222, 0.96641387, 0.94868239])"
      ]
     },
     "execution_count": 9,
     "metadata": {},
     "output_type": "execute_result"
    }
   ],
   "source": [
    "print(svc.classes_)\n",
    "f1_score(y_test, preds, average=None)"
   ]
  },
  {
   "cell_type": "markdown",
   "id": "0e1cbf8a-a379-4acd-bf46-54fdd290167e",
   "metadata": {},
   "source": [
    "Ideas for next steps:\n",
    "- grid search with the full data set to find optimal C and gamma\n",
    "    - classifier is good enough, hoping the misclassifications go into other categories at the same rate\n",
    "- why is the model so slow?\n",
    "- eda exploration of \"other\" category\n",
    "    - heatmap suggests that misclassification of effector and other should be expected, since those categories are the most closely related when looking at the expression values of cells in those categories\n",
    "- consider 1 page write up, check misclassified cells\n",
    "- check how paper did preprocessing for t cell categorization"
   ]
  },
  {
   "cell_type": "markdown",
   "id": "5382c91b-6b75-4c54-9f27-f1f569184676",
   "metadata": {},
   "source": [
    "## Where are the misclassified points? At the edges of clusters?\n",
    "- Not finished, but consider that in 2D or 3D the dimensions at which the points were at the \"edge\" of clusters may not be the ones you are visualizing (since it is a lower dimensional embedding of what the data actually is)"
   ]
  },
  {
   "cell_type": "code",
   "execution_count": null,
   "id": "f4f73514-167f-45a3-aff2-9ee228cc5df6",
   "metadata": {},
   "outputs": [],
   "source": [
    "sc.tl.pca(adata, svd_solver='arpack')\n",
    "sc.pp.neighbors(adata, n_neighbors=30, n_pcs=50)\n",
    "sc.tl.umap(adata, min_dist=0.3) \n",
    "sc.pl.umap(adata, color=['state'], palette='Accent', legend_loc='right margin')"
   ]
  },
  {
   "cell_type": "markdown",
   "id": "2c4b2e1b-b2b7-4250-be03-90b26c120885",
   "metadata": {
    "execution": {
     "iopub.execute_input": "2023-01-18T21:10:13.741942Z",
     "iopub.status.busy": "2023-01-18T21:10:13.741586Z",
     "iopub.status.idle": "2023-01-18T21:10:13.745534Z",
     "shell.execute_reply": "2023-01-18T21:10:13.744590Z",
     "shell.execute_reply.started": "2023-01-18T21:10:13.741918Z"
    }
   },
   "source": [
    "## XGBoost"
   ]
  },
  {
   "cell_type": "markdown",
   "id": "c33c7a57-be2f-4d25-bba4-a1604d417fed",
   "metadata": {
    "execution": {
     "iopub.execute_input": "2023-01-18T21:10:48.576810Z",
     "iopub.status.busy": "2023-01-18T21:10:48.576438Z",
     "iopub.status.idle": "2023-01-18T21:10:48.582727Z",
     "shell.execute_reply": "2023-01-18T21:10:48.581650Z",
     "shell.execute_reply.started": "2023-01-18T21:10:48.576785Z"
    }
   },
   "source": [
    "Didn't work well, see Sam's explanation from slack:\n",
    "\n",
    "Amanda: \"Long math/model intuition question coming through \n",
    "What I understand is SVM is a linear separation of groups technique so if I look at low dimensional representation of the samples and color by label and it’s hard to separate the groups with a line (or plane) by eye I would move away from SVM\n",
    "I guess the UMAP showed that the groups are separable when colored by label but they also overlap a fair amount?\n",
    "Is this the right way to think about SVM and linear/ log regression?\n",
    "I also ran PCA and even with 50 components only about 20% of the variance is described, so I thought going toward more complex models would be good\n",
    "These thoughts led me to try XGBoost first, but out of the box without tuning much that turned out pretty badly (very low accuracy)\n",
    "When this turned out badly my first thought was let’s tune it/ it’s probably a more complex relationship than we thought!\n",
    "The fact that SVM worked well makes me think this thought processes is wrong.\n",
    "What’s the flaw in my thought process? If we didn’t see that the paper had successfully tried SVM is there a reason from the PCA/ UMAP embeddings that it would be a reasonable model to try first?\"\n",
    "\n",
    "Sam: \"Great questions! First, the UMAP embedding forces the data into 2 dimensions, where everything is harder to separate. When you have a 15K dimensional hyperplane at your disposal, it gets much easier to separate arbitrary sets of points. (Thought experiment - if you have 4 points in a square to separate into two groups, there are group configurations that aren't linearly separable. What if the 4 points are instead non-co-planar vertices of a cube?)\n",
    "Second, SVM's are mathematically based on linear separators, but by manipulating the way we compute distances (the \"kernel trick\", to use the term slightly inaccurately), we can achieve separations that correspond to, equivalently, projecting the data into higher dimensions or achieving nonlinear separation boundaries. The SVM with a Radial Basis Function (RBF) kernel is generally accepted to be the best off-the-shelf classifier for new datasets. (There are cases where defining a distance metric is unwieldy, like with images, or where there is a large amount of tangentially-related data that might make the problem easier, like with images, but for most datasets where # data points > # dimensionality of the data, SVM is a phenomenal go-to.)\n",
    "Re: Data Complexity\n",
    "That does sound like it's pretty long-tailed, so I'm inclined to say that the generative model will need to be large and fairly unstructured. Re: XGBoost - my understanding is that XGBoost uses shallow decision trees as its default classifiers, which do much worse at very high dimensionality than hyperplanes (the hyperplanes have way more free parameters), so I would imagine that the number of iterations needed would be enormous, and the computational costs usually grow quadratically with the number of iterations.\"\n",
    "\n",
    "\n",
    "Already tried:\n",
    "- filtering genes out by variance didn't improve the accuracy much (~42%)\n",
    "- increasing estimator number didn't improve accuracy much (50 -> 100 ~42%)\n",
    "- train on unperturbed data only: accuracy worse lol (39%), maybe bc less data?"
   ]
  },
  {
   "cell_type": "code",
   "execution_count": 99,
   "id": "82c74681-8fd9-4848-9644-6f6b419a6c2b",
   "metadata": {
    "execution": {
     "iopub.execute_input": "2023-01-18T21:23:14.514609Z",
     "iopub.status.busy": "2023-01-18T21:23:14.514216Z",
     "iopub.status.idle": "2023-01-18T21:23:15.787247Z",
     "shell.execute_reply": "2023-01-18T21:23:15.786553Z",
     "shell.execute_reply.started": "2023-01-18T21:23:14.514582Z"
    },
    "tags": []
   },
   "outputs": [],
   "source": [
    "X_train, X_test, y_train, y_test = train_test_split(filter(df_unpert), df_unpert_labels, test_size=.2, random_state=88)"
   ]
  },
  {
   "cell_type": "code",
   "execution_count": 100,
   "id": "81ba884c-ccc5-4266-9122-0161c81e136b",
   "metadata": {
    "execution": {
     "iopub.execute_input": "2023-01-18T21:23:17.659722Z",
     "iopub.status.busy": "2023-01-18T21:23:17.659358Z",
     "iopub.status.idle": "2023-01-18T21:23:27.586169Z",
     "shell.execute_reply": "2023-01-18T21:23:27.585382Z",
     "shell.execute_reply.started": "2023-01-18T21:23:17.659697Z"
    },
    "tags": []
   },
   "outputs": [
    {
     "name": "stdout",
     "output_type": "stream",
     "text": [
      "[21:23:19] WARNING: /home/conda/feedstock_root/build_artifacts/xgboost-split_1645117766796/work/src/learner.cc:1115: Starting in XGBoost 1.3.0, the default evaluation metric used with the objective 'multi:softprob' was changed from 'merror' to 'mlogloss'. Explicitly set eval_metric if you'd like to restore the old behavior.\n"
     ]
    }
   ],
   "source": [
    "bst = XGBClassifier(n_estimators=100, max_depth=0, learning_rate=0.2, objective='binary:logistic')\n",
    "# fit model\n",
    "bst.fit(X_train, y_train)\n",
    "# make predictions\n",
    "preds = bst.predict(X_test)"
   ]
  },
  {
   "cell_type": "code",
   "execution_count": 101,
   "id": "1987e889-6a92-4eab-be26-582a2bfc8c8e",
   "metadata": {
    "execution": {
     "iopub.execute_input": "2023-01-18T21:23:27.587869Z",
     "iopub.status.busy": "2023-01-18T21:23:27.587548Z",
     "iopub.status.idle": "2023-01-18T21:23:27.595325Z",
     "shell.execute_reply": "2023-01-18T21:23:27.594461Z",
     "shell.execute_reply.started": "2023-01-18T21:23:27.587807Z"
    },
    "tags": []
   },
   "outputs": [
    {
     "name": "stdout",
     "output_type": "stream",
     "text": [
      "Accuracy: 39.46%\n"
     ]
    }
   ],
   "source": [
    "from sklearn.metrics import accuracy_score\n",
    "accuracy = accuracy_score(y_test, preds)\n",
    "print(\"Accuracy: %.2f%%\" % (accuracy * 100.0))"
   ]
  },
  {
   "cell_type": "code",
   "execution_count": null,
   "id": "e6191109-22e7-4841-a055-a63de500a83b",
   "metadata": {},
   "outputs": [],
   "source": [
    ">>> from sklearn.model_selection import GridSearchCV\n",
    ">>> iris = datasets.load_iris()\n",
    ">>> parameters = {'kernel':('linear', 'rbf'), 'C':[1, 10]}\n",
    ">>> svc = svm.SVC()\n",
    ">>> clf = GridSearchCV(svc, parameters)\n",
    ">>> clf.fit(iris.data, iris.target)\n",
    "GridSearchCV(estimator=SVC(),\n",
    "             param_grid={'C': [1, 10], 'kernel': ('linear', 'rbf')})"
   ]
  }
 ],
 "metadata": {
  "kernelspec": {
   "display_name": "saturn (Python 3)",
   "language": "python",
   "name": "python3"
  },
  "language_info": {
   "codemirror_mode": {
    "name": "ipython",
    "version": 3
   },
   "file_extension": ".py",
   "mimetype": "text/x-python",
   "name": "python",
   "nbconvert_exporter": "python",
   "pygments_lexer": "ipython3",
   "version": "3.9.13"
  }
 },
 "nbformat": 4,
 "nbformat_minor": 5
}
