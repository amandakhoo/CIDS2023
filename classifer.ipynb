{
 "cells": [
  {
   "cell_type": "markdown",
   "id": "3ac0b920-c5f6-4e0b-8607-441bc1c68d00",
   "metadata": {},
   "source": [
    "# Classifier Notebook\n",
    "### Questions\n",
    "\n",
    "### Useful links"
   ]
  },
  {
   "cell_type": "markdown",
   "id": "c34e28ea-8f55-4c9a-ba96-2eb3797eca65",
   "metadata": {},
   "source": [
    "## Load rawcounts and normalized_logcounts"
   ]
  },
  {
   "cell_type": "code",
   "execution_count": 8,
   "id": "ce89b9d3-3044-4e50-9291-32472079501c",
   "metadata": {
    "execution": {
     "iopub.execute_input": "2023-01-23T06:34:08.560033Z",
     "iopub.status.busy": "2023-01-23T06:34:08.559651Z",
     "iopub.status.idle": "2023-01-23T06:34:12.485915Z",
     "shell.execute_reply": "2023-01-23T06:34:12.485246Z",
     "shell.execute_reply.started": "2023-01-23T06:34:08.560008Z"
    },
    "tags": []
   },
   "outputs": [],
   "source": [
    "import scanpy as sc\n",
    "\n",
    "from warnings import filterwarnings\n",
    "filterwarnings('ignore')\n",
    "\n",
    "adata = sc.read_h5ad('../sc_training.h5ad')\n",
    "adata.layers['normalized_logcounts'] = adata.X.copy()\n",
    "adata.X = adata.layers['rawcounts'].copy()  \n",
    "\n",
    "sc.pp.normalize_total(adata, target_sum=5e3)\n",
    "sc.pp.log1p(adata)\n"
   ]
  },
  {
   "cell_type": "code",
   "execution_count": 9,
   "id": "1417ad94-10f1-4c29-8d8f-e1d0b68ccf64",
   "metadata": {
    "execution": {
     "iopub.execute_input": "2023-01-23T06:34:12.487673Z",
     "iopub.status.busy": "2023-01-23T06:34:12.487204Z",
     "iopub.status.idle": "2023-01-23T06:34:13.998199Z",
     "shell.execute_reply": "2023-01-23T06:34:13.997457Z",
     "shell.execute_reply.started": "2023-01-23T06:34:12.487650Z"
    },
    "tags": []
   },
   "outputs": [],
   "source": [
    "normdf = adata.to_df(layer=\"normalized_logcounts\")"
   ]
  },
  {
   "cell_type": "code",
   "execution_count": 10,
   "id": "1f54dbe4-cc3f-42f5-bf7e-9001a16c1ad7",
   "metadata": {
    "execution": {
     "iopub.execute_input": "2023-01-23T06:34:13.999431Z",
     "iopub.status.busy": "2023-01-23T06:34:13.999100Z",
     "iopub.status.idle": "2023-01-23T06:34:14.028214Z",
     "shell.execute_reply": "2023-01-23T06:34:14.027522Z",
     "shell.execute_reply.started": "2023-01-23T06:34:13.999409Z"
    },
    "tags": []
   },
   "outputs": [
    {
     "data": {
      "text/html": [
       "<div>\n",
       "<style scoped>\n",
       "    .dataframe tbody tr th:only-of-type {\n",
       "        vertical-align: middle;\n",
       "    }\n",
       "\n",
       "    .dataframe tbody tr th {\n",
       "        vertical-align: top;\n",
       "    }\n",
       "\n",
       "    .dataframe thead th {\n",
       "        text-align: right;\n",
       "    }\n",
       "</style>\n",
       "<table border=\"1\" class=\"dataframe\">\n",
       "  <thead>\n",
       "    <tr style=\"text-align: right;\">\n",
       "      <th></th>\n",
       "      <th>Mrpl15</th>\n",
       "      <th>Lypla1</th>\n",
       "      <th>Tcea1</th>\n",
       "      <th>Atp6v1h</th>\n",
       "      <th>Rb1cc1</th>\n",
       "      <th>4732440D04Rik</th>\n",
       "      <th>Pcmtd1</th>\n",
       "      <th>Gm26901</th>\n",
       "      <th>Rrs1</th>\n",
       "      <th>Adhfe1</th>\n",
       "      <th>...</th>\n",
       "      <th>Slc3a1</th>\n",
       "      <th>Cfap53</th>\n",
       "      <th>Pstpip2</th>\n",
       "      <th>Gm17227</th>\n",
       "      <th>Ms4a8a</th>\n",
       "      <th>9130016M20Rik</th>\n",
       "      <th>Htr7</th>\n",
       "      <th>Col17a1</th>\n",
       "      <th>Awat2</th>\n",
       "      <th>Amot</th>\n",
       "    </tr>\n",
       "  </thead>\n",
       "  <tbody>\n",
       "    <tr>\n",
       "      <th>053l1_AAACCTGAGATGTCGG-1</th>\n",
       "      <td>0.511520</td>\n",
       "      <td>0.000000</td>\n",
       "      <td>0.000000</td>\n",
       "      <td>0.0</td>\n",
       "      <td>0.0</td>\n",
       "      <td>0.0</td>\n",
       "      <td>0.000000</td>\n",
       "      <td>0.0</td>\n",
       "      <td>0.000000</td>\n",
       "      <td>0.0</td>\n",
       "      <td>...</td>\n",
       "      <td>0.0</td>\n",
       "      <td>0.0</td>\n",
       "      <td>0.0</td>\n",
       "      <td>0.0</td>\n",
       "      <td>0.0</td>\n",
       "      <td>0.0</td>\n",
       "      <td>0.0</td>\n",
       "      <td>0.0</td>\n",
       "      <td>0.0</td>\n",
       "      <td>0.0</td>\n",
       "    </tr>\n",
       "    <tr>\n",
       "      <th>053l1_AAACCTGAGCAACGGT-1</th>\n",
       "      <td>0.484165</td>\n",
       "      <td>0.484165</td>\n",
       "      <td>0.808991</td>\n",
       "      <td>0.0</td>\n",
       "      <td>0.0</td>\n",
       "      <td>0.0</td>\n",
       "      <td>0.000000</td>\n",
       "      <td>0.0</td>\n",
       "      <td>0.484165</td>\n",
       "      <td>0.0</td>\n",
       "      <td>...</td>\n",
       "      <td>0.0</td>\n",
       "      <td>0.0</td>\n",
       "      <td>0.0</td>\n",
       "      <td>0.0</td>\n",
       "      <td>0.0</td>\n",
       "      <td>0.0</td>\n",
       "      <td>0.0</td>\n",
       "      <td>0.0</td>\n",
       "      <td>0.0</td>\n",
       "      <td>0.0</td>\n",
       "    </tr>\n",
       "    <tr>\n",
       "      <th>053l1_AAACCTGAGTACGACG-1</th>\n",
       "      <td>0.000000</td>\n",
       "      <td>0.000000</td>\n",
       "      <td>0.000000</td>\n",
       "      <td>0.0</td>\n",
       "      <td>0.0</td>\n",
       "      <td>0.0</td>\n",
       "      <td>0.693748</td>\n",
       "      <td>0.0</td>\n",
       "      <td>0.000000</td>\n",
       "      <td>0.0</td>\n",
       "      <td>...</td>\n",
       "      <td>0.0</td>\n",
       "      <td>0.0</td>\n",
       "      <td>0.0</td>\n",
       "      <td>0.0</td>\n",
       "      <td>0.0</td>\n",
       "      <td>0.0</td>\n",
       "      <td>0.0</td>\n",
       "      <td>0.0</td>\n",
       "      <td>0.0</td>\n",
       "      <td>0.0</td>\n",
       "    </tr>\n",
       "    <tr>\n",
       "      <th>053l1_AAACCTGAGTCGTTTG-1</th>\n",
       "      <td>0.000000</td>\n",
       "      <td>0.000000</td>\n",
       "      <td>0.000000</td>\n",
       "      <td>0.0</td>\n",
       "      <td>0.0</td>\n",
       "      <td>0.0</td>\n",
       "      <td>0.000000</td>\n",
       "      <td>0.0</td>\n",
       "      <td>0.000000</td>\n",
       "      <td>0.0</td>\n",
       "      <td>...</td>\n",
       "      <td>0.0</td>\n",
       "      <td>0.0</td>\n",
       "      <td>0.0</td>\n",
       "      <td>0.0</td>\n",
       "      <td>0.0</td>\n",
       "      <td>0.0</td>\n",
       "      <td>0.0</td>\n",
       "      <td>0.0</td>\n",
       "      <td>0.0</td>\n",
       "      <td>0.0</td>\n",
       "    </tr>\n",
       "    <tr>\n",
       "      <th>053l1_AAACCTGAGTGAAGAG-1</th>\n",
       "      <td>0.000000</td>\n",
       "      <td>0.000000</td>\n",
       "      <td>0.000000</td>\n",
       "      <td>0.0</td>\n",
       "      <td>0.0</td>\n",
       "      <td>0.0</td>\n",
       "      <td>0.000000</td>\n",
       "      <td>0.0</td>\n",
       "      <td>0.000000</td>\n",
       "      <td>0.0</td>\n",
       "      <td>...</td>\n",
       "      <td>0.0</td>\n",
       "      <td>0.0</td>\n",
       "      <td>0.0</td>\n",
       "      <td>0.0</td>\n",
       "      <td>0.0</td>\n",
       "      <td>0.0</td>\n",
       "      <td>0.0</td>\n",
       "      <td>0.0</td>\n",
       "      <td>0.0</td>\n",
       "      <td>0.0</td>\n",
       "    </tr>\n",
       "  </tbody>\n",
       "</table>\n",
       "<p>5 rows × 15077 columns</p>\n",
       "</div>"
      ],
      "text/plain": [
       "                            Mrpl15    Lypla1     Tcea1  Atp6v1h  Rb1cc1  \\\n",
       "053l1_AAACCTGAGATGTCGG-1  0.511520  0.000000  0.000000      0.0     0.0   \n",
       "053l1_AAACCTGAGCAACGGT-1  0.484165  0.484165  0.808991      0.0     0.0   \n",
       "053l1_AAACCTGAGTACGACG-1  0.000000  0.000000  0.000000      0.0     0.0   \n",
       "053l1_AAACCTGAGTCGTTTG-1  0.000000  0.000000  0.000000      0.0     0.0   \n",
       "053l1_AAACCTGAGTGAAGAG-1  0.000000  0.000000  0.000000      0.0     0.0   \n",
       "\n",
       "                          4732440D04Rik    Pcmtd1  Gm26901      Rrs1  Adhfe1  \\\n",
       "053l1_AAACCTGAGATGTCGG-1            0.0  0.000000      0.0  0.000000     0.0   \n",
       "053l1_AAACCTGAGCAACGGT-1            0.0  0.000000      0.0  0.484165     0.0   \n",
       "053l1_AAACCTGAGTACGACG-1            0.0  0.693748      0.0  0.000000     0.0   \n",
       "053l1_AAACCTGAGTCGTTTG-1            0.0  0.000000      0.0  0.000000     0.0   \n",
       "053l1_AAACCTGAGTGAAGAG-1            0.0  0.000000      0.0  0.000000     0.0   \n",
       "\n",
       "                          ...  Slc3a1  Cfap53  Pstpip2  Gm17227  Ms4a8a  \\\n",
       "053l1_AAACCTGAGATGTCGG-1  ...     0.0     0.0      0.0      0.0     0.0   \n",
       "053l1_AAACCTGAGCAACGGT-1  ...     0.0     0.0      0.0      0.0     0.0   \n",
       "053l1_AAACCTGAGTACGACG-1  ...     0.0     0.0      0.0      0.0     0.0   \n",
       "053l1_AAACCTGAGTCGTTTG-1  ...     0.0     0.0      0.0      0.0     0.0   \n",
       "053l1_AAACCTGAGTGAAGAG-1  ...     0.0     0.0      0.0      0.0     0.0   \n",
       "\n",
       "                          9130016M20Rik  Htr7  Col17a1  Awat2  Amot  \n",
       "053l1_AAACCTGAGATGTCGG-1            0.0   0.0      0.0    0.0   0.0  \n",
       "053l1_AAACCTGAGCAACGGT-1            0.0   0.0      0.0    0.0   0.0  \n",
       "053l1_AAACCTGAGTACGACG-1            0.0   0.0      0.0    0.0   0.0  \n",
       "053l1_AAACCTGAGTCGTTTG-1            0.0   0.0      0.0    0.0   0.0  \n",
       "053l1_AAACCTGAGTGAAGAG-1            0.0   0.0      0.0    0.0   0.0  \n",
       "\n",
       "[5 rows x 15077 columns]"
      ]
     },
     "execution_count": 10,
     "metadata": {},
     "output_type": "execute_result"
    }
   ],
   "source": [
    "normdf.head()"
   ]
  },
  {
   "cell_type": "code",
   "execution_count": 4,
   "id": "afcab10a-ae04-4649-91ba-e2cbf5034147",
   "metadata": {
    "execution": {
     "iopub.execute_input": "2023-01-23T05:11:44.347628Z",
     "iopub.status.busy": "2023-01-23T05:11:44.347340Z",
     "iopub.status.idle": "2023-01-23T05:11:44.353539Z",
     "shell.execute_reply": "2023-01-23T05:11:44.353033Z",
     "shell.execute_reply.started": "2023-01-23T05:11:44.347608Z"
    },
    "tags": []
   },
   "outputs": [
    {
     "data": {
      "text/plain": [
       "053l1_AAACCTGAGATGTCGG-1    terminal exhausted\n",
       "053l1_AAACCTGAGCAACGGT-1              effector\n",
       "053l1_AAACCTGAGTACGACG-1              effector\n",
       "053l1_AAACCTGAGTCGTTTG-1    terminal exhausted\n",
       "053l1_AAACCTGAGTGAAGAG-1              effector\n",
       "                                   ...        \n",
       "053l4_TTTGTCATCAGGTTCA-1                 other\n",
       "053l4_TTTGTCATCAGTGTTG-1               cycling\n",
       "053l4_TTTGTCATCCTCGCAT-1               cycling\n",
       "053l4_TTTGTCATCTTCAACT-1               cycling\n",
       "053l4_TTTGTCATCTTTCCTC-1               cycling\n",
       "Name: state, Length: 28697, dtype: category\n",
       "Categories (5, object): ['cycling', 'effector', 'other', 'progenitor', 'terminal exhausted']"
      ]
     },
     "execution_count": 4,
     "metadata": {},
     "output_type": "execute_result"
    }
   ],
   "source": [
    "adata.obs['state'] #labels"
   ]
  },
  {
   "cell_type": "markdown",
   "id": "d4a5b407-693d-4e01-b37f-deb14a6ff7de",
   "metadata": {},
   "source": [
    "## Models\n",
    "- consider putting this in a Pipeline with the variance filter as a custom Transformer: https://towardsdatascience.com/creating-custom-transformers-for-sklearn-pipelines-d3d51852ecc1"
   ]
  },
  {
   "cell_type": "code",
   "execution_count": 5,
   "id": "76f36e63-147b-408d-bc33-9847585e5899",
   "metadata": {
    "execution": {
     "iopub.execute_input": "2023-01-23T06:33:51.866076Z",
     "iopub.status.busy": "2023-01-23T06:33:51.865602Z",
     "iopub.status.idle": "2023-01-23T06:33:51.869435Z",
     "shell.execute_reply": "2023-01-23T06:33:51.868798Z",
     "shell.execute_reply.started": "2023-01-23T06:33:51.866050Z"
    },
    "tags": []
   },
   "outputs": [],
   "source": [
    "from xgboost import XGBClassifier\n",
    "from sklearn.model_selection import train_test_split\n",
    "from sklearn.pipeline import Pipeline\n",
    "import pandas as pd"
   ]
  },
  {
   "cell_type": "code",
   "execution_count": 6,
   "id": "cd9d3f55-f9c8-48c5-8795-18987ca678c1",
   "metadata": {
    "execution": {
     "iopub.execute_input": "2023-01-22T18:35:16.383943Z",
     "iopub.status.busy": "2023-01-22T18:35:16.383646Z",
     "iopub.status.idle": "2023-01-22T18:35:16.386867Z",
     "shell.execute_reply": "2023-01-22T18:35:16.386361Z",
     "shell.execute_reply.started": "2023-01-22T18:35:16.383923Z"
    },
    "tags": []
   },
   "outputs": [],
   "source": [
    "X = normdf\n",
    "y = adata.obs['state']"
   ]
  },
  {
   "cell_type": "markdown",
   "id": "9d804471-d8ff-4884-86a2-8ade871cdf95",
   "metadata": {},
   "source": [
    "## Filter out low variance genes (see EDA)"
   ]
  },
  {
   "cell_type": "code",
   "execution_count": 7,
   "id": "469995e6-76ae-4a29-a639-456c435e4db0",
   "metadata": {
    "execution": {
     "iopub.execute_input": "2023-01-22T18:35:16.387766Z",
     "iopub.status.busy": "2023-01-22T18:35:16.387561Z",
     "iopub.status.idle": "2023-01-22T18:35:28.725648Z",
     "shell.execute_reply": "2023-01-22T18:35:28.725037Z",
     "shell.execute_reply.started": "2023-01-22T18:35:16.387748Z"
    },
    "tags": []
   },
   "outputs": [],
   "source": [
    "var_per_gene = normdf.var(axis = 0)"
   ]
  },
  {
   "cell_type": "code",
   "execution_count": 8,
   "id": "3acbc110-6539-42e0-9206-75ce6a3efb64",
   "metadata": {
    "execution": {
     "iopub.execute_input": "2023-01-22T18:35:28.726644Z",
     "iopub.status.busy": "2023-01-22T18:35:28.726431Z",
     "iopub.status.idle": "2023-01-22T18:35:28.732919Z",
     "shell.execute_reply": "2023-01-22T18:35:28.732373Z",
     "shell.execute_reply.started": "2023-01-22T18:35:28.726626Z"
    },
    "tags": []
   },
   "outputs": [],
   "source": [
    "filt = var_per_gene[var_per_gene >= ((var_per_gene.sort_values()[-1:][0])/100)]"
   ]
  },
  {
   "cell_type": "code",
   "execution_count": 9,
   "id": "ee1f236d-edc6-467a-bbe9-e60edc12eef6",
   "metadata": {
    "execution": {
     "iopub.execute_input": "2023-01-22T18:35:28.734044Z",
     "iopub.status.busy": "2023-01-22T18:35:28.733585Z",
     "iopub.status.idle": "2023-01-22T18:35:29.151631Z",
     "shell.execute_reply": "2023-01-22T18:35:29.150974Z",
     "shell.execute_reply.started": "2023-01-22T18:35:28.734024Z"
    },
    "tags": []
   },
   "outputs": [],
   "source": [
    "X = normdf.filter(filt.index.values, axis = 1)"
   ]
  },
  {
   "cell_type": "code",
   "execution_count": 10,
   "id": "dca7c911-77eb-480e-bd77-93eae32d75b8",
   "metadata": {
    "execution": {
     "iopub.execute_input": "2023-01-22T18:35:29.153462Z",
     "iopub.status.busy": "2023-01-22T18:35:29.153164Z",
     "iopub.status.idle": "2023-01-22T18:35:29.157078Z",
     "shell.execute_reply": "2023-01-22T18:35:29.156556Z",
     "shell.execute_reply.started": "2023-01-22T18:35:29.153440Z"
    },
    "tags": []
   },
   "outputs": [],
   "source": [
    "def filter(normdf):\n",
    "    var_per_gene = normdf.var(axis = 0)\n",
    "    filt = var_per_gene[var_per_gene >= ((var_per_gene.sort_values()[-1:][0])/100)]\n",
    "    X = normdf.filter(filt.index.values, axis = 1)\n",
    "    return X"
   ]
  },
  {
   "cell_type": "markdown",
   "id": "3682ce0e-695a-421c-8c3c-31463b8a3e06",
   "metadata": {},
   "source": [
    "## Separate samples by perturbation class"
   ]
  },
  {
   "cell_type": "code",
   "execution_count": 12,
   "id": "02f63e93-54b5-45bc-af7b-3c6b59248cb7",
   "metadata": {
    "execution": {
     "iopub.execute_input": "2023-01-21T00:06:28.243885Z",
     "iopub.status.busy": "2023-01-21T00:06:28.243630Z",
     "iopub.status.idle": "2023-01-21T00:06:28.248709Z",
     "shell.execute_reply": "2023-01-21T00:06:28.248134Z",
     "shell.execute_reply.started": "2023-01-21T00:06:28.243866Z"
    },
    "tags": []
   },
   "outputs": [],
   "source": [
    "df_cond = pd.DataFrame(adata.obs['condition'])\n",
    "unpert_sample_in = df_cond[df_cond['condition'] == 'Unperturbed'].index"
   ]
  },
  {
   "cell_type": "code",
   "execution_count": 13,
   "id": "e236608d-d0d5-4604-8b57-340be53bbeb8",
   "metadata": {
    "execution": {
     "iopub.execute_input": "2023-01-21T00:06:28.249815Z",
     "iopub.status.busy": "2023-01-21T00:06:28.249463Z",
     "iopub.status.idle": "2023-01-21T00:06:28.361049Z",
     "shell.execute_reply": "2023-01-21T00:06:28.360435Z",
     "shell.execute_reply.started": "2023-01-21T00:06:28.249796Z"
    },
    "tags": []
   },
   "outputs": [
    {
     "data": {
      "text/html": [
       "<div>\n",
       "<style scoped>\n",
       "    .dataframe tbody tr th:only-of-type {\n",
       "        vertical-align: middle;\n",
       "    }\n",
       "\n",
       "    .dataframe tbody tr th {\n",
       "        vertical-align: top;\n",
       "    }\n",
       "\n",
       "    .dataframe thead th {\n",
       "        text-align: right;\n",
       "    }\n",
       "</style>\n",
       "<table border=\"1\" class=\"dataframe\">\n",
       "  <thead>\n",
       "    <tr style=\"text-align: right;\">\n",
       "      <th></th>\n",
       "      <th>Mrpl15</th>\n",
       "      <th>Lypla1</th>\n",
       "      <th>Tcea1</th>\n",
       "      <th>Atp6v1h</th>\n",
       "      <th>Rb1cc1</th>\n",
       "      <th>4732440D04Rik</th>\n",
       "      <th>Pcmtd1</th>\n",
       "      <th>Gm26901</th>\n",
       "      <th>Rrs1</th>\n",
       "      <th>Adhfe1</th>\n",
       "      <th>...</th>\n",
       "      <th>Slc3a1</th>\n",
       "      <th>Cfap53</th>\n",
       "      <th>Pstpip2</th>\n",
       "      <th>Gm17227</th>\n",
       "      <th>Ms4a8a</th>\n",
       "      <th>9130016M20Rik</th>\n",
       "      <th>Htr7</th>\n",
       "      <th>Col17a1</th>\n",
       "      <th>Awat2</th>\n",
       "      <th>Amot</th>\n",
       "    </tr>\n",
       "  </thead>\n",
       "  <tbody>\n",
       "    <tr>\n",
       "      <th>053l1_AAACCTGAGATGTCGG-1</th>\n",
       "      <td>0.511520</td>\n",
       "      <td>0.000000</td>\n",
       "      <td>0.000000</td>\n",
       "      <td>0.000000</td>\n",
       "      <td>0.000000</td>\n",
       "      <td>0.0</td>\n",
       "      <td>0.0</td>\n",
       "      <td>0.0</td>\n",
       "      <td>0.000000</td>\n",
       "      <td>0.0</td>\n",
       "      <td>...</td>\n",
       "      <td>0.0</td>\n",
       "      <td>0.0</td>\n",
       "      <td>0.0</td>\n",
       "      <td>0.0</td>\n",
       "      <td>0.0</td>\n",
       "      <td>0.0</td>\n",
       "      <td>0.0</td>\n",
       "      <td>0.0</td>\n",
       "      <td>0.0</td>\n",
       "      <td>0.0</td>\n",
       "    </tr>\n",
       "    <tr>\n",
       "      <th>053l1_AAACCTGAGTGTTAGA-1</th>\n",
       "      <td>0.000000</td>\n",
       "      <td>1.089103</td>\n",
       "      <td>0.686024</td>\n",
       "      <td>0.686024</td>\n",
       "      <td>0.000000</td>\n",
       "      <td>0.0</td>\n",
       "      <td>0.0</td>\n",
       "      <td>0.0</td>\n",
       "      <td>0.000000</td>\n",
       "      <td>0.0</td>\n",
       "      <td>...</td>\n",
       "      <td>0.0</td>\n",
       "      <td>0.0</td>\n",
       "      <td>0.0</td>\n",
       "      <td>0.0</td>\n",
       "      <td>0.0</td>\n",
       "      <td>0.0</td>\n",
       "      <td>0.0</td>\n",
       "      <td>0.0</td>\n",
       "      <td>0.0</td>\n",
       "      <td>0.0</td>\n",
       "    </tr>\n",
       "    <tr>\n",
       "      <th>053l1_AAACCTGCATAGACTC-1</th>\n",
       "      <td>0.292065</td>\n",
       "      <td>0.292065</td>\n",
       "      <td>0.292065</td>\n",
       "      <td>0.292065</td>\n",
       "      <td>0.292065</td>\n",
       "      <td>0.0</td>\n",
       "      <td>0.0</td>\n",
       "      <td>0.0</td>\n",
       "      <td>0.292065</td>\n",
       "      <td>0.0</td>\n",
       "      <td>...</td>\n",
       "      <td>0.0</td>\n",
       "      <td>0.0</td>\n",
       "      <td>0.0</td>\n",
       "      <td>0.0</td>\n",
       "      <td>0.0</td>\n",
       "      <td>0.0</td>\n",
       "      <td>0.0</td>\n",
       "      <td>0.0</td>\n",
       "      <td>0.0</td>\n",
       "      <td>0.0</td>\n",
       "    </tr>\n",
       "    <tr>\n",
       "      <th>053l1_AAACGGGAGTGGAGAA-1</th>\n",
       "      <td>1.020401</td>\n",
       "      <td>1.020401</td>\n",
       "      <td>0.000000</td>\n",
       "      <td>0.000000</td>\n",
       "      <td>0.000000</td>\n",
       "      <td>0.0</td>\n",
       "      <td>0.0</td>\n",
       "      <td>0.0</td>\n",
       "      <td>0.000000</td>\n",
       "      <td>0.0</td>\n",
       "      <td>...</td>\n",
       "      <td>0.0</td>\n",
       "      <td>0.0</td>\n",
       "      <td>0.0</td>\n",
       "      <td>0.0</td>\n",
       "      <td>0.0</td>\n",
       "      <td>0.0</td>\n",
       "      <td>0.0</td>\n",
       "      <td>0.0</td>\n",
       "      <td>0.0</td>\n",
       "      <td>0.0</td>\n",
       "    </tr>\n",
       "    <tr>\n",
       "      <th>053l1_AAACGGGCAATCGAAA-1</th>\n",
       "      <td>0.000000</td>\n",
       "      <td>0.000000</td>\n",
       "      <td>0.000000</td>\n",
       "      <td>0.000000</td>\n",
       "      <td>0.000000</td>\n",
       "      <td>0.0</td>\n",
       "      <td>0.0</td>\n",
       "      <td>0.0</td>\n",
       "      <td>0.000000</td>\n",
       "      <td>0.0</td>\n",
       "      <td>...</td>\n",
       "      <td>0.0</td>\n",
       "      <td>0.0</td>\n",
       "      <td>0.0</td>\n",
       "      <td>0.0</td>\n",
       "      <td>0.0</td>\n",
       "      <td>0.0</td>\n",
       "      <td>0.0</td>\n",
       "      <td>0.0</td>\n",
       "      <td>0.0</td>\n",
       "      <td>0.0</td>\n",
       "    </tr>\n",
       "  </tbody>\n",
       "</table>\n",
       "<p>5 rows × 15077 columns</p>\n",
       "</div>"
      ],
      "text/plain": [
       "                            Mrpl15    Lypla1     Tcea1   Atp6v1h    Rb1cc1  \\\n",
       "053l1_AAACCTGAGATGTCGG-1  0.511520  0.000000  0.000000  0.000000  0.000000   \n",
       "053l1_AAACCTGAGTGTTAGA-1  0.000000  1.089103  0.686024  0.686024  0.000000   \n",
       "053l1_AAACCTGCATAGACTC-1  0.292065  0.292065  0.292065  0.292065  0.292065   \n",
       "053l1_AAACGGGAGTGGAGAA-1  1.020401  1.020401  0.000000  0.000000  0.000000   \n",
       "053l1_AAACGGGCAATCGAAA-1  0.000000  0.000000  0.000000  0.000000  0.000000   \n",
       "\n",
       "                          4732440D04Rik  Pcmtd1  Gm26901      Rrs1  Adhfe1  \\\n",
       "053l1_AAACCTGAGATGTCGG-1            0.0     0.0      0.0  0.000000     0.0   \n",
       "053l1_AAACCTGAGTGTTAGA-1            0.0     0.0      0.0  0.000000     0.0   \n",
       "053l1_AAACCTGCATAGACTC-1            0.0     0.0      0.0  0.292065     0.0   \n",
       "053l1_AAACGGGAGTGGAGAA-1            0.0     0.0      0.0  0.000000     0.0   \n",
       "053l1_AAACGGGCAATCGAAA-1            0.0     0.0      0.0  0.000000     0.0   \n",
       "\n",
       "                          ...  Slc3a1  Cfap53  Pstpip2  Gm17227  Ms4a8a  \\\n",
       "053l1_AAACCTGAGATGTCGG-1  ...     0.0     0.0      0.0      0.0     0.0   \n",
       "053l1_AAACCTGAGTGTTAGA-1  ...     0.0     0.0      0.0      0.0     0.0   \n",
       "053l1_AAACCTGCATAGACTC-1  ...     0.0     0.0      0.0      0.0     0.0   \n",
       "053l1_AAACGGGAGTGGAGAA-1  ...     0.0     0.0      0.0      0.0     0.0   \n",
       "053l1_AAACGGGCAATCGAAA-1  ...     0.0     0.0      0.0      0.0     0.0   \n",
       "\n",
       "                          9130016M20Rik  Htr7  Col17a1  Awat2  Amot  \n",
       "053l1_AAACCTGAGATGTCGG-1            0.0   0.0      0.0    0.0   0.0  \n",
       "053l1_AAACCTGAGTGTTAGA-1            0.0   0.0      0.0    0.0   0.0  \n",
       "053l1_AAACCTGCATAGACTC-1            0.0   0.0      0.0    0.0   0.0  \n",
       "053l1_AAACGGGAGTGGAGAA-1            0.0   0.0      0.0    0.0   0.0  \n",
       "053l1_AAACGGGCAATCGAAA-1            0.0   0.0      0.0    0.0   0.0  \n",
       "\n",
       "[5 rows x 15077 columns]"
      ]
     },
     "execution_count": 13,
     "metadata": {},
     "output_type": "execute_result"
    }
   ],
   "source": [
    "df_unpert = normdf.filter(unpert_sample_in, axis = 0)\n",
    "df_unpert.head() "
   ]
  },
  {
   "cell_type": "code",
   "execution_count": 14,
   "id": "0ce7c47d-6e21-4166-b485-cc28e721182f",
   "metadata": {
    "execution": {
     "iopub.execute_input": "2023-01-21T00:06:28.362232Z",
     "iopub.status.busy": "2023-01-21T00:06:28.361946Z",
     "iopub.status.idle": "2023-01-21T00:06:28.369735Z",
     "shell.execute_reply": "2023-01-21T00:06:28.369150Z",
     "shell.execute_reply.started": "2023-01-21T00:06:28.362212Z"
    },
    "tags": []
   },
   "outputs": [],
   "source": [
    "df_unpert_labels = y.filter(unpert_sample_in, axis = 0)"
   ]
  },
  {
   "cell_type": "code",
   "execution_count": 15,
   "id": "3ab622de-780c-44e6-a364-12a2b5f0b48c",
   "metadata": {
    "execution": {
     "iopub.execute_input": "2023-01-21T00:06:28.372410Z",
     "iopub.status.busy": "2023-01-21T00:06:28.371858Z",
     "iopub.status.idle": "2023-01-21T00:06:29.468155Z",
     "shell.execute_reply": "2023-01-21T00:06:29.467497Z",
     "shell.execute_reply.started": "2023-01-21T00:06:28.372390Z"
    },
    "tags": []
   },
   "outputs": [
    {
     "data": {
      "text/html": [
       "<div>\n",
       "<style scoped>\n",
       "    .dataframe tbody tr th:only-of-type {\n",
       "        vertical-align: middle;\n",
       "    }\n",
       "\n",
       "    .dataframe tbody tr th {\n",
       "        vertical-align: top;\n",
       "    }\n",
       "\n",
       "    .dataframe thead th {\n",
       "        text-align: right;\n",
       "    }\n",
       "</style>\n",
       "<table border=\"1\" class=\"dataframe\">\n",
       "  <thead>\n",
       "    <tr style=\"text-align: right;\">\n",
       "      <th></th>\n",
       "      <th>Mrpl15</th>\n",
       "      <th>Lypla1</th>\n",
       "      <th>Tcea1</th>\n",
       "      <th>Atp6v1h</th>\n",
       "      <th>Rb1cc1</th>\n",
       "      <th>Pcmtd1</th>\n",
       "      <th>Rrs1</th>\n",
       "      <th>Vcpip1</th>\n",
       "      <th>Snhg6</th>\n",
       "      <th>Cops5</th>\n",
       "      <th>...</th>\n",
       "      <th>mt-Nd3</th>\n",
       "      <th>mt-Nd4l</th>\n",
       "      <th>mt-Nd4</th>\n",
       "      <th>mt-Nd5</th>\n",
       "      <th>mt-Nd6</th>\n",
       "      <th>mt-Cytb</th>\n",
       "      <th>CAAA01118383.1</th>\n",
       "      <th>Vamp7</th>\n",
       "      <th>CAAA01147332.1</th>\n",
       "      <th>AC149090.1</th>\n",
       "    </tr>\n",
       "  </thead>\n",
       "  <tbody>\n",
       "    <tr>\n",
       "      <th>053l1_AAACCTGAGATGTCGG-1</th>\n",
       "      <td>0.511520</td>\n",
       "      <td>0.000000</td>\n",
       "      <td>0.000000</td>\n",
       "      <td>0.000000</td>\n",
       "      <td>0.000000</td>\n",
       "      <td>0.0</td>\n",
       "      <td>0.000000</td>\n",
       "      <td>0.0</td>\n",
       "      <td>0.0</td>\n",
       "      <td>0.000000</td>\n",
       "      <td>...</td>\n",
       "      <td>0.000000</td>\n",
       "      <td>1.610826</td>\n",
       "      <td>1.099769</td>\n",
       "      <td>0.000000</td>\n",
       "      <td>0.000000</td>\n",
       "      <td>1.736030</td>\n",
       "      <td>0.000000</td>\n",
       "      <td>0.0</td>\n",
       "      <td>0.000000</td>\n",
       "      <td>0.0</td>\n",
       "    </tr>\n",
       "    <tr>\n",
       "      <th>053l1_AAACCTGAGTGTTAGA-1</th>\n",
       "      <td>0.000000</td>\n",
       "      <td>1.089103</td>\n",
       "      <td>0.686024</td>\n",
       "      <td>0.686024</td>\n",
       "      <td>0.000000</td>\n",
       "      <td>0.0</td>\n",
       "      <td>0.000000</td>\n",
       "      <td>0.0</td>\n",
       "      <td>0.0</td>\n",
       "      <td>0.000000</td>\n",
       "      <td>...</td>\n",
       "      <td>0.686024</td>\n",
       "      <td>1.375591</td>\n",
       "      <td>0.686024</td>\n",
       "      <td>0.000000</td>\n",
       "      <td>0.686024</td>\n",
       "      <td>1.779859</td>\n",
       "      <td>0.686024</td>\n",
       "      <td>0.0</td>\n",
       "      <td>0.000000</td>\n",
       "      <td>0.0</td>\n",
       "    </tr>\n",
       "    <tr>\n",
       "      <th>053l1_AAACCTGCATAGACTC-1</th>\n",
       "      <td>0.292065</td>\n",
       "      <td>0.292065</td>\n",
       "      <td>0.292065</td>\n",
       "      <td>0.292065</td>\n",
       "      <td>0.292065</td>\n",
       "      <td>0.0</td>\n",
       "      <td>0.292065</td>\n",
       "      <td>0.0</td>\n",
       "      <td>0.0</td>\n",
       "      <td>0.517829</td>\n",
       "      <td>...</td>\n",
       "      <td>0.517829</td>\n",
       "      <td>2.135607</td>\n",
       "      <td>1.216197</td>\n",
       "      <td>1.479762</td>\n",
       "      <td>0.000000</td>\n",
       "      <td>2.284313</td>\n",
       "      <td>0.292065</td>\n",
       "      <td>0.0</td>\n",
       "      <td>0.292065</td>\n",
       "      <td>0.0</td>\n",
       "    </tr>\n",
       "    <tr>\n",
       "      <th>053l1_AAACGGGAGTGGAGAA-1</th>\n",
       "      <td>1.020401</td>\n",
       "      <td>1.020401</td>\n",
       "      <td>0.000000</td>\n",
       "      <td>0.000000</td>\n",
       "      <td>0.000000</td>\n",
       "      <td>0.0</td>\n",
       "      <td>0.000000</td>\n",
       "      <td>0.0</td>\n",
       "      <td>0.0</td>\n",
       "      <td>0.000000</td>\n",
       "      <td>...</td>\n",
       "      <td>0.000000</td>\n",
       "      <td>0.000000</td>\n",
       "      <td>1.020401</td>\n",
       "      <td>0.000000</td>\n",
       "      <td>0.000000</td>\n",
       "      <td>1.844182</td>\n",
       "      <td>0.000000</td>\n",
       "      <td>0.0</td>\n",
       "      <td>1.020401</td>\n",
       "      <td>0.0</td>\n",
       "    </tr>\n",
       "    <tr>\n",
       "      <th>053l1_AAACGGGCAATCGAAA-1</th>\n",
       "      <td>0.000000</td>\n",
       "      <td>0.000000</td>\n",
       "      <td>0.000000</td>\n",
       "      <td>0.000000</td>\n",
       "      <td>0.000000</td>\n",
       "      <td>0.0</td>\n",
       "      <td>0.000000</td>\n",
       "      <td>0.0</td>\n",
       "      <td>0.0</td>\n",
       "      <td>0.000000</td>\n",
       "      <td>...</td>\n",
       "      <td>1.836899</td>\n",
       "      <td>2.187799</td>\n",
       "      <td>2.187799</td>\n",
       "      <td>0.000000</td>\n",
       "      <td>0.000000</td>\n",
       "      <td>2.187799</td>\n",
       "      <td>0.000000</td>\n",
       "      <td>0.0</td>\n",
       "      <td>0.000000</td>\n",
       "      <td>0.0</td>\n",
       "    </tr>\n",
       "  </tbody>\n",
       "</table>\n",
       "<p>5 rows × 7466 columns</p>\n",
       "</div>"
      ],
      "text/plain": [
       "                            Mrpl15    Lypla1     Tcea1   Atp6v1h    Rb1cc1  \\\n",
       "053l1_AAACCTGAGATGTCGG-1  0.511520  0.000000  0.000000  0.000000  0.000000   \n",
       "053l1_AAACCTGAGTGTTAGA-1  0.000000  1.089103  0.686024  0.686024  0.000000   \n",
       "053l1_AAACCTGCATAGACTC-1  0.292065  0.292065  0.292065  0.292065  0.292065   \n",
       "053l1_AAACGGGAGTGGAGAA-1  1.020401  1.020401  0.000000  0.000000  0.000000   \n",
       "053l1_AAACGGGCAATCGAAA-1  0.000000  0.000000  0.000000  0.000000  0.000000   \n",
       "\n",
       "                          Pcmtd1      Rrs1  Vcpip1  Snhg6     Cops5  ...  \\\n",
       "053l1_AAACCTGAGATGTCGG-1     0.0  0.000000     0.0    0.0  0.000000  ...   \n",
       "053l1_AAACCTGAGTGTTAGA-1     0.0  0.000000     0.0    0.0  0.000000  ...   \n",
       "053l1_AAACCTGCATAGACTC-1     0.0  0.292065     0.0    0.0  0.517829  ...   \n",
       "053l1_AAACGGGAGTGGAGAA-1     0.0  0.000000     0.0    0.0  0.000000  ...   \n",
       "053l1_AAACGGGCAATCGAAA-1     0.0  0.000000     0.0    0.0  0.000000  ...   \n",
       "\n",
       "                            mt-Nd3   mt-Nd4l    mt-Nd4    mt-Nd5    mt-Nd6  \\\n",
       "053l1_AAACCTGAGATGTCGG-1  0.000000  1.610826  1.099769  0.000000  0.000000   \n",
       "053l1_AAACCTGAGTGTTAGA-1  0.686024  1.375591  0.686024  0.000000  0.686024   \n",
       "053l1_AAACCTGCATAGACTC-1  0.517829  2.135607  1.216197  1.479762  0.000000   \n",
       "053l1_AAACGGGAGTGGAGAA-1  0.000000  0.000000  1.020401  0.000000  0.000000   \n",
       "053l1_AAACGGGCAATCGAAA-1  1.836899  2.187799  2.187799  0.000000  0.000000   \n",
       "\n",
       "                           mt-Cytb  CAAA01118383.1  Vamp7  CAAA01147332.1  \\\n",
       "053l1_AAACCTGAGATGTCGG-1  1.736030        0.000000    0.0        0.000000   \n",
       "053l1_AAACCTGAGTGTTAGA-1  1.779859        0.686024    0.0        0.000000   \n",
       "053l1_AAACCTGCATAGACTC-1  2.284313        0.292065    0.0        0.292065   \n",
       "053l1_AAACGGGAGTGGAGAA-1  1.844182        0.000000    0.0        1.020401   \n",
       "053l1_AAACGGGCAATCGAAA-1  2.187799        0.000000    0.0        0.000000   \n",
       "\n",
       "                          AC149090.1  \n",
       "053l1_AAACCTGAGATGTCGG-1         0.0  \n",
       "053l1_AAACCTGAGTGTTAGA-1         0.0  \n",
       "053l1_AAACCTGCATAGACTC-1         0.0  \n",
       "053l1_AAACGGGAGTGGAGAA-1         0.0  \n",
       "053l1_AAACGGGCAATCGAAA-1         0.0  \n",
       "\n",
       "[5 rows x 7466 columns]"
      ]
     },
     "execution_count": 15,
     "metadata": {},
     "output_type": "execute_result"
    }
   ],
   "source": [
    "filter(df_unpert).head()"
   ]
  },
  {
   "cell_type": "markdown",
   "id": "54dafc7b-759d-4d70-ac35-0ddb1d1c089a",
   "metadata": {},
   "source": [
    "## SVM\n",
    "- unperturbed cells data only"
   ]
  },
  {
   "cell_type": "code",
   "execution_count": 6,
   "id": "f37c951c-687c-4331-9a13-353a61fab340",
   "metadata": {
    "execution": {
     "iopub.execute_input": "2023-01-23T05:11:45.626210Z",
     "iopub.status.busy": "2023-01-23T05:11:45.625828Z",
     "iopub.status.idle": "2023-01-23T05:11:45.644166Z",
     "shell.execute_reply": "2023-01-23T05:11:45.643571Z",
     "shell.execute_reply.started": "2023-01-23T05:11:45.626186Z"
    },
    "tags": []
   },
   "outputs": [],
   "source": [
    "from sklearn.svm import SVC\n",
    "from sklearn.metrics import confusion_matrix, ConfusionMatrixDisplay, f1_score\n",
    "import matplotlib.pyplot as plt\n"
   ]
  },
  {
   "cell_type": "code",
   "execution_count": 81,
   "id": "1d08c93f-0e78-470c-885a-8be1043d739a",
   "metadata": {
    "execution": {
     "iopub.execute_input": "2023-01-21T02:41:14.322468Z",
     "iopub.status.busy": "2023-01-21T02:41:14.322055Z",
     "iopub.status.idle": "2023-01-21T02:41:39.685219Z",
     "shell.execute_reply": "2023-01-21T02:41:39.684530Z",
     "shell.execute_reply.started": "2023-01-21T02:41:14.322442Z"
    },
    "tags": []
   },
   "outputs": [
    {
     "data": {
      "text/html": [
       "<style>#sk-container-id-17 {color: black;background-color: white;}#sk-container-id-17 pre{padding: 0;}#sk-container-id-17 div.sk-toggleable {background-color: white;}#sk-container-id-17 label.sk-toggleable__label {cursor: pointer;display: block;width: 100%;margin-bottom: 0;padding: 0.3em;box-sizing: border-box;text-align: center;}#sk-container-id-17 label.sk-toggleable__label-arrow:before {content: \"▸\";float: left;margin-right: 0.25em;color: #696969;}#sk-container-id-17 label.sk-toggleable__label-arrow:hover:before {color: black;}#sk-container-id-17 div.sk-estimator:hover label.sk-toggleable__label-arrow:before {color: black;}#sk-container-id-17 div.sk-toggleable__content {max-height: 0;max-width: 0;overflow: hidden;text-align: left;background-color: #f0f8ff;}#sk-container-id-17 div.sk-toggleable__content pre {margin: 0.2em;color: black;border-radius: 0.25em;background-color: #f0f8ff;}#sk-container-id-17 input.sk-toggleable__control:checked~div.sk-toggleable__content {max-height: 200px;max-width: 100%;overflow: auto;}#sk-container-id-17 input.sk-toggleable__control:checked~label.sk-toggleable__label-arrow:before {content: \"▾\";}#sk-container-id-17 div.sk-estimator input.sk-toggleable__control:checked~label.sk-toggleable__label {background-color: #d4ebff;}#sk-container-id-17 div.sk-label input.sk-toggleable__control:checked~label.sk-toggleable__label {background-color: #d4ebff;}#sk-container-id-17 input.sk-hidden--visually {border: 0;clip: rect(1px 1px 1px 1px);clip: rect(1px, 1px, 1px, 1px);height: 1px;margin: -1px;overflow: hidden;padding: 0;position: absolute;width: 1px;}#sk-container-id-17 div.sk-estimator {font-family: monospace;background-color: #f0f8ff;border: 1px dotted black;border-radius: 0.25em;box-sizing: border-box;margin-bottom: 0.5em;}#sk-container-id-17 div.sk-estimator:hover {background-color: #d4ebff;}#sk-container-id-17 div.sk-parallel-item::after {content: \"\";width: 100%;border-bottom: 1px solid gray;flex-grow: 1;}#sk-container-id-17 div.sk-label:hover label.sk-toggleable__label {background-color: #d4ebff;}#sk-container-id-17 div.sk-serial::before {content: \"\";position: absolute;border-left: 1px solid gray;box-sizing: border-box;top: 0;bottom: 0;left: 50%;z-index: 0;}#sk-container-id-17 div.sk-serial {display: flex;flex-direction: column;align-items: center;background-color: white;padding-right: 0.2em;padding-left: 0.2em;position: relative;}#sk-container-id-17 div.sk-item {position: relative;z-index: 1;}#sk-container-id-17 div.sk-parallel {display: flex;align-items: stretch;justify-content: center;background-color: white;position: relative;}#sk-container-id-17 div.sk-item::before, #sk-container-id-17 div.sk-parallel-item::before {content: \"\";position: absolute;border-left: 1px solid gray;box-sizing: border-box;top: 0;bottom: 0;left: 50%;z-index: -1;}#sk-container-id-17 div.sk-parallel-item {display: flex;flex-direction: column;z-index: 1;position: relative;background-color: white;}#sk-container-id-17 div.sk-parallel-item:first-child::after {align-self: flex-end;width: 50%;}#sk-container-id-17 div.sk-parallel-item:last-child::after {align-self: flex-start;width: 50%;}#sk-container-id-17 div.sk-parallel-item:only-child::after {width: 0;}#sk-container-id-17 div.sk-dashed-wrapped {border: 1px dashed gray;margin: 0 0.4em 0.5em 0.4em;box-sizing: border-box;padding-bottom: 0.4em;background-color: white;}#sk-container-id-17 div.sk-label label {font-family: monospace;font-weight: bold;display: inline-block;line-height: 1.2em;}#sk-container-id-17 div.sk-label-container {text-align: center;}#sk-container-id-17 div.sk-container {/* jupyter's `normalize.less` sets `[hidden] { display: none; }` but bootstrap.min.css set `[hidden] { display: none !important; }` so we also need the `!important` here to be able to override the default hidden behavior on the sphinx rendered scikit-learn.org. See: https://github.com/scikit-learn/scikit-learn/issues/21755 */display: inline-block !important;position: relative;}#sk-container-id-17 div.sk-text-repr-fallback {display: none;}</style><div id=\"sk-container-id-17\" class=\"sk-top-container\"><div class=\"sk-text-repr-fallback\"><pre>SVC(C=100, gamma=0.001)</pre><b>In a Jupyter environment, please rerun this cell to show the HTML representation or trust the notebook. <br />On GitHub, the HTML representation is unable to render, please try loading this page with nbviewer.org.</b></div><div class=\"sk-container\" hidden><div class=\"sk-item\"><div class=\"sk-estimator sk-toggleable\"><input class=\"sk-toggleable__control sk-hidden--visually\" id=\"sk-estimator-id-19\" type=\"checkbox\" checked><label for=\"sk-estimator-id-19\" class=\"sk-toggleable__label sk-toggleable__label-arrow\">SVC</label><div class=\"sk-toggleable__content\"><pre>SVC(C=100, gamma=0.001)</pre></div></div></div></div></div>"
      ],
      "text/plain": [
       "SVC(C=100, gamma=0.001)"
      ]
     },
     "execution_count": 81,
     "metadata": {},
     "output_type": "execute_result"
    }
   ],
   "source": [
    "X_train, X_test, y_train, y_test = train_test_split(filter(df_unpert), df_unpert_labels, test_size=.2, random_state=88)\n",
    "svc = SVC(gamma = 1e-3, C = 100) #auto = 1/n_features, scale = 1/(n_features * variance(X))\n",
    "svc.fit(X_train, y_train)\n"
   ]
  },
  {
   "cell_type": "code",
   "execution_count": 82,
   "id": "6453c99a-1937-4c35-b742-25e6c2e80902",
   "metadata": {
    "execution": {
     "iopub.execute_input": "2023-01-21T02:41:39.686713Z",
     "iopub.status.busy": "2023-01-21T02:41:39.686375Z",
     "iopub.status.idle": "2023-01-21T02:41:39.691012Z",
     "shell.execute_reply": "2023-01-21T02:41:39.690399Z",
     "shell.execute_reply.started": "2023-01-21T02:41:39.686692Z"
    },
    "tags": []
   },
   "outputs": [
    {
     "data": {
      "text/plain": [
       "array(['cycling', 'effector', 'other', 'progenitor', 'terminal exhausted'],\n",
       "      dtype=object)"
      ]
     },
     "execution_count": 82,
     "metadata": {},
     "output_type": "execute_result"
    }
   ],
   "source": [
    "svc.classes_"
   ]
  },
  {
   "cell_type": "code",
   "execution_count": 83,
   "id": "45bcecb4-bbee-4280-bb7b-a5bad77f516d",
   "metadata": {
    "execution": {
     "iopub.execute_input": "2023-01-21T02:41:39.692051Z",
     "iopub.status.busy": "2023-01-21T02:41:39.691795Z",
     "iopub.status.idle": "2023-01-21T02:42:06.230240Z",
     "shell.execute_reply": "2023-01-21T02:42:06.229539Z",
     "shell.execute_reply.started": "2023-01-21T02:41:39.692033Z"
    },
    "tags": []
   },
   "outputs": [],
   "source": [
    "preds = svc.predict(X_test)\n",
    "cm = confusion_matrix(y_test, preds)"
   ]
  },
  {
   "cell_type": "code",
   "execution_count": 84,
   "id": "dcea88c5-5fa1-43ad-903a-6f1943cf204a",
   "metadata": {
    "execution": {
     "iopub.execute_input": "2023-01-21T02:42:06.231947Z",
     "iopub.status.busy": "2023-01-21T02:42:06.231647Z",
     "iopub.status.idle": "2023-01-21T02:42:06.427138Z",
     "shell.execute_reply": "2023-01-21T02:42:06.426583Z",
     "shell.execute_reply.started": "2023-01-21T02:42:06.231925Z"
    },
    "tags": []
   },
   "outputs": [
    {
     "data": {
      "image/png": "[encoded data removed]",
      "text/plain": [
       "<Figure size 640x480 with 2 Axes>"
      ]
     },
     "metadata": {},
     "output_type": "display_data"
    }
   ],
   "source": [
    "ConfusionMatrixDisplay(confusion_matrix=cm, display_labels= svc.classes_).plot()\n",
    "\n",
    "#plt.savefig('../graphs/cm_plot_svm.png')\n",
    "plt.show()"
   ]
  },
  {
   "cell_type": "code",
   "execution_count": 85,
   "id": "49cedf69-1d37-4c8b-97e2-ef5ae83ed7d2",
   "metadata": {
    "execution": {
     "iopub.execute_input": "2023-01-21T02:42:06.428452Z",
     "iopub.status.busy": "2023-01-21T02:42:06.427938Z",
     "iopub.status.idle": "2023-01-21T02:42:06.437986Z",
     "shell.execute_reply": "2023-01-21T02:42:06.437456Z",
     "shell.execute_reply.started": "2023-01-21T02:42:06.428430Z"
    },
    "tags": []
   },
   "outputs": [
    {
     "name": "stdout",
     "output_type": "stream",
     "text": [
      "['cycling' 'effector' 'other' 'progenitor' 'terminal exhausted']\n"
     ]
    },
    {
     "data": {
      "text/plain": [
       "array([0.9821883 , 0.9223301 , 0.72727273, 0.94520548, 0.94249201])"
      ]
     },
     "execution_count": 85,
     "metadata": {},
     "output_type": "execute_result"
    }
   ],
   "source": [
    "print(svc.classes_)\n",
    "f1_score(y_test, preds, average=None)\n"
   ]
  },
  {
   "cell_type": "markdown",
   "id": "850c9f88-2fba-4c04-9d8a-861349724ccc",
   "metadata": {},
   "source": [
    "Are these the best hyperparameters? Check a wide range via GridSearch"
   ]
  },
  {
   "cell_type": "code",
   "execution_count": 24,
   "id": "f8f82554-cee9-494a-a7f6-2504dd4e641e",
   "metadata": {
    "execution": {
     "iopub.execute_input": "2023-01-21T00:11:01.433849Z",
     "iopub.status.busy": "2023-01-21T00:11:01.433446Z",
     "iopub.status.idle": "2023-01-21T00:54:15.698208Z",
     "shell.execute_reply": "2023-01-21T00:54:15.697428Z",
     "shell.execute_reply.started": "2023-01-21T00:11:01.433821Z"
    },
    "tags": []
   },
   "outputs": [
    {
     "name": "stdout",
     "output_type": "stream",
     "text": [
      "Fitting 5 folds for each of 24 candidates, totalling 120 fits\n"
     ]
    },
    {
     "data": {
      "text/html": [
       "<style>#sk-container-id-2 {color: black;background-color: white;}#sk-container-id-2 pre{padding: 0;}#sk-container-id-2 div.sk-toggleable {background-color: white;}#sk-container-id-2 label.sk-toggleable__label {cursor: pointer;display: block;width: 100%;margin-bottom: 0;padding: 0.3em;box-sizing: border-box;text-align: center;}#sk-container-id-2 label.sk-toggleable__label-arrow:before {content: \"▸\";float: left;margin-right: 0.25em;color: #696969;}#sk-container-id-2 label.sk-toggleable__label-arrow:hover:before {color: black;}#sk-container-id-2 div.sk-estimator:hover label.sk-toggleable__label-arrow:before {color: black;}#sk-container-id-2 div.sk-toggleable__content {max-height: 0;max-width: 0;overflow: hidden;text-align: left;background-color: #f0f8ff;}#sk-container-id-2 div.sk-toggleable__content pre {margin: 0.2em;color: black;border-radius: 0.25em;background-color: #f0f8ff;}#sk-container-id-2 input.sk-toggleable__control:checked~div.sk-toggleable__content {max-height: 200px;max-width: 100%;overflow: auto;}#sk-container-id-2 input.sk-toggleable__control:checked~label.sk-toggleable__label-arrow:before {content: \"▾\";}#sk-container-id-2 div.sk-estimator input.sk-toggleable__control:checked~label.sk-toggleable__label {background-color: #d4ebff;}#sk-container-id-2 div.sk-label input.sk-toggleable__control:checked~label.sk-toggleable__label {background-color: #d4ebff;}#sk-container-id-2 input.sk-hidden--visually {border: 0;clip: rect(1px 1px 1px 1px);clip: rect(1px, 1px, 1px, 1px);height: 1px;margin: -1px;overflow: hidden;padding: 0;position: absolute;width: 1px;}#sk-container-id-2 div.sk-estimator {font-family: monospace;background-color: #f0f8ff;border: 1px dotted black;border-radius: 0.25em;box-sizing: border-box;margin-bottom: 0.5em;}#sk-container-id-2 div.sk-estimator:hover {background-color: #d4ebff;}#sk-container-id-2 div.sk-parallel-item::after {content: \"\";width: 100%;border-bottom: 1px solid gray;flex-grow: 1;}#sk-container-id-2 div.sk-label:hover label.sk-toggleable__label {background-color: #d4ebff;}#sk-container-id-2 div.sk-serial::before {content: \"\";position: absolute;border-left: 1px solid gray;box-sizing: border-box;top: 0;bottom: 0;left: 50%;z-index: 0;}#sk-container-id-2 div.sk-serial {display: flex;flex-direction: column;align-items: center;background-color: white;padding-right: 0.2em;padding-left: 0.2em;position: relative;}#sk-container-id-2 div.sk-item {position: relative;z-index: 1;}#sk-container-id-2 div.sk-parallel {display: flex;align-items: stretch;justify-content: center;background-color: white;position: relative;}#sk-container-id-2 div.sk-item::before, #sk-container-id-2 div.sk-parallel-item::before {content: \"\";position: absolute;border-left: 1px solid gray;box-sizing: border-box;top: 0;bottom: 0;left: 50%;z-index: -1;}#sk-container-id-2 div.sk-parallel-item {display: flex;flex-direction: column;z-index: 1;position: relative;background-color: white;}#sk-container-id-2 div.sk-parallel-item:first-child::after {align-self: flex-end;width: 50%;}#sk-container-id-2 div.sk-parallel-item:last-child::after {align-self: flex-start;width: 50%;}#sk-container-id-2 div.sk-parallel-item:only-child::after {width: 0;}#sk-container-id-2 div.sk-dashed-wrapped {border: 1px dashed gray;margin: 0 0.4em 0.5em 0.4em;box-sizing: border-box;padding-bottom: 0.4em;background-color: white;}#sk-container-id-2 div.sk-label label {font-family: monospace;font-weight: bold;display: inline-block;line-height: 1.2em;}#sk-container-id-2 div.sk-label-container {text-align: center;}#sk-container-id-2 div.sk-container {/* jupyter's `normalize.less` sets `[hidden] { display: none; }` but bootstrap.min.css set `[hidden] { display: none !important; }` so we also need the `!important` here to be able to override the default hidden behavior on the sphinx rendered scikit-learn.org. See: https://github.com/scikit-learn/scikit-learn/issues/21755 */display: inline-block !important;position: relative;}#sk-container-id-2 div.sk-text-repr-fallback {display: none;}</style><div id=\"sk-container-id-2\" class=\"sk-top-container\"><div class=\"sk-text-repr-fallback\"><pre>GridSearchCV(estimator=SVC(), n_jobs=-1,\n",
       "             param_grid={&#x27;C&#x27;: [0.1, 1, 100.0, 1000.0],\n",
       "                         &#x27;gamma&#x27;: [0.0001, 0.001, 0.01, 0.1, 1, 100.0],\n",
       "                         &#x27;kernel&#x27;: [&#x27;rbf&#x27;]},\n",
       "             verbose=3)</pre><b>In a Jupyter environment, please rerun this cell to show the HTML representation or trust the notebook. <br />On GitHub, the HTML representation is unable to render, please try loading this page with nbviewer.org.</b></div><div class=\"sk-container\" hidden><div class=\"sk-item sk-dashed-wrapped\"><div class=\"sk-label-container\"><div class=\"sk-label sk-toggleable\"><input class=\"sk-toggleable__control sk-hidden--visually\" id=\"sk-estimator-id-2\" type=\"checkbox\" ><label for=\"sk-estimator-id-2\" class=\"sk-toggleable__label sk-toggleable__label-arrow\">GridSearchCV</label><div class=\"sk-toggleable__content\"><pre>GridSearchCV(estimator=SVC(), n_jobs=-1,\n",
       "             param_grid={&#x27;C&#x27;: [0.1, 1, 100.0, 1000.0],\n",
       "                         &#x27;gamma&#x27;: [0.0001, 0.001, 0.01, 0.1, 1, 100.0],\n",
       "                         &#x27;kernel&#x27;: [&#x27;rbf&#x27;]},\n",
       "             verbose=3)</pre></div></div></div><div class=\"sk-parallel\"><div class=\"sk-parallel-item\"><div class=\"sk-item\"><div class=\"sk-label-container\"><div class=\"sk-label sk-toggleable\"><input class=\"sk-toggleable__control sk-hidden--visually\" id=\"sk-estimator-id-3\" type=\"checkbox\" ><label for=\"sk-estimator-id-3\" class=\"sk-toggleable__label sk-toggleable__label-arrow\">estimator: SVC</label><div class=\"sk-toggleable__content\"><pre>SVC()</pre></div></div></div><div class=\"sk-serial\"><div class=\"sk-item\"><div class=\"sk-estimator sk-toggleable\"><input class=\"sk-toggleable__control sk-hidden--visually\" id=\"sk-estimator-id-4\" type=\"checkbox\" ><label for=\"sk-estimator-id-4\" class=\"sk-toggleable__label sk-toggleable__label-arrow\">SVC</label><div class=\"sk-toggleable__content\"><pre>SVC()</pre></div></div></div></div></div></div></div></div></div></div>"
      ],
      "text/plain": [
       "GridSearchCV(estimator=SVC(), n_jobs=-1,\n",
       "             param_grid={'C': [0.1, 1, 100.0, 1000.0],\n",
       "                         'gamma': [0.0001, 0.001, 0.01, 0.1, 1, 100.0],\n",
       "                         'kernel': ['rbf']},\n",
       "             verbose=3)"
      ]
     },
     "execution_count": 24,
     "metadata": {},
     "output_type": "execute_result"
    }
   ],
   "source": [
    "from sklearn.model_selection import GridSearchCV\n",
    "X_train, X_test, y_train, y_test = train_test_split(filter(df_unpert), df_unpert_labels, test_size=.2, random_state=88)\n",
    "parameters = {'kernel':['rbf'], 'C':[1e-1, 1, 1e2, 1e3], 'gamma': [1e-4, 1e-3, 1e-2, 1e-1, 1, 1e2]}\n",
    "#parameters = {'kernel':['rbf'], 'C':[1e-1, 1], 'gamma': [1e-3]}\n",
    "svc = SVC()\n",
    "clf = GridSearchCV(estimator = svc, param_grid = parameters, n_jobs=-1, verbose=3)\n",
    "clf.fit(X_train, y_train)\n"
   ]
  },
  {
   "cell_type": "code",
   "execution_count": 86,
   "id": "e890320c-c1f1-4b12-89b2-93963bb14a18",
   "metadata": {
    "execution": {
     "iopub.execute_input": "2023-01-21T03:06:10.033429Z",
     "iopub.status.busy": "2023-01-21T03:06:10.033015Z",
     "iopub.status.idle": "2023-01-21T03:06:10.038080Z",
     "shell.execute_reply": "2023-01-21T03:06:10.037505Z",
     "shell.execute_reply.started": "2023-01-21T03:06:10.033399Z"
    },
    "tags": []
   },
   "outputs": [
    {
     "data": {
      "text/plain": [
       "['mean_fit_time',\n",
       " 'mean_score_time',\n",
       " 'mean_test_score',\n",
       " 'param_C',\n",
       " 'param_gamma',\n",
       " 'param_kernel',\n",
       " 'params',\n",
       " 'rank_test_score',\n",
       " 'split0_test_score',\n",
       " 'split1_test_score',\n",
       " 'split2_test_score',\n",
       " 'split3_test_score',\n",
       " 'split4_test_score',\n",
       " 'std_fit_time',\n",
       " 'std_score_time',\n",
       " 'std_test_score']"
      ]
     },
     "execution_count": 86,
     "metadata": {},
     "output_type": "execute_result"
    }
   ],
   "source": [
    "sorted(clf.cv_results_.keys())"
   ]
  },
  {
   "cell_type": "code",
   "execution_count": 41,
   "id": "f0c75e5e-3beb-4d7f-a1e0-1298e872dd47",
   "metadata": {
    "execution": {
     "iopub.execute_input": "2023-01-21T02:03:15.567026Z",
     "iopub.status.busy": "2023-01-21T02:03:15.566627Z",
     "iopub.status.idle": "2023-01-21T02:03:15.571870Z",
     "shell.execute_reply": "2023-01-21T02:03:15.571312Z",
     "shell.execute_reply.started": "2023-01-21T02:03:15.567001Z"
    },
    "tags": []
   },
   "outputs": [
    {
     "data": {
      "text/html": [
       "<style>#sk-container-id-9 {color: black;background-color: white;}#sk-container-id-9 pre{padding: 0;}#sk-container-id-9 div.sk-toggleable {background-color: white;}#sk-container-id-9 label.sk-toggleable__label {cursor: pointer;display: block;width: 100%;margin-bottom: 0;padding: 0.3em;box-sizing: border-box;text-align: center;}#sk-container-id-9 label.sk-toggleable__label-arrow:before {content: \"▸\";float: left;margin-right: 0.25em;color: #696969;}#sk-container-id-9 label.sk-toggleable__label-arrow:hover:before {color: black;}#sk-container-id-9 div.sk-estimator:hover label.sk-toggleable__label-arrow:before {color: black;}#sk-container-id-9 div.sk-toggleable__content {max-height: 0;max-width: 0;overflow: hidden;text-align: left;background-color: #f0f8ff;}#sk-container-id-9 div.sk-toggleable__content pre {margin: 0.2em;color: black;border-radius: 0.25em;background-color: #f0f8ff;}#sk-container-id-9 input.sk-toggleable__control:checked~div.sk-toggleable__content {max-height: 200px;max-width: 100%;overflow: auto;}#sk-container-id-9 input.sk-toggleable__control:checked~label.sk-toggleable__label-arrow:before {content: \"▾\";}#sk-container-id-9 div.sk-estimator input.sk-toggleable__control:checked~label.sk-toggleable__label {background-color: #d4ebff;}#sk-container-id-9 div.sk-label input.sk-toggleable__control:checked~label.sk-toggleable__label {background-color: #d4ebff;}#sk-container-id-9 input.sk-hidden--visually {border: 0;clip: rect(1px 1px 1px 1px);clip: rect(1px, 1px, 1px, 1px);height: 1px;margin: -1px;overflow: hidden;padding: 0;position: absolute;width: 1px;}#sk-container-id-9 div.sk-estimator {font-family: monospace;background-color: #f0f8ff;border: 1px dotted black;border-radius: 0.25em;box-sizing: border-box;margin-bottom: 0.5em;}#sk-container-id-9 div.sk-estimator:hover {background-color: #d4ebff;}#sk-container-id-9 div.sk-parallel-item::after {content: \"\";width: 100%;border-bottom: 1px solid gray;flex-grow: 1;}#sk-container-id-9 div.sk-label:hover label.sk-toggleable__label {background-color: #d4ebff;}#sk-container-id-9 div.sk-serial::before {content: \"\";position: absolute;border-left: 1px solid gray;box-sizing: border-box;top: 0;bottom: 0;left: 50%;z-index: 0;}#sk-container-id-9 div.sk-serial {display: flex;flex-direction: column;align-items: center;background-color: white;padding-right: 0.2em;padding-left: 0.2em;position: relative;}#sk-container-id-9 div.sk-item {position: relative;z-index: 1;}#sk-container-id-9 div.sk-parallel {display: flex;align-items: stretch;justify-content: center;background-color: white;position: relative;}#sk-container-id-9 div.sk-item::before, #sk-container-id-9 div.sk-parallel-item::before {content: \"\";position: absolute;border-left: 1px solid gray;box-sizing: border-box;top: 0;bottom: 0;left: 50%;z-index: -1;}#sk-container-id-9 div.sk-parallel-item {display: flex;flex-direction: column;z-index: 1;position: relative;background-color: white;}#sk-container-id-9 div.sk-parallel-item:first-child::after {align-self: flex-end;width: 50%;}#sk-container-id-9 div.sk-parallel-item:last-child::after {align-self: flex-start;width: 50%;}#sk-container-id-9 div.sk-parallel-item:only-child::after {width: 0;}#sk-container-id-9 div.sk-dashed-wrapped {border: 1px dashed gray;margin: 0 0.4em 0.5em 0.4em;box-sizing: border-box;padding-bottom: 0.4em;background-color: white;}#sk-container-id-9 div.sk-label label {font-family: monospace;font-weight: bold;display: inline-block;line-height: 1.2em;}#sk-container-id-9 div.sk-label-container {text-align: center;}#sk-container-id-9 div.sk-container {/* jupyter's `normalize.less` sets `[hidden] { display: none; }` but bootstrap.min.css set `[hidden] { display: none !important; }` so we also need the `!important` here to be able to override the default hidden behavior on the sphinx rendered scikit-learn.org. See: https://github.com/scikit-learn/scikit-learn/issues/21755 */display: inline-block !important;position: relative;}#sk-container-id-9 div.sk-text-repr-fallback {display: none;}</style><div id=\"sk-container-id-9\" class=\"sk-top-container\"><div class=\"sk-text-repr-fallback\"><pre>SVC(C=100.0, gamma=0.0001)</pre><b>In a Jupyter environment, please rerun this cell to show the HTML representation or trust the notebook. <br />On GitHub, the HTML representation is unable to render, please try loading this page with nbviewer.org.</b></div><div class=\"sk-container\" hidden><div class=\"sk-item\"><div class=\"sk-estimator sk-toggleable\"><input class=\"sk-toggleable__control sk-hidden--visually\" id=\"sk-estimator-id-11\" type=\"checkbox\" checked><label for=\"sk-estimator-id-11\" class=\"sk-toggleable__label sk-toggleable__label-arrow\">SVC</label><div class=\"sk-toggleable__content\"><pre>SVC(C=100.0, gamma=0.0001)</pre></div></div></div></div></div>"
      ],
      "text/plain": [
       "SVC(C=100.0, gamma=0.0001)"
      ]
     },
     "execution_count": 41,
     "metadata": {},
     "output_type": "execute_result"
    }
   ],
   "source": [
    "clf.best_estimator_"
   ]
  },
  {
   "cell_type": "code",
   "execution_count": null,
   "id": "8244ed54-47ad-4cb9-bcb5-70d863b3eede",
   "metadata": {},
   "outputs": [],
   "source": [
    "cv = pd.DataFrame(clf.cv_results_)\n",
    "cv.to_csv('svm_gridsearch_results.csv')"
   ]
  },
  {
   "cell_type": "markdown",
   "id": "1b6fdfa1-f5b8-470b-9138-c4fb54f24377",
   "metadata": {},
   "source": [
    "## SVM\n",
    "- try with all cells"
   ]
  },
  {
   "cell_type": "code",
   "execution_count": 11,
   "id": "df680939-1a46-444a-9de6-5199f99dcbbf",
   "metadata": {
    "execution": {
     "iopub.execute_input": "2023-01-23T06:34:14.029640Z",
     "iopub.status.busy": "2023-01-23T06:34:14.029365Z",
     "iopub.status.idle": "2023-01-23T06:34:14.543164Z",
     "shell.execute_reply": "2023-01-23T06:34:14.542510Z",
     "shell.execute_reply.started": "2023-01-23T06:34:14.029620Z"
    },
    "tags": []
   },
   "outputs": [],
   "source": [
    "X_train, X_test, y_train, y_test = train_test_split(normdf, adata.obs['state'], test_size=.2, random_state=88)\n",
    "#svc = SVC(gamma = 'auto', C = 1, verbose = 3) #auto = 1/n_features, scale = 1/(n_features * variance(X))\n",
    "#svc.fit(X_train, y_train)"
   ]
  },
  {
   "cell_type": "markdown",
   "id": "ca4d4649-10d8-4dcf-8246-42f0f7e6adbc",
   "metadata": {},
   "source": [
    "### save all cells svm model, which takes a long time to train"
   ]
  },
  {
   "cell_type": "code",
   "execution_count": 1,
   "id": "1a07fb95-4af1-431a-8c3c-1b1fe7f5e080",
   "metadata": {
    "execution": {
     "iopub.execute_input": "2023-01-23T06:33:09.085393Z",
     "iopub.status.busy": "2023-01-23T06:33:09.083970Z",
     "iopub.status.idle": "2023-01-23T06:33:09.529246Z",
     "shell.execute_reply": "2023-01-23T06:33:09.528268Z",
     "shell.execute_reply.started": "2023-01-23T06:33:09.085315Z"
    },
    "tags": []
   },
   "outputs": [
    {
     "ename": "NameError",
     "evalue": "name 'svc' is not defined",
     "output_type": "error",
     "traceback": [
      "\u001b[0;31m---------------------------------------------------------------------------\u001b[0m",
      "\u001b[0;31mNameError\u001b[0m                                 Traceback (most recent call last)",
      "Cell \u001b[0;32mIn [1], line 3\u001b[0m\n\u001b[1;32m      1\u001b[0m \u001b[38;5;28;01mimport\u001b[39;00m \u001b[38;5;21;01mpickle\u001b[39;00m\n\u001b[1;32m      2\u001b[0m filename \u001b[38;5;241m=\u001b[39m \u001b[38;5;124m'\u001b[39m\u001b[38;5;124msvc_model_allcells.sav\u001b[39m\u001b[38;5;124m'\u001b[39m\n\u001b[0;32m----> 3\u001b[0m pickle\u001b[38;5;241m.\u001b[39mdump(svc, \u001b[38;5;28mopen\u001b[39m(filename, \u001b[38;5;124m'\u001b[39m\u001b[38;5;124mwb\u001b[39m\u001b[38;5;124m'\u001b[39m))\n",
      "\u001b[0;31mNameError\u001b[0m: name 'svc' is not defined"
     ]
    }
   ],
   "source": [
    "import pickle\n",
    "filename = 'svc_model_allcells.sav'\n",
    "pickle.dump(svc, open(filename, 'wb'))"
   ]
  },
  {
   "cell_type": "code",
   "execution_count": 12,
   "id": "ff241025-7c08-40ca-ad21-bb48c484eaaf",
   "metadata": {
    "execution": {
     "iopub.execute_input": "2023-01-23T06:34:16.978845Z",
     "iopub.status.busy": "2023-01-23T06:34:16.978117Z",
     "iopub.status.idle": "2023-01-23T06:34:20.032748Z",
     "shell.execute_reply": "2023-01-23T06:34:20.032068Z",
     "shell.execute_reply.started": "2023-01-23T06:34:16.978800Z"
    },
    "tags": []
   },
   "outputs": [
    {
     "name": "stdout",
     "output_type": "stream",
     "text": [
      "0.9\n"
     ]
    }
   ],
   "source": [
    "#load model for use\n",
    "loaded_model = pickle.load(open(filename, 'rb'))\n",
    "result = loaded_model.score(X_test[0:10], y_test[0:10])\n",
    "print(result)"
   ]
  },
  {
   "cell_type": "code",
   "execution_count": 10,
   "id": "923ab2ce-e4c2-47b5-88f3-ccf48dbb3d78",
   "metadata": {
    "execution": {
     "iopub.execute_input": "2023-01-23T05:46:32.754788Z",
     "iopub.status.busy": "2023-01-23T05:46:32.754580Z",
     "iopub.status.idle": "2023-01-23T06:07:36.785836Z",
     "shell.execute_reply": "2023-01-23T06:07:36.784805Z",
     "shell.execute_reply.started": "2023-01-23T05:46:32.754768Z"
    },
    "tags": []
   },
   "outputs": [
    {
     "ename": "KeyboardInterrupt",
     "evalue": "",
     "output_type": "error",
     "traceback": [
      "\u001b[0;31m---------------------------------------------------------------------------\u001b[0m",
      "\u001b[0;31mKeyboardInterrupt\u001b[0m                         Traceback (most recent call last)",
      "Cell \u001b[0;32mIn [10], line 1\u001b[0m\n\u001b[0;32m----> 1\u001b[0m preds \u001b[38;5;241m=\u001b[39m svc\u001b[38;5;241m.\u001b[39mpredict(X_test)\n\u001b[1;32m      2\u001b[0m cm \u001b[38;5;241m=\u001b[39m confusion_matrix(y_test, preds)\n\u001b[1;32m      4\u001b[0m ConfusionMatrixDisplay(confusion_matrix\u001b[38;5;241m=\u001b[39mcm, display_labels\u001b[38;5;241m=\u001b[39m svc\u001b[38;5;241m.\u001b[39mclasses_)\u001b[38;5;241m.\u001b[39mplot()\n",
      "File \u001b[0;32m/opt/saturncloud/envs/saturn/lib/python3.9/site-packages/sklearn/svm/_base.py:810\u001b[0m, in \u001b[0;36mBaseSVC.predict\u001b[0;34m(self, X)\u001b[0m\n\u001b[1;32m    808\u001b[0m     y \u001b[38;5;241m=\u001b[39m np\u001b[38;5;241m.\u001b[39margmax(\u001b[38;5;28mself\u001b[39m\u001b[38;5;241m.\u001b[39mdecision_function(X), axis\u001b[38;5;241m=\u001b[39m\u001b[38;5;241m1\u001b[39m)\n\u001b[1;32m    809\u001b[0m \u001b[38;5;28;01melse\u001b[39;00m:\n\u001b[0;32m--> 810\u001b[0m     y \u001b[38;5;241m=\u001b[39m \u001b[38;5;28;43msuper\u001b[39;49m\u001b[43m(\u001b[49m\u001b[43m)\u001b[49m\u001b[38;5;241;43m.\u001b[39;49m\u001b[43mpredict\u001b[49m\u001b[43m(\u001b[49m\u001b[43mX\u001b[49m\u001b[43m)\u001b[49m\n\u001b[1;32m    811\u001b[0m \u001b[38;5;28;01mreturn\u001b[39;00m \u001b[38;5;28mself\u001b[39m\u001b[38;5;241m.\u001b[39mclasses_\u001b[38;5;241m.\u001b[39mtake(np\u001b[38;5;241m.\u001b[39masarray(y, dtype\u001b[38;5;241m=\u001b[39mnp\u001b[38;5;241m.\u001b[39mintp))\n",
      "File \u001b[0;32m/opt/saturncloud/envs/saturn/lib/python3.9/site-packages/sklearn/svm/_base.py:435\u001b[0m, in \u001b[0;36mBaseLibSVM.predict\u001b[0;34m(self, X)\u001b[0m\n\u001b[1;32m    433\u001b[0m X \u001b[38;5;241m=\u001b[39m \u001b[38;5;28mself\u001b[39m\u001b[38;5;241m.\u001b[39m_validate_for_predict(X)\n\u001b[1;32m    434\u001b[0m predict \u001b[38;5;241m=\u001b[39m \u001b[38;5;28mself\u001b[39m\u001b[38;5;241m.\u001b[39m_sparse_predict \u001b[38;5;28;01mif\u001b[39;00m \u001b[38;5;28mself\u001b[39m\u001b[38;5;241m.\u001b[39m_sparse \u001b[38;5;28;01melse\u001b[39;00m \u001b[38;5;28mself\u001b[39m\u001b[38;5;241m.\u001b[39m_dense_predict\n\u001b[0;32m--> 435\u001b[0m \u001b[38;5;28;01mreturn\u001b[39;00m \u001b[43mpredict\u001b[49m\u001b[43m(\u001b[49m\u001b[43mX\u001b[49m\u001b[43m)\u001b[49m\n",
      "File \u001b[0;32m/opt/saturncloud/envs/saturn/lib/python3.9/site-packages/sklearn/svm/_base.py:454\u001b[0m, in \u001b[0;36mBaseLibSVM._dense_predict\u001b[0;34m(self, X)\u001b[0m\n\u001b[1;32m    446\u001b[0m         \u001b[38;5;28;01mraise\u001b[39;00m \u001b[38;5;167;01mValueError\u001b[39;00m(\n\u001b[1;32m    447\u001b[0m             \u001b[38;5;124m\"\u001b[39m\u001b[38;5;124mX.shape[1] = \u001b[39m\u001b[38;5;132;01m%d\u001b[39;00m\u001b[38;5;124m should be equal to \u001b[39m\u001b[38;5;132;01m%d\u001b[39;00m\u001b[38;5;124m, \u001b[39m\u001b[38;5;124m\"\u001b[39m\n\u001b[1;32m    448\u001b[0m             \u001b[38;5;124m\"\u001b[39m\u001b[38;5;124mthe number of samples at training time\u001b[39m\u001b[38;5;124m\"\u001b[39m\n\u001b[1;32m    449\u001b[0m             \u001b[38;5;241m%\u001b[39m (X\u001b[38;5;241m.\u001b[39mshape[\u001b[38;5;241m1\u001b[39m], \u001b[38;5;28mself\u001b[39m\u001b[38;5;241m.\u001b[39mshape_fit_[\u001b[38;5;241m0\u001b[39m])\n\u001b[1;32m    450\u001b[0m         )\n\u001b[1;32m    452\u001b[0m svm_type \u001b[38;5;241m=\u001b[39m LIBSVM_IMPL\u001b[38;5;241m.\u001b[39mindex(\u001b[38;5;28mself\u001b[39m\u001b[38;5;241m.\u001b[39m_impl)\n\u001b[0;32m--> 454\u001b[0m \u001b[38;5;28;01mreturn\u001b[39;00m \u001b[43mlibsvm\u001b[49m\u001b[38;5;241;43m.\u001b[39;49m\u001b[43mpredict\u001b[49m\u001b[43m(\u001b[49m\n\u001b[1;32m    455\u001b[0m \u001b[43m    \u001b[49m\u001b[43mX\u001b[49m\u001b[43m,\u001b[49m\n\u001b[1;32m    456\u001b[0m \u001b[43m    \u001b[49m\u001b[38;5;28;43mself\u001b[39;49m\u001b[38;5;241;43m.\u001b[39;49m\u001b[43msupport_\u001b[49m\u001b[43m,\u001b[49m\n\u001b[1;32m    457\u001b[0m \u001b[43m    \u001b[49m\u001b[38;5;28;43mself\u001b[39;49m\u001b[38;5;241;43m.\u001b[39;49m\u001b[43msupport_vectors_\u001b[49m\u001b[43m,\u001b[49m\n\u001b[1;32m    458\u001b[0m \u001b[43m    \u001b[49m\u001b[38;5;28;43mself\u001b[39;49m\u001b[38;5;241;43m.\u001b[39;49m\u001b[43m_n_support\u001b[49m\u001b[43m,\u001b[49m\n\u001b[1;32m    459\u001b[0m \u001b[43m    \u001b[49m\u001b[38;5;28;43mself\u001b[39;49m\u001b[38;5;241;43m.\u001b[39;49m\u001b[43m_dual_coef_\u001b[49m\u001b[43m,\u001b[49m\n\u001b[1;32m    460\u001b[0m \u001b[43m    \u001b[49m\u001b[38;5;28;43mself\u001b[39;49m\u001b[38;5;241;43m.\u001b[39;49m\u001b[43m_intercept_\u001b[49m\u001b[43m,\u001b[49m\n\u001b[1;32m    461\u001b[0m \u001b[43m    \u001b[49m\u001b[38;5;28;43mself\u001b[39;49m\u001b[38;5;241;43m.\u001b[39;49m\u001b[43m_probA\u001b[49m\u001b[43m,\u001b[49m\n\u001b[1;32m    462\u001b[0m \u001b[43m    \u001b[49m\u001b[38;5;28;43mself\u001b[39;49m\u001b[38;5;241;43m.\u001b[39;49m\u001b[43m_probB\u001b[49m\u001b[43m,\u001b[49m\n\u001b[1;32m    463\u001b[0m \u001b[43m    \u001b[49m\u001b[43msvm_type\u001b[49m\u001b[38;5;241;43m=\u001b[39;49m\u001b[43msvm_type\u001b[49m\u001b[43m,\u001b[49m\n\u001b[1;32m    464\u001b[0m \u001b[43m    \u001b[49m\u001b[43mkernel\u001b[49m\u001b[38;5;241;43m=\u001b[39;49m\u001b[43mkernel\u001b[49m\u001b[43m,\u001b[49m\n\u001b[1;32m    465\u001b[0m \u001b[43m    \u001b[49m\u001b[43mdegree\u001b[49m\u001b[38;5;241;43m=\u001b[39;49m\u001b[38;5;28;43mself\u001b[39;49m\u001b[38;5;241;43m.\u001b[39;49m\u001b[43mdegree\u001b[49m\u001b[43m,\u001b[49m\n\u001b[1;32m    466\u001b[0m \u001b[43m    \u001b[49m\u001b[43mcoef0\u001b[49m\u001b[38;5;241;43m=\u001b[39;49m\u001b[38;5;28;43mself\u001b[39;49m\u001b[38;5;241;43m.\u001b[39;49m\u001b[43mcoef0\u001b[49m\u001b[43m,\u001b[49m\n\u001b[1;32m    467\u001b[0m \u001b[43m    \u001b[49m\u001b[43mgamma\u001b[49m\u001b[38;5;241;43m=\u001b[39;49m\u001b[38;5;28;43mself\u001b[39;49m\u001b[38;5;241;43m.\u001b[39;49m\u001b[43m_gamma\u001b[49m\u001b[43m,\u001b[49m\n\u001b[1;32m    468\u001b[0m \u001b[43m    \u001b[49m\u001b[43mcache_size\u001b[49m\u001b[38;5;241;43m=\u001b[39;49m\u001b[38;5;28;43mself\u001b[39;49m\u001b[38;5;241;43m.\u001b[39;49m\u001b[43mcache_size\u001b[49m\u001b[43m,\u001b[49m\n\u001b[1;32m    469\u001b[0m \u001b[43m\u001b[49m\u001b[43m)\u001b[49m\n",
      "\u001b[0;31mKeyboardInterrupt\u001b[0m: "
     ]
    }
   ],
   "source": [
    "preds = svc.predict(X_test)\n",
    "cm = confusion_matrix(y_test, preds)\n",
    "\n",
    "ConfusionMatrixDisplay(confusion_matrix=cm, display_labels= svc.classes_).plot()\n",
    "\n",
    "plt.savefig('../graphs/cm_plot_svm_all.png')\n",
    "plt.show()"
   ]
  },
  {
   "cell_type": "code",
   "execution_count": 9,
   "id": "fa45c77f-cd53-4d90-a4c1-cbab64b45daf",
   "metadata": {
    "execution": {
     "iopub.execute_input": "2023-01-23T05:46:32.712808Z",
     "iopub.status.busy": "2023-01-23T05:46:32.712438Z",
     "iopub.status.idle": "2023-01-23T05:46:32.743544Z",
     "shell.execute_reply": "2023-01-23T05:46:32.743002Z",
     "shell.execute_reply.started": "2023-01-23T05:46:32.712788Z"
    },
    "tags": []
   },
   "outputs": [
    {
     "name": "stdout",
     "output_type": "stream",
     "text": [
      "['cycling' 'effector' 'other' 'progenitor' 'terminal exhausted']\n"
     ]
    },
    {
     "data": {
      "text/plain": [
       "array([0.98119312, 0.92720307, 0.72222222, 0.96641387, 0.94868239])"
      ]
     },
     "execution_count": 9,
     "metadata": {},
     "output_type": "execute_result"
    }
   ],
   "source": [
    "print(svc.classes_)\n",
    "f1_score(y_test, preds, average=None)"
   ]
  },
  {
   "cell_type": "markdown",
   "id": "0e1cbf8a-a379-4acd-bf46-54fdd290167e",
   "metadata": {},
   "source": [
    "Ideas for next steps 1/22/23:\n",
    "- grid search with the full data set to find optimal C and gamma\n",
    "- ideas for speeding up the model? use random subset of the data?\n",
    "- eda exploration of \"other\" category\n",
    "    - heatmap suggests that misclassification of effector and other should be expected, since those categories are the most closely related when looking at the expression values of cells in those categories\n",
    "- consider 1 page write up, check misclassified cells\n",
    "- check how paper did preprocessing for t cell categorization"
   ]
  },
  {
   "cell_type": "code",
   "execution_count": null,
   "id": "7e6e3d15-e4a1-48e5-a818-289e3f0c46fd",
   "metadata": {
    "execution": {
     "iopub.execute_input": "2023-01-22T21:01:53.627595Z",
     "iopub.status.busy": "2023-01-22T21:01:53.627212Z"
    },
    "tags": []
   },
   "outputs": [
    {
     "name": "stdout",
     "output_type": "stream",
     "text": [
      "Fitting 5 folds for each of 15 candidates, totalling 75 fits\n"
     ]
    }
   ],
   "source": [
    "from sklearn.model_selection import GridSearchCV\n",
    "\n",
    "X_train, X_test, y_train, y_test = train_test_split(normdf, adata.obs['state'], test_size=.2, random_state=88)\n",
    "parameters = {'kernel':['rbf'], 'C':[1, 1e2, 1e3], 'gamma': [1e-4, 1e-3, 1e-2, 1e-1, 1]}\n",
    "\n",
    "svc = SVC()\n",
    "clf = GridSearchCV(estimator = svc, param_grid = parameters, n_jobs=-1, verbose=3)\n",
    "clf.fit(X_train, y_train)\n",
    "\n",
    "clf.best_estimator_\n",
    "\n",
    "cv = pd.DataFrame(clf.cv_results_)\n",
    "cv.to_csv('svm_gridsearch_results_allcells.csv')"
   ]
  },
  {
   "cell_type": "markdown",
   "id": "2c4b2e1b-b2b7-4250-be03-90b26c120885",
   "metadata": {
    "execution": {
     "iopub.execute_input": "2023-01-18T21:10:13.741942Z",
     "iopub.status.busy": "2023-01-18T21:10:13.741586Z",
     "iopub.status.idle": "2023-01-18T21:10:13.745534Z",
     "shell.execute_reply": "2023-01-18T21:10:13.744590Z",
     "shell.execute_reply.started": "2023-01-18T21:10:13.741918Z"
    }
   },
   "source": [
    "## XGBoost"
   ]
  },
  {
   "cell_type": "markdown",
   "id": "c33c7a57-be2f-4d25-bba4-a1604d417fed",
   "metadata": {
    "execution": {
     "iopub.execute_input": "2023-01-18T21:10:48.576810Z",
     "iopub.status.busy": "2023-01-18T21:10:48.576438Z",
     "iopub.status.idle": "2023-01-18T21:10:48.582727Z",
     "shell.execute_reply": "2023-01-18T21:10:48.581650Z",
     "shell.execute_reply.started": "2023-01-18T21:10:48.576785Z"
    }
   },
   "source": [
    "Already tried:\n",
    "- filtering genes out by variance didn't improve the accuracy much (~42%)\n",
    "- increasing estimator number didn't improve accuracy much (50 -> 100 ~42%)\n",
    "- train on unperturbed data only: accuracy worse lol (39%), maybe bc less data?"
   ]
  },
  {
   "cell_type": "code",
   "execution_count": 99,
   "id": "82c74681-8fd9-4848-9644-6f6b419a6c2b",
   "metadata": {
    "execution": {
     "iopub.execute_input": "2023-01-18T21:23:14.514609Z",
     "iopub.status.busy": "2023-01-18T21:23:14.514216Z",
     "iopub.status.idle": "2023-01-18T21:23:15.787247Z",
     "shell.execute_reply": "2023-01-18T21:23:15.786553Z",
     "shell.execute_reply.started": "2023-01-18T21:23:14.514582Z"
    },
    "tags": []
   },
   "outputs": [],
   "source": [
    "X_train, X_test, y_train, y_test = train_test_split(filter(df_unpert), df_unpert_labels, test_size=.2, random_state=88)"
   ]
  },
  {
   "cell_type": "code",
   "execution_count": 100,
   "id": "81ba884c-ccc5-4266-9122-0161c81e136b",
   "metadata": {
    "execution": {
     "iopub.execute_input": "2023-01-18T21:23:17.659722Z",
     "iopub.status.busy": "2023-01-18T21:23:17.659358Z",
     "iopub.status.idle": "2023-01-18T21:23:27.586169Z",
     "shell.execute_reply": "2023-01-18T21:23:27.585382Z",
     "shell.execute_reply.started": "2023-01-18T21:23:17.659697Z"
    },
    "tags": []
   },
   "outputs": [
    {
     "name": "stdout",
     "output_type": "stream",
     "text": [
      "[21:23:19] WARNING: /home/conda/feedstock_root/build_artifacts/xgboost-split_1645117766796/work/src/learner.cc:1115: Starting in XGBoost 1.3.0, the default evaluation metric used with the objective 'multi:softprob' was changed from 'merror' to 'mlogloss'. Explicitly set eval_metric if you'd like to restore the old behavior.\n"
     ]
    }
   ],
   "source": [
    "bst = XGBClassifier(n_estimators=100, max_depth=0, learning_rate=0.2, objective='binary:logistic')\n",
    "# fit model\n",
    "bst.fit(X_train, y_train)\n",
    "# make predictions\n",
    "preds = bst.predict(X_test)"
   ]
  },
  {
   "cell_type": "code",
   "execution_count": 101,
   "id": "1987e889-6a92-4eab-be26-582a2bfc8c8e",
   "metadata": {
    "execution": {
     "iopub.execute_input": "2023-01-18T21:23:27.587869Z",
     "iopub.status.busy": "2023-01-18T21:23:27.587548Z",
     "iopub.status.idle": "2023-01-18T21:23:27.595325Z",
     "shell.execute_reply": "2023-01-18T21:23:27.594461Z",
     "shell.execute_reply.started": "2023-01-18T21:23:27.587807Z"
    },
    "tags": []
   },
   "outputs": [
    {
     "name": "stdout",
     "output_type": "stream",
     "text": [
      "Accuracy: 39.46%\n"
     ]
    }
   ],
   "source": [
    "from sklearn.metrics import accuracy_score\n",
    "accuracy = accuracy_score(y_test, preds)\n",
    "print(\"Accuracy: %.2f%%\" % (accuracy * 100.0))"
   ]
  },
  {
   "cell_type": "code",
   "execution_count": null,
   "id": "e6191109-22e7-4841-a055-a63de500a83b",
   "metadata": {},
   "outputs": [],
   "source": [
    ">>> from sklearn.model_selection import GridSearchCV\n",
    ">>> iris = datasets.load_iris()\n",
    ">>> parameters = {'kernel':('linear', 'rbf'), 'C':[1, 10]}\n",
    ">>> svc = svm.SVC()\n",
    ">>> clf = GridSearchCV(svc, parameters)\n",
    ">>> clf.fit(iris.data, iris.target)\n",
    "GridSearchCV(estimator=SVC(),\n",
    "             param_grid={'C': [1, 10], 'kernel': ('linear', 'rbf')})"
   ]
  },
  {
   "cell_type": "code",
   "execution_count": null,
   "id": "e6375990-935c-4e9e-afe9-8da8429a745c",
   "metadata": {},
   "outputs": [],
   "source": []
  }
 ],
 "metadata": {
  "kernelspec": {
   "display_name": "saturn (Python 3)",
   "language": "python",
   "name": "python3"
  },
  "language_info": {
   "codemirror_mode": {
    "name": "ipython",
    "version": 3
   },
   "file_extension": ".py",
   "mimetype": "text/x-python",
   "name": "python",
   "nbconvert_exporter": "python",
   "pygments_lexer": "ipython3",
   "version": "3.9.13"
  }
 },
 "nbformat": 4,
 "nbformat_minor": 5
}
