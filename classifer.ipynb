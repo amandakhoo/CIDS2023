{
 "cells": [
  {
   "cell_type": "markdown",
   "id": "3ac0b920-c5f6-4e0b-8607-441bc1c68d00",
   "metadata": {},
   "source": [
    "# Classifier Notebook\n",
    "### Questions\n",
    "\n",
    "### Useful links"
   ]
  },
  {
   "cell_type": "markdown",
   "id": "c34e28ea-8f55-4c9a-ba96-2eb3797eca65",
   "metadata": {},
   "source": [
    "## Load rawcounts and normalized_logcounts"
   ]
  },
  {
   "cell_type": "code",
   "execution_count": 1,
   "id": "ce89b9d3-3044-4e50-9291-32472079501c",
   "metadata": {
    "execution": {
     "iopub.execute_input": "2023-01-27T06:40:37.595832Z",
     "iopub.status.busy": "2023-01-27T06:40:37.595424Z",
     "iopub.status.idle": "2023-01-27T06:40:40.629134Z",
     "shell.execute_reply": "2023-01-27T06:40:40.628453Z",
     "shell.execute_reply.started": "2023-01-27T06:40:37.595763Z"
    },
    "tags": []
   },
   "outputs": [],
   "source": [
    "import scanpy as sc\n",
    "\n",
    "from warnings import filterwarnings\n",
    "filterwarnings('ignore')\n",
    "\n",
    "from sklearn.model_selection import GridSearchCV\n",
    "\n",
    "from xgboost import XGBClassifier\n",
    "from sklearn.model_selection import train_test_split\n",
    "from sklearn.pipeline import Pipeline\n",
    "import pandas as pd\n",
    "\n",
    "from sklearn.svm import SVC\n",
    "from sklearn.metrics import confusion_matrix, ConfusionMatrixDisplay, f1_score\n",
    "import matplotlib.pyplot as plt\n",
    "\n",
    "import pickle\n",
    "import numpy as np\n"
   ]
  },
  {
   "cell_type": "markdown",
   "id": "9db49bd3-287b-4dfe-b6d9-61595d58f351",
   "metadata": {},
   "source": [
    "### Read data in"
   ]
  },
  {
   "cell_type": "code",
   "execution_count": 2,
   "id": "87cf8441-b43d-44f9-b349-ee26a85b994c",
   "metadata": {
    "execution": {
     "iopub.execute_input": "2023-01-27T06:40:42.695748Z",
     "iopub.status.busy": "2023-01-27T06:40:42.695178Z",
     "iopub.status.idle": "2023-01-27T06:40:53.490069Z",
     "shell.execute_reply": "2023-01-27T06:40:53.489443Z",
     "shell.execute_reply.started": "2023-01-27T06:40:42.695719Z"
    },
    "tags": []
   },
   "outputs": [],
   "source": [
    "adata = sc.read_h5ad('../sc_training.h5ad')\n",
    "adata.layers['normalized_logcounts'] = adata.X.copy()\n",
    "adata.X = adata.layers['rawcounts'].copy()  \n",
    "\n",
    "sc.pp.normalize_total(adata, target_sum=5e3)\n",
    "sc.pp.log1p(adata)"
   ]
  },
  {
   "cell_type": "code",
   "execution_count": 3,
   "id": "1417ad94-10f1-4c29-8d8f-e1d0b68ccf64",
   "metadata": {
    "execution": {
     "iopub.execute_input": "2023-01-27T06:40:53.492249Z",
     "iopub.status.busy": "2023-01-27T06:40:53.491600Z",
     "iopub.status.idle": "2023-01-27T06:40:54.981723Z",
     "shell.execute_reply": "2023-01-27T06:40:54.981065Z",
     "shell.execute_reply.started": "2023-01-27T06:40:53.492194Z"
    },
    "tags": []
   },
   "outputs": [],
   "source": [
    "normdf = adata.to_df(layer=\"normalized_logcounts\")"
   ]
  },
  {
   "cell_type": "code",
   "execution_count": 4,
   "id": "1f54dbe4-cc3f-42f5-bf7e-9001a16c1ad7",
   "metadata": {
    "execution": {
     "iopub.execute_input": "2023-01-27T06:40:54.983264Z",
     "iopub.status.busy": "2023-01-27T06:40:54.982690Z",
     "iopub.status.idle": "2023-01-27T06:40:55.010611Z",
     "shell.execute_reply": "2023-01-27T06:40:55.009976Z",
     "shell.execute_reply.started": "2023-01-27T06:40:54.983227Z"
    },
    "tags": []
   },
   "outputs": [
    {
     "data": {
      "text/html": [
       "<div>\n",
       "<style scoped>\n",
       "    .dataframe tbody tr th:only-of-type {\n",
       "        vertical-align: middle;\n",
       "    }\n",
       "\n",
       "    .dataframe tbody tr th {\n",
       "        vertical-align: top;\n",
       "    }\n",
       "\n",
       "    .dataframe thead th {\n",
       "        text-align: right;\n",
       "    }\n",
       "</style>\n",
       "<table border=\"1\" class=\"dataframe\">\n",
       "  <thead>\n",
       "    <tr style=\"text-align: right;\">\n",
       "      <th></th>\n",
       "      <th>Mrpl15</th>\n",
       "      <th>Lypla1</th>\n",
       "      <th>Tcea1</th>\n",
       "      <th>Atp6v1h</th>\n",
       "      <th>Rb1cc1</th>\n",
       "      <th>4732440D04Rik</th>\n",
       "      <th>Pcmtd1</th>\n",
       "      <th>Gm26901</th>\n",
       "      <th>Rrs1</th>\n",
       "      <th>Adhfe1</th>\n",
       "      <th>...</th>\n",
       "      <th>Slc3a1</th>\n",
       "      <th>Cfap53</th>\n",
       "      <th>Pstpip2</th>\n",
       "      <th>Gm17227</th>\n",
       "      <th>Ms4a8a</th>\n",
       "      <th>9130016M20Rik</th>\n",
       "      <th>Htr7</th>\n",
       "      <th>Col17a1</th>\n",
       "      <th>Awat2</th>\n",
       "      <th>Amot</th>\n",
       "    </tr>\n",
       "  </thead>\n",
       "  <tbody>\n",
       "    <tr>\n",
       "      <th>053l1_AAACCTGAGATGTCGG-1</th>\n",
       "      <td>0.511520</td>\n",
       "      <td>0.000000</td>\n",
       "      <td>0.000000</td>\n",
       "      <td>0.0</td>\n",
       "      <td>0.0</td>\n",
       "      <td>0.0</td>\n",
       "      <td>0.000000</td>\n",
       "      <td>0.0</td>\n",
       "      <td>0.000000</td>\n",
       "      <td>0.0</td>\n",
       "      <td>...</td>\n",
       "      <td>0.0</td>\n",
       "      <td>0.0</td>\n",
       "      <td>0.0</td>\n",
       "      <td>0.0</td>\n",
       "      <td>0.0</td>\n",
       "      <td>0.0</td>\n",
       "      <td>0.0</td>\n",
       "      <td>0.0</td>\n",
       "      <td>0.0</td>\n",
       "      <td>0.0</td>\n",
       "    </tr>\n",
       "    <tr>\n",
       "      <th>053l1_AAACCTGAGCAACGGT-1</th>\n",
       "      <td>0.484165</td>\n",
       "      <td>0.484165</td>\n",
       "      <td>0.808991</td>\n",
       "      <td>0.0</td>\n",
       "      <td>0.0</td>\n",
       "      <td>0.0</td>\n",
       "      <td>0.000000</td>\n",
       "      <td>0.0</td>\n",
       "      <td>0.484165</td>\n",
       "      <td>0.0</td>\n",
       "      <td>...</td>\n",
       "      <td>0.0</td>\n",
       "      <td>0.0</td>\n",
       "      <td>0.0</td>\n",
       "      <td>0.0</td>\n",
       "      <td>0.0</td>\n",
       "      <td>0.0</td>\n",
       "      <td>0.0</td>\n",
       "      <td>0.0</td>\n",
       "      <td>0.0</td>\n",
       "      <td>0.0</td>\n",
       "    </tr>\n",
       "    <tr>\n",
       "      <th>053l1_AAACCTGAGTACGACG-1</th>\n",
       "      <td>0.000000</td>\n",
       "      <td>0.000000</td>\n",
       "      <td>0.000000</td>\n",
       "      <td>0.0</td>\n",
       "      <td>0.0</td>\n",
       "      <td>0.0</td>\n",
       "      <td>0.693748</td>\n",
       "      <td>0.0</td>\n",
       "      <td>0.000000</td>\n",
       "      <td>0.0</td>\n",
       "      <td>...</td>\n",
       "      <td>0.0</td>\n",
       "      <td>0.0</td>\n",
       "      <td>0.0</td>\n",
       "      <td>0.0</td>\n",
       "      <td>0.0</td>\n",
       "      <td>0.0</td>\n",
       "      <td>0.0</td>\n",
       "      <td>0.0</td>\n",
       "      <td>0.0</td>\n",
       "      <td>0.0</td>\n",
       "    </tr>\n",
       "    <tr>\n",
       "      <th>053l1_AAACCTGAGTCGTTTG-1</th>\n",
       "      <td>0.000000</td>\n",
       "      <td>0.000000</td>\n",
       "      <td>0.000000</td>\n",
       "      <td>0.0</td>\n",
       "      <td>0.0</td>\n",
       "      <td>0.0</td>\n",
       "      <td>0.000000</td>\n",
       "      <td>0.0</td>\n",
       "      <td>0.000000</td>\n",
       "      <td>0.0</td>\n",
       "      <td>...</td>\n",
       "      <td>0.0</td>\n",
       "      <td>0.0</td>\n",
       "      <td>0.0</td>\n",
       "      <td>0.0</td>\n",
       "      <td>0.0</td>\n",
       "      <td>0.0</td>\n",
       "      <td>0.0</td>\n",
       "      <td>0.0</td>\n",
       "      <td>0.0</td>\n",
       "      <td>0.0</td>\n",
       "    </tr>\n",
       "    <tr>\n",
       "      <th>053l1_AAACCTGAGTGAAGAG-1</th>\n",
       "      <td>0.000000</td>\n",
       "      <td>0.000000</td>\n",
       "      <td>0.000000</td>\n",
       "      <td>0.0</td>\n",
       "      <td>0.0</td>\n",
       "      <td>0.0</td>\n",
       "      <td>0.000000</td>\n",
       "      <td>0.0</td>\n",
       "      <td>0.000000</td>\n",
       "      <td>0.0</td>\n",
       "      <td>...</td>\n",
       "      <td>0.0</td>\n",
       "      <td>0.0</td>\n",
       "      <td>0.0</td>\n",
       "      <td>0.0</td>\n",
       "      <td>0.0</td>\n",
       "      <td>0.0</td>\n",
       "      <td>0.0</td>\n",
       "      <td>0.0</td>\n",
       "      <td>0.0</td>\n",
       "      <td>0.0</td>\n",
       "    </tr>\n",
       "  </tbody>\n",
       "</table>\n",
       "<p>5 rows × 15077 columns</p>\n",
       "</div>"
      ],
      "text/plain": [
       "                            Mrpl15    Lypla1     Tcea1  Atp6v1h  Rb1cc1  \\\n",
       "053l1_AAACCTGAGATGTCGG-1  0.511520  0.000000  0.000000      0.0     0.0   \n",
       "053l1_AAACCTGAGCAACGGT-1  0.484165  0.484165  0.808991      0.0     0.0   \n",
       "053l1_AAACCTGAGTACGACG-1  0.000000  0.000000  0.000000      0.0     0.0   \n",
       "053l1_AAACCTGAGTCGTTTG-1  0.000000  0.000000  0.000000      0.0     0.0   \n",
       "053l1_AAACCTGAGTGAAGAG-1  0.000000  0.000000  0.000000      0.0     0.0   \n",
       "\n",
       "                          4732440D04Rik    Pcmtd1  Gm26901      Rrs1  Adhfe1  \\\n",
       "053l1_AAACCTGAGATGTCGG-1            0.0  0.000000      0.0  0.000000     0.0   \n",
       "053l1_AAACCTGAGCAACGGT-1            0.0  0.000000      0.0  0.484165     0.0   \n",
       "053l1_AAACCTGAGTACGACG-1            0.0  0.693748      0.0  0.000000     0.0   \n",
       "053l1_AAACCTGAGTCGTTTG-1            0.0  0.000000      0.0  0.000000     0.0   \n",
       "053l1_AAACCTGAGTGAAGAG-1            0.0  0.000000      0.0  0.000000     0.0   \n",
       "\n",
       "                          ...  Slc3a1  Cfap53  Pstpip2  Gm17227  Ms4a8a  \\\n",
       "053l1_AAACCTGAGATGTCGG-1  ...     0.0     0.0      0.0      0.0     0.0   \n",
       "053l1_AAACCTGAGCAACGGT-1  ...     0.0     0.0      0.0      0.0     0.0   \n",
       "053l1_AAACCTGAGTACGACG-1  ...     0.0     0.0      0.0      0.0     0.0   \n",
       "053l1_AAACCTGAGTCGTTTG-1  ...     0.0     0.0      0.0      0.0     0.0   \n",
       "053l1_AAACCTGAGTGAAGAG-1  ...     0.0     0.0      0.0      0.0     0.0   \n",
       "\n",
       "                          9130016M20Rik  Htr7  Col17a1  Awat2  Amot  \n",
       "053l1_AAACCTGAGATGTCGG-1            0.0   0.0      0.0    0.0   0.0  \n",
       "053l1_AAACCTGAGCAACGGT-1            0.0   0.0      0.0    0.0   0.0  \n",
       "053l1_AAACCTGAGTACGACG-1            0.0   0.0      0.0    0.0   0.0  \n",
       "053l1_AAACCTGAGTCGTTTG-1            0.0   0.0      0.0    0.0   0.0  \n",
       "053l1_AAACCTGAGTGAAGAG-1            0.0   0.0      0.0    0.0   0.0  \n",
       "\n",
       "[5 rows x 15077 columns]"
      ]
     },
     "execution_count": 4,
     "metadata": {},
     "output_type": "execute_result"
    }
   ],
   "source": [
    "normdf.head()"
   ]
  },
  {
   "cell_type": "code",
   "execution_count": 5,
   "id": "afcab10a-ae04-4649-91ba-e2cbf5034147",
   "metadata": {
    "execution": {
     "iopub.execute_input": "2023-01-27T06:40:55.012570Z",
     "iopub.status.busy": "2023-01-27T06:40:55.012202Z",
     "iopub.status.idle": "2023-01-27T06:40:55.018535Z",
     "shell.execute_reply": "2023-01-27T06:40:55.017879Z",
     "shell.execute_reply.started": "2023-01-27T06:40:55.012540Z"
    },
    "tags": []
   },
   "outputs": [
    {
     "data": {
      "text/plain": [
       "053l1_AAACCTGAGATGTCGG-1    terminal exhausted\n",
       "053l1_AAACCTGAGCAACGGT-1              effector\n",
       "053l1_AAACCTGAGTACGACG-1              effector\n",
       "053l1_AAACCTGAGTCGTTTG-1    terminal exhausted\n",
       "053l1_AAACCTGAGTGAAGAG-1              effector\n",
       "                                   ...        \n",
       "053l4_TTTGTCATCAGGTTCA-1                 other\n",
       "053l4_TTTGTCATCAGTGTTG-1               cycling\n",
       "053l4_TTTGTCATCCTCGCAT-1               cycling\n",
       "053l4_TTTGTCATCTTCAACT-1               cycling\n",
       "053l4_TTTGTCATCTTTCCTC-1               cycling\n",
       "Name: state, Length: 28697, dtype: category\n",
       "Categories (5, object): ['cycling', 'effector', 'other', 'progenitor', 'terminal exhausted']"
      ]
     },
     "execution_count": 5,
     "metadata": {},
     "output_type": "execute_result"
    }
   ],
   "source": [
    "adata.obs['state'] #labels"
   ]
  },
  {
   "cell_type": "markdown",
   "id": "9d804471-d8ff-4884-86a2-8ade871cdf95",
   "metadata": {},
   "source": [
    "## Filter out low variance genes (see EDA)\n",
    "- Todo: save variance filtered set as another piece of adata"
   ]
  },
  {
   "cell_type": "code",
   "execution_count": 13,
   "id": "469995e6-76ae-4a29-a639-456c435e4db0",
   "metadata": {
    "execution": {
     "iopub.execute_input": "2023-01-27T06:42:46.846450Z",
     "iopub.status.busy": "2023-01-27T06:42:46.846082Z",
     "iopub.status.idle": "2023-01-27T06:42:59.076330Z",
     "shell.execute_reply": "2023-01-27T06:42:59.075681Z",
     "shell.execute_reply.started": "2023-01-27T06:42:46.846428Z"
    },
    "tags": []
   },
   "outputs": [],
   "source": [
    "var_per_gene = normdf.var(axis = 0)"
   ]
  },
  {
   "cell_type": "code",
   "execution_count": 14,
   "id": "3acbc110-6539-42e0-9206-75ce6a3efb64",
   "metadata": {
    "execution": {
     "iopub.execute_input": "2023-01-27T06:42:59.077766Z",
     "iopub.status.busy": "2023-01-27T06:42:59.077483Z",
     "iopub.status.idle": "2023-01-27T06:42:59.083640Z",
     "shell.execute_reply": "2023-01-27T06:42:59.083147Z",
     "shell.execute_reply.started": "2023-01-27T06:42:59.077746Z"
    },
    "tags": []
   },
   "outputs": [],
   "source": [
    "filt = var_per_gene[var_per_gene >= ((var_per_gene.sort_values()[-1:][0])/100)]"
   ]
  },
  {
   "cell_type": "code",
   "execution_count": 15,
   "id": "ee1f236d-edc6-467a-bbe9-e60edc12eef6",
   "metadata": {
    "execution": {
     "iopub.execute_input": "2023-01-27T06:42:59.084889Z",
     "iopub.status.busy": "2023-01-27T06:42:59.084427Z",
     "iopub.status.idle": "2023-01-27T06:42:59.494887Z",
     "shell.execute_reply": "2023-01-27T06:42:59.494281Z",
     "shell.execute_reply.started": "2023-01-27T06:42:59.084869Z"
    },
    "tags": []
   },
   "outputs": [],
   "source": [
    "X = normdf.filter(filt.index.values, axis = 1)"
   ]
  },
  {
   "cell_type": "code",
   "execution_count": 16,
   "id": "dca7c911-77eb-480e-bd77-93eae32d75b8",
   "metadata": {
    "execution": {
     "iopub.execute_input": "2023-01-27T06:42:59.496369Z",
     "iopub.status.busy": "2023-01-27T06:42:59.496055Z",
     "iopub.status.idle": "2023-01-27T06:42:59.499749Z",
     "shell.execute_reply": "2023-01-27T06:42:59.499264Z",
     "shell.execute_reply.started": "2023-01-27T06:42:59.496347Z"
    },
    "tags": []
   },
   "outputs": [],
   "source": [
    "def filter(normdf):\n",
    "    var_per_gene = normdf.var(axis = 0)\n",
    "    filt = var_per_gene[var_per_gene >= ((var_per_gene.sort_values()[-1:][0])/100)]\n",
    "    X = normdf.filter(filt.index.values, axis = 1)\n",
    "    return X"
   ]
  },
  {
   "cell_type": "markdown",
   "id": "3682ce0e-695a-421c-8c3c-31463b8a3e06",
   "metadata": {},
   "source": [
    "## Separate samples by perturbation class"
   ]
  },
  {
   "cell_type": "code",
   "execution_count": 18,
   "id": "02f63e93-54b5-45bc-af7b-3c6b59248cb7",
   "metadata": {
    "execution": {
     "iopub.execute_input": "2023-01-27T06:43:08.646357Z",
     "iopub.status.busy": "2023-01-27T06:43:08.645987Z",
     "iopub.status.idle": "2023-01-27T06:43:08.651115Z",
     "shell.execute_reply": "2023-01-27T06:43:08.650585Z",
     "shell.execute_reply.started": "2023-01-27T06:43:08.646334Z"
    },
    "tags": []
   },
   "outputs": [],
   "source": [
    "df_cond = pd.DataFrame(adata.obs['condition'])\n",
    "unpert_sample_in = df_cond[df_cond['condition'] == 'Unperturbed'].index"
   ]
  },
  {
   "cell_type": "code",
   "execution_count": 19,
   "id": "e236608d-d0d5-4604-8b57-340be53bbeb8",
   "metadata": {
    "execution": {
     "iopub.execute_input": "2023-01-27T06:43:08.824632Z",
     "iopub.status.busy": "2023-01-27T06:43:08.824353Z",
     "iopub.status.idle": "2023-01-27T06:43:08.935696Z",
     "shell.execute_reply": "2023-01-27T06:43:08.935121Z",
     "shell.execute_reply.started": "2023-01-27T06:43:08.824611Z"
    },
    "tags": []
   },
   "outputs": [
    {
     "data": {
      "text/html": [
       "<div>\n",
       "<style scoped>\n",
       "    .dataframe tbody tr th:only-of-type {\n",
       "        vertical-align: middle;\n",
       "    }\n",
       "\n",
       "    .dataframe tbody tr th {\n",
       "        vertical-align: top;\n",
       "    }\n",
       "\n",
       "    .dataframe thead th {\n",
       "        text-align: right;\n",
       "    }\n",
       "</style>\n",
       "<table border=\"1\" class=\"dataframe\">\n",
       "  <thead>\n",
       "    <tr style=\"text-align: right;\">\n",
       "      <th></th>\n",
       "      <th>Mrpl15</th>\n",
       "      <th>Lypla1</th>\n",
       "      <th>Tcea1</th>\n",
       "      <th>Atp6v1h</th>\n",
       "      <th>Rb1cc1</th>\n",
       "      <th>4732440D04Rik</th>\n",
       "      <th>Pcmtd1</th>\n",
       "      <th>Gm26901</th>\n",
       "      <th>Rrs1</th>\n",
       "      <th>Adhfe1</th>\n",
       "      <th>...</th>\n",
       "      <th>Slc3a1</th>\n",
       "      <th>Cfap53</th>\n",
       "      <th>Pstpip2</th>\n",
       "      <th>Gm17227</th>\n",
       "      <th>Ms4a8a</th>\n",
       "      <th>9130016M20Rik</th>\n",
       "      <th>Htr7</th>\n",
       "      <th>Col17a1</th>\n",
       "      <th>Awat2</th>\n",
       "      <th>Amot</th>\n",
       "    </tr>\n",
       "  </thead>\n",
       "  <tbody>\n",
       "    <tr>\n",
       "      <th>053l1_AAACCTGAGATGTCGG-1</th>\n",
       "      <td>0.511520</td>\n",
       "      <td>0.000000</td>\n",
       "      <td>0.000000</td>\n",
       "      <td>0.000000</td>\n",
       "      <td>0.000000</td>\n",
       "      <td>0.0</td>\n",
       "      <td>0.0</td>\n",
       "      <td>0.0</td>\n",
       "      <td>0.000000</td>\n",
       "      <td>0.0</td>\n",
       "      <td>...</td>\n",
       "      <td>0.0</td>\n",
       "      <td>0.0</td>\n",
       "      <td>0.0</td>\n",
       "      <td>0.0</td>\n",
       "      <td>0.0</td>\n",
       "      <td>0.0</td>\n",
       "      <td>0.0</td>\n",
       "      <td>0.0</td>\n",
       "      <td>0.0</td>\n",
       "      <td>0.0</td>\n",
       "    </tr>\n",
       "    <tr>\n",
       "      <th>053l1_AAACCTGAGTGTTAGA-1</th>\n",
       "      <td>0.000000</td>\n",
       "      <td>1.089103</td>\n",
       "      <td>0.686024</td>\n",
       "      <td>0.686024</td>\n",
       "      <td>0.000000</td>\n",
       "      <td>0.0</td>\n",
       "      <td>0.0</td>\n",
       "      <td>0.0</td>\n",
       "      <td>0.000000</td>\n",
       "      <td>0.0</td>\n",
       "      <td>...</td>\n",
       "      <td>0.0</td>\n",
       "      <td>0.0</td>\n",
       "      <td>0.0</td>\n",
       "      <td>0.0</td>\n",
       "      <td>0.0</td>\n",
       "      <td>0.0</td>\n",
       "      <td>0.0</td>\n",
       "      <td>0.0</td>\n",
       "      <td>0.0</td>\n",
       "      <td>0.0</td>\n",
       "    </tr>\n",
       "    <tr>\n",
       "      <th>053l1_AAACCTGCATAGACTC-1</th>\n",
       "      <td>0.292065</td>\n",
       "      <td>0.292065</td>\n",
       "      <td>0.292065</td>\n",
       "      <td>0.292065</td>\n",
       "      <td>0.292065</td>\n",
       "      <td>0.0</td>\n",
       "      <td>0.0</td>\n",
       "      <td>0.0</td>\n",
       "      <td>0.292065</td>\n",
       "      <td>0.0</td>\n",
       "      <td>...</td>\n",
       "      <td>0.0</td>\n",
       "      <td>0.0</td>\n",
       "      <td>0.0</td>\n",
       "      <td>0.0</td>\n",
       "      <td>0.0</td>\n",
       "      <td>0.0</td>\n",
       "      <td>0.0</td>\n",
       "      <td>0.0</td>\n",
       "      <td>0.0</td>\n",
       "      <td>0.0</td>\n",
       "    </tr>\n",
       "    <tr>\n",
       "      <th>053l1_AAACGGGAGTGGAGAA-1</th>\n",
       "      <td>1.020401</td>\n",
       "      <td>1.020401</td>\n",
       "      <td>0.000000</td>\n",
       "      <td>0.000000</td>\n",
       "      <td>0.000000</td>\n",
       "      <td>0.0</td>\n",
       "      <td>0.0</td>\n",
       "      <td>0.0</td>\n",
       "      <td>0.000000</td>\n",
       "      <td>0.0</td>\n",
       "      <td>...</td>\n",
       "      <td>0.0</td>\n",
       "      <td>0.0</td>\n",
       "      <td>0.0</td>\n",
       "      <td>0.0</td>\n",
       "      <td>0.0</td>\n",
       "      <td>0.0</td>\n",
       "      <td>0.0</td>\n",
       "      <td>0.0</td>\n",
       "      <td>0.0</td>\n",
       "      <td>0.0</td>\n",
       "    </tr>\n",
       "    <tr>\n",
       "      <th>053l1_AAACGGGCAATCGAAA-1</th>\n",
       "      <td>0.000000</td>\n",
       "      <td>0.000000</td>\n",
       "      <td>0.000000</td>\n",
       "      <td>0.000000</td>\n",
       "      <td>0.000000</td>\n",
       "      <td>0.0</td>\n",
       "      <td>0.0</td>\n",
       "      <td>0.0</td>\n",
       "      <td>0.000000</td>\n",
       "      <td>0.0</td>\n",
       "      <td>...</td>\n",
       "      <td>0.0</td>\n",
       "      <td>0.0</td>\n",
       "      <td>0.0</td>\n",
       "      <td>0.0</td>\n",
       "      <td>0.0</td>\n",
       "      <td>0.0</td>\n",
       "      <td>0.0</td>\n",
       "      <td>0.0</td>\n",
       "      <td>0.0</td>\n",
       "      <td>0.0</td>\n",
       "    </tr>\n",
       "  </tbody>\n",
       "</table>\n",
       "<p>5 rows × 15077 columns</p>\n",
       "</div>"
      ],
      "text/plain": [
       "                            Mrpl15    Lypla1     Tcea1   Atp6v1h    Rb1cc1  \\\n",
       "053l1_AAACCTGAGATGTCGG-1  0.511520  0.000000  0.000000  0.000000  0.000000   \n",
       "053l1_AAACCTGAGTGTTAGA-1  0.000000  1.089103  0.686024  0.686024  0.000000   \n",
       "053l1_AAACCTGCATAGACTC-1  0.292065  0.292065  0.292065  0.292065  0.292065   \n",
       "053l1_AAACGGGAGTGGAGAA-1  1.020401  1.020401  0.000000  0.000000  0.000000   \n",
       "053l1_AAACGGGCAATCGAAA-1  0.000000  0.000000  0.000000  0.000000  0.000000   \n",
       "\n",
       "                          4732440D04Rik  Pcmtd1  Gm26901      Rrs1  Adhfe1  \\\n",
       "053l1_AAACCTGAGATGTCGG-1            0.0     0.0      0.0  0.000000     0.0   \n",
       "053l1_AAACCTGAGTGTTAGA-1            0.0     0.0      0.0  0.000000     0.0   \n",
       "053l1_AAACCTGCATAGACTC-1            0.0     0.0      0.0  0.292065     0.0   \n",
       "053l1_AAACGGGAGTGGAGAA-1            0.0     0.0      0.0  0.000000     0.0   \n",
       "053l1_AAACGGGCAATCGAAA-1            0.0     0.0      0.0  0.000000     0.0   \n",
       "\n",
       "                          ...  Slc3a1  Cfap53  Pstpip2  Gm17227  Ms4a8a  \\\n",
       "053l1_AAACCTGAGATGTCGG-1  ...     0.0     0.0      0.0      0.0     0.0   \n",
       "053l1_AAACCTGAGTGTTAGA-1  ...     0.0     0.0      0.0      0.0     0.0   \n",
       "053l1_AAACCTGCATAGACTC-1  ...     0.0     0.0      0.0      0.0     0.0   \n",
       "053l1_AAACGGGAGTGGAGAA-1  ...     0.0     0.0      0.0      0.0     0.0   \n",
       "053l1_AAACGGGCAATCGAAA-1  ...     0.0     0.0      0.0      0.0     0.0   \n",
       "\n",
       "                          9130016M20Rik  Htr7  Col17a1  Awat2  Amot  \n",
       "053l1_AAACCTGAGATGTCGG-1            0.0   0.0      0.0    0.0   0.0  \n",
       "053l1_AAACCTGAGTGTTAGA-1            0.0   0.0      0.0    0.0   0.0  \n",
       "053l1_AAACCTGCATAGACTC-1            0.0   0.0      0.0    0.0   0.0  \n",
       "053l1_AAACGGGAGTGGAGAA-1            0.0   0.0      0.0    0.0   0.0  \n",
       "053l1_AAACGGGCAATCGAAA-1            0.0   0.0      0.0    0.0   0.0  \n",
       "\n",
       "[5 rows x 15077 columns]"
      ]
     },
     "execution_count": 19,
     "metadata": {},
     "output_type": "execute_result"
    }
   ],
   "source": [
    "df_unpert = normdf.filter(unpert_sample_in, axis = 0)\n",
    "df_unpert.head() "
   ]
  },
  {
   "cell_type": "code",
   "execution_count": 20,
   "id": "0ce7c47d-6e21-4166-b485-cc28e721182f",
   "metadata": {
    "execution": {
     "iopub.execute_input": "2023-01-27T06:43:09.033991Z",
     "iopub.status.busy": "2023-01-27T06:43:09.033705Z",
     "iopub.status.idle": "2023-01-27T06:43:09.042193Z",
     "shell.execute_reply": "2023-01-27T06:43:09.041409Z",
     "shell.execute_reply.started": "2023-01-27T06:43:09.033972Z"
    },
    "tags": []
   },
   "outputs": [],
   "source": [
    "df_unpert_labels = adata.obs['state'].filter(unpert_sample_in, axis = 0)"
   ]
  },
  {
   "cell_type": "code",
   "execution_count": 21,
   "id": "3ab622de-780c-44e6-a364-12a2b5f0b48c",
   "metadata": {
    "execution": {
     "iopub.execute_input": "2023-01-27T06:43:12.166469Z",
     "iopub.status.busy": "2023-01-27T06:43:12.166080Z",
     "iopub.status.idle": "2023-01-27T06:43:13.300216Z",
     "shell.execute_reply": "2023-01-27T06:43:13.299596Z",
     "shell.execute_reply.started": "2023-01-27T06:43:12.166445Z"
    },
    "tags": []
   },
   "outputs": [
    {
     "data": {
      "text/html": [
       "<div>\n",
       "<style scoped>\n",
       "    .dataframe tbody tr th:only-of-type {\n",
       "        vertical-align: middle;\n",
       "    }\n",
       "\n",
       "    .dataframe tbody tr th {\n",
       "        vertical-align: top;\n",
       "    }\n",
       "\n",
       "    .dataframe thead th {\n",
       "        text-align: right;\n",
       "    }\n",
       "</style>\n",
       "<table border=\"1\" class=\"dataframe\">\n",
       "  <thead>\n",
       "    <tr style=\"text-align: right;\">\n",
       "      <th></th>\n",
       "      <th>Mrpl15</th>\n",
       "      <th>Lypla1</th>\n",
       "      <th>Tcea1</th>\n",
       "      <th>Atp6v1h</th>\n",
       "      <th>Rb1cc1</th>\n",
       "      <th>Pcmtd1</th>\n",
       "      <th>Rrs1</th>\n",
       "      <th>Vcpip1</th>\n",
       "      <th>Snhg6</th>\n",
       "      <th>Cops5</th>\n",
       "      <th>...</th>\n",
       "      <th>mt-Nd3</th>\n",
       "      <th>mt-Nd4l</th>\n",
       "      <th>mt-Nd4</th>\n",
       "      <th>mt-Nd5</th>\n",
       "      <th>mt-Nd6</th>\n",
       "      <th>mt-Cytb</th>\n",
       "      <th>CAAA01118383.1</th>\n",
       "      <th>Vamp7</th>\n",
       "      <th>CAAA01147332.1</th>\n",
       "      <th>AC149090.1</th>\n",
       "    </tr>\n",
       "  </thead>\n",
       "  <tbody>\n",
       "    <tr>\n",
       "      <th>053l1_AAACCTGAGATGTCGG-1</th>\n",
       "      <td>0.511520</td>\n",
       "      <td>0.000000</td>\n",
       "      <td>0.000000</td>\n",
       "      <td>0.000000</td>\n",
       "      <td>0.000000</td>\n",
       "      <td>0.0</td>\n",
       "      <td>0.000000</td>\n",
       "      <td>0.0</td>\n",
       "      <td>0.0</td>\n",
       "      <td>0.000000</td>\n",
       "      <td>...</td>\n",
       "      <td>0.000000</td>\n",
       "      <td>1.610826</td>\n",
       "      <td>1.099769</td>\n",
       "      <td>0.000000</td>\n",
       "      <td>0.000000</td>\n",
       "      <td>1.736030</td>\n",
       "      <td>0.000000</td>\n",
       "      <td>0.0</td>\n",
       "      <td>0.000000</td>\n",
       "      <td>0.0</td>\n",
       "    </tr>\n",
       "    <tr>\n",
       "      <th>053l1_AAACCTGAGTGTTAGA-1</th>\n",
       "      <td>0.000000</td>\n",
       "      <td>1.089103</td>\n",
       "      <td>0.686024</td>\n",
       "      <td>0.686024</td>\n",
       "      <td>0.000000</td>\n",
       "      <td>0.0</td>\n",
       "      <td>0.000000</td>\n",
       "      <td>0.0</td>\n",
       "      <td>0.0</td>\n",
       "      <td>0.000000</td>\n",
       "      <td>...</td>\n",
       "      <td>0.686024</td>\n",
       "      <td>1.375591</td>\n",
       "      <td>0.686024</td>\n",
       "      <td>0.000000</td>\n",
       "      <td>0.686024</td>\n",
       "      <td>1.779859</td>\n",
       "      <td>0.686024</td>\n",
       "      <td>0.0</td>\n",
       "      <td>0.000000</td>\n",
       "      <td>0.0</td>\n",
       "    </tr>\n",
       "    <tr>\n",
       "      <th>053l1_AAACCTGCATAGACTC-1</th>\n",
       "      <td>0.292065</td>\n",
       "      <td>0.292065</td>\n",
       "      <td>0.292065</td>\n",
       "      <td>0.292065</td>\n",
       "      <td>0.292065</td>\n",
       "      <td>0.0</td>\n",
       "      <td>0.292065</td>\n",
       "      <td>0.0</td>\n",
       "      <td>0.0</td>\n",
       "      <td>0.517829</td>\n",
       "      <td>...</td>\n",
       "      <td>0.517829</td>\n",
       "      <td>2.135607</td>\n",
       "      <td>1.216197</td>\n",
       "      <td>1.479762</td>\n",
       "      <td>0.000000</td>\n",
       "      <td>2.284313</td>\n",
       "      <td>0.292065</td>\n",
       "      <td>0.0</td>\n",
       "      <td>0.292065</td>\n",
       "      <td>0.0</td>\n",
       "    </tr>\n",
       "    <tr>\n",
       "      <th>053l1_AAACGGGAGTGGAGAA-1</th>\n",
       "      <td>1.020401</td>\n",
       "      <td>1.020401</td>\n",
       "      <td>0.000000</td>\n",
       "      <td>0.000000</td>\n",
       "      <td>0.000000</td>\n",
       "      <td>0.0</td>\n",
       "      <td>0.000000</td>\n",
       "      <td>0.0</td>\n",
       "      <td>0.0</td>\n",
       "      <td>0.000000</td>\n",
       "      <td>...</td>\n",
       "      <td>0.000000</td>\n",
       "      <td>0.000000</td>\n",
       "      <td>1.020401</td>\n",
       "      <td>0.000000</td>\n",
       "      <td>0.000000</td>\n",
       "      <td>1.844182</td>\n",
       "      <td>0.000000</td>\n",
       "      <td>0.0</td>\n",
       "      <td>1.020401</td>\n",
       "      <td>0.0</td>\n",
       "    </tr>\n",
       "    <tr>\n",
       "      <th>053l1_AAACGGGCAATCGAAA-1</th>\n",
       "      <td>0.000000</td>\n",
       "      <td>0.000000</td>\n",
       "      <td>0.000000</td>\n",
       "      <td>0.000000</td>\n",
       "      <td>0.000000</td>\n",
       "      <td>0.0</td>\n",
       "      <td>0.000000</td>\n",
       "      <td>0.0</td>\n",
       "      <td>0.0</td>\n",
       "      <td>0.000000</td>\n",
       "      <td>...</td>\n",
       "      <td>1.836899</td>\n",
       "      <td>2.187799</td>\n",
       "      <td>2.187799</td>\n",
       "      <td>0.000000</td>\n",
       "      <td>0.000000</td>\n",
       "      <td>2.187799</td>\n",
       "      <td>0.000000</td>\n",
       "      <td>0.0</td>\n",
       "      <td>0.000000</td>\n",
       "      <td>0.0</td>\n",
       "    </tr>\n",
       "  </tbody>\n",
       "</table>\n",
       "<p>5 rows × 7466 columns</p>\n",
       "</div>"
      ],
      "text/plain": [
       "                            Mrpl15    Lypla1     Tcea1   Atp6v1h    Rb1cc1  \\\n",
       "053l1_AAACCTGAGATGTCGG-1  0.511520  0.000000  0.000000  0.000000  0.000000   \n",
       "053l1_AAACCTGAGTGTTAGA-1  0.000000  1.089103  0.686024  0.686024  0.000000   \n",
       "053l1_AAACCTGCATAGACTC-1  0.292065  0.292065  0.292065  0.292065  0.292065   \n",
       "053l1_AAACGGGAGTGGAGAA-1  1.020401  1.020401  0.000000  0.000000  0.000000   \n",
       "053l1_AAACGGGCAATCGAAA-1  0.000000  0.000000  0.000000  0.000000  0.000000   \n",
       "\n",
       "                          Pcmtd1      Rrs1  Vcpip1  Snhg6     Cops5  ...  \\\n",
       "053l1_AAACCTGAGATGTCGG-1     0.0  0.000000     0.0    0.0  0.000000  ...   \n",
       "053l1_AAACCTGAGTGTTAGA-1     0.0  0.000000     0.0    0.0  0.000000  ...   \n",
       "053l1_AAACCTGCATAGACTC-1     0.0  0.292065     0.0    0.0  0.517829  ...   \n",
       "053l1_AAACGGGAGTGGAGAA-1     0.0  0.000000     0.0    0.0  0.000000  ...   \n",
       "053l1_AAACGGGCAATCGAAA-1     0.0  0.000000     0.0    0.0  0.000000  ...   \n",
       "\n",
       "                            mt-Nd3   mt-Nd4l    mt-Nd4    mt-Nd5    mt-Nd6  \\\n",
       "053l1_AAACCTGAGATGTCGG-1  0.000000  1.610826  1.099769  0.000000  0.000000   \n",
       "053l1_AAACCTGAGTGTTAGA-1  0.686024  1.375591  0.686024  0.000000  0.686024   \n",
       "053l1_AAACCTGCATAGACTC-1  0.517829  2.135607  1.216197  1.479762  0.000000   \n",
       "053l1_AAACGGGAGTGGAGAA-1  0.000000  0.000000  1.020401  0.000000  0.000000   \n",
       "053l1_AAACGGGCAATCGAAA-1  1.836899  2.187799  2.187799  0.000000  0.000000   \n",
       "\n",
       "                           mt-Cytb  CAAA01118383.1  Vamp7  CAAA01147332.1  \\\n",
       "053l1_AAACCTGAGATGTCGG-1  1.736030        0.000000    0.0        0.000000   \n",
       "053l1_AAACCTGAGTGTTAGA-1  1.779859        0.686024    0.0        0.000000   \n",
       "053l1_AAACCTGCATAGACTC-1  2.284313        0.292065    0.0        0.292065   \n",
       "053l1_AAACGGGAGTGGAGAA-1  1.844182        0.000000    0.0        1.020401   \n",
       "053l1_AAACGGGCAATCGAAA-1  2.187799        0.000000    0.0        0.000000   \n",
       "\n",
       "                          AC149090.1  \n",
       "053l1_AAACCTGAGATGTCGG-1         0.0  \n",
       "053l1_AAACCTGAGTGTTAGA-1         0.0  \n",
       "053l1_AAACCTGCATAGACTC-1         0.0  \n",
       "053l1_AAACGGGAGTGGAGAA-1         0.0  \n",
       "053l1_AAACGGGCAATCGAAA-1         0.0  \n",
       "\n",
       "[5 rows x 7466 columns]"
      ]
     },
     "execution_count": 21,
     "metadata": {},
     "output_type": "execute_result"
    }
   ],
   "source": [
    "filter(df_unpert).head()"
   ]
  },
  {
   "cell_type": "markdown",
   "id": "54dafc7b-759d-4d70-ac35-0ddb1d1c089a",
   "metadata": {},
   "source": [
    "## SVM\n",
    "- **unperturbed cells data only**"
   ]
  },
  {
   "cell_type": "code",
   "execution_count": 14,
   "id": "1d08c93f-0e78-470c-885a-8be1043d739a",
   "metadata": {
    "execution": {
     "iopub.execute_input": "2023-01-25T19:02:11.263339Z",
     "iopub.status.busy": "2023-01-25T19:02:11.262954Z",
     "iopub.status.idle": "2023-01-25T19:02:37.760866Z",
     "shell.execute_reply": "2023-01-25T19:02:37.760013Z",
     "shell.execute_reply.started": "2023-01-25T19:02:11.263314Z"
    },
    "tags": []
   },
   "outputs": [
    {
     "data": {
      "text/html": [
       "<style>#sk-container-id-1 {color: black;background-color: white;}#sk-container-id-1 pre{padding: 0;}#sk-container-id-1 div.sk-toggleable {background-color: white;}#sk-container-id-1 label.sk-toggleable__label {cursor: pointer;display: block;width: 100%;margin-bottom: 0;padding: 0.3em;box-sizing: border-box;text-align: center;}#sk-container-id-1 label.sk-toggleable__label-arrow:before {content: \"▸\";float: left;margin-right: 0.25em;color: #696969;}#sk-container-id-1 label.sk-toggleable__label-arrow:hover:before {color: black;}#sk-container-id-1 div.sk-estimator:hover label.sk-toggleable__label-arrow:before {color: black;}#sk-container-id-1 div.sk-toggleable__content {max-height: 0;max-width: 0;overflow: hidden;text-align: left;background-color: #f0f8ff;}#sk-container-id-1 div.sk-toggleable__content pre {margin: 0.2em;color: black;border-radius: 0.25em;background-color: #f0f8ff;}#sk-container-id-1 input.sk-toggleable__control:checked~div.sk-toggleable__content {max-height: 200px;max-width: 100%;overflow: auto;}#sk-container-id-1 input.sk-toggleable__control:checked~label.sk-toggleable__label-arrow:before {content: \"▾\";}#sk-container-id-1 div.sk-estimator input.sk-toggleable__control:checked~label.sk-toggleable__label {background-color: #d4ebff;}#sk-container-id-1 div.sk-label input.sk-toggleable__control:checked~label.sk-toggleable__label {background-color: #d4ebff;}#sk-container-id-1 input.sk-hidden--visually {border: 0;clip: rect(1px 1px 1px 1px);clip: rect(1px, 1px, 1px, 1px);height: 1px;margin: -1px;overflow: hidden;padding: 0;position: absolute;width: 1px;}#sk-container-id-1 div.sk-estimator {font-family: monospace;background-color: #f0f8ff;border: 1px dotted black;border-radius: 0.25em;box-sizing: border-box;margin-bottom: 0.5em;}#sk-container-id-1 div.sk-estimator:hover {background-color: #d4ebff;}#sk-container-id-1 div.sk-parallel-item::after {content: \"\";width: 100%;border-bottom: 1px solid gray;flex-grow: 1;}#sk-container-id-1 div.sk-label:hover label.sk-toggleable__label {background-color: #d4ebff;}#sk-container-id-1 div.sk-serial::before {content: \"\";position: absolute;border-left: 1px solid gray;box-sizing: border-box;top: 0;bottom: 0;left: 50%;z-index: 0;}#sk-container-id-1 div.sk-serial {display: flex;flex-direction: column;align-items: center;background-color: white;padding-right: 0.2em;padding-left: 0.2em;position: relative;}#sk-container-id-1 div.sk-item {position: relative;z-index: 1;}#sk-container-id-1 div.sk-parallel {display: flex;align-items: stretch;justify-content: center;background-color: white;position: relative;}#sk-container-id-1 div.sk-item::before, #sk-container-id-1 div.sk-parallel-item::before {content: \"\";position: absolute;border-left: 1px solid gray;box-sizing: border-box;top: 0;bottom: 0;left: 50%;z-index: -1;}#sk-container-id-1 div.sk-parallel-item {display: flex;flex-direction: column;z-index: 1;position: relative;background-color: white;}#sk-container-id-1 div.sk-parallel-item:first-child::after {align-self: flex-end;width: 50%;}#sk-container-id-1 div.sk-parallel-item:last-child::after {align-self: flex-start;width: 50%;}#sk-container-id-1 div.sk-parallel-item:only-child::after {width: 0;}#sk-container-id-1 div.sk-dashed-wrapped {border: 1px dashed gray;margin: 0 0.4em 0.5em 0.4em;box-sizing: border-box;padding-bottom: 0.4em;background-color: white;}#sk-container-id-1 div.sk-label label {font-family: monospace;font-weight: bold;display: inline-block;line-height: 1.2em;}#sk-container-id-1 div.sk-label-container {text-align: center;}#sk-container-id-1 div.sk-container {/* jupyter's `normalize.less` sets `[hidden] { display: none; }` but bootstrap.min.css set `[hidden] { display: none !important; }` so we also need the `!important` here to be able to override the default hidden behavior on the sphinx rendered scikit-learn.org. See: https://github.com/scikit-learn/scikit-learn/issues/21755 */display: inline-block !important;position: relative;}#sk-container-id-1 div.sk-text-repr-fallback {display: none;}</style><div id=\"sk-container-id-1\" class=\"sk-top-container\"><div class=\"sk-text-repr-fallback\"><pre>SVC(C=100, gamma=0.001)</pre><b>In a Jupyter environment, please rerun this cell to show the HTML representation or trust the notebook. <br />On GitHub, the HTML representation is unable to render, please try loading this page with nbviewer.org.</b></div><div class=\"sk-container\" hidden><div class=\"sk-item\"><div class=\"sk-estimator sk-toggleable\"><input class=\"sk-toggleable__control sk-hidden--visually\" id=\"sk-estimator-id-1\" type=\"checkbox\" checked><label for=\"sk-estimator-id-1\" class=\"sk-toggleable__label sk-toggleable__label-arrow\">SVC</label><div class=\"sk-toggleable__content\"><pre>SVC(C=100, gamma=0.001)</pre></div></div></div></div></div>"
      ],
      "text/plain": [
       "SVC(C=100, gamma=0.001)"
      ]
     },
     "execution_count": 14,
     "metadata": {},
     "output_type": "execute_result"
    }
   ],
   "source": [
    "X_train, X_test, y_train, y_test = train_test_split(filter(df_unpert), df_unpert_labels, test_size=.2, random_state=88)\n",
    "svc = SVC(gamma = 1e-3, C = 100) #auto = 1/n_features, scale = 1/(n_features * variance(X)), used these values based on gridsearch\n",
    "svc.fit(X_train, y_train)\n"
   ]
  },
  {
   "cell_type": "code",
   "execution_count": 15,
   "id": "45bcecb4-bbee-4280-bb7b-a5bad77f516d",
   "metadata": {
    "execution": {
     "iopub.execute_input": "2023-01-25T19:02:37.762996Z",
     "iopub.status.busy": "2023-01-25T19:02:37.762662Z",
     "iopub.status.idle": "2023-01-25T19:03:05.383382Z",
     "shell.execute_reply": "2023-01-25T19:03:05.382680Z",
     "shell.execute_reply.started": "2023-01-25T19:02:37.762963Z"
    },
    "tags": []
   },
   "outputs": [],
   "source": [
    "preds = svc.predict(X_test)\n",
    "cm = confusion_matrix(y_test, preds)"
   ]
  },
  {
   "cell_type": "code",
   "execution_count": 17,
   "id": "0a9d16e6-aadb-481e-8d6c-7a1e03331c89",
   "metadata": {
    "execution": {
     "iopub.execute_input": "2023-01-25T19:03:40.196968Z",
     "iopub.status.busy": "2023-01-25T19:03:40.196582Z",
     "iopub.status.idle": "2023-01-25T19:03:40.397295Z",
     "shell.execute_reply": "2023-01-25T19:03:40.396675Z",
     "shell.execute_reply.started": "2023-01-25T19:03:40.196944Z"
    }
   },
   "outputs": [],
   "source": [
    "filename = 'svc_model_unperturbed.sav'\n",
    "pickle.dump(svc, open(filename, 'wb'))"
   ]
  },
  {
   "cell_type": "code",
   "execution_count": 84,
   "id": "dcea88c5-5fa1-43ad-903a-6f1943cf204a",
   "metadata": {
    "execution": {
     "iopub.execute_input": "2023-01-21T02:42:06.231947Z",
     "iopub.status.busy": "2023-01-21T02:42:06.231647Z",
     "iopub.status.idle": "2023-01-21T02:42:06.427138Z",
     "shell.execute_reply": "2023-01-21T02:42:06.426583Z",
     "shell.execute_reply.started": "2023-01-21T02:42:06.231925Z"
    },
    "tags": []
   },
   "outputs": [
    {
     "data": {
      "image/png": "[encoded data removed]",
      "text/plain": [
       "<Figure size 640x480 with 2 Axes>"
      ]
     },
     "metadata": {},
     "output_type": "display_data"
    }
   ],
   "source": [
    "ConfusionMatrixDisplay(confusion_matrix=cm, display_labels= svc.classes_).plot()\n",
    "\n",
    "#plt.savefig('../graphs/cm_plot_svm.png')\n",
    "plt.show()"
   ]
  },
  {
   "cell_type": "code",
   "execution_count": 16,
   "id": "49cedf69-1d37-4c8b-97e2-ef5ae83ed7d2",
   "metadata": {
    "execution": {
     "iopub.execute_input": "2023-01-25T19:03:34.478849Z",
     "iopub.status.busy": "2023-01-25T19:03:34.478454Z",
     "iopub.status.idle": "2023-01-25T19:03:34.489071Z",
     "shell.execute_reply": "2023-01-25T19:03:34.488559Z",
     "shell.execute_reply.started": "2023-01-25T19:03:34.478823Z"
    },
    "tags": []
   },
   "outputs": [
    {
     "name": "stdout",
     "output_type": "stream",
     "text": [
      "['cycling' 'effector' 'other' 'progenitor' 'terminal exhausted']\n"
     ]
    },
    {
     "data": {
      "text/plain": [
       "array([0.9821883 , 0.9223301 , 0.72727273, 0.94520548, 0.94249201])"
      ]
     },
     "execution_count": 16,
     "metadata": {},
     "output_type": "execute_result"
    }
   ],
   "source": [
    "print(svc.classes_)\n",
    "f1_score(y_test, preds, average=None)\n"
   ]
  },
  {
   "cell_type": "markdown",
   "id": "850c9f88-2fba-4c04-9d8a-861349724ccc",
   "metadata": {},
   "source": [
    "**Are these the best hyperparameters? Check a wide range via GridSearch**"
   ]
  },
  {
   "cell_type": "code",
   "execution_count": 24,
   "id": "f8f82554-cee9-494a-a7f6-2504dd4e641e",
   "metadata": {
    "execution": {
     "iopub.execute_input": "2023-01-21T00:11:01.433849Z",
     "iopub.status.busy": "2023-01-21T00:11:01.433446Z",
     "iopub.status.idle": "2023-01-21T00:54:15.698208Z",
     "shell.execute_reply": "2023-01-21T00:54:15.697428Z",
     "shell.execute_reply.started": "2023-01-21T00:11:01.433821Z"
    },
    "tags": []
   },
   "outputs": [
    {
     "name": "stdout",
     "output_type": "stream",
     "text": [
      "Fitting 5 folds for each of 24 candidates, totalling 120 fits\n"
     ]
    },
    {
     "data": {
      "text/html": [
       "<style>#sk-container-id-2 {color: black;background-color: white;}#sk-container-id-2 pre{padding: 0;}#sk-container-id-2 div.sk-toggleable {background-color: white;}#sk-container-id-2 label.sk-toggleable__label {cursor: pointer;display: block;width: 100%;margin-bottom: 0;padding: 0.3em;box-sizing: border-box;text-align: center;}#sk-container-id-2 label.sk-toggleable__label-arrow:before {content: \"▸\";float: left;margin-right: 0.25em;color: #696969;}#sk-container-id-2 label.sk-toggleable__label-arrow:hover:before {color: black;}#sk-container-id-2 div.sk-estimator:hover label.sk-toggleable__label-arrow:before {color: black;}#sk-container-id-2 div.sk-toggleable__content {max-height: 0;max-width: 0;overflow: hidden;text-align: left;background-color: #f0f8ff;}#sk-container-id-2 div.sk-toggleable__content pre {margin: 0.2em;color: black;border-radius: 0.25em;background-color: #f0f8ff;}#sk-container-id-2 input.sk-toggleable__control:checked~div.sk-toggleable__content {max-height: 200px;max-width: 100%;overflow: auto;}#sk-container-id-2 input.sk-toggleable__control:checked~label.sk-toggleable__label-arrow:before {content: \"▾\";}#sk-container-id-2 div.sk-estimator input.sk-toggleable__control:checked~label.sk-toggleable__label {background-color: #d4ebff;}#sk-container-id-2 div.sk-label input.sk-toggleable__control:checked~label.sk-toggleable__label {background-color: #d4ebff;}#sk-container-id-2 input.sk-hidden--visually {border: 0;clip: rect(1px 1px 1px 1px);clip: rect(1px, 1px, 1px, 1px);height: 1px;margin: -1px;overflow: hidden;padding: 0;position: absolute;width: 1px;}#sk-container-id-2 div.sk-estimator {font-family: monospace;background-color: #f0f8ff;border: 1px dotted black;border-radius: 0.25em;box-sizing: border-box;margin-bottom: 0.5em;}#sk-container-id-2 div.sk-estimator:hover {background-color: #d4ebff;}#sk-container-id-2 div.sk-parallel-item::after {content: \"\";width: 100%;border-bottom: 1px solid gray;flex-grow: 1;}#sk-container-id-2 div.sk-label:hover label.sk-toggleable__label {background-color: #d4ebff;}#sk-container-id-2 div.sk-serial::before {content: \"\";position: absolute;border-left: 1px solid gray;box-sizing: border-box;top: 0;bottom: 0;left: 50%;z-index: 0;}#sk-container-id-2 div.sk-serial {display: flex;flex-direction: column;align-items: center;background-color: white;padding-right: 0.2em;padding-left: 0.2em;position: relative;}#sk-container-id-2 div.sk-item {position: relative;z-index: 1;}#sk-container-id-2 div.sk-parallel {display: flex;align-items: stretch;justify-content: center;background-color: white;position: relative;}#sk-container-id-2 div.sk-item::before, #sk-container-id-2 div.sk-parallel-item::before {content: \"\";position: absolute;border-left: 1px solid gray;box-sizing: border-box;top: 0;bottom: 0;left: 50%;z-index: -1;}#sk-container-id-2 div.sk-parallel-item {display: flex;flex-direction: column;z-index: 1;position: relative;background-color: white;}#sk-container-id-2 div.sk-parallel-item:first-child::after {align-self: flex-end;width: 50%;}#sk-container-id-2 div.sk-parallel-item:last-child::after {align-self: flex-start;width: 50%;}#sk-container-id-2 div.sk-parallel-item:only-child::after {width: 0;}#sk-container-id-2 div.sk-dashed-wrapped {border: 1px dashed gray;margin: 0 0.4em 0.5em 0.4em;box-sizing: border-box;padding-bottom: 0.4em;background-color: white;}#sk-container-id-2 div.sk-label label {font-family: monospace;font-weight: bold;display: inline-block;line-height: 1.2em;}#sk-container-id-2 div.sk-label-container {text-align: center;}#sk-container-id-2 div.sk-container {/* jupyter's `normalize.less` sets `[hidden] { display: none; }` but bootstrap.min.css set `[hidden] { display: none !important; }` so we also need the `!important` here to be able to override the default hidden behavior on the sphinx rendered scikit-learn.org. See: https://github.com/scikit-learn/scikit-learn/issues/21755 */display: inline-block !important;position: relative;}#sk-container-id-2 div.sk-text-repr-fallback {display: none;}</style><div id=\"sk-container-id-2\" class=\"sk-top-container\"><div class=\"sk-text-repr-fallback\"><pre>GridSearchCV(estimator=SVC(), n_jobs=-1,\n",
       "             param_grid={&#x27;C&#x27;: [0.1, 1, 100.0, 1000.0],\n",
       "                         &#x27;gamma&#x27;: [0.0001, 0.001, 0.01, 0.1, 1, 100.0],\n",
       "                         &#x27;kernel&#x27;: [&#x27;rbf&#x27;]},\n",
       "             verbose=3)</pre><b>In a Jupyter environment, please rerun this cell to show the HTML representation or trust the notebook. <br />On GitHub, the HTML representation is unable to render, please try loading this page with nbviewer.org.</b></div><div class=\"sk-container\" hidden><div class=\"sk-item sk-dashed-wrapped\"><div class=\"sk-label-container\"><div class=\"sk-label sk-toggleable\"><input class=\"sk-toggleable__control sk-hidden--visually\" id=\"sk-estimator-id-2\" type=\"checkbox\" ><label for=\"sk-estimator-id-2\" class=\"sk-toggleable__label sk-toggleable__label-arrow\">GridSearchCV</label><div class=\"sk-toggleable__content\"><pre>GridSearchCV(estimator=SVC(), n_jobs=-1,\n",
       "             param_grid={&#x27;C&#x27;: [0.1, 1, 100.0, 1000.0],\n",
       "                         &#x27;gamma&#x27;: [0.0001, 0.001, 0.01, 0.1, 1, 100.0],\n",
       "                         &#x27;kernel&#x27;: [&#x27;rbf&#x27;]},\n",
       "             verbose=3)</pre></div></div></div><div class=\"sk-parallel\"><div class=\"sk-parallel-item\"><div class=\"sk-item\"><div class=\"sk-label-container\"><div class=\"sk-label sk-toggleable\"><input class=\"sk-toggleable__control sk-hidden--visually\" id=\"sk-estimator-id-3\" type=\"checkbox\" ><label for=\"sk-estimator-id-3\" class=\"sk-toggleable__label sk-toggleable__label-arrow\">estimator: SVC</label><div class=\"sk-toggleable__content\"><pre>SVC()</pre></div></div></div><div class=\"sk-serial\"><div class=\"sk-item\"><div class=\"sk-estimator sk-toggleable\"><input class=\"sk-toggleable__control sk-hidden--visually\" id=\"sk-estimator-id-4\" type=\"checkbox\" ><label for=\"sk-estimator-id-4\" class=\"sk-toggleable__label sk-toggleable__label-arrow\">SVC</label><div class=\"sk-toggleable__content\"><pre>SVC()</pre></div></div></div></div></div></div></div></div></div></div>"
      ],
      "text/plain": [
       "GridSearchCV(estimator=SVC(), n_jobs=-1,\n",
       "             param_grid={'C': [0.1, 1, 100.0, 1000.0],\n",
       "                         'gamma': [0.0001, 0.001, 0.01, 0.1, 1, 100.0],\n",
       "                         'kernel': ['rbf']},\n",
       "             verbose=3)"
      ]
     },
     "execution_count": 24,
     "metadata": {},
     "output_type": "execute_result"
    }
   ],
   "source": [
    "#this takes a million years to run\n",
    "X_train, X_test, y_train, y_test = train_test_split(filter(df_unpert), df_unpert_labels, test_size=.2, random_state=88)\n",
    "parameters = {'kernel':['rbf'], 'C':[1e-1, 1, 1e2, 1e3], 'gamma': [1e-4, 1e-3, 1e-2, 1e-1, 1, 1e2]}\n",
    "#parameters = {'kernel':['rbf'], 'C':[1e-1, 1], 'gamma': [1e-3]}\n",
    "svc = SVC()\n",
    "clf = GridSearchCV(estimator = svc, param_grid = parameters, n_jobs=-1, verbose=3)\n",
    "clf.fit(X_train, y_train)\n"
   ]
  },
  {
   "cell_type": "code",
   "execution_count": 41,
   "id": "f0c75e5e-3beb-4d7f-a1e0-1298e872dd47",
   "metadata": {
    "execution": {
     "iopub.execute_input": "2023-01-21T02:03:15.567026Z",
     "iopub.status.busy": "2023-01-21T02:03:15.566627Z",
     "iopub.status.idle": "2023-01-21T02:03:15.571870Z",
     "shell.execute_reply": "2023-01-21T02:03:15.571312Z",
     "shell.execute_reply.started": "2023-01-21T02:03:15.567001Z"
    },
    "tags": []
   },
   "outputs": [
    {
     "data": {
      "text/html": [
       "<style>#sk-container-id-9 {color: black;background-color: white;}#sk-container-id-9 pre{padding: 0;}#sk-container-id-9 div.sk-toggleable {background-color: white;}#sk-container-id-9 label.sk-toggleable__label {cursor: pointer;display: block;width: 100%;margin-bottom: 0;padding: 0.3em;box-sizing: border-box;text-align: center;}#sk-container-id-9 label.sk-toggleable__label-arrow:before {content: \"▸\";float: left;margin-right: 0.25em;color: #696969;}#sk-container-id-9 label.sk-toggleable__label-arrow:hover:before {color: black;}#sk-container-id-9 div.sk-estimator:hover label.sk-toggleable__label-arrow:before {color: black;}#sk-container-id-9 div.sk-toggleable__content {max-height: 0;max-width: 0;overflow: hidden;text-align: left;background-color: #f0f8ff;}#sk-container-id-9 div.sk-toggleable__content pre {margin: 0.2em;color: black;border-radius: 0.25em;background-color: #f0f8ff;}#sk-container-id-9 input.sk-toggleable__control:checked~div.sk-toggleable__content {max-height: 200px;max-width: 100%;overflow: auto;}#sk-container-id-9 input.sk-toggleable__control:checked~label.sk-toggleable__label-arrow:before {content: \"▾\";}#sk-container-id-9 div.sk-estimator input.sk-toggleable__control:checked~label.sk-toggleable__label {background-color: #d4ebff;}#sk-container-id-9 div.sk-label input.sk-toggleable__control:checked~label.sk-toggleable__label {background-color: #d4ebff;}#sk-container-id-9 input.sk-hidden--visually {border: 0;clip: rect(1px 1px 1px 1px);clip: rect(1px, 1px, 1px, 1px);height: 1px;margin: -1px;overflow: hidden;padding: 0;position: absolute;width: 1px;}#sk-container-id-9 div.sk-estimator {font-family: monospace;background-color: #f0f8ff;border: 1px dotted black;border-radius: 0.25em;box-sizing: border-box;margin-bottom: 0.5em;}#sk-container-id-9 div.sk-estimator:hover {background-color: #d4ebff;}#sk-container-id-9 div.sk-parallel-item::after {content: \"\";width: 100%;border-bottom: 1px solid gray;flex-grow: 1;}#sk-container-id-9 div.sk-label:hover label.sk-toggleable__label {background-color: #d4ebff;}#sk-container-id-9 div.sk-serial::before {content: \"\";position: absolute;border-left: 1px solid gray;box-sizing: border-box;top: 0;bottom: 0;left: 50%;z-index: 0;}#sk-container-id-9 div.sk-serial {display: flex;flex-direction: column;align-items: center;background-color: white;padding-right: 0.2em;padding-left: 0.2em;position: relative;}#sk-container-id-9 div.sk-item {position: relative;z-index: 1;}#sk-container-id-9 div.sk-parallel {display: flex;align-items: stretch;justify-content: center;background-color: white;position: relative;}#sk-container-id-9 div.sk-item::before, #sk-container-id-9 div.sk-parallel-item::before {content: \"\";position: absolute;border-left: 1px solid gray;box-sizing: border-box;top: 0;bottom: 0;left: 50%;z-index: -1;}#sk-container-id-9 div.sk-parallel-item {display: flex;flex-direction: column;z-index: 1;position: relative;background-color: white;}#sk-container-id-9 div.sk-parallel-item:first-child::after {align-self: flex-end;width: 50%;}#sk-container-id-9 div.sk-parallel-item:last-child::after {align-self: flex-start;width: 50%;}#sk-container-id-9 div.sk-parallel-item:only-child::after {width: 0;}#sk-container-id-9 div.sk-dashed-wrapped {border: 1px dashed gray;margin: 0 0.4em 0.5em 0.4em;box-sizing: border-box;padding-bottom: 0.4em;background-color: white;}#sk-container-id-9 div.sk-label label {font-family: monospace;font-weight: bold;display: inline-block;line-height: 1.2em;}#sk-container-id-9 div.sk-label-container {text-align: center;}#sk-container-id-9 div.sk-container {/* jupyter's `normalize.less` sets `[hidden] { display: none; }` but bootstrap.min.css set `[hidden] { display: none !important; }` so we also need the `!important` here to be able to override the default hidden behavior on the sphinx rendered scikit-learn.org. See: https://github.com/scikit-learn/scikit-learn/issues/21755 */display: inline-block !important;position: relative;}#sk-container-id-9 div.sk-text-repr-fallback {display: none;}</style><div id=\"sk-container-id-9\" class=\"sk-top-container\"><div class=\"sk-text-repr-fallback\"><pre>SVC(C=100.0, gamma=0.0001)</pre><b>In a Jupyter environment, please rerun this cell to show the HTML representation or trust the notebook. <br />On GitHub, the HTML representation is unable to render, please try loading this page with nbviewer.org.</b></div><div class=\"sk-container\" hidden><div class=\"sk-item\"><div class=\"sk-estimator sk-toggleable\"><input class=\"sk-toggleable__control sk-hidden--visually\" id=\"sk-estimator-id-11\" type=\"checkbox\" checked><label for=\"sk-estimator-id-11\" class=\"sk-toggleable__label sk-toggleable__label-arrow\">SVC</label><div class=\"sk-toggleable__content\"><pre>SVC(C=100.0, gamma=0.0001)</pre></div></div></div></div></div>"
      ],
      "text/plain": [
       "SVC(C=100.0, gamma=0.0001)"
      ]
     },
     "execution_count": 41,
     "metadata": {},
     "output_type": "execute_result"
    }
   ],
   "source": [
    "clf.best_estimator_"
   ]
  },
  {
   "cell_type": "code",
   "execution_count": null,
   "id": "8244ed54-47ad-4cb9-bcb5-70d863b3eede",
   "metadata": {},
   "outputs": [],
   "source": [
    "#cv = pd.DataFrame(clf.cv_results_)\n",
    "#cv.to_csv('svm_gridsearch_results.csv') #saved the results"
   ]
  },
  {
   "cell_type": "markdown",
   "id": "a6f6ead1-e82d-47a0-9af5-b42e7fc6f208",
   "metadata": {},
   "source": [
    "### Does the SVM trained on unperturbed data translate well to the perturbseq data?"
   ]
  },
  {
   "cell_type": "code",
   "execution_count": 23,
   "id": "395e06f2-5637-4b79-9ea5-b83c1cceb601",
   "metadata": {
    "execution": {
     "iopub.execute_input": "2023-01-25T19:48:49.799255Z",
     "iopub.status.busy": "2023-01-25T19:48:49.798886Z",
     "iopub.status.idle": "2023-01-25T19:48:51.313884Z",
     "shell.execute_reply": "2023-01-25T19:48:51.313323Z",
     "shell.execute_reply.started": "2023-01-25T19:48:49.799230Z"
    },
    "tags": []
   },
   "outputs": [
    {
     "data": {
      "text/html": [
       "<div>\n",
       "<style scoped>\n",
       "    .dataframe tbody tr th:only-of-type {\n",
       "        vertical-align: middle;\n",
       "    }\n",
       "\n",
       "    .dataframe tbody tr th {\n",
       "        vertical-align: top;\n",
       "    }\n",
       "\n",
       "    .dataframe thead th {\n",
       "        text-align: right;\n",
       "    }\n",
       "</style>\n",
       "<table border=\"1\" class=\"dataframe\">\n",
       "  <thead>\n",
       "    <tr style=\"text-align: right;\">\n",
       "      <th></th>\n",
       "      <th>Mrpl15</th>\n",
       "      <th>Lypla1</th>\n",
       "      <th>Tcea1</th>\n",
       "      <th>Atp6v1h</th>\n",
       "      <th>Rb1cc1</th>\n",
       "      <th>Pcmtd1</th>\n",
       "      <th>Rrs1</th>\n",
       "      <th>Vcpip1</th>\n",
       "      <th>Snhg6</th>\n",
       "      <th>Cops5</th>\n",
       "      <th>...</th>\n",
       "      <th>mt-Nd3</th>\n",
       "      <th>mt-Nd4l</th>\n",
       "      <th>mt-Nd4</th>\n",
       "      <th>mt-Nd5</th>\n",
       "      <th>mt-Nd6</th>\n",
       "      <th>mt-Cytb</th>\n",
       "      <th>CAAA01118383.1</th>\n",
       "      <th>Vamp7</th>\n",
       "      <th>CAAA01147332.1</th>\n",
       "      <th>AC149090.1</th>\n",
       "    </tr>\n",
       "  </thead>\n",
       "  <tbody>\n",
       "    <tr>\n",
       "      <th>053l1_AAACCTGAGATGTCGG-1</th>\n",
       "      <td>0.511520</td>\n",
       "      <td>0.000000</td>\n",
       "      <td>0.000000</td>\n",
       "      <td>0.0</td>\n",
       "      <td>0.0</td>\n",
       "      <td>0.000000</td>\n",
       "      <td>0.000000</td>\n",
       "      <td>0.000000</td>\n",
       "      <td>0.000000</td>\n",
       "      <td>0.000000</td>\n",
       "      <td>...</td>\n",
       "      <td>0.000000</td>\n",
       "      <td>1.610826</td>\n",
       "      <td>1.099769</td>\n",
       "      <td>0.000000</td>\n",
       "      <td>0.0</td>\n",
       "      <td>1.736030</td>\n",
       "      <td>0.0</td>\n",
       "      <td>0.0</td>\n",
       "      <td>0.000000</td>\n",
       "      <td>0.000000</td>\n",
       "    </tr>\n",
       "    <tr>\n",
       "      <th>053l1_AAACCTGAGCAACGGT-1</th>\n",
       "      <td>0.484165</td>\n",
       "      <td>0.484165</td>\n",
       "      <td>0.808991</td>\n",
       "      <td>0.0</td>\n",
       "      <td>0.0</td>\n",
       "      <td>0.000000</td>\n",
       "      <td>0.484165</td>\n",
       "      <td>0.000000</td>\n",
       "      <td>0.484165</td>\n",
       "      <td>0.808991</td>\n",
       "      <td>...</td>\n",
       "      <td>0.484165</td>\n",
       "      <td>0.808991</td>\n",
       "      <td>1.053775</td>\n",
       "      <td>0.000000</td>\n",
       "      <td>0.0</td>\n",
       "      <td>2.060644</td>\n",
       "      <td>0.0</td>\n",
       "      <td>0.0</td>\n",
       "      <td>1.053775</td>\n",
       "      <td>0.000000</td>\n",
       "    </tr>\n",
       "    <tr>\n",
       "      <th>053l1_AAACCTGAGTACGACG-1</th>\n",
       "      <td>0.000000</td>\n",
       "      <td>0.000000</td>\n",
       "      <td>0.000000</td>\n",
       "      <td>0.0</td>\n",
       "      <td>0.0</td>\n",
       "      <td>0.693748</td>\n",
       "      <td>0.000000</td>\n",
       "      <td>0.000000</td>\n",
       "      <td>0.000000</td>\n",
       "      <td>0.000000</td>\n",
       "      <td>...</td>\n",
       "      <td>0.693748</td>\n",
       "      <td>0.693748</td>\n",
       "      <td>1.099413</td>\n",
       "      <td>0.000000</td>\n",
       "      <td>0.0</td>\n",
       "      <td>1.610399</td>\n",
       "      <td>0.0</td>\n",
       "      <td>0.0</td>\n",
       "      <td>0.000000</td>\n",
       "      <td>1.099413</td>\n",
       "    </tr>\n",
       "    <tr>\n",
       "      <th>053l1_AAACCTGAGTCGTTTG-1</th>\n",
       "      <td>0.000000</td>\n",
       "      <td>0.000000</td>\n",
       "      <td>0.000000</td>\n",
       "      <td>0.0</td>\n",
       "      <td>0.0</td>\n",
       "      <td>0.000000</td>\n",
       "      <td>0.000000</td>\n",
       "      <td>0.000000</td>\n",
       "      <td>0.000000</td>\n",
       "      <td>0.000000</td>\n",
       "      <td>...</td>\n",
       "      <td>0.000000</td>\n",
       "      <td>1.923451</td>\n",
       "      <td>0.000000</td>\n",
       "      <td>1.923451</td>\n",
       "      <td>0.0</td>\n",
       "      <td>1.923451</td>\n",
       "      <td>0.0</td>\n",
       "      <td>0.0</td>\n",
       "      <td>0.000000</td>\n",
       "      <td>0.000000</td>\n",
       "    </tr>\n",
       "    <tr>\n",
       "      <th>053l1_AAACCTGAGTGAAGAG-1</th>\n",
       "      <td>0.000000</td>\n",
       "      <td>0.000000</td>\n",
       "      <td>0.000000</td>\n",
       "      <td>0.0</td>\n",
       "      <td>0.0</td>\n",
       "      <td>0.000000</td>\n",
       "      <td>0.000000</td>\n",
       "      <td>0.617566</td>\n",
       "      <td>0.000000</td>\n",
       "      <td>0.000000</td>\n",
       "      <td>...</td>\n",
       "      <td>0.617566</td>\n",
       "      <td>1.943172</td>\n",
       "      <td>0.000000</td>\n",
       "      <td>1.270666</td>\n",
       "      <td>0.0</td>\n",
       "      <td>2.058635</td>\n",
       "      <td>0.0</td>\n",
       "      <td>0.0</td>\n",
       "      <td>0.617566</td>\n",
       "      <td>0.996512</td>\n",
       "    </tr>\n",
       "  </tbody>\n",
       "</table>\n",
       "<p>5 rows × 7466 columns</p>\n",
       "</div>"
      ],
      "text/plain": [
       "                            Mrpl15    Lypla1     Tcea1  Atp6v1h  Rb1cc1  \\\n",
       "053l1_AAACCTGAGATGTCGG-1  0.511520  0.000000  0.000000      0.0     0.0   \n",
       "053l1_AAACCTGAGCAACGGT-1  0.484165  0.484165  0.808991      0.0     0.0   \n",
       "053l1_AAACCTGAGTACGACG-1  0.000000  0.000000  0.000000      0.0     0.0   \n",
       "053l1_AAACCTGAGTCGTTTG-1  0.000000  0.000000  0.000000      0.0     0.0   \n",
       "053l1_AAACCTGAGTGAAGAG-1  0.000000  0.000000  0.000000      0.0     0.0   \n",
       "\n",
       "                            Pcmtd1      Rrs1    Vcpip1     Snhg6     Cops5  \\\n",
       "053l1_AAACCTGAGATGTCGG-1  0.000000  0.000000  0.000000  0.000000  0.000000   \n",
       "053l1_AAACCTGAGCAACGGT-1  0.000000  0.484165  0.000000  0.484165  0.808991   \n",
       "053l1_AAACCTGAGTACGACG-1  0.693748  0.000000  0.000000  0.000000  0.000000   \n",
       "053l1_AAACCTGAGTCGTTTG-1  0.000000  0.000000  0.000000  0.000000  0.000000   \n",
       "053l1_AAACCTGAGTGAAGAG-1  0.000000  0.000000  0.617566  0.000000  0.000000   \n",
       "\n",
       "                          ...    mt-Nd3   mt-Nd4l    mt-Nd4    mt-Nd5  mt-Nd6  \\\n",
       "053l1_AAACCTGAGATGTCGG-1  ...  0.000000  1.610826  1.099769  0.000000     0.0   \n",
       "053l1_AAACCTGAGCAACGGT-1  ...  0.484165  0.808991  1.053775  0.000000     0.0   \n",
       "053l1_AAACCTGAGTACGACG-1  ...  0.693748  0.693748  1.099413  0.000000     0.0   \n",
       "053l1_AAACCTGAGTCGTTTG-1  ...  0.000000  1.923451  0.000000  1.923451     0.0   \n",
       "053l1_AAACCTGAGTGAAGAG-1  ...  0.617566  1.943172  0.000000  1.270666     0.0   \n",
       "\n",
       "                           mt-Cytb  CAAA01118383.1  Vamp7  CAAA01147332.1  \\\n",
       "053l1_AAACCTGAGATGTCGG-1  1.736030             0.0    0.0        0.000000   \n",
       "053l1_AAACCTGAGCAACGGT-1  2.060644             0.0    0.0        1.053775   \n",
       "053l1_AAACCTGAGTACGACG-1  1.610399             0.0    0.0        0.000000   \n",
       "053l1_AAACCTGAGTCGTTTG-1  1.923451             0.0    0.0        0.000000   \n",
       "053l1_AAACCTGAGTGAAGAG-1  2.058635             0.0    0.0        0.617566   \n",
       "\n",
       "                          AC149090.1  \n",
       "053l1_AAACCTGAGATGTCGG-1    0.000000  \n",
       "053l1_AAACCTGAGCAACGGT-1    0.000000  \n",
       "053l1_AAACCTGAGTACGACG-1    1.099413  \n",
       "053l1_AAACCTGAGTCGTTTG-1    0.000000  \n",
       "053l1_AAACCTGAGTGAAGAG-1    0.996512  \n",
       "\n",
       "[5 rows x 7466 columns]"
      ]
     },
     "execution_count": 23,
     "metadata": {},
     "output_type": "execute_result"
    }
   ],
   "source": [
    "#note that filter(normdf) won't work bc the genes filtered out are based on variance of unperturbed cells. Instead, use a mask to get the same genes\n",
    "normdf[filter(df_unpert).columns].head()"
   ]
  },
  {
   "cell_type": "code",
   "execution_count": 29,
   "id": "21c886cd-d38a-49e5-b873-6e719d104833",
   "metadata": {
    "execution": {
     "iopub.execute_input": "2023-01-25T19:51:13.280984Z",
     "iopub.status.busy": "2023-01-25T19:51:13.280595Z",
     "iopub.status.idle": "2023-01-25T19:56:47.545739Z",
     "shell.execute_reply": "2023-01-25T19:56:47.544929Z",
     "shell.execute_reply.started": "2023-01-25T19:51:13.280959Z"
    },
    "tags": []
   },
   "outputs": [
    {
     "name": "stdout",
     "output_type": "stream",
     "text": [
      "0.9578397212543553 rb\n"
     ]
    },
    {
     "data": {
      "image/png": "[encoded data removed]",
      "text/plain": [
       "<Figure size 640x480 with 2 Axes>"
      ]
     },
     "metadata": {},
     "output_type": "display_data"
    }
   ],
   "source": [
    "#split the full perturb seq dataset into test and train\n",
    "X_train, X_test, y_train, y_test = train_test_split(normdf[filter(df_unpert).columns], adata.obs['state'], test_size=.2, random_state=88)\n",
    "\n",
    "#load the pretrained model\n",
    "loaded_model = pickle.load(open('../saved_models/svc_model_unperturbed.sav', 'rb'))\n",
    "result = loaded_model.score(X_test, y_test)\n",
    "print(result, 'rb')\n",
    "preds = loaded_model.predict(X_test)\n",
    "\n",
    "\n",
    "cm = confusion_matrix(y_test, preds)\n",
    "ConfusionMatrixDisplay(confusion_matrix=cm, display_labels= loaded_model.classes_).plot()\n",
    "\n",
    "plt.show()"
   ]
  },
  {
   "cell_type": "code",
   "execution_count": 30,
   "id": "cb64e034-4ed5-42b6-b6fe-34038e29086d",
   "metadata": {
    "execution": {
     "iopub.execute_input": "2023-01-25T19:56:47.547312Z",
     "iopub.status.busy": "2023-01-25T19:56:47.547010Z",
     "iopub.status.idle": "2023-01-25T19:56:47.581714Z",
     "shell.execute_reply": "2023-01-25T19:56:47.580998Z",
     "shell.execute_reply.started": "2023-01-25T19:56:47.547291Z"
    },
    "tags": []
   },
   "outputs": [
    {
     "name": "stdout",
     "output_type": "stream",
     "text": [
      "['cycling' 'effector' 'other' 'progenitor' 'terminal exhausted']\n"
     ]
    },
    {
     "data": {
      "text/plain": [
       "array([0.98295455, 0.9279661 , 0.68926554, 0.95594714, 0.95278011])"
      ]
     },
     "execution_count": 30,
     "metadata": {},
     "output_type": "execute_result"
    }
   ],
   "source": [
    "print(svc.classes_)\n",
    "f1_score(y_test, preds, average=None)"
   ]
  },
  {
   "cell_type": "markdown",
   "id": "73d9b9bb-e0c1-4183-be44-c003c46a7801",
   "metadata": {},
   "source": [
    "### Compare the distribution between \"fake\" perturbseq data and \"real\" perturbseq data\n",
    "unperturbed cells > normalize > subset to high variance genes used for training > for every gene in real perturbseq data (~70), find subset of zero expression data cells (create \"fake\" perturbseq data) > use SVM trained on all unperturbed data and predict \"fake\" perturbseq data and \"real\" perturb seq data > compare distributions"
   ]
  },
  {
   "cell_type": "code",
   "execution_count": 15,
   "id": "409c2b78-4436-416c-a58f-111a5380356a",
   "metadata": {
    "execution": {
     "iopub.execute_input": "2023-01-26T23:32:45.737118Z",
     "iopub.status.busy": "2023-01-26T23:32:45.736710Z",
     "iopub.status.idle": "2023-01-26T23:32:45.742830Z",
     "shell.execute_reply": "2023-01-26T23:32:45.742263Z",
     "shell.execute_reply.started": "2023-01-26T23:32:45.737092Z"
    },
    "tags": []
   },
   "outputs": [
    {
     "data": {
      "text/plain": [
       "['Tox2', 'Tpt1', 'Tcf7', 'Il12rb1', 'Ikzf3', ..., 'Myb', 'Eef2', 'Batf', 'Tbx21', 'Rps6']\n",
       "Length: 66\n",
       "Categories (67, object): ['Arid4b', 'Arid5b', 'Atf2', 'Batf', ..., 'Unperturbed', 'Yy1', 'Zeb2', 'Zfp292']"
      ]
     },
     "execution_count": 15,
     "metadata": {},
     "output_type": "execute_result"
    }
   ],
   "source": [
    "df_unpert\n",
    "pert = adata.obs.condition.values.unique()[1::]\n",
    "pert"
   ]
  },
  {
   "cell_type": "code",
   "execution_count": 53,
   "id": "401e7fa8-52e8-4002-a0b6-fae814570457",
   "metadata": {
    "execution": {
     "iopub.execute_input": "2023-01-26T18:26:55.919023Z",
     "iopub.status.busy": "2023-01-26T18:26:55.918626Z",
     "iopub.status.idle": "2023-01-26T18:26:55.924520Z",
     "shell.execute_reply": "2023-01-26T18:26:55.923869Z",
     "shell.execute_reply.started": "2023-01-26T18:26:55.918997Z"
    },
    "tags": []
   },
   "outputs": [],
   "source": [
    "def gene_of_interest(df, gene_list):\n",
    "    means = []\n",
    "    columns = []\n",
    "    stds = []\n",
    "    counts = []\n",
    "    mean = df.mean()\n",
    "    std = df.std()\n",
    "    for p in gene_list: \n",
    "        if sum(df.columns.str.contains(p)) > 0 : #only continue if the gene of interest exists\n",
    "            columns.append(p)\n",
    "            means.append(mean[p])\n",
    "            stds.append(std[p])\n",
    "            count = df[[p]][df[p] == 0].count()[0]\n",
    "            counts.append(count)\n",
    "    \n",
    "    df_sum = pd.DataFrame([means,stds,counts], columns = columns, index = ['mean', 'std', 'no_expr_cells']).T\n",
    "    df_sum['no_expr/total_cell'] = df_sum['no_expr_cells']/df_unpert.shape[0]\n",
    "    return df_sum"
   ]
  },
  {
   "cell_type": "code",
   "execution_count": 54,
   "id": "08fd0673-7618-4370-96b4-9a329489ffd0",
   "metadata": {
    "execution": {
     "iopub.execute_input": "2023-01-26T18:26:56.201005Z",
     "iopub.status.busy": "2023-01-26T18:26:56.200648Z",
     "iopub.status.idle": "2023-01-26T18:26:59.396471Z",
     "shell.execute_reply": "2023-01-26T18:26:59.395752Z",
     "shell.execute_reply.started": "2023-01-26T18:26:56.200979Z"
    },
    "tags": []
   },
   "outputs": [],
   "source": [
    "df_sum = gene_of_interest(df_unpert, pert)"
   ]
  },
  {
   "cell_type": "code",
   "execution_count": 55,
   "id": "ca635a4b-4319-4e89-b294-0bc8d1f5ab98",
   "metadata": {
    "execution": {
     "iopub.execute_input": "2023-01-26T18:26:59.398771Z",
     "iopub.status.busy": "2023-01-26T18:26:59.398421Z",
     "iopub.status.idle": "2023-01-26T18:26:59.410355Z",
     "shell.execute_reply": "2023-01-26T18:26:59.409708Z",
     "shell.execute_reply.started": "2023-01-26T18:26:59.398747Z"
    },
    "tags": []
   },
   "outputs": [
    {
     "data": {
      "text/html": [
       "<div>\n",
       "<style scoped>\n",
       "    .dataframe tbody tr th:only-of-type {\n",
       "        vertical-align: middle;\n",
       "    }\n",
       "\n",
       "    .dataframe tbody tr th {\n",
       "        vertical-align: top;\n",
       "    }\n",
       "\n",
       "    .dataframe thead th {\n",
       "        text-align: right;\n",
       "    }\n",
       "</style>\n",
       "<table border=\"1\" class=\"dataframe\">\n",
       "  <thead>\n",
       "    <tr style=\"text-align: right;\">\n",
       "      <th></th>\n",
       "      <th>mean</th>\n",
       "      <th>std</th>\n",
       "      <th>no_expr_cells</th>\n",
       "      <th>no_expr/total_cell</th>\n",
       "    </tr>\n",
       "  </thead>\n",
       "  <tbody>\n",
       "    <tr>\n",
       "      <th>Tox2</th>\n",
       "      <td>0.003892</td>\n",
       "      <td>0.048401</td>\n",
       "      <td>4939.0</td>\n",
       "      <td>0.992166</td>\n",
       "    </tr>\n",
       "    <tr>\n",
       "      <th>Tpt1</th>\n",
       "      <td>3.142531</td>\n",
       "      <td>0.281822</td>\n",
       "      <td>0.0</td>\n",
       "      <td>0.000000</td>\n",
       "    </tr>\n",
       "    <tr>\n",
       "      <th>Tcf7</th>\n",
       "      <td>0.039141</td>\n",
       "      <td>0.196676</td>\n",
       "      <td>4727.0</td>\n",
       "      <td>0.949578</td>\n",
       "    </tr>\n",
       "    <tr>\n",
       "      <th>Il12rb1</th>\n",
       "      <td>0.083390</td>\n",
       "      <td>0.195319</td>\n",
       "      <td>4001.0</td>\n",
       "      <td>0.803736</td>\n",
       "    </tr>\n",
       "    <tr>\n",
       "      <th>Ikzf3</th>\n",
       "      <td>0.328221</td>\n",
       "      <td>0.395213</td>\n",
       "      <td>2394.0</td>\n",
       "      <td>0.480916</td>\n",
       "    </tr>\n",
       "    <tr>\n",
       "      <th>...</th>\n",
       "      <td>...</td>\n",
       "      <td>...</td>\n",
       "      <td>...</td>\n",
       "      <td>...</td>\n",
       "    </tr>\n",
       "    <tr>\n",
       "      <th>Myb</th>\n",
       "      <td>0.099169</td>\n",
       "      <td>0.222156</td>\n",
       "      <td>3893.0</td>\n",
       "      <td>0.782041</td>\n",
       "    </tr>\n",
       "    <tr>\n",
       "      <th>Eef2</th>\n",
       "      <td>2.357720</td>\n",
       "      <td>0.372067</td>\n",
       "      <td>21.0</td>\n",
       "      <td>0.004219</td>\n",
       "    </tr>\n",
       "    <tr>\n",
       "      <th>Batf</th>\n",
       "      <td>0.304883</td>\n",
       "      <td>0.369247</td>\n",
       "      <td>2434.0</td>\n",
       "      <td>0.488951</td>\n",
       "    </tr>\n",
       "    <tr>\n",
       "      <th>Tbx21</th>\n",
       "      <td>0.456430</td>\n",
       "      <td>0.436335</td>\n",
       "      <td>1770.0</td>\n",
       "      <td>0.355564</td>\n",
       "    </tr>\n",
       "    <tr>\n",
       "      <th>Rps6</th>\n",
       "      <td>2.402262</td>\n",
       "      <td>0.370507</td>\n",
       "      <td>21.0</td>\n",
       "      <td>0.004219</td>\n",
       "    </tr>\n",
       "  </tbody>\n",
       "</table>\n",
       "<p>64 rows × 4 columns</p>\n",
       "</div>"
      ],
      "text/plain": [
       "             mean       std  no_expr_cells  no_expr/total_cell\n",
       "Tox2     0.003892  0.048401         4939.0            0.992166\n",
       "Tpt1     3.142531  0.281822            0.0            0.000000\n",
       "Tcf7     0.039141  0.196676         4727.0            0.949578\n",
       "Il12rb1  0.083390  0.195319         4001.0            0.803736\n",
       "Ikzf3    0.328221  0.395213         2394.0            0.480916\n",
       "...           ...       ...            ...                 ...\n",
       "Myb      0.099169  0.222156         3893.0            0.782041\n",
       "Eef2     2.357720  0.372067           21.0            0.004219\n",
       "Batf     0.304883  0.369247         2434.0            0.488951\n",
       "Tbx21    0.456430  0.436335         1770.0            0.355564\n",
       "Rps6     2.402262  0.370507           21.0            0.004219\n",
       "\n",
       "[64 rows x 4 columns]"
      ]
     },
     "execution_count": 55,
     "metadata": {},
     "output_type": "execute_result"
    }
   ],
   "source": [
    "df_sum #note that this is without the low variance genes filtered out"
   ]
  },
  {
   "cell_type": "code",
   "execution_count": 56,
   "id": "eda3a30a-fc72-4af5-b40e-bc86e3c4913d",
   "metadata": {
    "execution": {
     "iopub.execute_input": "2023-01-26T18:27:04.844965Z",
     "iopub.status.busy": "2023-01-26T18:27:04.844551Z",
     "iopub.status.idle": "2023-01-26T18:27:04.849029Z",
     "shell.execute_reply": "2023-01-26T18:27:04.848313Z",
     "shell.execute_reply.started": "2023-01-26T18:27:04.844926Z"
    },
    "tags": []
   },
   "outputs": [],
   "source": [
    "def gene_of_interest_df(df, gene_list):\n",
    "    pert_dfs = []\n",
    "    for p in gene_list: \n",
    "        if sum(df.columns.str.contains(p)) > 0 : #only continue if the gene of interest exists\n",
    "            df_subset = df[df[p] == 0]\n",
    "            pert_dfs.append(df_subset)\n",
    "    return pert_dfs"
   ]
  },
  {
   "cell_type": "code",
   "execution_count": 57,
   "id": "8fc82c3a-b5a4-4cce-870b-53060e37e60c",
   "metadata": {
    "execution": {
     "iopub.execute_input": "2023-01-26T18:27:05.337435Z",
     "iopub.status.busy": "2023-01-26T18:27:05.337012Z",
     "iopub.status.idle": "2023-01-26T18:27:10.614656Z",
     "shell.execute_reply": "2023-01-26T18:27:10.614026Z",
     "shell.execute_reply.started": "2023-01-26T18:27:05.337409Z"
    },
    "tags": []
   },
   "outputs": [],
   "source": [
    "pert_dfs = gene_of_interest_df(df_unpert, pert)"
   ]
  },
  {
   "cell_type": "code",
   "execution_count": 71,
   "id": "07c7ed2f-7bca-4def-a617-d21f567648b8",
   "metadata": {
    "execution": {
     "iopub.execute_input": "2023-01-26T18:34:01.213405Z",
     "iopub.status.busy": "2023-01-26T18:34:01.212529Z",
     "iopub.status.idle": "2023-01-26T18:34:01.221792Z",
     "shell.execute_reply": "2023-01-26T18:34:01.221204Z",
     "shell.execute_reply.started": "2023-01-26T18:34:01.213366Z"
    },
    "tags": []
   },
   "outputs": [
    {
     "name": "stdout",
     "output_type": "stream",
     "text": [
      "['Tox2', 'Tpt1', 'Tcf7', 'Il12rb1', 'Ikzf3', ..., 'Myb', 'Eef2', 'Batf', 'Tbx21', 'Rps6']\n",
      "Length: 66\n",
      "Categories (67, object): ['Arid4b', 'Arid5b', 'Atf2', 'Batf', ..., 'Unperturbed', 'Yy1', 'Zeb2', 'Zfp292']\n"
     ]
    }
   ],
   "source": [
    "#still need to filter out low variance genes\n",
    "print(pert)\n",
    "label_subset = pd.DataFrame(adata.obs['state']).filter(pert_dfs[4].index.values, axis = 0)"
   ]
  },
  {
   "cell_type": "markdown",
   "id": "bdbf1e40-a1b8-45d8-b750-5c92b2a2e440",
   "metadata": {},
   "source": [
    "### Test distributions with \"Ikzf3\""
   ]
  },
  {
   "cell_type": "code",
   "execution_count": 33,
   "id": "a89a79e6-2ab9-4583-acf3-f47e0db31d7b",
   "metadata": {
    "execution": {
     "iopub.execute_input": "2023-01-27T06:53:40.257054Z",
     "iopub.status.busy": "2023-01-27T06:53:40.256666Z",
     "iopub.status.idle": "2023-01-27T06:53:41.402349Z",
     "shell.execute_reply": "2023-01-27T06:53:41.401631Z",
     "shell.execute_reply.started": "2023-01-27T06:53:40.257030Z"
    },
    "tags": []
   },
   "outputs": [],
   "source": [
    "X_train, X_test, y_train, y_test = train_test_split(filter(df_unpert), df_unpert_labels, test_size=.2, random_state=88) #only subset the test data to prevent data bleeding\n",
    "\n",
    "goi_df= X_test[X_test['Ikzf3'] == 0]\n",
    "goi_labels = y_test.filter(goi_df.index.values, axis = 0)"
   ]
  },
  {
   "cell_type": "code",
   "execution_count": 34,
   "id": "058b2111-b527-414f-919f-4e5aff6eef6d",
   "metadata": {
    "execution": {
     "iopub.execute_input": "2023-01-27T06:53:41.403718Z",
     "iopub.status.busy": "2023-01-27T06:53:41.403401Z",
     "iopub.status.idle": "2023-01-27T06:54:09.074465Z",
     "shell.execute_reply": "2023-01-27T06:54:09.073849Z",
     "shell.execute_reply.started": "2023-01-27T06:53:41.403698Z"
    },
    "tags": []
   },
   "outputs": [
    {
     "name": "stdout",
     "output_type": "stream",
     "text": [
      "0.9362549800796812 rb\n"
     ]
    },
    {
     "data": {
      "image/png": "[encoded data removed]",
      "text/plain": [
       "<Figure size 640x480 with 2 Axes>"
      ]
     },
     "metadata": {},
     "output_type": "display_data"
    },
    {
     "name": "stdout",
     "output_type": "stream",
     "text": [
      "['cycling' 'effector' 'other' 'progenitor' 'terminal exhausted']\n"
     ]
    },
    {
     "data": {
      "text/plain": [
       "array([0.97419355, 0.91729323, 0.57142857, 0.94545455, 0.92763158])"
      ]
     },
     "execution_count": 34,
     "metadata": {},
     "output_type": "execute_result"
    }
   ],
   "source": [
    "#use only data that you didn't train on to predict the distributions\n",
    "loaded_model = pickle.load(open('../saved_models/svc_model_unperturbed.sav', 'rb'))\n",
    "result = loaded_model.score(goi_df, goi_labels)\n",
    "print(result, 'rb')\n",
    "#result = loaded_model.score(X_test[0:10], y_test[0:10])\n",
    "preds = loaded_model.predict(goi_df)\n",
    "\n",
    "cm = confusion_matrix(goi_labels, preds)\n",
    "ConfusionMatrixDisplay(confusion_matrix=cm, display_labels= loaded_model.classes_).plot()\n",
    "\n",
    "plt.show()\n",
    "\n",
    "print(loaded_model.classes_)\n",
    "f1_score(goi_labels, preds, average=None)"
   ]
  },
  {
   "cell_type": "code",
   "execution_count": 35,
   "id": "01bb8046-a93c-4746-b2ae-08050463e090",
   "metadata": {
    "execution": {
     "iopub.execute_input": "2023-01-27T06:54:09.075828Z",
     "iopub.status.busy": "2023-01-27T06:54:09.075538Z",
     "iopub.status.idle": "2023-01-27T06:54:09.082266Z",
     "shell.execute_reply": "2023-01-27T06:54:09.081688Z",
     "shell.execute_reply.started": "2023-01-27T06:54:09.075808Z"
    },
    "tags": []
   },
   "outputs": [
    {
     "data": {
      "text/plain": [
       "array([[0.30079681, 0.        , 0.        , 0.        , 0.0059761 ],\n",
       "       [0.        , 0.24302789, 0.        , 0.        , 0.01195219],\n",
       "       [0.00199203, 0.00996016, 0.00796813, 0.        , 0.        ],\n",
       "       [0.        , 0.00796813, 0.        , 0.10358566, 0.00199203],\n",
       "       [0.00796813, 0.01394422, 0.        , 0.00199203, 0.28087649]])"
      ]
     },
     "execution_count": 35,
     "metadata": {},
     "output_type": "execute_result"
    }
   ],
   "source": [
    "confusion_matrix(goi_labels, preds, normalize = 'all')"
   ]
  },
  {
   "cell_type": "code",
   "execution_count": 38,
   "id": "c74e6ee8-5d39-448c-b75a-b163feccac2c",
   "metadata": {
    "execution": {
     "iopub.execute_input": "2023-01-27T06:57:58.306586Z",
     "iopub.status.busy": "2023-01-27T06:57:58.306201Z",
     "iopub.status.idle": "2023-01-27T06:57:58.311289Z",
     "shell.execute_reply": "2023-01-27T06:57:58.310557Z",
     "shell.execute_reply.started": "2023-01-27T06:57:58.306562Z"
    },
    "tags": []
   },
   "outputs": [
    {
     "data": {
      "text/plain": [
       "5"
      ]
     },
     "execution_count": 38,
     "metadata": {},
     "output_type": "execute_result"
    }
   ],
   "source": [
    "len(cm)"
   ]
  },
  {
   "cell_type": "code",
   "execution_count": 56,
   "id": "9b6bbf4a-185d-4f9c-a751-769ca868e9f5",
   "metadata": {
    "execution": {
     "iopub.execute_input": "2023-01-27T00:23:57.548314Z",
     "iopub.status.busy": "2023-01-27T00:23:57.547920Z",
     "iopub.status.idle": "2023-01-27T00:23:58.634627Z",
     "shell.execute_reply": "2023-01-27T00:23:58.634004Z",
     "shell.execute_reply.started": "2023-01-27T00:23:57.548287Z"
    },
    "tags": []
   },
   "outputs": [],
   "source": [
    "#use the actual perturbseq data for Ikzf3\n",
    "ikzf3_df = normdf.filter(adata.obs[adata.obs['condition'] == 'Ikzf3'].index.values, axis = 0)[filter(df_unpert).columns] #where Ikzf3 is knocked out in real perturbseq data\n",
    "ikzf3_labels = pd.DataFrame(adata.obs['state']).filter(ikzf3_df.index.values, axis = 0)"
   ]
  },
  {
   "cell_type": "code",
   "execution_count": 57,
   "id": "beabbc7f-ee43-4743-b11e-e3cbdebb1ed1",
   "metadata": {
    "execution": {
     "iopub.execute_input": "2023-01-27T00:23:58.636048Z",
     "iopub.status.busy": "2023-01-27T00:23:58.635761Z",
     "iopub.status.idle": "2023-01-27T00:24:04.893635Z",
     "shell.execute_reply": "2023-01-27T00:24:04.892931Z",
     "shell.execute_reply.started": "2023-01-27T00:23:58.636027Z"
    },
    "tags": []
   },
   "outputs": [
    {
     "name": "stdout",
     "output_type": "stream",
     "text": [
      "0.9298245614035088 rb\n"
     ]
    },
    {
     "data": {
      "image/png": "[encoded data removed]",
      "text/plain": [
       "<Figure size 640x480 with 2 Axes>"
      ]
     },
     "metadata": {},
     "output_type": "display_data"
    },
    {
     "name": "stdout",
     "output_type": "stream",
     "text": [
      "['cycling' 'effector' 'other' 'progenitor' 'terminal exhausted']\n"
     ]
    },
    {
     "data": {
      "text/plain": [
       "array([0.94845361, 0.92307692, 0.66666667, 0.8       , 0.93478261])"
      ]
     },
     "execution_count": 57,
     "metadata": {},
     "output_type": "execute_result"
    }
   ],
   "source": [
    "X_train, X_test, y_train, y_test = train_test_split(ikzf3_df, ikzf3_labels, test_size=.2, random_state=88)\n",
    "\n",
    "\n",
    "result = loaded_model.score(X_test, y_test)\n",
    "print(result, 'rb')\n",
    "preds = loaded_model.predict(X_test)\n",
    "\n",
    "\n",
    "cm = confusion_matrix(y_test, preds, normalize = 'all')\n",
    "ConfusionMatrixDisplay(confusion_matrix=cm, display_labels= loaded_model.classes_).plot()\n",
    "\n",
    "plt.show()\n",
    "\n",
    "print(loaded_model.classes_)\n",
    "f1_score(y_test, preds, average=None)\n",
    "\n"
   ]
  },
  {
   "cell_type": "code",
   "execution_count": 58,
   "id": "fbd5daef-7e83-4027-b9bd-049ce40dd4a6",
   "metadata": {
    "execution": {
     "iopub.execute_input": "2023-01-27T00:25:14.513349Z",
     "iopub.status.busy": "2023-01-27T00:25:14.512916Z",
     "iopub.status.idle": "2023-01-27T00:25:14.518117Z",
     "shell.execute_reply": "2023-01-27T00:25:14.517528Z",
     "shell.execute_reply.started": "2023-01-27T00:25:14.513320Z"
    }
   },
   "outputs": [
    {
     "data": {
      "text/plain": [
       "array([[0.40350877, 0.        , 0.        , 0.        , 0.00877193],\n",
       "       [0.        , 0.10526316, 0.        , 0.        , 0.        ],\n",
       "       [0.        , 0.00877193, 0.00877193, 0.        , 0.        ],\n",
       "       [0.        , 0.00877193, 0.        , 0.03508772, 0.00877193],\n",
       "       [0.03508772, 0.        , 0.        , 0.        , 0.37719298]])"
      ]
     },
     "execution_count": 58,
     "metadata": {},
     "output_type": "execute_result"
    }
   ],
   "source": [
    "cm"
   ]
  },
  {
   "cell_type": "code",
   "execution_count": 61,
   "id": "99b24227-cfce-4828-b769-8b45b47698cc",
   "metadata": {
    "execution": {
     "iopub.execute_input": "2023-01-27T00:26:22.362031Z",
     "iopub.status.busy": "2023-01-27T00:26:22.361635Z",
     "iopub.status.idle": "2023-01-27T00:26:22.605162Z",
     "shell.execute_reply": "2023-01-27T00:26:22.604482Z",
     "shell.execute_reply.started": "2023-01-27T00:26:22.362005Z"
    },
    "tags": []
   },
   "outputs": [
    {
     "name": "stdout",
     "output_type": "stream",
     "text": [
      "KstestResult(statistic=0.4, pvalue=0.873015873015873)\n"
     ]
    },
    {
     "data": {
      "image/png": "[encoded data removed]",
      "text/plain": [
       "<Figure size 558.875x500 with 1 Axes>"
      ]
     },
     "metadata": {},
     "output_type": "display_data"
    }
   ],
   "source": [
    "from scipy.stats import ks_2samp\n",
    "import seaborn as sns\n",
    "fakep = [0.30079681,  0.24302789, 0.00796813, 0.10358566, 0.28087649]\n",
    "realp = [0.40350877, 0.10526316, 0.00877193, 0.03508772,  0.37719298]\n",
    "print(ks_2samp(fakep, realp)) #do not reject the null hypothesis\n",
    "\n",
    "sns.displot(data=[fakep,realp], label = ['fakep', 'realp'], kind=\"kde\")\n",
    "plt.show()"
   ]
  },
  {
   "cell_type": "markdown",
   "id": "9327e35d-d11b-42ad-afbb-20ca603bbc3a",
   "metadata": {},
   "source": [
    "### Compare distributions for each perturbation\n",
    "\n",
    "Overview:\n",
    "- Each gene in the perturbation list is a gene of interest (GOI).\n",
    "- Creating \"fake\" perturbseq data:\n",
    "- If the exists in the sequences of the condition == unperturbed cell subset, then:\n",
    "    - isolate cells where that GOI is 0 (not expressed) (call this: gene_of_interest_df)\n",
    "- The SVM was trained on the unperturbed cells. To prevent data bleeding:\n",
    "    - From the unseen test data the SVM used, find cells that are also contained in gene_of_interest_df\n",
    "    - Use the intersection of these data as inputs into the pre-trained SVM\n",
    "    - subset to only include columns that the SVM was trained on\n",
    "    - calculate the normalized confusion matrix, f1 score and resulting distribution of tcell values\n",
    "    \n",
    "- Test \"real\" perturbseq data:\n",
    "    - isolate the cells for which the condition is gene of interest\n",
    "    - subset to only include gene columns that the SVM was trained on\n",
    "    - Predict the label of these samples using the same SVM as above that was trained on the unperturbed data\n",
    "    - calculate the normalized confusion matrix, f1 score and resulting distribution of tcell values\n",
    "    \n",
    "- Run KS test on the two distributions\n",
    "- Plot the displot of each distribution\n",
    "    \n",
    "    "
   ]
  },
  {
   "cell_type": "code",
   "execution_count": 22,
   "id": "d5b73076-63f0-43db-afe1-e2de1bdc7962",
   "metadata": {
    "execution": {
     "iopub.execute_input": "2023-01-27T06:43:28.658856Z",
     "iopub.status.busy": "2023-01-27T06:43:28.658483Z",
     "iopub.status.idle": "2023-01-27T06:43:28.663492Z",
     "shell.execute_reply": "2023-01-27T06:43:28.662909Z",
     "shell.execute_reply.started": "2023-01-27T06:43:28.658832Z"
    },
    "tags": []
   },
   "outputs": [
    {
     "name": "stdout",
     "output_type": "stream",
     "text": [
      "['Unperturbed', 'Tox2', 'Tpt1', 'Tcf7', 'Il12rb1']\n",
      "(74,)\n"
     ]
    }
   ],
   "source": [
    "#combine perturbation lists to create all genes of interest\n",
    "pert = adata.obs.condition.values.unique().to_list()\n",
    "val_pert = ['Aqr', 'Bach2', 'Bhlhe40', 'Ets1', 'Fosb', 'Mafk', 'Stat3']\n",
    "all_pert = pert + val_pert\n",
    "print(all_pert[0:5])\n",
    "print(np.shape(all_pert))"
   ]
  },
  {
   "cell_type": "code",
   "execution_count": 23,
   "id": "a3085d75-456f-466c-934e-c641295867d0",
   "metadata": {
    "execution": {
     "iopub.execute_input": "2023-01-27T06:43:29.704420Z",
     "iopub.status.busy": "2023-01-27T06:43:29.703988Z",
     "iopub.status.idle": "2023-01-27T06:43:29.708548Z",
     "shell.execute_reply": "2023-01-27T06:43:29.707912Z",
     "shell.execute_reply.started": "2023-01-27T06:43:29.704393Z"
    },
    "tags": []
   },
   "outputs": [],
   "source": [
    "#create dataframe where the gene of interest does not have expression\n",
    "def gene_of_interest_df(df, gene_list):\n",
    "    pert_dfs = []\n",
    "    gois = []\n",
    "    for p in gene_list: \n",
    "        if sum(df.columns.str.contains(p)) > 0 : #only continue if the gene of interest exists\n",
    "            df_subset = df[df[p] == 0]\n",
    "            pert_dfs.append(df_subset)\n",
    "            gois.append(p)\n",
    "    return pert_dfs, gois"
   ]
  },
  {
   "cell_type": "code",
   "execution_count": 24,
   "id": "9d220c70-92eb-4798-9e75-10e9cabaf84a",
   "metadata": {
    "execution": {
     "iopub.execute_input": "2023-01-27T06:43:30.624509Z",
     "iopub.status.busy": "2023-01-27T06:43:30.624100Z",
     "iopub.status.idle": "2023-01-27T06:43:36.361351Z",
     "shell.execute_reply": "2023-01-27T06:43:36.360698Z",
     "shell.execute_reply.started": "2023-01-27T06:43:30.624483Z"
    },
    "tags": []
   },
   "outputs": [],
   "source": [
    "#create dataframes from unperturbed data that contain only cells with no exprssion for that gene of interest\n",
    "goi_dfs, gois = gene_of_interest_df(df_unpert, all_pert)\n"
   ]
  },
  {
   "cell_type": "code",
   "execution_count": 25,
   "id": "3d8d5ada-fc9b-46cb-9511-3b25c573dc98",
   "metadata": {
    "execution": {
     "iopub.execute_input": "2023-01-27T06:43:36.362702Z",
     "iopub.status.busy": "2023-01-27T06:43:36.362414Z",
     "iopub.status.idle": "2023-01-27T06:43:36.366921Z",
     "shell.execute_reply": "2023-01-27T06:43:36.366372Z",
     "shell.execute_reply.started": "2023-01-27T06:43:36.362682Z"
    },
    "tags": []
   },
   "outputs": [
    {
     "data": {
      "text/plain": [
       "(71,)"
      ]
     },
     "execution_count": 25,
     "metadata": {},
     "output_type": "execute_result"
    }
   ],
   "source": [
    "np.shape(gois) #3 perturbation conditions were not in the unperturbed expression dataset"
   ]
  },
  {
   "cell_type": "code",
   "execution_count": 26,
   "id": "f7d890df-8622-4fb4-a86b-59eca24bbdce",
   "metadata": {
    "execution": {
     "iopub.execute_input": "2023-01-27T06:44:10.538998Z",
     "iopub.status.busy": "2023-01-27T06:44:10.538622Z",
     "iopub.status.idle": "2023-01-27T06:44:11.674401Z",
     "shell.execute_reply": "2023-01-27T06:44:11.673650Z",
     "shell.execute_reply.started": "2023-01-27T06:44:10.538974Z"
    },
    "tags": []
   },
   "outputs": [],
   "source": [
    "#get x_test and y_test and subset to only include cells that have 0 expression\n",
    "X_train, X_test, y_train, y_test = train_test_split(filter(df_unpert), df_unpert_labels, test_size=.2, random_state=88)"
   ]
  },
  {
   "cell_type": "code",
   "execution_count": 44,
   "id": "f83050f4-4e49-4e2c-bfbb-51396cb966a7",
   "metadata": {
    "execution": {
     "iopub.execute_input": "2023-01-27T07:47:28.403445Z",
     "iopub.status.busy": "2023-01-27T07:47:28.403072Z",
     "iopub.status.idle": "2023-01-27T07:47:28.409580Z",
     "shell.execute_reply": "2023-01-27T07:47:28.408980Z",
     "shell.execute_reply.started": "2023-01-27T07:47:28.403421Z"
    },
    "tags": []
   },
   "outputs": [],
   "source": [
    "def fake_perturbseq(gene_of_interest, X_test, y_test):\n",
    "    print(gene_of_interest)\n",
    "    if gene_of_interest in X_test.columns and X_test[X_test[gene_of_interest] == 0].shape[0] > 0:\n",
    "        goi_df = X_test[X_test[gene_of_interest] == 0]\n",
    "        goi_labels = y_test.filter(goi_df.index.values, axis = 0)\n",
    "        loaded_model = pickle.load(open('../saved_models/svc_model_unperturbed.sav', 'rb'))\n",
    "        result = loaded_model.score(goi_df, goi_labels)\n",
    "        print(result, 'rb')\n",
    "        preds = loaded_model.predict(goi_df)\n",
    "        cm = confusion_matrix(goi_labels, preds, normalize = 'all')\n",
    "        print(loaded_model.classes_)\n",
    "        print(f1_score(goi_labels, preds, average=None))\n",
    "        if len(cm) < 5: \n",
    "            dist = cm\n",
    "        else:\n",
    "            dist = [cm[0][0], cm[1][1], cm[2][2], cm[3][3], cm[4][4]]\n",
    "            print(dist)\n",
    "    else:\n",
    "        print('gene of interest not found in columns')\n",
    "        dist = []\n",
    "    return dist\n"
   ]
  },
  {
   "cell_type": "code",
   "execution_count": 40,
   "id": "cf55d310-ac4a-4bb7-ac7d-d1f9cfd3fa38",
   "metadata": {
    "execution": {
     "iopub.execute_input": "2023-01-27T06:58:27.942420Z",
     "iopub.status.busy": "2023-01-27T06:58:27.942034Z",
     "iopub.status.idle": "2023-01-27T06:59:21.912013Z",
     "shell.execute_reply": "2023-01-27T06:59:21.911265Z",
     "shell.execute_reply.started": "2023-01-27T06:58:27.942396Z"
    },
    "tags": []
   },
   "outputs": [
    {
     "name": "stdout",
     "output_type": "stream",
     "text": [
      "Tcf7\n",
      "0.9521785334750266 rb\n",
      "['cycling' 'effector' 'other' 'progenitor' 'terminal exhausted']\n",
      "[0.98331194 0.92574257 0.72727273 0.90909091 0.94212219]\n"
     ]
    },
    {
     "data": {
      "text/plain": [
       "[0.4070138150903294,\n",
       " 0.19872476089266738,\n",
       " 0.008501594048884165,\n",
       " 0.026567481402763018,\n",
       " 0.31137088204038255]"
      ]
     },
     "execution_count": 40,
     "metadata": {},
     "output_type": "execute_result"
    }
   ],
   "source": [
    "fake_perturbseq('Tcf7', X_test, y_test)"
   ]
  },
  {
   "cell_type": "code",
   "execution_count": 45,
   "id": "99478dde-4f0a-4c00-b9d5-62b150939b99",
   "metadata": {
    "execution": {
     "iopub.execute_input": "2023-01-27T07:47:42.146551Z",
     "iopub.status.busy": "2023-01-27T07:47:42.146174Z",
     "iopub.status.idle": "2023-01-27T08:17:09.659262Z",
     "shell.execute_reply": "2023-01-27T08:17:09.658526Z",
     "shell.execute_reply.started": "2023-01-27T07:47:42.146527Z"
    },
    "tags": []
   },
   "outputs": [
    {
     "name": "stdout",
     "output_type": "stream",
     "text": [
      "Unperturbed\n",
      "gene of interest not found in columns\n",
      "Tox2\n",
      "gene of interest not found in columns\n",
      "Tpt1\n",
      "gene of interest not found in columns\n",
      "Tcf7\n",
      "0.9521785334750266 rb\n",
      "['cycling' 'effector' 'other' 'progenitor' 'terminal exhausted']\n",
      "[0.98331194 0.92574257 0.72727273 0.90909091 0.94212219]\n",
      "[0.4070138150903294, 0.19872476089266738, 0.008501594048884165, 0.026567481402763018, 0.31137088204038255]\n",
      "Il12rb1\n",
      "0.9485570890840652 rb\n",
      "['cycling' 'effector' 'other' 'progenitor' 'terminal exhausted']\n",
      "[0.98053097 0.92513369 0.7        0.94366197 0.94117647]\n",
      "[0.3475533249686324, 0.21706398996235884, 0.00878293601003764, 0.08406524466750313, 0.29109159347553326]\n",
      "Ikzf3\n",
      "0.9362549800796812 rb\n",
      "['cycling' 'effector' 'other' 'progenitor' 'terminal exhausted']\n",
      "[0.97419355 0.91729323 0.57142857 0.94545455 0.92763158]\n",
      "[0.300796812749004, 0.24302788844621515, 0.00796812749003984, 0.10358565737051793, 0.28087649402390436]\n",
      "Nr4a3\n",
      "0.9466666666666667 rb\n",
      "['cycling' 'effector' 'other' 'progenitor' 'terminal exhausted']\n",
      "[0.97846154 0.92444444 0.66666667 0.97674419 0.93559322]\n",
      "[0.35333333333333333, 0.2311111111111111, 0.008888888888888889, 0.04666666666666667, 0.30666666666666664]\n",
      "Litaf\n",
      "0.9340659340659341 rb\n",
      "['cycling' 'effector' 'other' 'progenitor' 'terminal exhausted']\n",
      "[0.97142857 0.92753623 0.72727273 1.         0.90322581]\n",
      "[0.18681318681318682, 0.3516483516483517, 0.04395604395604396, 0.1978021978021978, 0.15384615384615385]\n",
      "Elf1\n",
      "0.9411764705882353 rb\n",
      "['cycling' 'effector' 'other' 'progenitor' 'terminal exhausted']\n",
      "[0.97938144 0.92753623 0.73684211 0.93333333 0.94      ]\n",
      "[0.27941176470588236, 0.2823529411764706, 0.020588235294117647, 0.08235294117647059, 0.27647058823529413]\n",
      "Irf2\n",
      "0.9431072210065645 rb\n",
      "['cycling' 'effector' 'other' 'progenitor' 'terminal exhausted']\n",
      "[0.98360656 0.92134831 0.625      0.94285714 0.94637224]\n",
      "[0.26258205689277897, 0.26914660831509846, 0.010940919037199124, 0.07221006564551423, 0.3282275711159737]\n",
      "Arid5b\n",
      "0.9508196721311475 rb\n",
      "['cycling' 'effector' 'other' 'progenitor' 'terminal exhausted']\n",
      "[0.98005698 0.9352518  0.8        0.93333333 0.94652406]\n",
      "[0.3132969034608379, 0.23679417122040072, 0.014571948998178506, 0.06375227686703097, 0.3224043715846995]\n",
      "Zeb2\n",
      "0.9488636363636364 rb\n",
      "['cycling' 'effector' 'other' 'progenitor' 'terminal exhausted']\n",
      "[0.98217822 0.92163009 0.66666667 0.94444444 0.94143167]\n",
      "[0.3522727272727273, 0.20880681818181818, 0.007102272727272727, 0.07244318181818182, 0.30823863636363635]\n",
      "Satb1\n",
      "0.9458333333333333 rb\n",
      "['cycling' 'effector' 'other' 'progenitor' 'terminal exhausted']\n",
      "[0.98269896 0.91025641 0.7        0.90322581 0.94017094]\n",
      "[0.39444444444444443, 0.19722222222222222, 0.009722222222222222, 0.03888888888888889, 0.3055555555555556]\n",
      "Dvl2\n",
      "0.9519553072625698 rb\n",
      "['cycling' 'effector' 'other' 'progenitor' 'terminal exhausted']\n",
      "[0.98389458 0.92537313 0.72727273 0.93548387 0.94454383]\n",
      "[0.3754189944134078, 0.20782122905027933, 0.008938547486033519, 0.06480446927374302, 0.29497206703910617]\n",
      "Nr4a1\n",
      "0.9352678571428571 rb\n",
      "['cycling' 'effector' 'other' 'progenitor' 'terminal exhausted']\n",
      "[0.97520661 0.91666667 0.70588235 0.92857143 0.93375394]\n",
      "[0.26339285714285715, 0.2700892857142857, 0.013392857142857142, 0.05803571428571429, 0.33035714285714285]\n",
      "Hif1a\n",
      "0.9377289377289377 rb\n",
      "['cycling' 'effector' 'other' 'progenitor' 'terminal exhausted']\n",
      "[0.97058824 0.9273743  0.75       0.92857143 0.94117647]\n",
      "[0.24175824175824176, 0.304029304029304, 0.02197802197802198, 0.047619047619047616, 0.32234432234432236]\n",
      "Crem\n",
      "0.9538043478260869 rb\n",
      "['cycling' 'effector' 'other' 'progenitor' 'terminal exhausted']\n",
      "[0.97457627 0.94736842 0.82352941 0.95384615 0.94736842]\n",
      "[0.3125, 0.24456521739130435, 0.019021739130434784, 0.08423913043478261, 0.29347826086956524]\n",
      "Runx2\n",
      "0.9442148760330579 rb\n",
      "['cycling' 'effector' 'other' 'progenitor' 'terminal exhausted']\n",
      "[0.98       0.91869919 0.71428571 0.93670886 0.94224924]\n",
      "[0.3037190082644628, 0.2334710743801653, 0.010330578512396695, 0.07644628099173553, 0.3202479338842975]\n",
      "Ctnnb1\n",
      "0.9437984496124031 rb\n",
      "['cycling' 'effector' 'other' 'progenitor' 'terminal exhausted']\n",
      "[0.9740634  0.93189964 0.77777778 0.93548387 0.93251534]\n",
      "[0.32751937984496127, 0.25193798449612403, 0.013565891472868217, 0.0562015503875969, 0.29457364341085274]\n",
      "Tcf3\n",
      "0.9476923076923077 rb\n",
      "['cycling' 'effector' 'other' 'progenitor' 'terminal exhausted']\n",
      "[0.97755611 0.93112948 0.625      0.95238095 0.94495413]\n",
      "[0.30153846153846153, 0.26, 0.007692307692307693, 0.06153846153846154, 0.3169230769230769]\n",
      "Foxo1\n",
      "0.9379194630872483 rb\n",
      "['cycling' 'effector' 'other' 'progenitor' 'terminal exhausted']\n",
      "[0.97209302 0.91872792 0.6        0.91428571 0.9273183 ]\n",
      "[0.35067114093959734, 0.2181208053691275, 0.0050335570469798654, 0.053691275167785234, 0.3104026845637584]\n",
      "Dvl1\n",
      "gene of interest not found in columns\n",
      "Gsk3b\n",
      "0.9512987012987013 rb\n",
      "['cycling' 'effector' 'other' 'progenitor' 'terminal exhausted']\n",
      "[0.97524752 0.93959732 0.85714286 0.94845361 0.94033413]\n",
      "[0.3198051948051948, 0.22727272727272727, 0.00974025974025974, 0.07467532467532467, 0.3198051948051948]\n",
      "Dkk3\n",
      "gene of interest not found in columns\n",
      "Hmgb1\n",
      "0.8571428571428571 rb\n",
      "['cycling' 'effector' 'other' 'progenitor' 'terminal exhausted']\n",
      "[1.         0.89361702 0.         0.875      0.5       ]\n",
      "[0.02857142857142857, 0.6, 0.0, 0.2, 0.02857142857142857]\n",
      "Dvl3\n",
      "0.9489685124864278 rb\n",
      "['cycling' 'effector' 'other' 'progenitor' 'terminal exhausted']\n",
      "[0.98005698 0.92071611 0.72727273 0.94117647 0.94077834]\n",
      "[0.3735070575461455, 0.19543973941368079, 0.008686210640608035, 0.06948968512486428, 0.30184581976112923]\n",
      "Sox4\n",
      "gene of interest not found in columns\n",
      "Fzd1\n",
      "gene of interest not found in columns\n",
      "Stat4\n",
      "0.9428571428571428 rb\n",
      "['cycling' 'effector' 'other' 'progenitor' 'terminal exhausted']\n",
      "[0.98461538 0.92165899 0.66666667 0.89473684 0.9382716 ]\n",
      "[0.33246753246753247, 0.2597402597402597, 0.01038961038961039, 0.04415584415584416, 0.2961038961038961]\n",
      "Nr4a2\n",
      "0.9183673469387755 rb\n",
      "['cycling' 'effector' 'other' 'progenitor' 'terminal exhausted']\n",
      "[1.         0.88888889 1.         0.85714286 0.88888889]\n",
      "[0.2653061224489796, 0.32653061224489793, 0.02040816326530612, 0.061224489795918366, 0.24489795918367346]\n",
      "Sp100\n",
      "0.9385964912280702 rb\n",
      "['cycling' 'effector' 'other' 'progenitor' 'terminal exhausted']\n",
      "[0.96943231 0.93467337 0.6        0.93333333 0.92473118]\n",
      "[0.32456140350877194, 0.2719298245614035, 0.008771929824561403, 0.08187134502923976, 0.25146198830409355]\n",
      "Rela\n",
      "0.9428571428571428 rb\n",
      "['cycling' 'effector' 'other' 'progenitor' 'terminal exhausted']\n",
      "[0.97979798 0.91525424 0.70588235 0.95555556 0.93367347]\n",
      "[0.32605042016806723, 0.226890756302521, 0.010084033613445379, 0.07226890756302522, 0.30756302521008405]\n",
      "Ldhb\n",
      "gene of interest not found in columns\n",
      "Eomes\n",
      "0.9475177304964539 rb\n",
      "['cycling' 'effector' 'other' 'progenitor' 'terminal exhausted']\n",
      "[0.9778672  0.93063584 0.66666667 0.93693694 0.94063927]\n",
      "[0.3446808510638298, 0.22836879432624113, 0.00851063829787234, 0.07375886524822695, 0.29219858156028367]\n",
      "Zfp292\n",
      "0.943089430894309 rb\n",
      "['cycling' 'effector' 'other' 'progenitor' 'terminal exhausted']\n",
      "[0.97560976 0.92255892 0.73684211 0.9375     0.93627451]\n",
      "[0.3252032520325203, 0.22276422764227644, 0.011382113821138212, 0.07317073170731707, 0.3105691056910569]\n",
      "Prdm1\n",
      "0.9481566820276498 rb\n",
      "['cycling' 'effector' 'other' 'progenitor' 'terminal exhausted']\n",
      "[0.98095238 0.91863517 0.72727273 0.94366197 0.94117647]\n",
      "[0.35599078341013823, 0.20161290322580644, 0.009216589861751152, 0.0771889400921659, 0.30414746543778803]\n",
      "Atf2\n",
      "0.9438502673796791 rb\n",
      "['cycling' 'effector' 'other' 'progenitor' 'terminal exhausted']\n",
      "[0.9800363  0.91291291 0.76190476 0.92156863 0.93660532]\n",
      "[0.3609625668449198, 0.20320855614973263, 0.0106951871657754, 0.06283422459893048, 0.30614973262032086]\n",
      "Il12rb2\n",
      "0.9448094612352168 rb\n",
      "['cycling' 'effector' 'other' 'progenitor' 'terminal exhausted']\n",
      "[0.97894737 0.91515152 0.7        0.93442623 0.9375    ]\n",
      "[0.36662286465177396, 0.19842312746386334, 0.009198423127463863, 0.07490144546649145, 0.2956636005256242]\n",
      "Egr1\n",
      "0.9548387096774194 rb\n",
      "['cycling' 'effector' 'other' 'progenitor' 'terminal exhausted']\n",
      "[0.97820823 0.94117647 0.77777778 0.95867769 0.94764398]\n",
      "[0.3258064516129032, 0.23225806451612904, 0.01129032258064516, 0.0935483870967742, 0.29193548387096774]\n",
      "Id2\n",
      "0.9320388349514563 rb\n",
      "['cycling' 'effector' 'other' 'progenitor' 'terminal exhausted']\n",
      "[0.93333333 0.95081967 0.85714286 0.94736842 0.875     ]\n",
      "[0.13592233009708737, 0.2815533980582524, 0.02912621359223301, 0.34951456310679613, 0.13592233009708737]\n",
      "Lef1\n",
      "0.9490790899241603 rb\n",
      "['cycling' 'effector' 'other' 'progenitor' 'terminal exhausted']\n",
      "[0.98060942 0.92230576 0.72727273 0.93333333 0.93996569]\n",
      "[0.38353196099674974, 0.19934994582881907, 0.00866738894907909, 0.06067172264355363, 0.29685807150595883]\n",
      "Arid4b\n",
      "0.9514237855946399 rb\n",
      "['cycling' 'effector' 'other' 'progenitor' 'terminal exhausted']\n",
      "[0.98426966 0.92517007 0.75       0.95238095 0.94148936]\n",
      "[0.36683417085427134, 0.22780569514237856, 0.010050251256281407, 0.05025125628140704, 0.2964824120603015]\n",
      "Fzd6\n",
      "gene of interest not found in columns\n",
      "Foxp1\n",
      "0.9472182596291013 rb\n",
      "['cycling' 'effector' 'other' 'progenitor' 'terminal exhausted']\n",
      "[0.9785575  0.9245283  0.70588235 0.92957746 0.93995859]\n",
      "[0.35805991440798857, 0.20970042796005706, 0.008559201141226819, 0.047075606276747506, 0.3238231098430813]\n",
      "Id3\n",
      "gene of interest not found in columns\n",
      "Fzd3\n",
      "gene of interest not found in columns\n",
      "Foxm1\n",
      "gene of interest not found in columns\n",
      "Nr3c1\n",
      "0.9406474820143885 rb\n",
      "['cycling' 'effector' 'other' 'progenitor' 'terminal exhausted']\n",
      "[0.97938144 0.91044776 0.66666667 0.91566265 0.93628809]\n",
      "[0.34172661870503596, 0.21942446043165467, 0.007194244604316547, 0.0683453237410072, 0.3039568345323741]\n",
      "Irf9\n",
      "0.9527665317139001 rb\n",
      "['cycling' 'effector' 'other' 'progenitor' 'terminal exhausted']\n",
      "[0.98154982 0.92258065 0.7        0.96666667 0.94693878]\n",
      "[0.358974358974359, 0.19298245614035087, 0.009446693657219974, 0.07827260458839407, 0.31309041835357626]\n",
      "Tox\n",
      "0.9451073985680191 rb\n",
      "['cycling' 'effector' 'other' 'progenitor' 'terminal exhausted']\n",
      "[0.97835498 0.92946058 0.66666667 0.94545455 0.94594595]\n",
      "[0.26968973747016706, 0.26730310262529833, 0.011933174224343675, 0.06205250596658711, 0.3341288782816229]\n",
      "Hmgb2\n",
      "0.9090909090909091 rb\n",
      "['cycling' 'effector' 'other' 'progenitor' 'terminal exhausted']\n",
      "[0.93243243 0.5        0.96551724 0.82051282]\n",
      "Oxnad1\n",
      "0.9472527472527472 rb\n",
      "['cycling' 'effector' 'other' 'progenitor' 'terminal exhausted']\n",
      "[0.97982709 0.91878173 0.72727273 0.93650794 0.93835616]\n",
      "[0.37362637362637363, 0.1989010989010989, 0.008791208791208791, 0.06483516483516484, 0.3010989010989011]\n",
      "Sp140\n",
      "0.9512195121951219 rb\n",
      "['cycling' 'effector' 'other' 'progenitor' 'terminal exhausted']\n",
      "[0.98723404 0.91780822 0.76190476 0.94949495 0.94418605]\n",
      "[0.35365853658536583, 0.20426829268292682, 0.012195121951219513, 0.07164634146341463, 0.3094512195121951]\n",
      "Sub1\n",
      "0.8222222222222222 rb\n",
      "['cycling' 'effector' 'other' 'progenitor' 'terminal exhausted']\n",
      "[0.8        0.82051282 0.6        0.95652174 0.76923077]\n",
      "[0.044444444444444446, 0.35555555555555557, 0.06666666666666667, 0.24444444444444444, 0.1111111111111111]\n",
      "Yy1\n",
      "0.943502824858757 rb\n",
      "['cycling' 'effector' 'other' 'progenitor' 'terminal exhausted']\n",
      "[0.97297297 0.92753623 0.70588235 0.9382716  0.94084507]\n",
      "[0.3050847457627119, 0.24105461393596986, 0.011299435028248588, 0.07156308851224105, 0.3145009416195857]\n",
      "Lrp1\n",
      "gene of interest not found in columns\n",
      "Ep300\n",
      "0.9454297407912687 rb\n",
      "['cycling' 'effector' 'other' 'progenitor' 'terminal exhausted']\n",
      "[0.98330241 0.91394659 0.75       0.93457944 0.93361884]\n",
      "[0.3615279672578445, 0.2100954979536153, 0.008185538881309686, 0.06821282401091405, 0.29740791268758526]\n",
      "P2rx7\n",
      "gene of interest not found in columns\n",
      "Runx3\n",
      "0.9279279279279279 rb\n",
      "['cycling' 'effector' 'other' 'progenitor' 'terminal exhausted']\n",
      "[0.95833333 0.92765957 0.72727273 0.91891892 0.92079208]\n",
      "[0.2072072072072072, 0.32732732732732733, 0.012012012012012012, 0.1021021021021021, 0.27927927927927926]\n",
      "Rad21\n",
      "0.9284064665127021 rb\n",
      "['cycling' 'effector' 'other' 'progenitor' 'terminal exhausted']\n",
      "[0.97183099 0.91503268 0.66666667 0.93150685 0.93333333]\n",
      "[0.15935334872979215, 0.3233256351039261, 0.011547344110854504, 0.07852193995381063, 0.3556581986143187]\n",
      "Klf2\n",
      "0.948512585812357 rb\n",
      "['cycling' 'effector' 'other' 'progenitor' 'terminal exhausted']\n",
      "[0.98119122 0.92071611 0.72727273 0.944      0.94055944]\n",
      "[0.35812356979405036, 0.20594965675057209, 0.009153318077803204, 0.06750572082379863, 0.30778032036613273]\n",
      "Ezh2\n",
      "0.9369918699186992 rb\n",
      "['cycling' 'effector' 'other' 'progenitor' 'terminal exhausted']\n",
      "[0.97560976 0.92307692 0.75       0.94285714 0.93994778]\n",
      "[0.16260162601626016, 0.32926829268292684, 0.012195121951219513, 0.06707317073170732, 0.36585365853658536]\n",
      "Myb\n",
      "0.948849104859335 rb\n",
      "['cycling' 'effector' 'other' 'progenitor' 'terminal exhausted']\n",
      "[0.97841727 0.93059126 0.7        0.96103896 0.93869732]\n",
      "[0.34782608695652173, 0.23145780051150894, 0.008951406649616368, 0.04731457800511509, 0.3132992327365729]\n",
      "Eef2\n",
      "1.0 rb\n",
      "['cycling' 'effector' 'other' 'progenitor' 'terminal exhausted']\n",
      "[1. 1.]\n",
      "Batf\n",
      "0.9494163424124513 rb\n",
      "['cycling' 'effector' 'other' 'progenitor' 'terminal exhausted']\n",
      "[0.9851632  0.93006993 0.76923077 0.92537313 0.94153846]\n",
      "[0.3229571984435798, 0.2587548638132296, 0.009727626459143969, 0.06031128404669261, 0.29766536964980544]\n",
      "Tbx21\n",
      "0.9410112359550562 rb\n",
      "['cycling' 'effector' 'other' 'progenitor' 'terminal exhausted']\n",
      "[0.96153846 0.92610837 0.8        0.97368421 0.94163424]\n",
      "[0.21067415730337077, 0.2640449438202247, 0.02247191011235955, 0.10393258426966293, 0.3398876404494382]\n",
      "Rps6\n",
      "0.8 rb\n",
      "['cycling' 'effector' 'other' 'progenitor' 'terminal exhausted']\n",
      "[0.88888889 0.        ]\n",
      "Aqr\n",
      "0.947945205479452 rb\n",
      "['cycling' 'effector' 'other' 'progenitor' 'terminal exhausted']\n",
      "[0.98151951 0.92473118 0.73684211 0.93877551 0.94214876]\n",
      "[0.3273972602739726, 0.2356164383561644, 0.009589041095890411, 0.06301369863013699, 0.31232876712328766]\n",
      "Bach2\n",
      "0.9506037321624589 rb\n",
      "['cycling' 'effector' 'other' 'progenitor' 'terminal exhausted']\n",
      "[0.98356164 0.91623037 0.66666667 0.93877551 0.94276094]\n",
      "[0.3940724478594951, 0.19209659714599342, 0.006586169045005488, 0.050493962678375415, 0.30735455543358947]\n",
      "Bhlhe40\n",
      "0.9426229508196722 rb\n",
      "['cycling' 'effector' 'other' 'progenitor' 'terminal exhausted']\n",
      "[0.95833333 0.9382716  0.93333333 0.875      0.95238095]\n",
      "[0.1885245901639344, 0.3114754098360656, 0.05737704918032787, 0.05737704918032787, 0.32786885245901637]\n",
      "Ets1\n",
      "0.9469026548672567 rb\n",
      "['cycling' 'effector' 'other' 'progenitor' 'terminal exhausted']\n",
      "[0.97142857 0.93877551 0.75       0.95833333 0.94444444]\n",
      "[0.22566371681415928, 0.3053097345132743, 0.01327433628318584, 0.10176991150442478, 0.3008849557522124]\n",
      "Fosb\n",
      "0.9497076023391813 rb\n",
      "['cycling' 'effector' 'other' 'progenitor' 'terminal exhausted']\n",
      "[0.98089172 0.92388451 0.66666667 0.94736842 0.94200351]\n",
      "[0.36023391812865496, 0.20584795321637428, 0.007017543859649123, 0.06315789473684211, 0.3134502923976608]\n",
      "Mafk\n",
      "0.9513274336283186 rb\n",
      "['cycling' 'effector' 'other' 'progenitor' 'terminal exhausted']\n",
      "[0.98171589 0.92388451 0.7        0.94029851 0.9430605 ]\n",
      "[0.3860619469026549, 0.19469026548672566, 0.007743362831858407, 0.06969026548672566, 0.29314159292035397]\n",
      "Stat3\n",
      "0.9411764705882353 rb\n",
      "['cycling' 'effector' 'other' 'progenitor' 'terminal exhausted']\n",
      "[1.         0.92307692 1.         0.92307692 0.93023256]\n",
      "[0.19117647058823528, 0.35294117647058826, 0.014705882352941176, 0.08823529411764706, 0.29411764705882354]\n"
     ]
    }
   ],
   "source": [
    "dists = []\n",
    "for p in all_pert:\n",
    "    d = fake_perturbseq(p, X_test, y_test)\n",
    "    dists.append(d)"
   ]
  },
  {
   "cell_type": "code",
   "execution_count": 48,
   "id": "00aecc36-0bc8-4ca0-81c4-13c5d69e99ea",
   "metadata": {
    "execution": {
     "iopub.execute_input": "2023-01-27T08:31:22.721246Z",
     "iopub.status.busy": "2023-01-27T08:31:22.720855Z",
     "iopub.status.idle": "2023-01-27T08:31:22.728260Z",
     "shell.execute_reply": "2023-01-27T08:31:22.727651Z",
     "shell.execute_reply.started": "2023-01-27T08:31:22.721216Z"
    },
    "tags": []
   },
   "outputs": [],
   "source": [
    "pd.DataFrame(dists).to_csv('distributions_fakepeturb.csv')"
   ]
  },
  {
   "cell_type": "code",
   "execution_count": 58,
   "id": "611ee52a-7229-4567-a7ef-f8705ce22b17",
   "metadata": {
    "execution": {
     "iopub.execute_input": "2023-01-27T08:35:08.907466Z",
     "iopub.status.busy": "2023-01-27T08:35:08.907077Z",
     "iopub.status.idle": "2023-01-27T08:35:08.919065Z",
     "shell.execute_reply": "2023-01-27T08:35:08.918146Z",
     "shell.execute_reply.started": "2023-01-27T08:35:08.907441Z"
    },
    "tags": []
   },
   "outputs": [
    {
     "data": {
      "text/html": [
       "<div>\n",
       "<style scoped>\n",
       "    .dataframe tbody tr th:only-of-type {\n",
       "        vertical-align: middle;\n",
       "    }\n",
       "\n",
       "    .dataframe tbody tr th {\n",
       "        vertical-align: top;\n",
       "    }\n",
       "\n",
       "    .dataframe thead th {\n",
       "        text-align: right;\n",
       "    }\n",
       "</style>\n",
       "<table border=\"1\" class=\"dataframe\">\n",
       "  <thead>\n",
       "    <tr style=\"text-align: right;\">\n",
       "      <th></th>\n",
       "      <th>cycling</th>\n",
       "      <th>effector</th>\n",
       "      <th>other</th>\n",
       "      <th>progenitor</th>\n",
       "      <th>terminal exhausted</th>\n",
       "    </tr>\n",
       "  </thead>\n",
       "  <tbody>\n",
       "    <tr>\n",
       "      <th>Unperturbed</th>\n",
       "      <td>None</td>\n",
       "      <td>None</td>\n",
       "      <td>None</td>\n",
       "      <td>None</td>\n",
       "      <td>NaN</td>\n",
       "    </tr>\n",
       "    <tr>\n",
       "      <th>Tox2</th>\n",
       "      <td>None</td>\n",
       "      <td>None</td>\n",
       "      <td>None</td>\n",
       "      <td>None</td>\n",
       "      <td>NaN</td>\n",
       "    </tr>\n",
       "    <tr>\n",
       "      <th>Tpt1</th>\n",
       "      <td>None</td>\n",
       "      <td>None</td>\n",
       "      <td>None</td>\n",
       "      <td>None</td>\n",
       "      <td>NaN</td>\n",
       "    </tr>\n",
       "    <tr>\n",
       "      <th>Tcf7</th>\n",
       "      <td>0.407014</td>\n",
       "      <td>0.198725</td>\n",
       "      <td>0.008502</td>\n",
       "      <td>0.026567</td>\n",
       "      <td>0.311371</td>\n",
       "    </tr>\n",
       "    <tr>\n",
       "      <th>Il12rb1</th>\n",
       "      <td>0.347553</td>\n",
       "      <td>0.217064</td>\n",
       "      <td>0.008783</td>\n",
       "      <td>0.084065</td>\n",
       "      <td>0.291092</td>\n",
       "    </tr>\n",
       "    <tr>\n",
       "      <th>...</th>\n",
       "      <td>...</td>\n",
       "      <td>...</td>\n",
       "      <td>...</td>\n",
       "      <td>...</td>\n",
       "      <td>...</td>\n",
       "    </tr>\n",
       "    <tr>\n",
       "      <th>Bhlhe40</th>\n",
       "      <td>0.188525</td>\n",
       "      <td>0.311475</td>\n",
       "      <td>0.057377</td>\n",
       "      <td>0.057377</td>\n",
       "      <td>0.327869</td>\n",
       "    </tr>\n",
       "    <tr>\n",
       "      <th>Ets1</th>\n",
       "      <td>0.225664</td>\n",
       "      <td>0.30531</td>\n",
       "      <td>0.013274</td>\n",
       "      <td>0.10177</td>\n",
       "      <td>0.300885</td>\n",
       "    </tr>\n",
       "    <tr>\n",
       "      <th>Fosb</th>\n",
       "      <td>0.360234</td>\n",
       "      <td>0.205848</td>\n",
       "      <td>0.007018</td>\n",
       "      <td>0.063158</td>\n",
       "      <td>0.313450</td>\n",
       "    </tr>\n",
       "    <tr>\n",
       "      <th>Mafk</th>\n",
       "      <td>0.386062</td>\n",
       "      <td>0.19469</td>\n",
       "      <td>0.007743</td>\n",
       "      <td>0.06969</td>\n",
       "      <td>0.293142</td>\n",
       "    </tr>\n",
       "    <tr>\n",
       "      <th>Stat3</th>\n",
       "      <td>0.191176</td>\n",
       "      <td>0.352941</td>\n",
       "      <td>0.014706</td>\n",
       "      <td>0.088235</td>\n",
       "      <td>0.294118</td>\n",
       "    </tr>\n",
       "  </tbody>\n",
       "</table>\n",
       "<p>74 rows × 5 columns</p>\n",
       "</div>"
      ],
      "text/plain": [
       "              cycling  effector     other progenitor  terminal exhausted\n",
       "Unperturbed      None      None      None       None                 NaN\n",
       "Tox2             None      None      None       None                 NaN\n",
       "Tpt1             None      None      None       None                 NaN\n",
       "Tcf7         0.407014  0.198725  0.008502   0.026567            0.311371\n",
       "Il12rb1      0.347553  0.217064  0.008783   0.084065            0.291092\n",
       "...               ...       ...       ...        ...                 ...\n",
       "Bhlhe40      0.188525  0.311475  0.057377   0.057377            0.327869\n",
       "Ets1         0.225664   0.30531  0.013274    0.10177            0.300885\n",
       "Fosb         0.360234  0.205848  0.007018   0.063158            0.313450\n",
       "Mafk         0.386062   0.19469  0.007743    0.06969            0.293142\n",
       "Stat3        0.191176  0.352941  0.014706   0.088235            0.294118\n",
       "\n",
       "[74 rows x 5 columns]"
      ]
     },
     "execution_count": 58,
     "metadata": {},
     "output_type": "execute_result"
    }
   ],
   "source": [
    "pd.DataFrame(dists, columns = ['cycling', 'effector', 'other', 'progenitor', 'terminal exhausted'], index = all_pert)\n",
    "#pd.DataFrame(dists, columns = ['cycling', 'effector', 'other', 'progenitor', 'terminal exhausted'], index = all_pert).to_csv('distributions_fakepeturb.csv')"
   ]
  },
  {
   "cell_type": "markdown",
   "id": "1b6fdfa1-f5b8-470b-9138-c4fb54f24377",
   "metadata": {},
   "source": [
    "## SVM\n",
    "- try with all cells\n",
    "- result: took too long and didn't give much better results than with just unperturbed cells"
   ]
  },
  {
   "cell_type": "code",
   "execution_count": null,
   "id": "6f021809-59d1-4808-853d-8731f0e33114",
   "metadata": {},
   "outputs": [],
   "source": []
  },
  {
   "cell_type": "code",
   "execution_count": 31,
   "id": "df680939-1a46-444a-9de6-5199f99dcbbf",
   "metadata": {
    "execution": {
     "iopub.execute_input": "2023-01-25T20:03:45.897801Z",
     "iopub.status.busy": "2023-01-25T20:03:45.897408Z",
     "iopub.status.idle": "2023-01-25T20:20:58.426552Z",
     "shell.execute_reply": "2023-01-25T20:20:58.425803Z",
     "shell.execute_reply.started": "2023-01-25T20:03:45.897777Z"
    },
    "tags": []
   },
   "outputs": [
    {
     "name": "stdout",
     "output_type": "stream",
     "text": [
      "[LibSVM]*\n",
      "optimization finished, #iter = 833\n",
      "obj = -346.203436, rho = 1.969793\n",
      "nSV = 827, nBSV = 425\n",
      "*\n",
      "optimization finished, #iter = 614\n",
      "obj = -377.217110, rho = 2.115924\n",
      "nSV = 663, nBSV = 417\n",
      "*\n",
      "optimization finished, #iter = 739\n",
      "obj = -572.718064, rho = 0.356239\n",
      "nSV = 1023, nBSV = 786\n",
      ".\n",
      "Warning: using -h 0 may be faster\n",
      "*.*\n",
      "optimization finished, #iter = 2264\n",
      "obj = -2138.812131, rho = 3.406305\n",
      "nSV = 3378, nBSV = 2835\n",
      "*\n",
      "optimization finished, #iter = 677\n",
      "obj = -381.154560, rho = 0.631350\n",
      "nSV = 720, nBSV = 426\n",
      "*\n",
      "optimization finished, #iter = 880\n",
      "obj = -525.600201, rho = -1.757037\n",
      "nSV = 1015, nBSV = 662\n",
      ".\n",
      "Warning: using -h 0 may be faster\n",
      "*\n",
      "optimization finished, #iter = 1854\n",
      "obj = -1846.530409, rho = -3.724617\n",
      "nSV = 2714, nBSV = 2279\n",
      "*\n",
      "optimization finished, #iter = 468\n",
      "obj = -217.749988, rho = -1.906228\n",
      "nSV = 493, nBSV = 272\n",
      "*\n",
      "optimization finished, #iter = 825\n",
      "obj = -411.304498, rho = -1.617644\n",
      "nSV = 761, nBSV = 405\n",
      "*\n",
      "optimization finished, #iter = 827\n",
      "obj = -515.484101, rho = -0.012983\n",
      "nSV = 988, nBSV = 672\n",
      "Total nSV = 8714\n"
     ]
    },
    {
     "data": {
      "image/png": "[encoded data removed]",
      "text/plain": [
       "<Figure size 640x480 with 2 Axes>"
      ]
     },
     "metadata": {},
     "output_type": "display_data"
    }
   ],
   "source": [
    "#takes a long time like 1.5 hours\n",
    "X_train, X_test, y_train, y_test = train_test_split(filter(normdf), adata.obs['state'], test_size=.2, random_state=88)\n",
    "svc = SVC(gamma = 'auto', C = 1, verbose = 3) #auto = 1/n_features, scale = 1/(n_features * variance(X))\n",
    "svc.fit(X_train, y_train)\n",
    "preds = svc.predict(X_test)\n",
    "cm = confusion_matrix(y_test, preds)\n",
    "\n",
    "ConfusionMatrixDisplay(confusion_matrix=cm, display_labels= svc.classes_).plot()\n",
    "\n",
    "#plt.savefig('../graphs/cm_plot_svm_all.png')\n",
    "plt.show()"
   ]
  },
  {
   "cell_type": "markdown",
   "id": "ca4d4649-10d8-4dcf-8246-42f0f7e6adbc",
   "metadata": {},
   "source": [
    "### save all cells svm model, which takes a long time to train"
   ]
  },
  {
   "cell_type": "code",
   "execution_count": 1,
   "id": "1a07fb95-4af1-431a-8c3c-1b1fe7f5e080",
   "metadata": {
    "execution": {
     "iopub.execute_input": "2023-01-23T18:12:35.343653Z",
     "iopub.status.busy": "2023-01-23T18:12:35.343180Z",
     "iopub.status.idle": "2023-01-23T18:12:35.349763Z",
     "shell.execute_reply": "2023-01-23T18:12:35.349049Z",
     "shell.execute_reply.started": "2023-01-23T18:12:35.343580Z"
    },
    "tags": []
   },
   "outputs": [],
   "source": [
    "filename = 'svc_model_allcells.sav'\n",
    "pickle.dump(svc, open(filename, 'wb'))"
   ]
  },
  {
   "cell_type": "code",
   "execution_count": null,
   "id": "ff241025-7c08-40ca-ad21-bb48c484eaaf",
   "metadata": {
    "tags": []
   },
   "outputs": [],
   "source": [
    "#load model for use, but the predict feature takes really long like hours\n",
    "loaded_model = pickle.load(open('../saved_models/svc_model_allcells.sav', 'rb'))\n",
    "result = loaded_model.score(X_test, y_test)\n",
    "print(result, 'rb')\n",
    "#result = loaded_model.score(X_test[0:10], y_test[0:10])\n",
    "preds = loaded_model.predict(X_test)\n",
    "\n",
    "\n",
    "cm = confusion_matrix(y_test, preds)\n",
    "ConfusionMatrixDisplay(confusion_matrix=cm, display_labels= loaded_model.classes_).plot()\n",
    "\n",
    "plt.show()"
   ]
  },
  {
   "cell_type": "code",
   "execution_count": 9,
   "id": "fa45c77f-cd53-4d90-a4c1-cbab64b45daf",
   "metadata": {
    "execution": {
     "iopub.execute_input": "2023-01-23T05:46:32.712808Z",
     "iopub.status.busy": "2023-01-23T05:46:32.712438Z",
     "iopub.status.idle": "2023-01-23T05:46:32.743544Z",
     "shell.execute_reply": "2023-01-23T05:46:32.743002Z",
     "shell.execute_reply.started": "2023-01-23T05:46:32.712788Z"
    },
    "tags": []
   },
   "outputs": [
    {
     "name": "stdout",
     "output_type": "stream",
     "text": [
      "['cycling' 'effector' 'other' 'progenitor' 'terminal exhausted']\n"
     ]
    },
    {
     "data": {
      "text/plain": [
       "array([0.98119312, 0.92720307, 0.72222222, 0.96641387, 0.94868239])"
      ]
     },
     "execution_count": 9,
     "metadata": {},
     "output_type": "execute_result"
    }
   ],
   "source": [
    "print(svc.classes_)\n",
    "f1_score(y_test, preds, average=None)"
   ]
  },
  {
   "cell_type": "markdown",
   "id": "0e1cbf8a-a379-4acd-bf46-54fdd290167e",
   "metadata": {},
   "source": [
    "Ideas for next steps:\n",
    "- grid search with the full data set to find optimal C and gamma\n",
    "    - classifier is good enough, hoping the misclassifications go into other categories at the same rate\n",
    "- why is the model so slow?\n",
    "- eda exploration of \"other\" category\n",
    "    - heatmap suggests that misclassification of effector and other should be expected, since those categories are the most closely related when looking at the expression values of cells in those categories\n",
    "- consider 1 page write up, check misclassified cells\n",
    "- check how paper did preprocessing for t cell categorization"
   ]
  },
  {
   "cell_type": "markdown",
   "id": "5382c91b-6b75-4c54-9f27-f1f569184676",
   "metadata": {},
   "source": [
    "## Where are the misclassified points? At the edges of clusters?\n",
    "- Not finished, but consider that in 2D or 3D the dimensions at which the points were at the \"edge\" of clusters may not be the ones you are visualizing (since it is a lower dimensional embedding of what the data actually is)"
   ]
  },
  {
   "cell_type": "code",
   "execution_count": null,
   "id": "f4f73514-167f-45a3-aff2-9ee228cc5df6",
   "metadata": {},
   "outputs": [],
   "source": [
    "sc.tl.pca(adata, svd_solver='arpack')\n",
    "sc.pp.neighbors(adata, n_neighbors=30, n_pcs=50)\n",
    "sc.tl.umap(adata, min_dist=0.3) \n",
    "sc.pl.umap(adata, color=['state'], palette='Accent', legend_loc='right margin')"
   ]
  },
  {
   "cell_type": "markdown",
   "id": "2c4b2e1b-b2b7-4250-be03-90b26c120885",
   "metadata": {
    "execution": {
     "iopub.execute_input": "2023-01-18T21:10:13.741942Z",
     "iopub.status.busy": "2023-01-18T21:10:13.741586Z",
     "iopub.status.idle": "2023-01-18T21:10:13.745534Z",
     "shell.execute_reply": "2023-01-18T21:10:13.744590Z",
     "shell.execute_reply.started": "2023-01-18T21:10:13.741918Z"
    }
   },
   "source": [
    "## XGBoost"
   ]
  },
  {
   "cell_type": "markdown",
   "id": "c33c7a57-be2f-4d25-bba4-a1604d417fed",
   "metadata": {
    "execution": {
     "iopub.execute_input": "2023-01-18T21:10:48.576810Z",
     "iopub.status.busy": "2023-01-18T21:10:48.576438Z",
     "iopub.status.idle": "2023-01-18T21:10:48.582727Z",
     "shell.execute_reply": "2023-01-18T21:10:48.581650Z",
     "shell.execute_reply.started": "2023-01-18T21:10:48.576785Z"
    }
   },
   "source": [
    "Didn't work well, see Sam's explanation from slack:\n",
    "\n",
    "Amanda: \"Long math/model intuition question coming through \n",
    "What I understand is SVM is a linear separation of groups technique so if I look at low dimensional representation of the samples and color by label and it’s hard to separate the groups with a line (or plane) by eye I would move away from SVM\n",
    "I guess the UMAP showed that the groups are separable when colored by label but they also overlap a fair amount?\n",
    "Is this the right way to think about SVM and linear/ log regression?\n",
    "I also ran PCA and even with 50 components only about 20% of the variance is described, so I thought going toward more complex models would be good\n",
    "These thoughts led me to try XGBoost first, but out of the box without tuning much that turned out pretty badly (very low accuracy)\n",
    "When this turned out badly my first thought was let’s tune it/ it’s probably a more complex relationship than we thought!\n",
    "The fact that SVM worked well makes me think this thought processes is wrong.\n",
    "What’s the flaw in my thought process? If we didn’t see that the paper had successfully tried SVM is there a reason from the PCA/ UMAP embeddings that it would be a reasonable model to try first?\"\n",
    "\n",
    "Sam: \"Great questions! First, the UMAP embedding forces the data into 2 dimensions, where everything is harder to separate. When you have a 15K dimensional hyperplane at your disposal, it gets much easier to separate arbitrary sets of points. (Thought experiment - if you have 4 points in a square to separate into two groups, there are group configurations that aren't linearly separable. What if the 4 points are instead non-co-planar vertices of a cube?)\n",
    "Second, SVM's are mathematically based on linear separators, but by manipulating the way we compute distances (the \"kernel trick\", to use the term slightly inaccurately), we can achieve separations that correspond to, equivalently, projecting the data into higher dimensions or achieving nonlinear separation boundaries. The SVM with a Radial Basis Function (RBF) kernel is generally accepted to be the best off-the-shelf classifier for new datasets. (There are cases where defining a distance metric is unwieldy, like with images, or where there is a large amount of tangentially-related data that might make the problem easier, like with images, but for most datasets where # data points > # dimensionality of the data, SVM is a phenomenal go-to.)\n",
    "Re: Data Complexity\n",
    "That does sound like it's pretty long-tailed, so I'm inclined to say that the generative model will need to be large and fairly unstructured. Re: XGBoost - my understanding is that XGBoost uses shallow decision trees as its default classifiers, which do much worse at very high dimensionality than hyperplanes (the hyperplanes have way more free parameters), so I would imagine that the number of iterations needed would be enormous, and the computational costs usually grow quadratically with the number of iterations.\"\n",
    "\n",
    "\n",
    "Already tried:\n",
    "- filtering genes out by variance didn't improve the accuracy much (~42%)\n",
    "- increasing estimator number didn't improve accuracy much (50 -> 100 ~42%)\n",
    "- train on unperturbed data only: accuracy worse lol (39%), maybe bc less data?"
   ]
  },
  {
   "cell_type": "code",
   "execution_count": 99,
   "id": "82c74681-8fd9-4848-9644-6f6b419a6c2b",
   "metadata": {
    "execution": {
     "iopub.execute_input": "2023-01-18T21:23:14.514609Z",
     "iopub.status.busy": "2023-01-18T21:23:14.514216Z",
     "iopub.status.idle": "2023-01-18T21:23:15.787247Z",
     "shell.execute_reply": "2023-01-18T21:23:15.786553Z",
     "shell.execute_reply.started": "2023-01-18T21:23:14.514582Z"
    },
    "tags": []
   },
   "outputs": [],
   "source": [
    "X_train, X_test, y_train, y_test = train_test_split(filter(df_unpert), df_unpert_labels, test_size=.2, random_state=88)"
   ]
  },
  {
   "cell_type": "code",
   "execution_count": 100,
   "id": "81ba884c-ccc5-4266-9122-0161c81e136b",
   "metadata": {
    "execution": {
     "iopub.execute_input": "2023-01-18T21:23:17.659722Z",
     "iopub.status.busy": "2023-01-18T21:23:17.659358Z",
     "iopub.status.idle": "2023-01-18T21:23:27.586169Z",
     "shell.execute_reply": "2023-01-18T21:23:27.585382Z",
     "shell.execute_reply.started": "2023-01-18T21:23:17.659697Z"
    },
    "tags": []
   },
   "outputs": [
    {
     "name": "stdout",
     "output_type": "stream",
     "text": [
      "[21:23:19] WARNING: /home/conda/feedstock_root/build_artifacts/xgboost-split_1645117766796/work/src/learner.cc:1115: Starting in XGBoost 1.3.0, the default evaluation metric used with the objective 'multi:softprob' was changed from 'merror' to 'mlogloss'. Explicitly set eval_metric if you'd like to restore the old behavior.\n"
     ]
    }
   ],
   "source": [
    "bst = XGBClassifier(n_estimators=100, max_depth=0, learning_rate=0.2, objective='binary:logistic')\n",
    "# fit model\n",
    "bst.fit(X_train, y_train)\n",
    "# make predictions\n",
    "preds = bst.predict(X_test)"
   ]
  },
  {
   "cell_type": "code",
   "execution_count": 101,
   "id": "1987e889-6a92-4eab-be26-582a2bfc8c8e",
   "metadata": {
    "execution": {
     "iopub.execute_input": "2023-01-18T21:23:27.587869Z",
     "iopub.status.busy": "2023-01-18T21:23:27.587548Z",
     "iopub.status.idle": "2023-01-18T21:23:27.595325Z",
     "shell.execute_reply": "2023-01-18T21:23:27.594461Z",
     "shell.execute_reply.started": "2023-01-18T21:23:27.587807Z"
    },
    "tags": []
   },
   "outputs": [
    {
     "name": "stdout",
     "output_type": "stream",
     "text": [
      "Accuracy: 39.46%\n"
     ]
    }
   ],
   "source": [
    "from sklearn.metrics import accuracy_score\n",
    "accuracy = accuracy_score(y_test, preds)\n",
    "print(\"Accuracy: %.2f%%\" % (accuracy * 100.0))"
   ]
  },
  {
   "cell_type": "code",
   "execution_count": null,
   "id": "e6191109-22e7-4841-a055-a63de500a83b",
   "metadata": {},
   "outputs": [],
   "source": [
    ">>> from sklearn.model_selection import GridSearchCV\n",
    ">>> iris = datasets.load_iris()\n",
    ">>> parameters = {'kernel':('linear', 'rbf'), 'C':[1, 10]}\n",
    ">>> svc = svm.SVC()\n",
    ">>> clf = GridSearchCV(svc, parameters)\n",
    ">>> clf.fit(iris.data, iris.target)\n",
    "GridSearchCV(estimator=SVC(),\n",
    "             param_grid={'C': [1, 10], 'kernel': ('linear', 'rbf')})"
   ]
  }
 ],
 "metadata": {
  "kernelspec": {
   "display_name": "saturn (Python 3)",
   "language": "python",
   "name": "python3"
  },
  "language_info": {
   "codemirror_mode": {
    "name": "ipython",
    "version": 3
   },
   "file_extension": ".py",
   "mimetype": "text/x-python",
   "name": "python",
   "nbconvert_exporter": "python",
   "pygments_lexer": "ipython3",
   "version": "3.9.13"
  }
 },
 "nbformat": 4,
 "nbformat_minor": 5
}
