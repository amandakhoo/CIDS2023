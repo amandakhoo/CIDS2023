{
 "cells": [
  {
   "cell_type": "markdown",
   "id": "802156b1-278d-4d7d-b8e1-3a85ed61be4f",
   "metadata": {},
   "source": [
    "## Frequency EDA\n",
    "\n",
    "Testing if distributions between unperturbed data and knockout data is statistically different for test and validation genes.\n",
    "If we find a knockout condition where they are different\n",
    "and the test gene approaches `0`,\n",
    "then that might be a candidate sampling pool for making distributions."
   ]
  },
  {
   "cell_type": "markdown",
   "id": "592aa0db-9ba8-4898-8c85-fb70e0ec2b08",
   "metadata": {},
   "source": [
    "### Load useful libraries"
   ]
  },
  {
   "cell_type": "code",
   "execution_count": 1,
   "id": "0184bcf5-71eb-42ae-8eb8-7720b04a4901",
   "metadata": {
    "execution": {
     "iopub.execute_input": "2023-01-27T06:40:20.469994Z",
     "iopub.status.busy": "2023-01-27T06:40:20.469535Z",
     "iopub.status.idle": "2023-01-27T06:40:31.413046Z",
     "shell.execute_reply": "2023-01-27T06:40:31.411057Z",
     "shell.execute_reply.started": "2023-01-27T06:40:20.469918Z"
    },
    "tags": []
   },
   "outputs": [
    {
     "name": "stdout",
     "output_type": "stream",
     "text": [
      "scanpy==1.9.1 anndata==0.8.0 umap==0.5.3 numpy==1.21.6 scipy==1.8.0 pandas==1.5.1 scikit-learn==1.1.2 statsmodels==0.13.2 python-igraph==0.10.2 pynndescent==0.5.7\n"
     ]
    }
   ],
   "source": [
    "import scanpy as sc\n",
    "import pandas as pd\n",
    "\n",
    "from warnings import filterwarnings\n",
    "filterwarnings('ignore')\n",
    "\n",
    "sc.settings.verbosity = 3\n",
    "sc.logging.print_header()\n",
    "sc.settings.set_figure_params(dpi=80, facecolor='white')"
   ]
  },
  {
   "cell_type": "markdown",
   "id": "c3d921fa-8490-4b5f-bb35-f9150e946d7b",
   "metadata": {},
   "source": [
    "### Read data"
   ]
  },
  {
   "cell_type": "code",
   "execution_count": 31,
   "id": "97e22640-5d22-4e81-bab7-e91c69d0f07d",
   "metadata": {
    "execution": {
     "iopub.execute_input": "2023-01-27T07:12:20.774378Z",
     "iopub.status.busy": "2023-01-27T07:12:20.773989Z",
     "iopub.status.idle": "2023-01-27T07:12:20.784204Z",
     "shell.execute_reply": "2023-01-27T07:12:20.783353Z",
     "shell.execute_reply.started": "2023-01-27T07:12:20.774349Z"
    },
    "tags": []
   },
   "outputs": [],
   "source": [
    "def adata_f():\n",
    "    data = sc.read_h5ad('../sc_training.h5ad')\n",
    "    data.layers['normalized_logcounts'] = data.X.copy()\n",
    "    return data\n",
    "\n",
    "def data_to_df(data):\n",
    "    return data.to_df(layer=\"normalized_logcounts\")\n",
    "\n",
    "def unperturbed_data(data):\n",
    "    df_cond = pd.DataFrame(data.obs['condition'])\n",
    "    unperturbed_indices = df_cond[df_cond['condition'] == 'Unperturbed'].index\n",
    "    \n",
    "    return data_to_df(data).filter(unperturbed_indices, axis=0)\n",
    "\n",
    "def conditioned_data(data, condition):\n",
    "    df_cond = pd.DataFrame(data.obs['condition'])\n",
    "    condition_index = df_cond[df_cond['condition'] == condition].index\n",
    "    return data_to_df(data).filter(condition_index, axis=0)\n",
    "\n",
    "def conditions(data):\n",
    "    return data.obs['condition'].unique()\n",
    "\n",
    "def experiments():\n",
    "    total_conditions = set(conditions(adata_f()))\n",
    "    total_conditions.remove('Unperturbed')\n",
    "    return total_conditions\n",
    "\n",
    "def table_means(table, cols):\n",
    "    if len(cols) is not 0:\n",
    "        table = table[cols]\n",
    "    return table.mean(), table.std()\n",
    "\n",
    "test_genes = [\"Ets1\", \"Fosb\", \"Mafk\", \"Stat3\"]\n",
    "validation_genes = [\"Aqr\", \"Bach2\", \"Bhlhe40\"]\n",
    "\n",
    "def unperturbed_stats():\n",
    "    return table_means(unperturbed_data(adata_f()), test_genes + validation_genes)\n",
    "\n",
    "def condition_stats(condition):\n",
    "    return table_means(conditioned_data(adata_f(), condition), [condition])\n",
    "\n",
    "def stats_between_condition_and_unperturbed(condition):\n",
    "    baseline_means, baseline_std = unperturbed_stats()\n",
    "    condition_means, condition_std = condition_stats(condition)\n",
    "    return (baseline_means[condition], baseline_std[condition]), (condition_means[condition], condition_std[condition])\n"
   ]
  },
  {
   "cell_type": "code",
   "execution_count": 34,
   "id": "e9273dcb-8d2a-41f2-b5d4-c9ca916969de",
   "metadata": {
    "execution": {
     "iopub.execute_input": "2023-01-27T07:14:39.244387Z",
     "iopub.status.busy": "2023-01-27T07:14:39.243995Z",
     "iopub.status.idle": "2023-01-27T07:14:47.728844Z",
     "shell.execute_reply": "2023-01-27T07:14:47.727937Z",
     "shell.execute_reply.started": "2023-01-27T07:14:39.244359Z"
    },
    "tags": []
   },
   "outputs": [
    {
     "data": {
      "text/html": [
       "<div>\n",
       "<style scoped>\n",
       "    .dataframe tbody tr th:only-of-type {\n",
       "        vertical-align: middle;\n",
       "    }\n",
       "\n",
       "    .dataframe tbody tr th {\n",
       "        vertical-align: top;\n",
       "    }\n",
       "\n",
       "    .dataframe thead th {\n",
       "        text-align: right;\n",
       "    }\n",
       "</style>\n",
       "<table border=\"1\" class=\"dataframe\">\n",
       "  <thead>\n",
       "    <tr style=\"text-align: right;\">\n",
       "      <th></th>\n",
       "      <th>condition</th>\n",
       "    </tr>\n",
       "  </thead>\n",
       "  <tbody>\n",
       "    <tr>\n",
       "      <th>053l1_AAACCTGAGATGTCGG-1</th>\n",
       "      <td>Unperturbed</td>\n",
       "    </tr>\n",
       "    <tr>\n",
       "      <th>053l1_AAACCTGAGCAACGGT-1</th>\n",
       "      <td>Tox2</td>\n",
       "    </tr>\n",
       "    <tr>\n",
       "      <th>053l1_AAACCTGAGTACGACG-1</th>\n",
       "      <td>Tpt1</td>\n",
       "    </tr>\n",
       "    <tr>\n",
       "      <th>053l1_AAACCTGAGTCGTTTG-1</th>\n",
       "      <td>Tox2</td>\n",
       "    </tr>\n",
       "    <tr>\n",
       "      <th>053l1_AAACCTGAGTGAAGAG-1</th>\n",
       "      <td>Tcf7</td>\n",
       "    </tr>\n",
       "    <tr>\n",
       "      <th>...</th>\n",
       "      <td>...</td>\n",
       "    </tr>\n",
       "    <tr>\n",
       "      <th>053l4_TTTGTCATCAGGTTCA-1</th>\n",
       "      <td>Tox2</td>\n",
       "    </tr>\n",
       "    <tr>\n",
       "      <th>053l4_TTTGTCATCAGTGTTG-1</th>\n",
       "      <td>Dvl2</td>\n",
       "    </tr>\n",
       "    <tr>\n",
       "      <th>053l4_TTTGTCATCCTCGCAT-1</th>\n",
       "      <td>Zeb2</td>\n",
       "    </tr>\n",
       "    <tr>\n",
       "      <th>053l4_TTTGTCATCTTCAACT-1</th>\n",
       "      <td>Sox4</td>\n",
       "    </tr>\n",
       "    <tr>\n",
       "      <th>053l4_TTTGTCATCTTTCCTC-1</th>\n",
       "      <td>Dvl2</td>\n",
       "    </tr>\n",
       "  </tbody>\n",
       "</table>\n",
       "<p>28697 rows × 1 columns</p>\n",
       "</div>"
      ],
      "text/plain": [
       "                            condition\n",
       "053l1_AAACCTGAGATGTCGG-1  Unperturbed\n",
       "053l1_AAACCTGAGCAACGGT-1         Tox2\n",
       "053l1_AAACCTGAGTACGACG-1         Tpt1\n",
       "053l1_AAACCTGAGTCGTTTG-1         Tox2\n",
       "053l1_AAACCTGAGTGAAGAG-1         Tcf7\n",
       "...                               ...\n",
       "053l4_TTTGTCATCAGGTTCA-1         Tox2\n",
       "053l4_TTTGTCATCAGTGTTG-1         Dvl2\n",
       "053l4_TTTGTCATCCTCGCAT-1         Zeb2\n",
       "053l4_TTTGTCATCTTCAACT-1         Sox4\n",
       "053l4_TTTGTCATCTTTCCTC-1         Dvl2\n",
       "\n",
       "[28697 rows x 1 columns]"
      ]
     },
     "execution_count": 34,
     "metadata": {},
     "output_type": "execute_result"
    }
   ],
   "source": [
    "adata = adata_f()\n",
    "adata = data_to_df(adata)\n",
    "#table_means(unperturbed_data(adata_f()), test_genes)\n",
    "#set(conditions(adata_f()))\n",
    "#unperturbed_stats()\n",
    "df_cond = pd.DataFrame(adata_f().obs['condition'])\n",
    "df_cond"
   ]
  },
  {
   "cell_type": "code",
   "execution_count": 4,
   "id": "de20dddd-166a-42dd-8490-a421984708b7",
   "metadata": {
    "execution": {
     "iopub.execute_input": "2023-01-27T00:37:11.314085Z",
     "iopub.status.busy": "2023-01-27T00:37:11.313676Z",
     "iopub.status.idle": "2023-01-27T00:37:12.651138Z",
     "shell.execute_reply": "2023-01-27T00:37:12.650282Z",
     "shell.execute_reply.started": "2023-01-27T00:37:11.314056Z"
    },
    "tags": []
   },
   "outputs": [
    {
     "data": {
      "text/plain": [
       "AnnData object with n_obs × n_vars = 28697 × 15077\n",
       "    obs: 'gRNA_maxID', 'state', 'condition', 'lane'\n",
       "    layers: 'rawcounts', 'normalized_logcounts'"
      ]
     },
     "execution_count": 4,
     "metadata": {},
     "output_type": "execute_result"
    }
   ],
   "source": [
    "adata_f()"
   ]
  }
 ],
 "metadata": {
  "kernelspec": {
   "display_name": "saturn (Python 3)",
   "language": "python",
   "name": "python3"
  },
  "language_info": {
   "codemirror_mode": {
    "name": "ipython",
    "version": 3
   },
   "file_extension": ".py",
   "mimetype": "text/x-python",
   "name": "python",
   "nbconvert_exporter": "python",
   "pygments_lexer": "ipython3",
   "version": "3.9.13"
  }
 },
 "nbformat": 4,
 "nbformat_minor": 5
}
