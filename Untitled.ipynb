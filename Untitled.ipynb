{
 "cells": [
  {
   "attachments": {},
   "cell_type": "markdown",
   "id": "802156b1-278d-4d7d-b8e1-3a85ed61be4f",
   "metadata": {},
   "source": [
    "## Frequency EDA\n",
    "\n",
    "Testing if distributions between unperturbed data and knockout data is statistically different for test and validation genes.\n",
    "If we find a knockout condition where they are different\n",
    "and the test gene approaches `0`,\n",
    "then that might be a candidate sampling pool for making distributions.\n",
    "\n",
    "equal_var in https://docs.scipy.org/doc/scipy/reference/generated/scipy.stats.ttest_ind.html#scipy-stats-ttest-ind"
   ]
  },
  {
   "cell_type": "markdown",
   "id": "592aa0db-9ba8-4898-8c85-fb70e0ec2b08",
   "metadata": {},
   "source": [
    "### Load useful libraries"
   ]
  },
  {
   "cell_type": "code",
   "execution_count": 6,
   "id": "0184bcf5-71eb-42ae-8eb8-7720b04a4901",
   "metadata": {
    "execution": {
     "iopub.execute_input": "2023-01-27T06:40:20.469994Z",
     "iopub.status.busy": "2023-01-27T06:40:20.469535Z",
     "iopub.status.idle": "2023-01-27T06:40:31.413046Z",
     "shell.execute_reply": "2023-01-27T06:40:31.411057Z",
     "shell.execute_reply.started": "2023-01-27T06:40:20.469918Z"
    },
    "tags": []
   },
   "outputs": [
    {
     "name": "stdout",
     "output_type": "stream",
     "text": [
      "scanpy==1.9.1 anndata==0.8.0 umap==0.5.3 numpy==1.23.5 scipy==1.10.0 pandas==1.5.3 scikit-learn==1.2.0 statsmodels==0.13.5 pynndescent==0.5.8\n"
     ]
    }
   ],
   "source": [
    "import scanpy as sc\n",
    "import scipy\n",
    "import pandas as pd\n",
    "\n",
    "from warnings import filterwarnings\n",
    "filterwarnings('ignore')\n",
    "\n",
    "sc.settings.verbosity = 3\n",
    "sc.logging.print_header()\n",
    "sc.settings.set_figure_params(dpi=80, facecolor='white')"
   ]
  },
  {
   "cell_type": "markdown",
   "id": "c3d921fa-8490-4b5f-bb35-f9150e946d7b",
   "metadata": {},
   "source": [
    "### Read data"
   ]
  },
  {
   "cell_type": "code",
   "execution_count": 7,
   "id": "97e22640-5d22-4e81-bab7-e91c69d0f07d",
   "metadata": {
    "execution": {
     "iopub.execute_input": "2023-01-27T07:12:20.774378Z",
     "iopub.status.busy": "2023-01-27T07:12:20.773989Z",
     "iopub.status.idle": "2023-01-27T07:12:20.784204Z",
     "shell.execute_reply": "2023-01-27T07:12:20.783353Z",
     "shell.execute_reply.started": "2023-01-27T07:12:20.774349Z"
    },
    "tags": []
   },
   "outputs": [],
   "source": [
    "def adata_f():\n",
    "    data = sc.read_h5ad('code/sc_training.h5ad')\n",
    "    data.layers['normalized_logcounts'] = data.X.copy()\n",
    "    return data\n",
    "\n",
    "def data_to_df(data):\n",
    "    return data.to_df(layer=\"normalized_logcounts\")\n",
    "\n",
    "def unperturbed_data(data):\n",
    "    df_cond = pd.DataFrame(data.obs['condition'])\n",
    "    unperturbed_indices = df_cond[df_cond['condition'] == 'Unperturbed'].index\n",
    "    \n",
    "    return data_to_df(data).filter(unperturbed_indices, axis=0)\n",
    "\n",
    "def conditioned_data(data, condition):\n",
    "    df_cond = pd.DataFrame(data.obs['condition'])\n",
    "    condition_index = df_cond[df_cond['condition'] == condition].index\n",
    "    return data_to_df(data).filter(condition_index, axis=0)\n",
    "\n",
    "def conditions(data):\n",
    "    return data.obs['condition'].unique()\n",
    "\n",
    "def experiments():\n",
    "    total_conditions = set(conditions(adata_f()))\n",
    "    total_conditions.remove('Unperturbed')\n",
    "    return total_conditions\n",
    "\n",
    "def table_means(table, cols):\n",
    "    if len(cols) is not 0:\n",
    "        table = table[cols]\n",
    "    return table.mean(), table.std()\n",
    "\n",
    "test_genes = [\"Ets1\", \"Fosb\", \"Mafk\", \"Stat3\"]\n",
    "validation_genes = [\"Aqr\", \"Bach2\", \"Bhlhe40\"]\n",
    "\n",
    "def unperturbed_stats():\n",
    "    return table_means(unperturbed_data(adata_f()), test_genes + validation_genes)\n",
    "\n",
    "def condition_stats(condition):\n",
    "    return table_means(conditioned_data(adata_f(), condition), [condition])\n",
    "\n",
    "def stats_between_condition_and_unperturbed(condition):\n",
    "    unpert_data = unperturbed_data(adata_f())[condition]\n",
    "\n",
    "    columns = []\n",
    "    means = []\n",
    "    stds = []\n",
    "    stats = []\n",
    "    pvalues = []\n",
    "    for experiment in experiments():\n",
    "        experiment_data = conditioned_data(adata_f(), experiment)[condition]\n",
    "        means.append(experiment_data.mean())\n",
    "        stds.append(experiment_data.std())\n",
    "        columns.append(experiment)\n",
    "\n",
    "        test_results = scipy.stats.ttest_ind(unpert_data, experiment_data, equal_var=False)\n",
    "        stats.append(test_results.statistic)\n",
    "        pvalues.append(test_results.pvalue)\n",
    "\n",
    "    return pd.DataFrame([means, stds, stats, pvalues], columns=columns, index = ['mean', 'std', 'statistic', 'pvalue']).T\n",
    "\n",
    "## Input: a heldout or test gene name\n",
    "## Summary: Add a function that for each experiment reports the mean and std\n",
    "## of the input gene in the form of a table. Filter out experiments that aren't statistically\n",
    "## different from the unperturbed case. Then we can inspect\n",
    "## and try to find knockouts that bring the mean closer to 0"
   ]
  },
  {
   "cell_type": "code",
   "execution_count": 8,
   "id": "e9273dcb-8d2a-41f2-b5d4-c9ca916969de",
   "metadata": {
    "execution": {
     "iopub.execute_input": "2023-01-27T07:14:39.244387Z",
     "iopub.status.busy": "2023-01-27T07:14:39.243995Z",
     "iopub.status.idle": "2023-01-27T07:14:47.728844Z",
     "shell.execute_reply": "2023-01-27T07:14:47.727937Z",
     "shell.execute_reply.started": "2023-01-27T07:14:39.244359Z"
    },
    "tags": []
   },
   "outputs": [
    {
     "data": {
      "text/html": [
       "<div>\n",
       "<style scoped>\n",
       "    .dataframe tbody tr th:only-of-type {\n",
       "        vertical-align: middle;\n",
       "    }\n",
       "\n",
       "    .dataframe tbody tr th {\n",
       "        vertical-align: top;\n",
       "    }\n",
       "\n",
       "    .dataframe thead th {\n",
       "        text-align: right;\n",
       "    }\n",
       "</style>\n",
       "<table border=\"1\" class=\"dataframe\">\n",
       "  <thead>\n",
       "    <tr style=\"text-align: right;\">\n",
       "      <th></th>\n",
       "      <th>mean</th>\n",
       "      <th>std</th>\n",
       "      <th>statistic</th>\n",
       "      <th>pvalue</th>\n",
       "    </tr>\n",
       "  </thead>\n",
       "  <tbody>\n",
       "    <tr>\n",
       "      <th>Runx3</th>\n",
       "      <td>0.058418</td>\n",
       "      <td>0.184735</td>\n",
       "      <td>0.993283</td>\n",
       "      <td>0.346370</td>\n",
       "    </tr>\n",
       "    <tr>\n",
       "      <th>Eomes</th>\n",
       "      <td>0.104666</td>\n",
       "      <td>0.252893</td>\n",
       "      <td>0.187459</td>\n",
       "      <td>0.853800</td>\n",
       "    </tr>\n",
       "    <tr>\n",
       "      <th>Il12rb1</th>\n",
       "      <td>0.126749</td>\n",
       "      <td>0.222726</td>\n",
       "      <td>-1.237844</td>\n",
       "      <td>0.216017</td>\n",
       "    </tr>\n",
       "    <tr>\n",
       "      <th>Zfp292</th>\n",
       "      <td>0.121745</td>\n",
       "      <td>0.274124</td>\n",
       "      <td>-0.329258</td>\n",
       "      <td>0.742163</td>\n",
       "    </tr>\n",
       "    <tr>\n",
       "      <th>Hmgb2</th>\n",
       "      <td>0.162969</td>\n",
       "      <td>0.257277</td>\n",
       "      <td>-1.746091</td>\n",
       "      <td>0.083966</td>\n",
       "    </tr>\n",
       "    <tr>\n",
       "      <th>...</th>\n",
       "      <td>...</td>\n",
       "      <td>...</td>\n",
       "      <td>...</td>\n",
       "      <td>...</td>\n",
       "    </tr>\n",
       "    <tr>\n",
       "      <th>Litaf</th>\n",
       "      <td>0.098460</td>\n",
       "      <td>0.222431</td>\n",
       "      <td>1.491743</td>\n",
       "      <td>0.136518</td>\n",
       "    </tr>\n",
       "    <tr>\n",
       "      <th>Foxo1</th>\n",
       "      <td>0.099023</td>\n",
       "      <td>0.208666</td>\n",
       "      <td>0.787603</td>\n",
       "      <td>0.432934</td>\n",
       "    </tr>\n",
       "    <tr>\n",
       "      <th>Tpt1</th>\n",
       "      <td>0.111989</td>\n",
       "      <td>0.199206</td>\n",
       "      <td>0.113687</td>\n",
       "      <td>0.910419</td>\n",
       "    </tr>\n",
       "    <tr>\n",
       "      <th>Oxnad1</th>\n",
       "      <td>0.182861</td>\n",
       "      <td>0.287509</td>\n",
       "      <td>-1.765412</td>\n",
       "      <td>0.082680</td>\n",
       "    </tr>\n",
       "    <tr>\n",
       "      <th>Sp100</th>\n",
       "      <td>0.101427</td>\n",
       "      <td>0.222120</td>\n",
       "      <td>1.535789</td>\n",
       "      <td>0.125031</td>\n",
       "    </tr>\n",
       "  </tbody>\n",
       "</table>\n",
       "<p>66 rows × 4 columns</p>\n",
       "</div>"
      ],
      "text/plain": [
       "             mean       std  statistic    pvalue\n",
       "Runx3    0.058418  0.184735   0.993283  0.346370\n",
       "Eomes    0.104666  0.252893   0.187459  0.853800\n",
       "Il12rb1  0.126749  0.222726  -1.237844  0.216017\n",
       "Zfp292   0.121745  0.274124  -0.329258  0.742163\n",
       "Hmgb2    0.162969  0.257277  -1.746091  0.083966\n",
       "...           ...       ...        ...       ...\n",
       "Litaf    0.098460  0.222431   1.491743  0.136518\n",
       "Foxo1    0.099023  0.208666   0.787603  0.432934\n",
       "Tpt1     0.111989  0.199206   0.113687  0.910419\n",
       "Oxnad1   0.182861  0.287509  -1.765412  0.082680\n",
       "Sp100    0.101427  0.222120   1.535789  0.125031\n",
       "\n",
       "[66 rows x 4 columns]"
      ]
     },
     "execution_count": 8,
     "metadata": {},
     "output_type": "execute_result"
    }
   ],
   "source": [
    "#adata = adata_f()\n",
    "#adata = data_to_df(adata)\n",
    "#table_means(unperturbed_data(adata_f()), test_genes)\n",
    "#set(conditions(adata_f()))\n",
    "#unperturbed_stats()\n",
    "#df_cond = pd.DataFrame(adata_f().obs['condition'])\n",
    "#df_cond\n",
    "stats_between_condition_and_unperturbed('Aqr')"
   ]
  },
  {
   "cell_type": "code",
   "execution_count": 10,
   "id": "de20dddd-166a-42dd-8490-a421984708b7",
   "metadata": {
    "execution": {
     "iopub.execute_input": "2023-01-27T00:37:11.314085Z",
     "iopub.status.busy": "2023-01-27T00:37:11.313676Z",
     "iopub.status.idle": "2023-01-27T00:37:12.651138Z",
     "shell.execute_reply": "2023-01-27T00:37:12.650282Z",
     "shell.execute_reply.started": "2023-01-27T00:37:11.314056Z"
    },
    "tags": []
   },
   "outputs": [
    {
     "data": {
      "text/plain": [
       "66"
      ]
     },
     "execution_count": 10,
     "metadata": {},
     "output_type": "execute_result"
    }
   ],
   "source": [
    "len(experiments())"
   ]
  }
 ],
 "metadata": {
  "kernelspec": {
   "display_name": ".venv",
   "language": "python",
   "name": "python3"
  },
  "language_info": {
   "codemirror_mode": {
    "name": "ipython",
    "version": 3
   },
   "file_extension": ".py",
   "mimetype": "text/x-python",
   "name": "python",
   "nbconvert_exporter": "python",
   "pygments_lexer": "ipython3",
   "version": "3.8.9"
  },
  "vscode": {
   "interpreter": {
    "hash": "b5ded385a6a3365cd45f6ccd0408a063368791e35787717589bf749fc5865b74"
   }
  }
 },
 "nbformat": 4,
 "nbformat_minor": 5
}
