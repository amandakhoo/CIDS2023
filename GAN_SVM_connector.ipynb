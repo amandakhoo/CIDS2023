{
 "cells": [
  {
   "cell_type": "code",
   "execution_count": 1,
   "id": "f3659c9e-ab89-4d67-af36-daac69326c4f",
   "metadata": {
    "execution": {
     "iopub.execute_input": "2023-02-03T23:23:05.862233Z",
     "iopub.status.busy": "2023-02-03T23:23:05.861961Z",
     "iopub.status.idle": "2023-02-03T23:23:07.103968Z",
     "shell.execute_reply": "2023-02-03T23:23:07.103429Z",
     "shell.execute_reply.started": "2023-02-03T23:23:05.862170Z"
    },
    "tags": []
   },
   "outputs": [
    {
     "name": "stderr",
     "output_type": "stream",
     "text": [
      "/Users/preston/git/CIDS2023/.venv/lib/python3.8/site-packages/tqdm/auto.py:22: TqdmWarning: IProgress not found. Please update jupyter and ipywidgets. See https://ipywidgets.readthedocs.io/en/stable/user_install.html\n",
      "  from .autonotebook import tqdm as notebook_tqdm\n"
     ]
    }
   ],
   "source": [
    "import torch\n",
    "import torch.nn as nn\n",
    "import numpy as np\n",
    "import datetime\n",
    "import pytz\n",
    "import pickle\n",
    "import random\n",
    "\n",
    "from torch.utils.data import Dataset\n",
    "from torch.utils.data import DataLoader, TensorDataset\n",
    "\n",
    "import numpy as np\n",
    "import pandas as pd\n",
    "\n",
    "torch.set_default_dtype(torch.float64)"
   ]
  },
  {
   "cell_type": "code",
   "execution_count": 2,
   "id": "51219d3c-f724-44c3-a618-71d16fb9c543",
   "metadata": {
    "execution": {
     "iopub.execute_input": "2023-02-03T23:23:07.105486Z",
     "iopub.status.busy": "2023-02-03T23:23:07.105110Z",
     "iopub.status.idle": "2023-02-03T23:23:07.111778Z",
     "shell.execute_reply": "2023-02-03T23:23:07.111134Z",
     "shell.execute_reply.started": "2023-02-03T23:23:07.105463Z"
    },
    "tags": []
   },
   "outputs": [],
   "source": [
    "class Generator(nn.Module):\n",
    "    def __init__(self, input_dim, output_dim):\n",
    "        super(Generator, self).__init__()\n",
    "        self.generator_stack = nn.Sequential(\n",
    "            nn.Linear(input_dim, 10240),\n",
    "            nn.LeakyReLU(),\n",
    "            nn.Linear(10240, 5120),\n",
    "            nn.BatchNorm1d(5120, momentum=.9),\n",
    "            nn.LeakyReLU(),\n",
    "            nn.Linear(5120, 2560),\n",
    "            nn.BatchNorm1d(2560, momentum=.9),\n",
    "            nn.LeakyReLU(),\n",
    "            nn.Linear(2560, 2560),\n",
    "            nn.BatchNorm1d(2560, momentum=.9),\n",
    "            nn.LeakyReLU(),\n",
    "            nn.Linear(2560, 5120),\n",
    "            nn.BatchNorm1d(5120, momentum=.9),\n",
    "            nn.LeakyReLU(),\n",
    "            nn.Linear(5120, 10240),\n",
    "            nn.BatchNorm1d(10240, momentum=.9),\n",
    "            nn.LeakyReLU(),\n",
    "            nn.Linear(10240, output_dim),\n",
    "            nn.LeakyReLU(),\n",
    "        )\n",
    "\n",
    "    def forward(self, x, cond):\n",
    "        a = torch.cat((x, cond), axis=-1)\n",
    "        #print(a.size()[0])\n",
    "        return self.generator_stack(a)"
   ]
  },
  {
   "cell_type": "code",
   "execution_count": 3,
   "id": "acdb6d25-47ab-48fb-965a-e17ab99b0eae",
   "metadata": {
    "execution": {
     "iopub.execute_input": "2023-02-03T23:23:07.112735Z",
     "iopub.status.busy": "2023-02-03T23:23:07.112534Z",
     "iopub.status.idle": "2023-02-03T23:23:07.116616Z",
     "shell.execute_reply": "2023-02-03T23:23:07.116026Z",
     "shell.execute_reply.started": "2023-02-03T23:23:07.112716Z"
    },
    "tags": []
   },
   "outputs": [],
   "source": [
    "GENE_EMBED_DIM = 150\n",
    "GENE_EXPRESSION_VEC = 15077\n",
    "BATCH_SIZE = 10\n",
    "\n",
    "input_dim = GENE_EXPRESSION_VEC+GENE_EMBED_DIM\n",
    "output_dim = GENE_EXPRESSION_VEC"
   ]
  },
  {
   "cell_type": "code",
   "execution_count": 4,
   "id": "2ca02001-beaa-4237-a288-e14e9e5b69f6",
   "metadata": {
    "execution": {
     "iopub.execute_input": "2023-02-03T21:40:06.557282Z",
     "iopub.status.busy": "2023-02-03T21:40:06.556891Z",
     "iopub.status.idle": "2023-02-03T21:40:06.560314Z",
     "shell.execute_reply": "2023-02-03T21:40:06.559605Z",
     "shell.execute_reply.started": "2023-02-03T21:40:06.557258Z"
    },
    "tags": []
   },
   "outputs": [],
   "source": [
    "#def get_data(train_loader):\n",
    "   \n",
    "    #for index, batch_inputs in enumerate(train_loader):\n",
    "     #   KO_gene, batch_X, batch_y = batch_inputs\n",
    "        \n",
    "    #return KO_gene, batch_X, batch_y\n",
    "\n",
    "\n",
    "#train_loader = DataLoader(dataset, batch_size=BATCH_SIZE, shuffle=True)\n",
    "#KO_gene, batch_X, batch_y = get_data(train_loader)\n"
   ]
  },
  {
   "cell_type": "markdown",
   "id": "fa9af455-f67d-401f-a463-b5a03185cf9f",
   "metadata": {
    "execution": {
     "iopub.execute_input": "2023-02-03T21:06:22.376055Z",
     "iopub.status.busy": "2023-02-03T21:06:22.375681Z",
     "iopub.status.idle": "2023-02-03T21:06:22.541079Z",
     "shell.execute_reply": "2023-02-03T21:06:22.540528Z",
     "shell.execute_reply.started": "2023-02-03T21:06:22.376031Z"
    },
    "tags": []
   },
   "source": [
    "Generate data:\n",
    "- For every gene in the 15077 list:\n",
    "     - Get the gene embedding\n",
    "     - choose 1000 random unperturbed cells\n",
    "- Feed into the generator (unperturbed cells, KO_gene embedding)\n",
    "- Return 1000 transcripts of perturbed cells\n",
    "- Run through the classifier"
   ]
  },
  {
   "cell_type": "code",
   "execution_count": 5,
   "id": "6565163b-58da-466f-9499-5303c1983843",
   "metadata": {
    "execution": {
     "iopub.execute_input": "2023-02-03T23:23:37.787894Z",
     "iopub.status.busy": "2023-02-03T23:23:37.787515Z",
     "iopub.status.idle": "2023-02-03T23:23:37.792164Z",
     "shell.execute_reply": "2023-02-03T23:23:37.791524Z",
     "shell.execute_reply.started": "2023-02-03T23:23:37.787869Z"
    },
    "tags": []
   },
   "outputs": [],
   "source": [
    "def dataloader_mini(KO_gene, gene_emb, gene_emb_label, unperturbed_expr_df, n_cells):\n",
    "   \n",
    "    #get embedding of KO gene\n",
    "    #emb_idx is the index of the gene embeddings for that particular KO gene\n",
    "    emb_idx = gene_emb_label[KO_gene.upper()]  #an index\n",
    "    #Embeddings of the KO gene:\n",
    "    KO_gene_emb = np.array(gene_emb.iloc[emb_idx]) #an embedding\n",
    "    \n",
    "    #select n random unperturbed cells\n",
    "    \n",
    "    rand_index = random.sample(range(0, len(unperturbed_expr_df) - 1), n_cells)\n",
    "    unpert_input = np.array(unperturbed_expr_df.iloc[rand_index])\n",
    "    \n",
    "    return KO_gene, unpert_input, KO_gene_emb"
   ]
  },
  {
   "cell_type": "code",
   "execution_count": 6,
   "id": "22992147-9784-4bdc-8d66-4b1064b27068",
   "metadata": {
    "execution": {
     "iopub.execute_input": "2023-02-03T23:23:38.119428Z",
     "iopub.status.busy": "2023-02-03T23:23:38.119054Z",
     "iopub.status.idle": "2023-02-03T23:23:38.122739Z",
     "shell.execute_reply": "2023-02-03T23:23:38.122257Z",
     "shell.execute_reply.started": "2023-02-03T23:23:38.119405Z"
    },
    "tags": []
   },
   "outputs": [],
   "source": [
    "def generate_data(unpert_input, KO_gene_emb, model):\n",
    "    model.eval()\n",
    "    z = unpert_input\n",
    "    cond = KO_gene_emb \n",
    "    generated_data = model(z, cond)\n",
    "    return generated_data"
   ]
  },
  {
   "cell_type": "code",
   "execution_count": 7,
   "id": "f263d531-6b77-46e1-866b-515386f543fc",
   "metadata": {
    "execution": {
     "iopub.execute_input": "2023-02-03T23:23:38.511564Z",
     "iopub.status.busy": "2023-02-03T23:23:38.511200Z",
     "iopub.status.idle": "2023-02-03T23:23:38.515723Z",
     "shell.execute_reply": "2023-02-03T23:23:38.515226Z",
     "shell.execute_reply.started": "2023-02-03T23:23:38.511540Z"
    },
    "tags": []
   },
   "outputs": [],
   "source": [
    "def classify_state_SVM(generated_data):\n",
    "    \n",
    "    #get the gene names for the 15077 genes\n",
    "    columns = pd.read_csv('./data/unperturbed_gene_expression.csv', nrows = 0).columns\n",
    "    #get gene names for what the SVM expects\n",
    "    SVM_filt = pd.read_csv('./data/unperturbed_filtered.csv', nrows = 0).columns\n",
    "    #turn the generated transcripts into a dataframe for filtering in the next step\n",
    "    cell = pd.DataFrame(generated_data.detach().numpy(), columns = columns)\n",
    "    #grab just the genes that the SVM uses to predict t cell state\n",
    "    SVM_input = cell[SVM_filt] \n",
    "    \n",
    "    #load the svm\n",
    "    loaded_model = pickle.load(open('./saved_models/svc_model_unperturbed.sav', 'rb'))\n",
    "    preds = loaded_model.predict(SVM_input)\n",
    "    \n",
    "    return preds"
   ]
  },
  {
   "cell_type": "code",
   "execution_count": 8,
   "id": "0186f027-2f4f-4759-9672-3eb5d77799f0",
   "metadata": {
    "execution": {
     "iopub.execute_input": "2023-02-03T23:23:39.222672Z",
     "iopub.status.busy": "2023-02-03T23:23:39.222304Z",
     "iopub.status.idle": "2023-02-03T23:24:00.128910Z",
     "shell.execute_reply": "2023-02-03T23:24:00.128338Z",
     "shell.execute_reply.started": "2023-02-03T23:23:39.222649Z"
    },
    "tags": []
   },
   "outputs": [],
   "source": [
    "gene_list = pd.read_csv('./data/unperturbed_gene_expression.csv', nrows = 0).columns.values\n",
    "gene_emb = pd.read_csv('./data/gene_embeddings.csv')\n",
    "gene_emb_label = np.load('./gene_embedding/entity2labeldict_TransE_nepochs_128.npy', allow_pickle = True).item()\n",
    "unperturbed_expr_df = pd.read_csv('./data/unperturbed_gene_expression.csv')"
   ]
  },
  {
   "cell_type": "code",
   "execution_count": 9,
   "id": "62d16263-3414-46bf-9339-3a1e2eaebed9",
   "metadata": {
    "execution": {
     "iopub.execute_input": "2023-02-03T23:24:00.130262Z",
     "iopub.status.busy": "2023-02-03T23:24:00.129970Z",
     "iopub.status.idle": "2023-02-03T23:24:00.133049Z",
     "shell.execute_reply": "2023-02-03T23:24:00.132562Z",
     "shell.execute_reply.started": "2023-02-03T23:24:00.130240Z"
    },
    "tags": []
   },
   "outputs": [],
   "source": [
    "n_cells = 100"
   ]
  },
  {
   "cell_type": "code",
   "execution_count": 10,
   "id": "77acdfc2-271d-4e3c-9fcd-f9257ae4a43b",
   "metadata": {
    "execution": {
     "iopub.execute_input": "2023-02-03T23:28:15.570482Z",
     "iopub.status.busy": "2023-02-03T23:28:15.570099Z",
     "iopub.status.idle": "2023-02-03T23:28:49.744603Z",
     "shell.execute_reply": "2023-02-03T23:28:49.743955Z",
     "shell.execute_reply.started": "2023-02-03T23:28:15.570457Z"
    },
    "tags": []
   },
   "outputs": [],
   "source": [
    "KO_gene_list = []\n",
    "KO_gene_list_found = []\n",
    "KO_gene_list_not_found = []\n",
    "pred_list = []\n",
    "\n",
    "model = torch.load(\"./saved_models/Model_G_300.pth\") \n",
    "\n",
    "for gene in gene_list[0:10]:\n",
    "    \n",
    "    #load the data and KO gene\n",
    "    pred = None\n",
    "    KO_gene_list.append(gene)\n",
    "    try:\n",
    "        KO_gene, unpert_input, KO_gene_emb = dataloader_mini(KO_gene = gene, gene_emb = gene_emb, gene_emb_label = gene_emb_label, unperturbed_expr_df = unperturbed_expr_df, n_cells = n_cells)\n",
    "        #unpert_input_list.append(unpert_input)\n",
    "        #KO_gene_emb_list.append(KO_gene_emb)\n",
    "    \n",
    "        #generate data using GAN\n",
    "        #batch size comes first\n",
    "        KO_gene_tensor = torch.tensor(np.tile(KO_gene_emb, (n_cells, 1)))\n",
    "        #print(unpert_input.shape)\n",
    "        generated_data = generate_data(torch.tensor(unpert_input), KO_gene_tensor, model)\n",
    "    \n",
    "        #run the svm classifier\n",
    "        pred = classify_state_SVM(generated_data)\n",
    "    except:\n",
    "        KO_gene_list_not_found.append(gene)\n",
    "        continue\n",
    "    KO_gene_list_found.append(gene)\n",
    "    pred_list.append(pred)\n",
    "    \n",
    "    "
   ]
  },
  {
   "cell_type": "code",
   "execution_count": 13,
   "id": "34368064-eafa-44e6-9575-ecbf696185da",
   "metadata": {
    "execution": {
     "iopub.execute_input": "2023-02-03T23:29:08.047936Z",
     "iopub.status.busy": "2023-02-03T23:29:08.047547Z",
     "iopub.status.idle": "2023-02-03T23:29:08.051812Z",
     "shell.execute_reply": "2023-02-03T23:29:08.051326Z",
     "shell.execute_reply.started": "2023-02-03T23:29:08.047912Z"
    },
    "tags": []
   },
   "outputs": [
    {
     "data": {
      "text/plain": [
       "['Mrpl15', 'Lypla1', 'Tcea1', 'Atp6v1h', 'Rb1cc1', 'Pcmtd1', 'Rrs1', 'Adhfe1']"
      ]
     },
     "execution_count": 13,
     "metadata": {},
     "output_type": "execute_result"
    }
   ],
   "source": [
    "KO_gene_list_found #TODO: how to combine genes not found and genes found in embeddings."
   ]
  },
  {
   "cell_type": "code",
   "execution_count": 12,
   "id": "ee96e62c",
   "metadata": {},
   "outputs": [
    {
     "data": {
      "text/plain": [
       "['4732440D04Rik', 'Gm26901']"
      ]
     },
     "execution_count": 12,
     "metadata": {},
     "output_type": "execute_result"
    }
   ],
   "source": [
    "KO_gene_list_not_found"
   ]
  },
  {
   "cell_type": "code",
   "execution_count": 41,
   "id": "b67c93a7",
   "metadata": {},
   "outputs": [],
   "source": [
    "def value_or_zero(data, state):\n",
    "    if state in data:\n",
    "        return data[state]\n",
    "    else:\n",
    "        return 0.0\n",
    "\n",
    "def tcell_state_proportions(data): \n",
    "    cell_states = ['progenitor', 'effector', 'terminal exhausted', 'cycling', 'other']\n",
    "    proportions = []\n",
    "    for gene in data.index:\n",
    "        value_counts = data.loc[gene].value_counts()\n",
    "        total = value_counts.sum()\n",
    "        state_proportions = value_counts/total\n",
    "\n",
    "        gene_proportions = {}\n",
    "        for state in cell_states:\n",
    "            gene_proportions[state] = value_or_zero(state_proportions, state)\n",
    "        proportions.append(gene_proportions)\n",
    "    return pd.DataFrame(proportions, index = data.index)\n"
   ]
  },
  {
   "cell_type": "code",
   "execution_count": 42,
   "id": "e92bb124-aea1-4230-a579-71953e2a43be",
   "metadata": {
    "execution": {
     "iopub.execute_input": "2023-02-03T23:28:49.746062Z",
     "iopub.status.busy": "2023-02-03T23:28:49.745750Z",
     "iopub.status.idle": "2023-02-03T23:28:49.761880Z",
     "shell.execute_reply": "2023-02-03T23:28:49.761290Z",
     "shell.execute_reply.started": "2023-02-03T23:28:49.746040Z"
    },
    "tags": []
   },
   "outputs": [
    {
     "name": "stdout",
     "output_type": "stream",
     "text": [
      "effector    1.0\n",
      "Name: Mrpl15, dtype: float64\n",
      "effector    1.0\n",
      "Name: Lypla1, dtype: float64\n",
      "effector    1.0\n",
      "Name: Tcea1, dtype: float64\n",
      "effector    1.0\n",
      "Name: Atp6v1h, dtype: float64\n",
      "effector    1.0\n",
      "Name: Rb1cc1, dtype: float64\n",
      "effector    1.0\n",
      "Name: Pcmtd1, dtype: float64\n",
      "effector    1.0\n",
      "Name: Rrs1, dtype: float64\n",
      "effector    1.0\n",
      "Name: Adhfe1, dtype: float64\n",
      "100\n"
     ]
    }
   ],
   "source": [
    "output = pd.DataFrame(pred_list, index = KO_gene_list_found)\n",
    "#TODO: get cell state proportions (sum(t_cell_state)/n_cells)\n",
    "#TODO: produce csv in correct format\n",
    "for gene in output.index:\n",
    "    value_counts = output.loc[gene].value_counts()\n",
    "    total = value_counts.sum()\n",
    "    print(value_counts/total)\n",
    "\n",
    "if 'other' in output.loc['Lypla1'].value_counts():\n",
    "    print(output.loc['Lypla1'].value_counts()['other'])\n",
    "if 'effector' in output.loc['Lypla1'].value_counts():\n",
    "    print(output.loc['Lypla1'].value_counts()['effector'])\n",
    "\n",
    "proportions = tcell_state_proportions(output )\n",
    "proportions.to_csv(\"part_c_output.csv\", header=False)"
   ]
  },
  {
   "cell_type": "code",
   "execution_count": 59,
   "id": "cdba42c3",
   "metadata": {},
   "outputs": [],
   "source": [
    "def enough_cycling(data):\n",
    "  enough_cycling = []\n",
    "  for gene in data.index:\n",
    "    if value_or_zero(data.loc[gene], 'cycling') >= 0.05:\n",
    "      enough_cycling.append(1)\n",
    "    else:\n",
    "      enough_cycling.append(0)\n",
    "    \n",
    "  return enough_cycling\n",
    "\n",
    "def l1_loss_part_a(row):\n",
    "    return abs(value_or_zero(row, 'cycling') - 0) + \\\n",
    "      abs(value_or_zero(row, 'terminal exhausted') - 0) + \\\n",
    "        abs(value_or_zero(row, 'effector') - 0) + \\\n",
    "          abs(value_or_zero(row, 'other') - 0) + \\\n",
    "            abs(value_or_zero(row, 'progenitor') - 1) \n",
    "\n",
    "def loss_part_b(row):\n",
    "  return (value_or_zero(row, 'progenitor') / 0.0675) + \\\n",
    "    (value_or_zero(row, 'effector') / 0.2097) - \\\n",
    "      (value_or_zero(row, 'terminal exhausted') / 0.3134) + \\\n",
    "        (value_or_zero(row, 'cycling') / 0.3921)"
   ]
  },
  {
   "cell_type": "code",
   "execution_count": 44,
   "id": "d4c8443b",
   "metadata": {},
   "outputs": [],
   "source": [
    "proportions['enough_cycling'] = enough_cycling(proportions)"
   ]
  },
  {
   "cell_type": "code",
   "execution_count": 57,
   "id": "615c7871",
   "metadata": {},
   "outputs": [
    {
     "data": {
      "text/html": [
       "<div>\n",
       "<style scoped>\n",
       "    .dataframe tbody tr th:only-of-type {\n",
       "        vertical-align: middle;\n",
       "    }\n",
       "\n",
       "    .dataframe tbody tr th {\n",
       "        vertical-align: top;\n",
       "    }\n",
       "\n",
       "    .dataframe thead th {\n",
       "        text-align: right;\n",
       "    }\n",
       "</style>\n",
       "<table border=\"1\" class=\"dataframe\">\n",
       "  <thead>\n",
       "    <tr style=\"text-align: right;\">\n",
       "      <th></th>\n",
       "      <th>progenitor</th>\n",
       "      <th>effector</th>\n",
       "      <th>terminal exhausted</th>\n",
       "      <th>cycling</th>\n",
       "      <th>other</th>\n",
       "      <th>enough_cycling</th>\n",
       "    </tr>\n",
       "  </thead>\n",
       "  <tbody>\n",
       "    <tr>\n",
       "      <th>Mrpl15</th>\n",
       "      <td>0.0</td>\n",
       "      <td>1.0</td>\n",
       "      <td>0.0</td>\n",
       "      <td>0.0</td>\n",
       "      <td>0.0</td>\n",
       "      <td>0</td>\n",
       "    </tr>\n",
       "    <tr>\n",
       "      <th>Lypla1</th>\n",
       "      <td>0.0</td>\n",
       "      <td>1.0</td>\n",
       "      <td>0.0</td>\n",
       "      <td>0.0</td>\n",
       "      <td>0.0</td>\n",
       "      <td>0</td>\n",
       "    </tr>\n",
       "    <tr>\n",
       "      <th>Tcea1</th>\n",
       "      <td>0.0</td>\n",
       "      <td>1.0</td>\n",
       "      <td>0.0</td>\n",
       "      <td>0.0</td>\n",
       "      <td>0.0</td>\n",
       "      <td>0</td>\n",
       "    </tr>\n",
       "    <tr>\n",
       "      <th>Atp6v1h</th>\n",
       "      <td>0.0</td>\n",
       "      <td>1.0</td>\n",
       "      <td>0.0</td>\n",
       "      <td>0.0</td>\n",
       "      <td>0.0</td>\n",
       "      <td>0</td>\n",
       "    </tr>\n",
       "    <tr>\n",
       "      <th>Rb1cc1</th>\n",
       "      <td>0.0</td>\n",
       "      <td>1.0</td>\n",
       "      <td>0.0</td>\n",
       "      <td>0.0</td>\n",
       "      <td>0.0</td>\n",
       "      <td>0</td>\n",
       "    </tr>\n",
       "    <tr>\n",
       "      <th>Pcmtd1</th>\n",
       "      <td>0.0</td>\n",
       "      <td>1.0</td>\n",
       "      <td>0.0</td>\n",
       "      <td>0.0</td>\n",
       "      <td>0.0</td>\n",
       "      <td>0</td>\n",
       "    </tr>\n",
       "    <tr>\n",
       "      <th>Rrs1</th>\n",
       "      <td>0.0</td>\n",
       "      <td>1.0</td>\n",
       "      <td>0.0</td>\n",
       "      <td>0.0</td>\n",
       "      <td>0.0</td>\n",
       "      <td>0</td>\n",
       "    </tr>\n",
       "    <tr>\n",
       "      <th>Adhfe1</th>\n",
       "      <td>0.0</td>\n",
       "      <td>1.0</td>\n",
       "      <td>0.0</td>\n",
       "      <td>0.0</td>\n",
       "      <td>0.0</td>\n",
       "      <td>0</td>\n",
       "    </tr>\n",
       "  </tbody>\n",
       "</table>\n",
       "</div>"
      ],
      "text/plain": [
       "         progenitor  effector  terminal exhausted  cycling  other  \\\n",
       "Mrpl15          0.0       1.0                 0.0      0.0    0.0   \n",
       "Lypla1          0.0       1.0                 0.0      0.0    0.0   \n",
       "Tcea1           0.0       1.0                 0.0      0.0    0.0   \n",
       "Atp6v1h         0.0       1.0                 0.0      0.0    0.0   \n",
       "Rb1cc1          0.0       1.0                 0.0      0.0    0.0   \n",
       "Pcmtd1          0.0       1.0                 0.0      0.0    0.0   \n",
       "Rrs1            0.0       1.0                 0.0      0.0    0.0   \n",
       "Adhfe1          0.0       1.0                 0.0      0.0    0.0   \n",
       "\n",
       "         enough_cycling  \n",
       "Mrpl15                0  \n",
       "Lypla1                0  \n",
       "Tcea1                 0  \n",
       "Atp6v1h               0  \n",
       "Rb1cc1                0  \n",
       "Pcmtd1                0  \n",
       "Rrs1                  0  \n",
       "Adhfe1                0  "
      ]
     },
     "execution_count": 57,
     "metadata": {},
     "output_type": "execute_result"
    }
   ],
   "source": [
    "proportions.sort_index(key=lambda gene: l1_loss_part_a(proportions.loc[gene]))"
   ]
  },
  {
   "cell_type": "code",
   "execution_count": 60,
   "id": "e898cf2b",
   "metadata": {},
   "outputs": [
    {
     "data": {
      "text/html": [
       "<div>\n",
       "<style scoped>\n",
       "    .dataframe tbody tr th:only-of-type {\n",
       "        vertical-align: middle;\n",
       "    }\n",
       "\n",
       "    .dataframe tbody tr th {\n",
       "        vertical-align: top;\n",
       "    }\n",
       "\n",
       "    .dataframe thead th {\n",
       "        text-align: right;\n",
       "    }\n",
       "</style>\n",
       "<table border=\"1\" class=\"dataframe\">\n",
       "  <thead>\n",
       "    <tr style=\"text-align: right;\">\n",
       "      <th></th>\n",
       "      <th>progenitor</th>\n",
       "      <th>effector</th>\n",
       "      <th>terminal exhausted</th>\n",
       "      <th>cycling</th>\n",
       "      <th>other</th>\n",
       "      <th>enough_cycling</th>\n",
       "    </tr>\n",
       "  </thead>\n",
       "  <tbody>\n",
       "    <tr>\n",
       "      <th>Mrpl15</th>\n",
       "      <td>0.0</td>\n",
       "      <td>1.0</td>\n",
       "      <td>0.0</td>\n",
       "      <td>0.0</td>\n",
       "      <td>0.0</td>\n",
       "      <td>0</td>\n",
       "    </tr>\n",
       "    <tr>\n",
       "      <th>Lypla1</th>\n",
       "      <td>0.0</td>\n",
       "      <td>1.0</td>\n",
       "      <td>0.0</td>\n",
       "      <td>0.0</td>\n",
       "      <td>0.0</td>\n",
       "      <td>0</td>\n",
       "    </tr>\n",
       "    <tr>\n",
       "      <th>Tcea1</th>\n",
       "      <td>0.0</td>\n",
       "      <td>1.0</td>\n",
       "      <td>0.0</td>\n",
       "      <td>0.0</td>\n",
       "      <td>0.0</td>\n",
       "      <td>0</td>\n",
       "    </tr>\n",
       "    <tr>\n",
       "      <th>Atp6v1h</th>\n",
       "      <td>0.0</td>\n",
       "      <td>1.0</td>\n",
       "      <td>0.0</td>\n",
       "      <td>0.0</td>\n",
       "      <td>0.0</td>\n",
       "      <td>0</td>\n",
       "    </tr>\n",
       "    <tr>\n",
       "      <th>Rb1cc1</th>\n",
       "      <td>0.0</td>\n",
       "      <td>1.0</td>\n",
       "      <td>0.0</td>\n",
       "      <td>0.0</td>\n",
       "      <td>0.0</td>\n",
       "      <td>0</td>\n",
       "    </tr>\n",
       "    <tr>\n",
       "      <th>Pcmtd1</th>\n",
       "      <td>0.0</td>\n",
       "      <td>1.0</td>\n",
       "      <td>0.0</td>\n",
       "      <td>0.0</td>\n",
       "      <td>0.0</td>\n",
       "      <td>0</td>\n",
       "    </tr>\n",
       "    <tr>\n",
       "      <th>Rrs1</th>\n",
       "      <td>0.0</td>\n",
       "      <td>1.0</td>\n",
       "      <td>0.0</td>\n",
       "      <td>0.0</td>\n",
       "      <td>0.0</td>\n",
       "      <td>0</td>\n",
       "    </tr>\n",
       "    <tr>\n",
       "      <th>Adhfe1</th>\n",
       "      <td>0.0</td>\n",
       "      <td>1.0</td>\n",
       "      <td>0.0</td>\n",
       "      <td>0.0</td>\n",
       "      <td>0.0</td>\n",
       "      <td>0</td>\n",
       "    </tr>\n",
       "  </tbody>\n",
       "</table>\n",
       "</div>"
      ],
      "text/plain": [
       "         progenitor  effector  terminal exhausted  cycling  other  \\\n",
       "Mrpl15          0.0       1.0                 0.0      0.0    0.0   \n",
       "Lypla1          0.0       1.0                 0.0      0.0    0.0   \n",
       "Tcea1           0.0       1.0                 0.0      0.0    0.0   \n",
       "Atp6v1h         0.0       1.0                 0.0      0.0    0.0   \n",
       "Rb1cc1          0.0       1.0                 0.0      0.0    0.0   \n",
       "Pcmtd1          0.0       1.0                 0.0      0.0    0.0   \n",
       "Rrs1            0.0       1.0                 0.0      0.0    0.0   \n",
       "Adhfe1          0.0       1.0                 0.0      0.0    0.0   \n",
       "\n",
       "         enough_cycling  \n",
       "Mrpl15                0  \n",
       "Lypla1                0  \n",
       "Tcea1                 0  \n",
       "Atp6v1h               0  \n",
       "Rb1cc1                0  \n",
       "Pcmtd1                0  \n",
       "Rrs1                  0  \n",
       "Adhfe1                0  "
      ]
     },
     "execution_count": 60,
     "metadata": {},
     "output_type": "execute_result"
    }
   ],
   "source": [
    "proportions.sort_index(key=lambda gene: loss_part_b(proportions.loc[gene]))"
   ]
  }
 ],
 "metadata": {
  "kernelspec": {
   "display_name": ".venv",
   "language": "python",
   "name": "python3"
  },
  "language_info": {
   "codemirror_mode": {
    "name": "ipython",
    "version": 3
   },
   "file_extension": ".py",
   "mimetype": "text/x-python",
   "name": "python",
   "nbconvert_exporter": "python",
   "pygments_lexer": "ipython3",
   "version": "3.8.9"
  },
  "vscode": {
   "interpreter": {
    "hash": "07f87e5aa4ea373706471be662c54053069fe0fa7a416f5e213b1290595948c7"
   }
  }
 },
 "nbformat": 4,
 "nbformat_minor": 5
}
