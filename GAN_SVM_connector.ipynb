{
 "cells": [
  {
   "cell_type": "code",
   "execution_count": 1,
   "id": "f3659c9e-ab89-4d67-af36-daac69326c4f",
   "metadata": {
    "execution": {
     "iopub.execute_input": "2023-02-03T23:23:05.862233Z",
     "iopub.status.busy": "2023-02-03T23:23:05.861961Z",
     "iopub.status.idle": "2023-02-03T23:23:07.103968Z",
     "shell.execute_reply": "2023-02-03T23:23:07.103429Z",
     "shell.execute_reply.started": "2023-02-03T23:23:05.862170Z"
    },
    "tags": []
   },
   "outputs": [],
   "source": [
    "import torch\n",
    "import torch.nn as nn\n",
    "import numpy as np\n",
    "import datetime\n",
    "import pytz\n",
    "import pickle\n",
    "import random\n",
    "\n",
    "from torch.utils.data import Dataset\n",
    "from torch.utils.data import DataLoader, TensorDataset\n",
    "\n",
    "import numpy as np\n",
    "import pandas as pd\n",
    "\n",
    "torch.set_default_dtype(torch.float64)"
   ]
  },
  {
   "cell_type": "code",
   "execution_count": 2,
   "id": "51219d3c-f724-44c3-a618-71d16fb9c543",
   "metadata": {
    "execution": {
     "iopub.execute_input": "2023-02-03T23:23:07.105486Z",
     "iopub.status.busy": "2023-02-03T23:23:07.105110Z",
     "iopub.status.idle": "2023-02-03T23:23:07.111778Z",
     "shell.execute_reply": "2023-02-03T23:23:07.111134Z",
     "shell.execute_reply.started": "2023-02-03T23:23:07.105463Z"
    },
    "tags": []
   },
   "outputs": [],
   "source": [
    "class Generator(nn.Module):\n",
    "    def __init__(self, input_dim, output_dim):\n",
    "        super(Generator, self).__init__()\n",
    "        self.generator_stack = nn.Sequential(\n",
    "            nn.Linear(input_dim, 10240),\n",
    "            nn.LeakyReLU(),\n",
    "            nn.Linear(10240, 5120),\n",
    "            nn.BatchNorm1d(5120, momentum=.9),\n",
    "            nn.LeakyReLU(),\n",
    "            nn.Linear(5120, 2560),\n",
    "            nn.BatchNorm1d(2560, momentum=.9),\n",
    "            nn.LeakyReLU(),\n",
    "            nn.Linear(2560, 2560),\n",
    "            nn.BatchNorm1d(2560, momentum=.9),\n",
    "            nn.LeakyReLU(),\n",
    "            nn.Linear(2560, 5120),\n",
    "            nn.BatchNorm1d(5120, momentum=.9),\n",
    "            nn.LeakyReLU(),\n",
    "            nn.Linear(5120, 10240),\n",
    "            nn.BatchNorm1d(10240, momentum=.9),\n",
    "            nn.LeakyReLU(),\n",
    "            nn.Linear(10240, output_dim),\n",
    "            nn.LeakyReLU(),\n",
    "        )\n",
    "\n",
    "    def forward(self, x, cond):\n",
    "        a = torch.cat((x, cond), axis=-1)\n",
    "        #print(a.size()[0])\n",
    "        return self.generator_stack(a)"
   ]
  },
  {
   "cell_type": "code",
   "execution_count": 3,
   "id": "acdb6d25-47ab-48fb-965a-e17ab99b0eae",
   "metadata": {
    "execution": {
     "iopub.execute_input": "2023-02-03T23:23:07.112735Z",
     "iopub.status.busy": "2023-02-03T23:23:07.112534Z",
     "iopub.status.idle": "2023-02-03T23:23:07.116616Z",
     "shell.execute_reply": "2023-02-03T23:23:07.116026Z",
     "shell.execute_reply.started": "2023-02-03T23:23:07.112716Z"
    },
    "tags": []
   },
   "outputs": [],
   "source": [
    "GENE_EMBED_DIM = 150\n",
    "GENE_EXPRESSION_VEC = 15077\n",
    "BATCH_SIZE = 1\n",
    "\n",
    "input_dim = GENE_EXPRESSION_VEC+GENE_EMBED_DIM\n",
    "output_dim = GENE_EXPRESSION_VEC"
   ]
  },
  {
   "cell_type": "code",
   "execution_count": 4,
   "id": "2ca02001-beaa-4237-a288-e14e9e5b69f6",
   "metadata": {
    "execution": {
     "iopub.execute_input": "2023-02-03T21:40:06.557282Z",
     "iopub.status.busy": "2023-02-03T21:40:06.556891Z",
     "iopub.status.idle": "2023-02-03T21:40:06.560314Z",
     "shell.execute_reply": "2023-02-03T21:40:06.559605Z",
     "shell.execute_reply.started": "2023-02-03T21:40:06.557258Z"
    },
    "tags": []
   },
   "outputs": [],
   "source": [
    "#def get_data(train_loader):\n",
    "   \n",
    "    #for index, batch_inputs in enumerate(train_loader):\n",
    "     #   KO_gene, batch_X, batch_y = batch_inputs\n",
    "        \n",
    "    #return KO_gene, batch_X, batch_y\n",
    "\n",
    "\n",
    "#train_loader = DataLoader(dataset, batch_size=BATCH_SIZE, shuffle=True)\n",
    "#KO_gene, batch_X, batch_y = get_data(train_loader)\n"
   ]
  },
  {
   "cell_type": "markdown",
   "id": "fa9af455-f67d-401f-a463-b5a03185cf9f",
   "metadata": {
    "execution": {
     "iopub.execute_input": "2023-02-03T21:06:22.376055Z",
     "iopub.status.busy": "2023-02-03T21:06:22.375681Z",
     "iopub.status.idle": "2023-02-03T21:06:22.541079Z",
     "shell.execute_reply": "2023-02-03T21:06:22.540528Z",
     "shell.execute_reply.started": "2023-02-03T21:06:22.376031Z"
    },
    "tags": []
   },
   "source": [
    "Generate data:\n",
    "- For every gene in the 15077 list:\n",
    "     - Get the gene embedding\n",
    "     - choose 1000 random unperturbed cells\n",
    "- Feed into the generator (unperturbed cells, KO_gene embedding)\n",
    "- Return 1000 transcripts of perturbed cells\n",
    "- Run through the classifier"
   ]
  },
  {
   "cell_type": "code",
   "execution_count": 7,
   "id": "6565163b-58da-466f-9499-5303c1983843",
   "metadata": {
    "execution": {
     "iopub.execute_input": "2023-02-03T23:23:37.787894Z",
     "iopub.status.busy": "2023-02-03T23:23:37.787515Z",
     "iopub.status.idle": "2023-02-03T23:23:37.792164Z",
     "shell.execute_reply": "2023-02-03T23:23:37.791524Z",
     "shell.execute_reply.started": "2023-02-03T23:23:37.787869Z"
    },
    "tags": []
   },
   "outputs": [],
   "source": [
    "def dataloader_mini(KO_gene, gene_emb, gene_emb_label, unperturbed_expr_df, n_cells):\n",
    "   \n",
    "    #get embedding of KO gene\n",
    "    #emb_idx is the index of the gene embeddings for that particular KO gene\n",
    "    emb_idx = gene_emb_label[KO_gene.upper()]  #an index\n",
    "    #Embeddings of the KO gene:\n",
    "    KO_gene_emb = np.array(gene_emb.iloc[emb_idx]) #an embedding\n",
    "    \n",
    "    #select n random unperturbed cells\n",
    "    \n",
    "    rand_index = random.sample(range(0, len(unperturbed_expr_df) - 1), n_cells)\n",
    "    unpert_input = np.array(unperturbed_expr_df.iloc[rand_index])\n",
    "    \n",
    "    return KO_gene, unpert_input, KO_gene_emb"
   ]
  },
  {
   "cell_type": "code",
   "execution_count": 8,
   "id": "22992147-9784-4bdc-8d66-4b1064b27068",
   "metadata": {
    "execution": {
     "iopub.execute_input": "2023-02-03T23:23:38.119428Z",
     "iopub.status.busy": "2023-02-03T23:23:38.119054Z",
     "iopub.status.idle": "2023-02-03T23:23:38.122739Z",
     "shell.execute_reply": "2023-02-03T23:23:38.122257Z",
     "shell.execute_reply.started": "2023-02-03T23:23:38.119405Z"
    },
    "tags": []
   },
   "outputs": [],
   "source": [
    "def generate_data(unpert_input, KO_gene_emb, model):\n",
    "    model.eval()\n",
    "    z = unpert_input\n",
    "    cond = KO_gene_emb \n",
    "    generated_data = model(z, cond)\n",
    "    return generated_data"
   ]
  },
  {
   "cell_type": "code",
   "execution_count": 9,
   "id": "f263d531-6b77-46e1-866b-515386f543fc",
   "metadata": {
    "execution": {
     "iopub.execute_input": "2023-02-03T23:23:38.511564Z",
     "iopub.status.busy": "2023-02-03T23:23:38.511200Z",
     "iopub.status.idle": "2023-02-03T23:23:38.515723Z",
     "shell.execute_reply": "2023-02-03T23:23:38.515226Z",
     "shell.execute_reply.started": "2023-02-03T23:23:38.511540Z"
    },
    "tags": []
   },
   "outputs": [],
   "source": [
    "def classify_state_SVM(generated_data):\n",
    "    \n",
    "    #get the gene names for the 15077 genes\n",
    "    columns = pd.read_csv('./data/unperturbed_gene_expression.csv', nrows = 0).columns\n",
    "    #get gene names for what the SVM expects\n",
    "    SVM_filt = pd.read_csv('./data/unperturbed_filtered.csv', nrows = 0).columns\n",
    "    #turn the generated transcripts into a dataframe for filtering in the next step\n",
    "    cell = pd.DataFrame(generated_data.detach().numpy(), columns = columns)\n",
    "    #grab just the genes that the SVM uses to predict t cell state\n",
    "    SVM_input = cell[SVM_filt] \n",
    "    \n",
    "    #load the svm\n",
    "    loaded_model = pickle.load(open('../saved_models/svc_model_unperturbed.sav', 'rb'))\n",
    "    preds = loaded_model.predict(SVM_input)\n",
    "    \n",
    "    return preds"
   ]
  },
  {
   "cell_type": "code",
   "execution_count": 10,
   "id": "0186f027-2f4f-4759-9672-3eb5d77799f0",
   "metadata": {
    "execution": {
     "iopub.execute_input": "2023-02-03T23:23:39.222672Z",
     "iopub.status.busy": "2023-02-03T23:23:39.222304Z",
     "iopub.status.idle": "2023-02-03T23:24:00.128910Z",
     "shell.execute_reply": "2023-02-03T23:24:00.128338Z",
     "shell.execute_reply.started": "2023-02-03T23:23:39.222649Z"
    },
    "tags": []
   },
   "outputs": [],
   "source": [
    "gene_list = pd.read_csv('./data/unperturbed_gene_expression.csv', nrows = 0).columns.values\n",
    "gene_emb = pd.read_csv('./data/gene_embeddings.csv')\n",
    "gene_emb_label = np.load('./gene_embedding/entity2labeldict_TransE_nepochs_128.npy', allow_pickle = True).item()\n",
    "unperturbed_expr_df = pd.read_csv('./data/unperturbed_gene_expression.csv')"
   ]
  },
  {
   "cell_type": "code",
   "execution_count": 11,
   "id": "62d16263-3414-46bf-9339-3a1e2eaebed9",
   "metadata": {
    "execution": {
     "iopub.execute_input": "2023-02-03T23:24:00.130262Z",
     "iopub.status.busy": "2023-02-03T23:24:00.129970Z",
     "iopub.status.idle": "2023-02-03T23:24:00.133049Z",
     "shell.execute_reply": "2023-02-03T23:24:00.132562Z",
     "shell.execute_reply.started": "2023-02-03T23:24:00.130240Z"
    },
    "tags": []
   },
   "outputs": [],
   "source": [
    "n_cells = 100"
   ]
  },
  {
   "cell_type": "code",
   "execution_count": 21,
   "id": "77acdfc2-271d-4e3c-9fcd-f9257ae4a43b",
   "metadata": {
    "execution": {
     "iopub.execute_input": "2023-02-03T23:28:15.570482Z",
     "iopub.status.busy": "2023-02-03T23:28:15.570099Z",
     "iopub.status.idle": "2023-02-03T23:28:49.744603Z",
     "shell.execute_reply": "2023-02-03T23:28:49.743955Z",
     "shell.execute_reply.started": "2023-02-03T23:28:15.570457Z"
    },
    "tags": []
   },
   "outputs": [
    {
     "name": "stdout",
     "output_type": "stream",
     "text": [
      "D430040D24Rik\n",
      "Fam178b\n",
      "Cox5b\n",
      "Actr1b\n",
      "4933424G06Rik\n",
      "Gm33533\n",
      "Zap70\n",
      "Tmem131\n"
     ]
    }
   ],
   "source": [
    "KO_gene_list = []\n",
    "KO_gene_list_found = []\n",
    "pred_list = []\n",
    "\n",
    "model = torch.load(\"./saved_models/Model_G_300.pth\") \n",
    "\n",
    "for gene in gene_list[80:88]:\n",
    "    \n",
    "    #load the data and KO gene\n",
    "    print(gene)\n",
    "    pred = None\n",
    "    KO_gene_list.append(gene)\n",
    "    try:\n",
    "        KO_gene, unpert_input, KO_gene_emb = dataloader_mini(KO_gene = gene, gene_emb = gene_emb, gene_emb_label = gene_emb_label, unperturbed_expr_df = unperturbed_expr_df, n_cells = n_cells)\n",
    "        KO_gene_list_found.append(gene)\n",
    "        #unpert_input_list.append(unpert_input)\n",
    "        #KO_gene_emb_list.append(KO_gene_emb)\n",
    "    \n",
    "        #generate data using GAN\n",
    "        #batch size comes first\n",
    "        KO_gene_tensor = torch.tensor(np.tile(KO_gene_emb, (n_cells, 1)))\n",
    "        #print(unpert_input.shape)\n",
    "        generated_data = generate_data(torch.tensor(unpert_input), KO_gene_tensor, model)\n",
    "    \n",
    "        #run the svm classifier\n",
    "        pred = classify_state_SVM(generated_data)\n",
    "    except:\n",
    "        continue\n",
    "    pred_list.append(pred)\n",
    "    \n",
    "    "
   ]
  },
  {
   "cell_type": "code",
   "execution_count": 24,
   "id": "34368064-eafa-44e6-9575-ecbf696185da",
   "metadata": {
    "execution": {
     "iopub.execute_input": "2023-02-03T23:29:08.047936Z",
     "iopub.status.busy": "2023-02-03T23:29:08.047547Z",
     "iopub.status.idle": "2023-02-03T23:29:08.051812Z",
     "shell.execute_reply": "2023-02-03T23:29:08.051326Z",
     "shell.execute_reply.started": "2023-02-03T23:29:08.047912Z"
    },
    "tags": []
   },
   "outputs": [
    {
     "data": {
      "text/plain": [
       "['D430040D24Rik',\n",
       " 'Fam178b',\n",
       " 'Cox5b',\n",
       " 'Actr1b',\n",
       " '4933424G06Rik',\n",
       " 'Gm33533',\n",
       " 'Zap70',\n",
       " 'Tmem131']"
      ]
     },
     "execution_count": 24,
     "metadata": {},
     "output_type": "execute_result"
    }
   ],
   "source": [
    "KO_gene_list #TODO: how to combine genes not found and genes found in embeddings."
   ]
  },
  {
   "cell_type": "code",
   "execution_count": 22,
   "id": "e92bb124-aea1-4230-a579-71953e2a43be",
   "metadata": {
    "execution": {
     "iopub.execute_input": "2023-02-03T23:28:49.746062Z",
     "iopub.status.busy": "2023-02-03T23:28:49.745750Z",
     "iopub.status.idle": "2023-02-03T23:28:49.761880Z",
     "shell.execute_reply": "2023-02-03T23:28:49.761290Z",
     "shell.execute_reply.started": "2023-02-03T23:28:49.746040Z"
    },
    "tags": []
   },
   "outputs": [
    {
     "data": {
      "text/html": [
       "<div>\n",
       "<style scoped>\n",
       "    .dataframe tbody tr th:only-of-type {\n",
       "        vertical-align: middle;\n",
       "    }\n",
       "\n",
       "    .dataframe tbody tr th {\n",
       "        vertical-align: top;\n",
       "    }\n",
       "\n",
       "    .dataframe thead th {\n",
       "        text-align: right;\n",
       "    }\n",
       "</style>\n",
       "<table border=\"1\" class=\"dataframe\">\n",
       "  <thead>\n",
       "    <tr style=\"text-align: right;\">\n",
       "      <th></th>\n",
       "      <th>0</th>\n",
       "      <th>1</th>\n",
       "      <th>2</th>\n",
       "      <th>3</th>\n",
       "      <th>4</th>\n",
       "      <th>5</th>\n",
       "      <th>6</th>\n",
       "      <th>7</th>\n",
       "      <th>8</th>\n",
       "      <th>9</th>\n",
       "      <th>...</th>\n",
       "      <th>90</th>\n",
       "      <th>91</th>\n",
       "      <th>92</th>\n",
       "      <th>93</th>\n",
       "      <th>94</th>\n",
       "      <th>95</th>\n",
       "      <th>96</th>\n",
       "      <th>97</th>\n",
       "      <th>98</th>\n",
       "      <th>99</th>\n",
       "    </tr>\n",
       "  </thead>\n",
       "  <tbody>\n",
       "    <tr>\n",
       "      <th>Fam178b</th>\n",
       "      <td>effector</td>\n",
       "      <td>effector</td>\n",
       "      <td>effector</td>\n",
       "      <td>effector</td>\n",
       "      <td>effector</td>\n",
       "      <td>effector</td>\n",
       "      <td>effector</td>\n",
       "      <td>effector</td>\n",
       "      <td>effector</td>\n",
       "      <td>effector</td>\n",
       "      <td>...</td>\n",
       "      <td>effector</td>\n",
       "      <td>effector</td>\n",
       "      <td>effector</td>\n",
       "      <td>effector</td>\n",
       "      <td>effector</td>\n",
       "      <td>effector</td>\n",
       "      <td>effector</td>\n",
       "      <td>effector</td>\n",
       "      <td>effector</td>\n",
       "      <td>effector</td>\n",
       "    </tr>\n",
       "    <tr>\n",
       "      <th>Actr1b</th>\n",
       "      <td>effector</td>\n",
       "      <td>effector</td>\n",
       "      <td>effector</td>\n",
       "      <td>effector</td>\n",
       "      <td>effector</td>\n",
       "      <td>effector</td>\n",
       "      <td>effector</td>\n",
       "      <td>effector</td>\n",
       "      <td>effector</td>\n",
       "      <td>effector</td>\n",
       "      <td>...</td>\n",
       "      <td>effector</td>\n",
       "      <td>effector</td>\n",
       "      <td>effector</td>\n",
       "      <td>effector</td>\n",
       "      <td>effector</td>\n",
       "      <td>effector</td>\n",
       "      <td>effector</td>\n",
       "      <td>effector</td>\n",
       "      <td>effector</td>\n",
       "      <td>effector</td>\n",
       "    </tr>\n",
       "    <tr>\n",
       "      <th>Zap70</th>\n",
       "      <td>effector</td>\n",
       "      <td>effector</td>\n",
       "      <td>effector</td>\n",
       "      <td>effector</td>\n",
       "      <td>effector</td>\n",
       "      <td>effector</td>\n",
       "      <td>effector</td>\n",
       "      <td>effector</td>\n",
       "      <td>effector</td>\n",
       "      <td>effector</td>\n",
       "      <td>...</td>\n",
       "      <td>effector</td>\n",
       "      <td>effector</td>\n",
       "      <td>effector</td>\n",
       "      <td>effector</td>\n",
       "      <td>effector</td>\n",
       "      <td>effector</td>\n",
       "      <td>effector</td>\n",
       "      <td>effector</td>\n",
       "      <td>effector</td>\n",
       "      <td>effector</td>\n",
       "    </tr>\n",
       "    <tr>\n",
       "      <th>Tmem131</th>\n",
       "      <td>effector</td>\n",
       "      <td>effector</td>\n",
       "      <td>effector</td>\n",
       "      <td>effector</td>\n",
       "      <td>effector</td>\n",
       "      <td>effector</td>\n",
       "      <td>effector</td>\n",
       "      <td>effector</td>\n",
       "      <td>effector</td>\n",
       "      <td>effector</td>\n",
       "      <td>...</td>\n",
       "      <td>effector</td>\n",
       "      <td>effector</td>\n",
       "      <td>effector</td>\n",
       "      <td>effector</td>\n",
       "      <td>effector</td>\n",
       "      <td>effector</td>\n",
       "      <td>effector</td>\n",
       "      <td>effector</td>\n",
       "      <td>effector</td>\n",
       "      <td>effector</td>\n",
       "    </tr>\n",
       "  </tbody>\n",
       "</table>\n",
       "<p>4 rows × 100 columns</p>\n",
       "</div>"
      ],
      "text/plain": [
       "               0         1         2         3         4         5         6   \\\n",
       "Fam178b  effector  effector  effector  effector  effector  effector  effector   \n",
       "Actr1b   effector  effector  effector  effector  effector  effector  effector   \n",
       "Zap70    effector  effector  effector  effector  effector  effector  effector   \n",
       "Tmem131  effector  effector  effector  effector  effector  effector  effector   \n",
       "\n",
       "               7         8         9   ...        90        91        92  \\\n",
       "Fam178b  effector  effector  effector  ...  effector  effector  effector   \n",
       "Actr1b   effector  effector  effector  ...  effector  effector  effector   \n",
       "Zap70    effector  effector  effector  ...  effector  effector  effector   \n",
       "Tmem131  effector  effector  effector  ...  effector  effector  effector   \n",
       "\n",
       "               93        94        95        96        97        98        99  \n",
       "Fam178b  effector  effector  effector  effector  effector  effector  effector  \n",
       "Actr1b   effector  effector  effector  effector  effector  effector  effector  \n",
       "Zap70    effector  effector  effector  effector  effector  effector  effector  \n",
       "Tmem131  effector  effector  effector  effector  effector  effector  effector  \n",
       "\n",
       "[4 rows x 100 columns]"
      ]
     },
     "execution_count": 22,
     "metadata": {},
     "output_type": "execute_result"
    }
   ],
   "source": [
    "pd.DataFrame(pred_list, index = KO_gene_list_found)\n",
    "#TODO: get cell state proportions (sum(t_cell_state)/n_cells)\n",
    "#TODO: produce csv in correct format"
   ]
  },
  {
   "cell_type": "markdown",
   "id": "43b93a82-f31c-4d7d-be36-4ff8bc85aede",
   "metadata": {},
   "source": [
    "### SCRATCH WORK: Prepare generated data for input into SVM\n",
    "Note that the SVM was trained on filtered data (low variance genes were filtered out). Thus, the input to the SVM needs to have the same features as what it was trained on."
   ]
  },
  {
   "cell_type": "code",
   "execution_count": 17,
   "id": "b438e069-925a-4c55-9df5-c3e6ec8f69d4",
   "metadata": {
    "execution": {
     "iopub.execute_input": "2023-02-03T21:06:32.807351Z",
     "iopub.status.busy": "2023-02-03T21:06:32.806975Z",
     "iopub.status.idle": "2023-02-03T21:06:39.954759Z",
     "shell.execute_reply": "2023-02-03T21:06:39.954203Z",
     "shell.execute_reply.started": "2023-02-03T21:06:32.807327Z"
    },
    "tags": []
   },
   "outputs": [],
   "source": [
    "#get the gene names for the 15077 genes\n",
    "columns = pd.read_csv('./data/unperturbed_gene_expression.csv', nrows = 10).columns\n",
    "\n",
    "#get gene names for what the SVM expects\n",
    "SVM_filt = pd.read_csv('./data/unperturbed_filtered.csv').columns\n",
    "\n",
    "#turn the generated transcripts into a dataframe for filtering in the next step\n",
    "cell = pd.DataFrame(generated_data.detach().numpy(), columns = columns)\n",
    "\n",
    "#grab just the genes that the SVM uses to predict t cell state\n",
    "SVM_input = cell[SVM_filt] "
   ]
  },
  {
   "cell_type": "code",
   "execution_count": 18,
   "id": "102d228b-3525-46cf-a085-bd66ed25d360",
   "metadata": {
    "execution": {
     "iopub.execute_input": "2023-02-03T21:06:39.956084Z",
     "iopub.status.busy": "2023-02-03T21:06:39.955793Z",
     "iopub.status.idle": "2023-02-03T21:06:41.091837Z",
     "shell.execute_reply": "2023-02-03T21:06:41.091143Z",
     "shell.execute_reply.started": "2023-02-03T21:06:39.956062Z"
    },
    "tags": []
   },
   "outputs": [],
   "source": [
    "loaded_model = pickle.load(open('../saved_models/svc_model_unperturbed.sav', 'rb'))\n",
    "preds = loaded_model.predict(SVM_input)\n",
    "#print('Input is a(n) ' + str(preds[0]) + ' cell')"
   ]
  },
  {
   "cell_type": "code",
   "execution_count": 19,
   "id": "fdf69d6f-5bcb-4c9c-bc66-c90c3ed5a25e",
   "metadata": {
    "execution": {
     "iopub.execute_input": "2023-02-03T21:06:41.093015Z",
     "iopub.status.busy": "2023-02-03T21:06:41.092691Z",
     "iopub.status.idle": "2023-02-03T21:06:41.097092Z",
     "shell.execute_reply": "2023-02-03T21:06:41.096574Z",
     "shell.execute_reply.started": "2023-02-03T21:06:41.092990Z"
    }
   },
   "outputs": [
    {
     "data": {
      "text/plain": [
       "array(['effector', 'effector', 'effector', 'effector', 'effector',\n",
       "       'effector', 'effector', 'effector', 'effector', 'effector'],\n",
       "      dtype=object)"
      ]
     },
     "execution_count": 19,
     "metadata": {},
     "output_type": "execute_result"
    }
   ],
   "source": [
    "preds"
   ]
  }
 ],
 "metadata": {
  "kernelspec": {
   "display_name": "saturn (Python 3)",
   "language": "python",
   "name": "python3"
  },
  "language_info": {
   "codemirror_mode": {
    "name": "ipython",
    "version": 3
   },
   "file_extension": ".py",
   "mimetype": "text/x-python",
   "name": "python",
   "nbconvert_exporter": "python",
   "pygments_lexer": "ipython3",
   "version": "3.9.12"
  }
 },
 "nbformat": 4,
 "nbformat_minor": 5
}
