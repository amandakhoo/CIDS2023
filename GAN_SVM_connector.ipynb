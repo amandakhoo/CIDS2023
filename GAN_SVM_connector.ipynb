{
 "cells": [
  {
   "cell_type": "code",
   "execution_count": 3,
   "id": "1d9fcec6-cefd-4597-b3bc-df185fb30ec7",
   "metadata": {
    "execution": {
     "iopub.execute_input": "2023-02-03T02:09:42.501294Z",
     "iopub.status.busy": "2023-02-03T02:09:42.500932Z",
     "iopub.status.idle": "2023-02-03T02:11:36.428005Z",
     "shell.execute_reply": "2023-02-03T02:11:36.427439Z",
     "shell.execute_reply.started": "2023-02-03T02:09:42.501270Z"
    },
    "tags": []
   },
   "outputs": [],
   "source": [
    "from torch.utils.data import Dataset\n",
    "from mydataloader import dataset"
   ]
  },
  {
   "cell_type": "code",
   "execution_count": 8,
   "id": "f3659c9e-ab89-4d67-af36-daac69326c4f",
   "metadata": {
    "execution": {
     "iopub.execute_input": "2023-02-03T02:23:58.414287Z",
     "iopub.status.busy": "2023-02-03T02:23:58.413930Z",
     "iopub.status.idle": "2023-02-03T02:23:58.417616Z",
     "shell.execute_reply": "2023-02-03T02:23:58.417079Z",
     "shell.execute_reply.started": "2023-02-03T02:23:58.414263Z"
    }
   },
   "outputs": [],
   "source": [
    "import torch\n",
    "import torch.nn as nn\n",
    "import numpy as np\n",
    "import datetime\n",
    "import pytz\n",
    "\n",
    "import numpy as np\n",
    "import pandas as pd\n",
    "\n",
    "torch.set_default_dtype(torch.float64)"
   ]
  },
  {
   "cell_type": "code",
   "execution_count": 9,
   "id": "51219d3c-f724-44c3-a618-71d16fb9c543",
   "metadata": {
    "execution": {
     "iopub.execute_input": "2023-02-03T02:24:11.211982Z",
     "iopub.status.busy": "2023-02-03T02:24:11.211610Z",
     "iopub.status.idle": "2023-02-03T02:24:11.218077Z",
     "shell.execute_reply": "2023-02-03T02:24:11.217466Z",
     "shell.execute_reply.started": "2023-02-03T02:24:11.211958Z"
    }
   },
   "outputs": [],
   "source": [
    "class Generator(nn.Module):\n",
    "    def __init__(self, input_dim, output_dim):\n",
    "        super(Generator, self).__init__()\n",
    "        self.generator_stack = nn.Sequential(\n",
    "            nn.Linear(input_dim, 10240),\n",
    "            nn.LeakyReLU(),\n",
    "            nn.Linear(10240, 5120),\n",
    "            nn.BatchNorm1d(5120, momentum=.9),\n",
    "            nn.LeakyReLU(),\n",
    "            nn.Linear(5120, 2560),\n",
    "            nn.BatchNorm1d(2560, momentum=.9),\n",
    "            nn.LeakyReLU(),\n",
    "            nn.Linear(2560, 2560),\n",
    "            nn.BatchNorm1d(2560, momentum=.9),\n",
    "            nn.LeakyReLU(),\n",
    "            nn.Linear(2560, 5120),\n",
    "            nn.BatchNorm1d(5120, momentum=.9),\n",
    "            nn.LeakyReLU(),\n",
    "            nn.Linear(5120, 10240),\n",
    "            nn.BatchNorm1d(10240, momentum=.9),\n",
    "            nn.LeakyReLU(),\n",
    "            nn.Linear(10240, output_dim),\n",
    "            nn.LeakyReLU(),\n",
    "        )\n",
    "\n",
    "    def forward(self, x, cond):\n",
    "        a = torch.cat((x, cond), axis=-1)\n",
    "        #print(a.size()[0])\n",
    "        return self.generator_stack(a)"
   ]
  },
  {
   "cell_type": "code",
   "execution_count": 10,
   "id": "acdb6d25-47ab-48fb-965a-e17ab99b0eae",
   "metadata": {
    "execution": {
     "iopub.execute_input": "2023-02-03T02:24:11.532929Z",
     "iopub.status.busy": "2023-02-03T02:24:11.532558Z",
     "iopub.status.idle": "2023-02-03T02:24:11.536043Z",
     "shell.execute_reply": "2023-02-03T02:24:11.535557Z",
     "shell.execute_reply.started": "2023-02-03T02:24:11.532905Z"
    },
    "tags": []
   },
   "outputs": [],
   "source": [
    "GENE_EMBED_DIM = 150\n",
    "GENE_EXPRESSION_VEC = 15077\n",
    "BATCH_SIZE = 1\n",
    "\n",
    "input_dim = GENE_EXPRESSION_VEC+GENE_EMBED_DIM\n",
    "output_dim = GENE_EXPRESSION_VEC"
   ]
  },
  {
   "cell_type": "code",
   "execution_count": 11,
   "id": "a1ce32e3-b888-475d-b312-3f2195c3273b",
   "metadata": {
    "execution": {
     "iopub.execute_input": "2023-02-03T02:24:13.934194Z",
     "iopub.status.busy": "2023-02-03T02:24:13.933832Z",
     "iopub.status.idle": "2023-02-03T02:24:15.773599Z",
     "shell.execute_reply": "2023-02-03T02:24:15.772895Z",
     "shell.execute_reply.started": "2023-02-03T02:24:13.934169Z"
    },
    "tags": []
   },
   "outputs": [
    {
     "ename": "RuntimeError",
     "evalue": "mat1 and mat2 shapes cannot be multiplied (1x30304 and 15227x10240)",
     "output_type": "error",
     "traceback": [
      "\u001b[0;31m---------------------------------------------------------------------------\u001b[0m",
      "\u001b[0;31mRuntimeError\u001b[0m                              Traceback (most recent call last)",
      "Input \u001b[0;32mIn [11]\u001b[0m, in \u001b[0;36m<cell line: 12>\u001b[0;34m()\u001b[0m\n\u001b[1;32m     10\u001b[0m z \u001b[38;5;241m=\u001b[39m torch\u001b[38;5;241m.\u001b[39mrandn(batch_size, input_dim)\n\u001b[1;32m     11\u001b[0m cond \u001b[38;5;241m=\u001b[39m torch\u001b[38;5;241m.\u001b[39mrandn(batch_size, output_dim)\n\u001b[0;32m---> 12\u001b[0m generated_data \u001b[38;5;241m=\u001b[39m \u001b[43mmodel\u001b[49m\u001b[43m(\u001b[49m\u001b[43mz\u001b[49m\u001b[43m,\u001b[49m\u001b[43m \u001b[49m\u001b[43mcond\u001b[49m\u001b[43m)\u001b[49m\n",
      "File \u001b[0;32m/srv/conda/envs/saturn/lib/python3.9/site-packages/torch/nn/modules/module.py:1194\u001b[0m, in \u001b[0;36mModule._call_impl\u001b[0;34m(self, *input, **kwargs)\u001b[0m\n\u001b[1;32m   1190\u001b[0m \u001b[38;5;66;03m# If we don't have any hooks, we want to skip the rest of the logic in\u001b[39;00m\n\u001b[1;32m   1191\u001b[0m \u001b[38;5;66;03m# this function, and just call forward.\u001b[39;00m\n\u001b[1;32m   1192\u001b[0m \u001b[38;5;28;01mif\u001b[39;00m \u001b[38;5;129;01mnot\u001b[39;00m (\u001b[38;5;28mself\u001b[39m\u001b[38;5;241m.\u001b[39m_backward_hooks \u001b[38;5;129;01mor\u001b[39;00m \u001b[38;5;28mself\u001b[39m\u001b[38;5;241m.\u001b[39m_forward_hooks \u001b[38;5;129;01mor\u001b[39;00m \u001b[38;5;28mself\u001b[39m\u001b[38;5;241m.\u001b[39m_forward_pre_hooks \u001b[38;5;129;01mor\u001b[39;00m _global_backward_hooks\n\u001b[1;32m   1193\u001b[0m         \u001b[38;5;129;01mor\u001b[39;00m _global_forward_hooks \u001b[38;5;129;01mor\u001b[39;00m _global_forward_pre_hooks):\n\u001b[0;32m-> 1194\u001b[0m     \u001b[38;5;28;01mreturn\u001b[39;00m \u001b[43mforward_call\u001b[49m\u001b[43m(\u001b[49m\u001b[38;5;241;43m*\u001b[39;49m\u001b[38;5;28;43minput\u001b[39;49m\u001b[43m,\u001b[49m\u001b[43m \u001b[49m\u001b[38;5;241;43m*\u001b[39;49m\u001b[38;5;241;43m*\u001b[39;49m\u001b[43mkwargs\u001b[49m\u001b[43m)\u001b[49m\n\u001b[1;32m   1195\u001b[0m \u001b[38;5;66;03m# Do not call functions when jit is used\u001b[39;00m\n\u001b[1;32m   1196\u001b[0m full_backward_hooks, non_full_backward_hooks \u001b[38;5;241m=\u001b[39m [], []\n",
      "Input \u001b[0;32mIn [9]\u001b[0m, in \u001b[0;36mGenerator.forward\u001b[0;34m(self, x, cond)\u001b[0m\n\u001b[1;32m     27\u001b[0m a \u001b[38;5;241m=\u001b[39m torch\u001b[38;5;241m.\u001b[39mcat((x, cond), axis\u001b[38;5;241m=\u001b[39m\u001b[38;5;241m-\u001b[39m\u001b[38;5;241m1\u001b[39m)\n\u001b[1;32m     28\u001b[0m \u001b[38;5;66;03m#print(a.size()[0])\u001b[39;00m\n\u001b[0;32m---> 29\u001b[0m \u001b[38;5;28;01mreturn\u001b[39;00m \u001b[38;5;28;43mself\u001b[39;49m\u001b[38;5;241;43m.\u001b[39;49m\u001b[43mgenerator_stack\u001b[49m\u001b[43m(\u001b[49m\u001b[43ma\u001b[49m\u001b[43m)\u001b[49m\n",
      "File \u001b[0;32m/srv/conda/envs/saturn/lib/python3.9/site-packages/torch/nn/modules/module.py:1194\u001b[0m, in \u001b[0;36mModule._call_impl\u001b[0;34m(self, *input, **kwargs)\u001b[0m\n\u001b[1;32m   1190\u001b[0m \u001b[38;5;66;03m# If we don't have any hooks, we want to skip the rest of the logic in\u001b[39;00m\n\u001b[1;32m   1191\u001b[0m \u001b[38;5;66;03m# this function, and just call forward.\u001b[39;00m\n\u001b[1;32m   1192\u001b[0m \u001b[38;5;28;01mif\u001b[39;00m \u001b[38;5;129;01mnot\u001b[39;00m (\u001b[38;5;28mself\u001b[39m\u001b[38;5;241m.\u001b[39m_backward_hooks \u001b[38;5;129;01mor\u001b[39;00m \u001b[38;5;28mself\u001b[39m\u001b[38;5;241m.\u001b[39m_forward_hooks \u001b[38;5;129;01mor\u001b[39;00m \u001b[38;5;28mself\u001b[39m\u001b[38;5;241m.\u001b[39m_forward_pre_hooks \u001b[38;5;129;01mor\u001b[39;00m _global_backward_hooks\n\u001b[1;32m   1193\u001b[0m         \u001b[38;5;129;01mor\u001b[39;00m _global_forward_hooks \u001b[38;5;129;01mor\u001b[39;00m _global_forward_pre_hooks):\n\u001b[0;32m-> 1194\u001b[0m     \u001b[38;5;28;01mreturn\u001b[39;00m \u001b[43mforward_call\u001b[49m\u001b[43m(\u001b[49m\u001b[38;5;241;43m*\u001b[39;49m\u001b[38;5;28;43minput\u001b[39;49m\u001b[43m,\u001b[49m\u001b[43m \u001b[49m\u001b[38;5;241;43m*\u001b[39;49m\u001b[38;5;241;43m*\u001b[39;49m\u001b[43mkwargs\u001b[49m\u001b[43m)\u001b[49m\n\u001b[1;32m   1195\u001b[0m \u001b[38;5;66;03m# Do not call functions when jit is used\u001b[39;00m\n\u001b[1;32m   1196\u001b[0m full_backward_hooks, non_full_backward_hooks \u001b[38;5;241m=\u001b[39m [], []\n",
      "File \u001b[0;32m/srv/conda/envs/saturn/lib/python3.9/site-packages/torch/nn/modules/container.py:204\u001b[0m, in \u001b[0;36mSequential.forward\u001b[0;34m(self, input)\u001b[0m\n\u001b[1;32m    202\u001b[0m \u001b[38;5;28;01mdef\u001b[39;00m \u001b[38;5;21mforward\u001b[39m(\u001b[38;5;28mself\u001b[39m, \u001b[38;5;28minput\u001b[39m):\n\u001b[1;32m    203\u001b[0m     \u001b[38;5;28;01mfor\u001b[39;00m module \u001b[38;5;129;01min\u001b[39;00m \u001b[38;5;28mself\u001b[39m:\n\u001b[0;32m--> 204\u001b[0m         \u001b[38;5;28minput\u001b[39m \u001b[38;5;241m=\u001b[39m \u001b[43mmodule\u001b[49m\u001b[43m(\u001b[49m\u001b[38;5;28;43minput\u001b[39;49m\u001b[43m)\u001b[49m\n\u001b[1;32m    205\u001b[0m     \u001b[38;5;28;01mreturn\u001b[39;00m \u001b[38;5;28minput\u001b[39m\n",
      "File \u001b[0;32m/srv/conda/envs/saturn/lib/python3.9/site-packages/torch/nn/modules/module.py:1194\u001b[0m, in \u001b[0;36mModule._call_impl\u001b[0;34m(self, *input, **kwargs)\u001b[0m\n\u001b[1;32m   1190\u001b[0m \u001b[38;5;66;03m# If we don't have any hooks, we want to skip the rest of the logic in\u001b[39;00m\n\u001b[1;32m   1191\u001b[0m \u001b[38;5;66;03m# this function, and just call forward.\u001b[39;00m\n\u001b[1;32m   1192\u001b[0m \u001b[38;5;28;01mif\u001b[39;00m \u001b[38;5;129;01mnot\u001b[39;00m (\u001b[38;5;28mself\u001b[39m\u001b[38;5;241m.\u001b[39m_backward_hooks \u001b[38;5;129;01mor\u001b[39;00m \u001b[38;5;28mself\u001b[39m\u001b[38;5;241m.\u001b[39m_forward_hooks \u001b[38;5;129;01mor\u001b[39;00m \u001b[38;5;28mself\u001b[39m\u001b[38;5;241m.\u001b[39m_forward_pre_hooks \u001b[38;5;129;01mor\u001b[39;00m _global_backward_hooks\n\u001b[1;32m   1193\u001b[0m         \u001b[38;5;129;01mor\u001b[39;00m _global_forward_hooks \u001b[38;5;129;01mor\u001b[39;00m _global_forward_pre_hooks):\n\u001b[0;32m-> 1194\u001b[0m     \u001b[38;5;28;01mreturn\u001b[39;00m \u001b[43mforward_call\u001b[49m\u001b[43m(\u001b[49m\u001b[38;5;241;43m*\u001b[39;49m\u001b[38;5;28;43minput\u001b[39;49m\u001b[43m,\u001b[49m\u001b[43m \u001b[49m\u001b[38;5;241;43m*\u001b[39;49m\u001b[38;5;241;43m*\u001b[39;49m\u001b[43mkwargs\u001b[49m\u001b[43m)\u001b[49m\n\u001b[1;32m   1195\u001b[0m \u001b[38;5;66;03m# Do not call functions when jit is used\u001b[39;00m\n\u001b[1;32m   1196\u001b[0m full_backward_hooks, non_full_backward_hooks \u001b[38;5;241m=\u001b[39m [], []\n",
      "File \u001b[0;32m/srv/conda/envs/saturn/lib/python3.9/site-packages/torch/nn/modules/linear.py:114\u001b[0m, in \u001b[0;36mLinear.forward\u001b[0;34m(self, input)\u001b[0m\n\u001b[1;32m    113\u001b[0m \u001b[38;5;28;01mdef\u001b[39;00m \u001b[38;5;21mforward\u001b[39m(\u001b[38;5;28mself\u001b[39m, \u001b[38;5;28minput\u001b[39m: Tensor) \u001b[38;5;241m-\u001b[39m\u001b[38;5;241m>\u001b[39m Tensor:\n\u001b[0;32m--> 114\u001b[0m     \u001b[38;5;28;01mreturn\u001b[39;00m \u001b[43mF\u001b[49m\u001b[38;5;241;43m.\u001b[39;49m\u001b[43mlinear\u001b[49m\u001b[43m(\u001b[49m\u001b[38;5;28;43minput\u001b[39;49m\u001b[43m,\u001b[49m\u001b[43m \u001b[49m\u001b[38;5;28;43mself\u001b[39;49m\u001b[38;5;241;43m.\u001b[39;49m\u001b[43mweight\u001b[49m\u001b[43m,\u001b[49m\u001b[43m \u001b[49m\u001b[38;5;28;43mself\u001b[39;49m\u001b[38;5;241;43m.\u001b[39;49m\u001b[43mbias\u001b[49m\u001b[43m)\u001b[49m\n",
      "\u001b[0;31mRuntimeError\u001b[0m: mat1 and mat2 shapes cannot be multiplied (1x30304 and 15227x10240)"
     ]
    }
   ],
   "source": [
    "#reference: chatGPT\n",
    "\n",
    "# Load the saved model\n",
    "model = torch.load(\"./saved_models/test/Model_G_ep1.pth\")\n",
    "\n",
    "model.eval()\n",
    "\n",
    "# Generate some data\n",
    "z = torch.randn(BATCH_SIZE, input_dim)\n",
    "cond = torch.randn(BATCH_SIZE, output_dim)\n",
    "generated_data = model(z, cond)\n"
   ]
  },
  {
   "cell_type": "code",
   "execution_count": 13,
   "id": "b241dc61-d054-4a79-8ba5-f1fa44a6a893",
   "metadata": {
    "execution": {
     "iopub.execute_input": "2023-02-03T02:27:04.531246Z",
     "iopub.status.busy": "2023-02-03T02:27:04.530880Z",
     "iopub.status.idle": "2023-02-03T02:27:04.535024Z",
     "shell.execute_reply": "2023-02-03T02:27:04.534576Z",
     "shell.execute_reply.started": "2023-02-03T02:27:04.531222Z"
    },
    "tags": []
   },
   "outputs": [
    {
     "data": {
      "text/plain": [
       "torch.Size([1, 15227])"
      ]
     },
     "execution_count": 13,
     "metadata": {},
     "output_type": "execute_result"
    }
   ],
   "source": [
    "z.shape"
   ]
  },
  {
   "cell_type": "code",
   "execution_count": 14,
   "id": "102d228b-3525-46cf-a085-bd66ed25d360",
   "metadata": {
    "execution": {
     "iopub.execute_input": "2023-02-03T02:27:14.493800Z",
     "iopub.status.busy": "2023-02-03T02:27:14.493414Z",
     "iopub.status.idle": "2023-02-03T02:27:14.497610Z",
     "shell.execute_reply": "2023-02-03T02:27:14.497146Z",
     "shell.execute_reply.started": "2023-02-03T02:27:14.493775Z"
    }
   },
   "outputs": [
    {
     "data": {
      "text/plain": [
       "torch.Size([1, 15077])"
      ]
     },
     "execution_count": 14,
     "metadata": {},
     "output_type": "execute_result"
    }
   ],
   "source": [
    "cond.shape"
   ]
  },
  {
   "cell_type": "code",
   "execution_count": null,
   "id": "20a0b59a-9b1b-4e20-82b2-9249a57532b5",
   "metadata": {},
   "outputs": [],
   "source": []
  }
 ],
 "metadata": {
  "kernelspec": {
   "display_name": "saturn (Python 3)",
   "language": "python",
   "name": "python3"
  },
  "language_info": {
   "codemirror_mode": {
    "name": "ipython",
    "version": 3
   },
   "file_extension": ".py",
   "mimetype": "text/x-python",
   "name": "python",
   "nbconvert_exporter": "python",
   "pygments_lexer": "ipython3",
   "version": "3.9.12"
  }
 },
 "nbformat": 4,
 "nbformat_minor": 5
}
