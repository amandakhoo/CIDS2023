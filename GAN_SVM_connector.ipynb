{
 "cells": [
  {
   "cell_type": "code",
   "execution_count": 3,
   "id": "1d9fcec6-cefd-4597-b3bc-df185fb30ec7",
   "metadata": {
    "execution": {
     "iopub.execute_input": "2023-02-03T02:09:42.501294Z",
     "iopub.status.busy": "2023-02-03T02:09:42.500932Z",
     "iopub.status.idle": "2023-02-03T02:11:36.428005Z",
     "shell.execute_reply": "2023-02-03T02:11:36.427439Z",
     "shell.execute_reply.started": "2023-02-03T02:09:42.501270Z"
    },
    "tags": []
   },
   "outputs": [],
   "source": [
    "from torch.utils.data import Dataset\n",
    "from mydataloader import dataset"
   ]
  },
  {
   "cell_type": "code",
   "execution_count": 48,
   "id": "f3659c9e-ab89-4d67-af36-daac69326c4f",
   "metadata": {
    "execution": {
     "iopub.execute_input": "2023-02-03T03:26:35.122661Z",
     "iopub.status.busy": "2023-02-03T03:26:35.122306Z",
     "iopub.status.idle": "2023-02-03T03:26:35.126550Z",
     "shell.execute_reply": "2023-02-03T03:26:35.125894Z",
     "shell.execute_reply.started": "2023-02-03T03:26:35.122634Z"
    },
    "tags": []
   },
   "outputs": [],
   "source": [
    "import torch\n",
    "import torch.nn as nn\n",
    "import numpy as np\n",
    "import datetime\n",
    "import pytz\n",
    "import pickle\n",
    "\n",
    "from torch.utils.data import DataLoader, TensorDataset\n",
    "\n",
    "import numpy as np\n",
    "import pandas as pd\n",
    "\n",
    "torch.set_default_dtype(torch.float64)"
   ]
  },
  {
   "cell_type": "code",
   "execution_count": 31,
   "id": "51219d3c-f724-44c3-a618-71d16fb9c543",
   "metadata": {
    "execution": {
     "iopub.execute_input": "2023-02-03T02:59:48.572099Z",
     "iopub.status.busy": "2023-02-03T02:59:48.571762Z",
     "iopub.status.idle": "2023-02-03T02:59:48.578069Z",
     "shell.execute_reply": "2023-02-03T02:59:48.577493Z",
     "shell.execute_reply.started": "2023-02-03T02:59:48.572076Z"
    },
    "tags": []
   },
   "outputs": [],
   "source": [
    "class Generator(nn.Module):\n",
    "    def __init__(self, input_dim, output_dim):\n",
    "        super(Generator, self).__init__()\n",
    "        self.generator_stack = nn.Sequential(\n",
    "            nn.Linear(input_dim, 10240),\n",
    "            nn.LeakyReLU(),\n",
    "            nn.Linear(10240, 5120),\n",
    "            nn.BatchNorm1d(5120, momentum=.9),\n",
    "            nn.LeakyReLU(),\n",
    "            nn.Linear(5120, 2560),\n",
    "            nn.BatchNorm1d(2560, momentum=.9),\n",
    "            nn.LeakyReLU(),\n",
    "            nn.Linear(2560, 2560),\n",
    "            nn.BatchNorm1d(2560, momentum=.9),\n",
    "            nn.LeakyReLU(),\n",
    "            nn.Linear(2560, 5120),\n",
    "            nn.BatchNorm1d(5120, momentum=.9),\n",
    "            nn.LeakyReLU(),\n",
    "            nn.Linear(5120, 10240),\n",
    "            nn.BatchNorm1d(10240, momentum=.9),\n",
    "            nn.LeakyReLU(),\n",
    "            nn.Linear(10240, output_dim),\n",
    "            nn.LeakyReLU(),\n",
    "        )\n",
    "\n",
    "    def forward(self, x, cond):\n",
    "        a = torch.cat((x, cond), axis=-1)\n",
    "        #print(a.size()[0])\n",
    "        return self.generator_stack(a)"
   ]
  },
  {
   "cell_type": "code",
   "execution_count": 72,
   "id": "acdb6d25-47ab-48fb-965a-e17ab99b0eae",
   "metadata": {
    "execution": {
     "iopub.execute_input": "2023-02-03T03:46:26.882601Z",
     "iopub.status.busy": "2023-02-03T03:46:26.882229Z",
     "iopub.status.idle": "2023-02-03T03:46:26.885932Z",
     "shell.execute_reply": "2023-02-03T03:46:26.885354Z",
     "shell.execute_reply.started": "2023-02-03T03:46:26.882575Z"
    },
    "tags": []
   },
   "outputs": [],
   "source": [
    "GENE_EMBED_DIM = 150\n",
    "GENE_EXPRESSION_VEC = 15077\n",
    "BATCH_SIZE = 10\n",
    "\n",
    "input_dim = GENE_EXPRESSION_VEC+GENE_EMBED_DIM\n",
    "output_dim = GENE_EXPRESSION_VEC"
   ]
  },
  {
   "cell_type": "code",
   "execution_count": 75,
   "id": "36e32c1d-6d50-42e7-a1f6-5954beb7015e",
   "metadata": {
    "execution": {
     "iopub.execute_input": "2023-02-03T03:48:50.812862Z",
     "iopub.status.busy": "2023-02-03T03:48:50.812492Z",
     "iopub.status.idle": "2023-02-03T03:48:50.816459Z",
     "shell.execute_reply": "2023-02-03T03:48:50.815908Z",
     "shell.execute_reply.started": "2023-02-03T03:48:50.812835Z"
    },
    "tags": []
   },
   "outputs": [],
   "source": [
    "def get_data(train_loader):\n",
    "   \n",
    "    for index, batch_inputs in enumerate(train_loader):\n",
    "        KO_gene, batch_X, batch_y = batch_inputs\n",
    "        \n",
    "    return KO_gene, batch_X, batch_y\n",
    "            "
   ]
  },
  {
   "cell_type": "code",
   "execution_count": 88,
   "id": "4ce5b277-fc29-4e5a-b3be-f4176f3d4aec",
   "metadata": {
    "execution": {
     "iopub.execute_input": "2023-02-03T03:50:56.522140Z",
     "iopub.status.busy": "2023-02-03T03:50:56.521763Z",
     "iopub.status.idle": "2023-02-03T03:50:56.670677Z",
     "shell.execute_reply": "2023-02-03T03:50:56.670003Z",
     "shell.execute_reply.started": "2023-02-03T03:50:56.522116Z"
    },
    "tags": []
   },
   "outputs": [],
   "source": [
    "train_loader = DataLoader(dataset, batch_size=BATCH_SIZE, shuffle=True)\n",
    "KO_gene, batch_X, batch_y = get_data(train_loader)"
   ]
  },
  {
   "cell_type": "code",
   "execution_count": 77,
   "id": "e8361d40-d8e2-4f7e-9964-fb60e240288b",
   "metadata": {
    "execution": {
     "iopub.execute_input": "2023-02-03T03:48:52.032596Z",
     "iopub.status.busy": "2023-02-03T03:48:52.032237Z",
     "iopub.status.idle": "2023-02-03T03:48:52.036093Z",
     "shell.execute_reply": "2023-02-03T03:48:52.035594Z",
     "shell.execute_reply.started": "2023-02-03T03:48:52.032570Z"
    },
    "tags": []
   },
   "outputs": [
    {
     "name": "stdout",
     "output_type": "stream",
     "text": [
      "torch.Size([10, 150])\n",
      "torch.Size([10, 15077])\n",
      "torch.Size([10, 15077])\n"
     ]
    }
   ],
   "source": [
    "print(KO_gene.shape)\n",
    "print(batch_X.shape)\n",
    "print(batch_y.shape)"
   ]
  },
  {
   "cell_type": "code",
   "execution_count": 89,
   "id": "a1ce32e3-b888-475d-b312-3f2195c3273b",
   "metadata": {
    "execution": {
     "iopub.execute_input": "2023-02-03T03:52:17.842512Z",
     "iopub.status.busy": "2023-02-03T03:52:17.842136Z",
     "iopub.status.idle": "2023-02-03T03:52:43.529655Z",
     "shell.execute_reply": "2023-02-03T03:52:43.529124Z",
     "shell.execute_reply.started": "2023-02-03T03:52:17.842487Z"
    },
    "tags": []
   },
   "outputs": [
    {
     "data": {
      "text/plain": [
       "Generator(\n",
       "  (generator_stack): Sequential(\n",
       "    (0): Linear(in_features=15227, out_features=10240, bias=True)\n",
       "    (1): LeakyReLU(negative_slope=0.01)\n",
       "    (2): Linear(in_features=10240, out_features=5120, bias=True)\n",
       "    (3): BatchNorm1d(5120, eps=1e-05, momentum=0.9, affine=True, track_running_stats=True)\n",
       "    (4): LeakyReLU(negative_slope=0.01)\n",
       "    (5): Linear(in_features=5120, out_features=2560, bias=True)\n",
       "    (6): BatchNorm1d(2560, eps=1e-05, momentum=0.9, affine=True, track_running_stats=True)\n",
       "    (7): LeakyReLU(negative_slope=0.01)\n",
       "    (8): Linear(in_features=2560, out_features=2560, bias=True)\n",
       "    (9): BatchNorm1d(2560, eps=1e-05, momentum=0.9, affine=True, track_running_stats=True)\n",
       "    (10): LeakyReLU(negative_slope=0.01)\n",
       "    (11): Linear(in_features=2560, out_features=5120, bias=True)\n",
       "    (12): BatchNorm1d(5120, eps=1e-05, momentum=0.9, affine=True, track_running_stats=True)\n",
       "    (13): LeakyReLU(negative_slope=0.01)\n",
       "    (14): Linear(in_features=5120, out_features=10240, bias=True)\n",
       "    (15): BatchNorm1d(10240, eps=1e-05, momentum=0.9, affine=True, track_running_stats=True)\n",
       "    (16): LeakyReLU(negative_slope=0.01)\n",
       "    (17): Linear(in_features=10240, out_features=15077, bias=True)\n",
       "    (18): LeakyReLU(negative_slope=0.01)\n",
       "  )\n",
       ")"
      ]
     },
     "execution_count": 89,
     "metadata": {},
     "output_type": "execute_result"
    }
   ],
   "source": [
    "\n",
    "# Load the saved model\n",
    "\n",
    "#TODO: change this path to the well trained model, this is just a test with 50 epochs\n",
    "model = torch.load(\"./saved_models/test/Model_G_50.pth\") \n",
    "\n",
    "\n",
    "model.eval()\n",
    "\n",
    "\n"
   ]
  },
  {
   "cell_type": "code",
   "execution_count": 90,
   "id": "f2117f3c-f0bd-4298-8608-51e76b96a193",
   "metadata": {
    "execution": {
     "iopub.execute_input": "2023-02-03T03:52:43.530927Z",
     "iopub.status.busy": "2023-02-03T03:52:43.530665Z",
     "iopub.status.idle": "2023-02-03T03:52:43.774086Z",
     "shell.execute_reply": "2023-02-03T03:52:43.773450Z",
     "shell.execute_reply.started": "2023-02-03T03:52:43.530907Z"
    },
    "tags": []
   },
   "outputs": [],
   "source": [
    "# Generate some data\n",
    "#inputs: KO_gene = KO gene embedding, batch_X = unperturbed cell expression\n",
    "z = batch_X\n",
    "cond = KO_gene\n",
    "generated_data = model(z, cond)"
   ]
  },
  {
   "cell_type": "code",
   "execution_count": 91,
   "id": "242816ab-05fc-42af-9eb1-14c9dfa358e6",
   "metadata": {
    "execution": {
     "iopub.execute_input": "2023-02-03T03:52:43.775698Z",
     "iopub.status.busy": "2023-02-03T03:52:43.775008Z",
     "iopub.status.idle": "2023-02-03T03:52:43.780292Z",
     "shell.execute_reply": "2023-02-03T03:52:43.779676Z",
     "shell.execute_reply.started": "2023-02-03T03:52:43.775661Z"
    }
   },
   "outputs": [
    {
     "data": {
      "text/plain": [
       "torch.Size([10, 15077])"
      ]
     },
     "execution_count": 91,
     "metadata": {},
     "output_type": "execute_result"
    }
   ],
   "source": [
    "generated_data.shape"
   ]
  },
  {
   "cell_type": "markdown",
   "id": "43b93a82-f31c-4d7d-be36-4ff8bc85aede",
   "metadata": {},
   "source": [
    "### Prepare generated data for input into SVM\n",
    "Note that the SVM was trained on filtered data (low variance genes were filtered out). Thus, the input to the SVM needs to have the same features as what it was trained on."
   ]
  },
  {
   "cell_type": "code",
   "execution_count": 92,
   "id": "b438e069-925a-4c55-9df5-c3e6ec8f69d4",
   "metadata": {
    "execution": {
     "iopub.execute_input": "2023-02-03T03:52:43.782306Z",
     "iopub.status.busy": "2023-02-03T03:52:43.781766Z",
     "iopub.status.idle": "2023-02-03T03:52:50.091715Z",
     "shell.execute_reply": "2023-02-03T03:52:50.091145Z",
     "shell.execute_reply.started": "2023-02-03T03:52:43.782275Z"
    },
    "tags": []
   },
   "outputs": [],
   "source": [
    "#get the gene names for the 15077 genes\n",
    "columns = pd.read_csv('./data/unperturbed_gene_expression.csv', nrows = 10).columns\n",
    "\n",
    "#get gene names for what the SVM expects\n",
    "SVM_filt = pd.read_csv('./data/unperturbed_filtered.csv').columns\n",
    "\n",
    "#turn the generated transcripts into a dataframe for filtering in the next step\n",
    "cell = pd.DataFrame(generated_data.detach().numpy(), columns = columns)\n",
    "\n",
    "#grab just the genes that the SVM uses to predict t cell state\n",
    "SVM_input = cell[SVM_filt] "
   ]
  },
  {
   "cell_type": "code",
   "execution_count": 93,
   "id": "102d228b-3525-46cf-a085-bd66ed25d360",
   "metadata": {
    "execution": {
     "iopub.execute_input": "2023-02-03T03:52:50.092675Z",
     "iopub.status.busy": "2023-02-03T03:52:50.092466Z",
     "iopub.status.idle": "2023-02-03T03:52:50.477155Z",
     "shell.execute_reply": "2023-02-03T03:52:50.476429Z",
     "shell.execute_reply.started": "2023-02-03T03:52:50.092657Z"
    },
    "tags": []
   },
   "outputs": [],
   "source": [
    "loaded_model = pickle.load(open('../saved_models/svc_model_unperturbed.sav', 'rb'))\n",
    "preds = loaded_model.predict(SVM_input)\n",
    "#print('Input is a(n) ' + str(preds[0]) + ' cell')"
   ]
  },
  {
   "cell_type": "code",
   "execution_count": 94,
   "id": "fdf69d6f-5bcb-4c9c-bc66-c90c3ed5a25e",
   "metadata": {
    "execution": {
     "iopub.execute_input": "2023-02-03T03:52:50.478337Z",
     "iopub.status.busy": "2023-02-03T03:52:50.478046Z",
     "iopub.status.idle": "2023-02-03T03:52:50.482520Z",
     "shell.execute_reply": "2023-02-03T03:52:50.481890Z",
     "shell.execute_reply.started": "2023-02-03T03:52:50.478316Z"
    },
    "tags": []
   },
   "outputs": [
    {
     "data": {
      "text/plain": [
       "array(['effector', 'effector', 'effector', 'effector', 'effector',\n",
       "       'effector', 'effector', 'effector', 'effector', 'effector'],\n",
       "      dtype=object)"
      ]
     },
     "execution_count": 94,
     "metadata": {},
     "output_type": "execute_result"
    }
   ],
   "source": [
    "preds"
   ]
  },
  {
   "cell_type": "code",
   "execution_count": null,
   "id": "20a0b59a-9b1b-4e20-82b2-9249a57532b5",
   "metadata": {},
   "outputs": [],
   "source": []
  }
 ],
 "metadata": {
  "kernelspec": {
   "display_name": "saturn (Python 3)",
   "language": "python",
   "name": "python3"
  },
  "language_info": {
   "codemirror_mode": {
    "name": "ipython",
    "version": 3
   },
   "file_extension": ".py",
   "mimetype": "text/x-python",
   "name": "python",
   "nbconvert_exporter": "python",
   "pygments_lexer": "ipython3",
   "version": "3.9.12"
  }
 },
 "nbformat": 4,
 "nbformat_minor": 5
}
