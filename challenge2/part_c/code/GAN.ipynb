{
 "cells": [
  {
   "cell_type": "code",
   "execution_count": 1,
   "id": "cf4042c8-5b67-44ed-b925-399424155051",
   "metadata": {
    "execution": {
     "iopub.execute_input": "2023-02-02T19:33:55.290010Z",
     "iopub.status.busy": "2023-02-02T19:33:55.289600Z",
     "iopub.status.idle": "2023-02-02T19:35:47.045302Z",
     "shell.execute_reply": "2023-02-02T19:35:47.044743Z",
     "shell.execute_reply.started": "2023-02-02T19:33:55.289942Z"
    },
    "tags": []
   },
   "outputs": [],
   "source": [
    "from torch.utils.data import Dataset\n",
    "from mydataloader import dataset\n",
    "\n",
    "\n",
    "import torch\n",
    "import torch.nn as nn\n",
    "import numpy as np\n",
    "import datetime\n",
    "import pytz\n",
    "\n",
    "import numpy as np\n",
    "import pandas as pd"
   ]
  },
  {
   "cell_type": "code",
   "execution_count": 2,
   "id": "49f6fb34-21f8-49f1-a53d-a29b0a8e7255",
   "metadata": {
    "execution": {
     "iopub.execute_input": "2023-02-02T19:35:47.046603Z",
     "iopub.status.busy": "2023-02-02T19:35:47.046303Z",
     "iopub.status.idle": "2023-02-02T19:35:47.049458Z",
     "shell.execute_reply": "2023-02-02T19:35:47.049014Z",
     "shell.execute_reply.started": "2023-02-02T19:35:47.046581Z"
    },
    "tags": []
   },
   "outputs": [],
   "source": [
    "from tqdm.auto import tqdm"
   ]
  },
  {
   "cell_type": "code",
   "execution_count": 3,
   "id": "193a6eb8-fe42-4494-a411-4627d6da54de",
   "metadata": {
    "execution": {
     "iopub.execute_input": "2023-02-02T19:35:47.050302Z",
     "iopub.status.busy": "2023-02-02T19:35:47.050072Z",
     "iopub.status.idle": "2023-02-02T19:35:47.053890Z",
     "shell.execute_reply": "2023-02-02T19:35:47.053453Z",
     "shell.execute_reply.started": "2023-02-02T19:35:47.050283Z"
    },
    "tags": []
   },
   "outputs": [],
   "source": [
    "from torch.utils.data import DataLoader, TensorDataset"
   ]
  },
  {
   "cell_type": "code",
   "execution_count": 4,
   "id": "849ab029-ed92-457e-822c-035fe6efc2f4",
   "metadata": {
    "execution": {
     "iopub.execute_input": "2023-02-02T19:35:47.055096Z",
     "iopub.status.busy": "2023-02-02T19:35:47.054867Z",
     "iopub.status.idle": "2023-02-02T19:35:47.058016Z",
     "shell.execute_reply": "2023-02-02T19:35:47.057583Z",
     "shell.execute_reply.started": "2023-02-02T19:35:47.055077Z"
    },
    "tags": []
   },
   "outputs": [],
   "source": [
    "torch.set_default_dtype(torch.float64)"
   ]
  },
  {
   "cell_type": "code",
   "execution_count": 5,
   "id": "aa144533-ecf1-495c-b722-1e2ef26e8f31",
   "metadata": {
    "execution": {
     "iopub.execute_input": "2023-02-02T19:35:47.059025Z",
     "iopub.status.busy": "2023-02-02T19:35:47.058643Z",
     "iopub.status.idle": "2023-02-02T19:35:47.062472Z",
     "shell.execute_reply": "2023-02-02T19:35:47.062014Z",
     "shell.execute_reply.started": "2023-02-02T19:35:47.059001Z"
    },
    "tags": []
   },
   "outputs": [],
   "source": [
    "GENE_EMBED_DIM = 150\n",
    "GENE_EXPRESSION_VEC = 15077\n",
    "BATCH_SIZE = 8"
   ]
  },
  {
   "cell_type": "code",
   "execution_count": 6,
   "id": "2859054b-0d4d-4a7d-9e69-b94f7aace277",
   "metadata": {
    "execution": {
     "iopub.execute_input": "2023-02-02T19:35:47.063290Z",
     "iopub.status.busy": "2023-02-02T19:35:47.063105Z",
     "iopub.status.idle": "2023-02-02T19:35:47.070159Z",
     "shell.execute_reply": "2023-02-02T19:35:47.069668Z",
     "shell.execute_reply.started": "2023-02-02T19:35:47.063272Z"
    },
    "tags": []
   },
   "outputs": [],
   "source": [
    "class Generator(nn.Module):\n",
    "    def __init__(self, input_dim, output_dim):\n",
    "        super(Generator, self).__init__()\n",
    "        self.generator_stack = nn.Sequential(\n",
    "            nn.Linear(input_dim, 10240),\n",
    "            nn.LeakyReLU(),\n",
    "            nn.Linear(10240, 5120),\n",
    "            nn.BatchNorm1d(5120, momentum=.9),\n",
    "            nn.LeakyReLU(),\n",
    "            nn.Linear(5120, 2560),\n",
    "            nn.BatchNorm1d(2560, momentum=.9),\n",
    "            nn.LeakyReLU(),\n",
    "            nn.Linear(2560, 2560),\n",
    "            nn.BatchNorm1d(2560, momentum=.9),\n",
    "            nn.LeakyReLU(),\n",
    "            nn.Linear(2560, 5120),\n",
    "            nn.BatchNorm1d(5120, momentum=.9),\n",
    "            nn.LeakyReLU(),\n",
    "            nn.Linear(5120, 10240),\n",
    "            nn.BatchNorm1d(10240, momentum=.9),\n",
    "            nn.LeakyReLU(),\n",
    "            nn.Linear(10240, output_dim),\n",
    "            nn.LeakyReLU(),\n",
    "        )\n",
    "\n",
    "    def forward(self, x, cond):\n",
    "        a = torch.cat((x, cond), axis=-1)\n",
    "        #print(a.size()[0])\n",
    "        return self.generator_stack(a)"
   ]
  },
  {
   "cell_type": "code",
   "execution_count": 7,
   "id": "6e99a311-aa73-4c48-a258-8c5ab457b273",
   "metadata": {
    "execution": {
     "iopub.execute_input": "2023-02-02T19:35:47.071055Z",
     "iopub.status.busy": "2023-02-02T19:35:47.070870Z",
     "iopub.status.idle": "2023-02-02T19:35:47.076889Z",
     "shell.execute_reply": "2023-02-02T19:35:47.076368Z",
     "shell.execute_reply.started": "2023-02-02T19:35:47.071038Z"
    },
    "tags": []
   },
   "outputs": [],
   "source": [
    "class Discriminator(nn.Module):\n",
    "    def __init__(self, input_dim, output_dim):\n",
    "        super(Discriminator, self).__init__()\n",
    "        self.discriminator_stack = nn.Sequential(\n",
    "            nn.Linear(input_dim, 10240),\n",
    "            nn.LeakyReLU(),\n",
    "            nn.Linear(10240, 5120),\n",
    "            nn.BatchNorm1d(5120, momentum=.9),\n",
    "            nn.LeakyReLU(),\n",
    "            nn.Linear(5120, 2560),\n",
    "            nn.BatchNorm1d(2560, momentum=.9),\n",
    "            nn.LeakyReLU(),\n",
    "            nn.Linear(2560, 1280),\n",
    "            nn.BatchNorm1d(1280, momentum=.9),\n",
    "            nn.LeakyReLU(),\n",
    "            nn.Linear(1280, 512),\n",
    "            nn.BatchNorm1d(512, momentum=.9),\n",
    "            nn.LeakyReLU(),\n",
    "            nn.Linear(512, 256),\n",
    "            nn.BatchNorm1d(256, momentum=.9),\n",
    "            nn.LeakyReLU(),\n",
    "            nn.Linear(256, 64),\n",
    "            nn.BatchNorm1d(64, momentum=.9),\n",
    "            nn.LeakyReLU(),\n",
    "            nn.Linear(64, output_dim),\n",
    "            nn.Sigmoid()\n",
    "        )\n",
    "\n",
    "    def forward(self, x, cond):\n",
    "        a = torch.cat((x, cond), axis=-1)\n",
    "        return self.discriminator_stack(a)"
   ]
  },
  {
   "cell_type": "code",
   "execution_count": 8,
   "id": "e1335ba6-8b45-4d50-b31e-451a53d4d638",
   "metadata": {
    "execution": {
     "iopub.execute_input": "2023-02-02T19:35:47.077866Z",
     "iopub.status.busy": "2023-02-02T19:35:47.077612Z",
     "iopub.status.idle": "2023-02-02T19:35:47.086077Z",
     "shell.execute_reply": "2023-02-02T19:35:47.085580Z",
     "shell.execute_reply.started": "2023-02-02T19:35:47.077847Z"
    },
    "tags": []
   },
   "outputs": [],
   "source": [
    "def train(learning_rate, num_epochs, train_loader):\n",
    "\n",
    "    device = torch.device(\"cuda\" if torch.cuda.is_available() else \"cpu\")\n",
    "    device = \"cpu\"\n",
    "    \n",
    "    # Create Models\n",
    "    G = Generator(GENE_EXPRESSION_VEC+GENE_EMBED_DIM, GENE_EXPRESSION_VEC).to(device)\n",
    "    D = Discriminator(GENE_EXPRESSION_VEC+GENE_EMBED_DIM, 1).to(device)\n",
    "\n",
    "    # Define Losses\n",
    "    lossG = nn.BCELoss()\n",
    "    lossD = nn.BCELoss()\n",
    "    \n",
    "    alpha = 0.5\n",
    "\n",
    "    # Create Optimizer\n",
    "    param_list = list(G.parameters()) + list(D.parameters())\n",
    "\n",
    "    optimizer_all = torch.optim.Adam(param_list, lr=learning_rate)\n",
    "\n",
    "    # Train Models\n",
    "    G.train()\n",
    "    D.train()\n",
    "\n",
    "    # training loop\n",
    "    for ep in range(num_epochs):\n",
    "\n",
    "        # Reset Loss List\n",
    "        epoch_loss = {'loss_G': [], 'loss_D': []}\n",
    "\n",
    "        for index, batch_inputs in enumerate(tqdm(train_loader)):\n",
    "\n",
    "            # unpack train loader\n",
    "            KO_gene, batch_X, batch_y = batch_inputs\n",
    "            \n",
    "            #print(KO_gene.shape, batch_X.shape, batch_y.shape)\n",
    "\n",
    "            # zero all gradients\n",
    "            optimizer_all.zero_grad()\n",
    "\n",
    "            # generator input: embedding of knockout gene, unperturbed gene expression\n",
    "            fake = G(batch_X.to(device), KO_gene.to(device))\n",
    "\n",
    "            # get discriminator decision: real or fake\n",
    "            decision_fake = D(fake, KO_gene.to(device))        \n",
    "            decision_real = D(batch_y.to(device), KO_gene.to(device))\n",
    "            \n",
    "            # Get Losses\n",
    "            loss_G = lossG(decision_fake, torch.ones_like(decision_fake).to(device))\n",
    "            #loss_G += .5 * lossG(decision_fake, torch.zeros_like(decision_fake).to(device))\n",
    "            loss_D = .5 * lossD(decision_real, torch.ones_like(decision_real).to(device))\n",
    "            loss_D += .5 * lossD(decision_fake, torch.zeros_like(decision_fake).to(device))\n",
    "            #print(loss_D)\n",
    "\n",
    "            # Backward the Loss\n",
    "            loss_total = alpha*loss_G + (1.0 - alpha)*loss_D\n",
    "            loss_total.backward()\n",
    "\n",
    "            # Step\n",
    "            optimizer_all.step()\n",
    "\n",
    "            # Add Losses to Epoch Dictionary\n",
    "            epoch_loss[\"loss_G\"].append(loss_G)\n",
    "            epoch_loss[\"loss_D\"].append(loss_D)\n",
    "            #print(epoch_loss)\n",
    "            #print(len(epoch_loss[\"loss_G\"]))\n",
    "\n",
    "        #Average Loss Every Epoch\n",
    "        avg_ep_error_G = sum(epoch_loss[\"loss_G\"]) / len(epoch_loss[\"loss_G\"]) #why len\n",
    "        avg_ep_error_D = sum(epoch_loss[\"loss_D\"]) / len(epoch_loss[\"loss_G\"])\n",
    "\n",
    "        # Print losses every epoch\n",
    "        print(\"######################################################\")\n",
    "        print(\"Generator_Loss: {}\\t at epoch: {}\".format(avg_ep_error_G, ep))\n",
    "        print(\"Discriminator_Loss: {}\\t at epoch: {}\".format(avg_ep_error_D, ep))\n",
    "\n",
    "    return G, D\n"
   ]
  },
  {
   "cell_type": "code",
   "execution_count": null,
   "id": "1b0d3d5a-215e-49c5-a5ee-47bc0d89bd04",
   "metadata": {
    "execution": {
     "iopub.execute_input": "2023-02-02T20:56:07.878522Z",
     "iopub.status.busy": "2023-02-02T20:56:07.878115Z"
    },
    "tags": []
   },
   "outputs": [
    {
     "name": "stdout",
     "output_type": "stream",
     "text": [
      "Starting...\n"
     ]
    },
    {
     "data": {
      "application/vnd.jupyter.widget-view+json": {
       "model_id": "047193aaca064dcd82e2b784a84d9c42",
       "version_major": 2,
       "version_minor": 0
      },
      "text/plain": [
       "  0%|          | 0/8 [00:00<?, ?it/s]"
      ]
     },
     "metadata": {},
     "output_type": "display_data"
    },
    {
     "name": "stdout",
     "output_type": "stream",
     "text": [
      "######################################################\n",
      "Generator_Loss: 0.5930319315812046\t at epoch: 0\n",
      "Discriminator_Loss: 0.7113545219242756\t at epoch: 0\n"
     ]
    },
    {
     "data": {
      "application/vnd.jupyter.widget-view+json": {
       "model_id": "9a76fe841ffe41c8b34f702c126a814a",
       "version_major": 2,
       "version_minor": 0
      },
      "text/plain": [
       "  0%|          | 0/8 [00:00<?, ?it/s]"
      ]
     },
     "metadata": {},
     "output_type": "display_data"
    },
    {
     "name": "stdout",
     "output_type": "stream",
     "text": [
      "######################################################\n",
      "Generator_Loss: 0.4566224700262467\t at epoch: 1\n",
      "Discriminator_Loss: 0.7328893322420704\t at epoch: 1\n"
     ]
    },
    {
     "data": {
      "application/vnd.jupyter.widget-view+json": {
       "model_id": "b4317ce096d94d9a88c316794cf1ff84",
       "version_major": 2,
       "version_minor": 0
      },
      "text/plain": [
       "  0%|          | 0/8 [00:00<?, ?it/s]"
      ]
     },
     "metadata": {},
     "output_type": "display_data"
    },
    {
     "name": "stdout",
     "output_type": "stream",
     "text": [
      "######################################################\n",
      "Generator_Loss: 0.370532462790347\t at epoch: 2\n",
      "Discriminator_Loss: 0.7746943081221627\t at epoch: 2\n"
     ]
    },
    {
     "data": {
      "application/vnd.jupyter.widget-view+json": {
       "model_id": "32ba71da2f024d298892fc0ccaed302e",
       "version_major": 2,
       "version_minor": 0
      },
      "text/plain": [
       "  0%|          | 0/8 [00:00<?, ?it/s]"
      ]
     },
     "metadata": {},
     "output_type": "display_data"
    },
    {
     "name": "stdout",
     "output_type": "stream",
     "text": [
      "######################################################\n",
      "Generator_Loss: 0.322116846677342\t at epoch: 3\n",
      "Discriminator_Loss: 0.8072764525854539\t at epoch: 3\n"
     ]
    },
    {
     "data": {
      "application/vnd.jupyter.widget-view+json": {
       "model_id": "72464069058d4598befb733b8e45bd97",
       "version_major": 2,
       "version_minor": 0
      },
      "text/plain": [
       "  0%|          | 0/8 [00:00<?, ?it/s]"
      ]
     },
     "metadata": {},
     "output_type": "display_data"
    },
    {
     "name": "stdout",
     "output_type": "stream",
     "text": [
      "######################################################\n",
      "Generator_Loss: 0.3130870410821567\t at epoch: 4\n",
      "Discriminator_Loss: 0.803014229281941\t at epoch: 4\n"
     ]
    },
    {
     "data": {
      "application/vnd.jupyter.widget-view+json": {
       "model_id": "97d4c1f92fca403bbd628c75b0c8475b",
       "version_major": 2,
       "version_minor": 0
      },
      "text/plain": [
       "  0%|          | 0/8 [00:00<?, ?it/s]"
      ]
     },
     "metadata": {},
     "output_type": "display_data"
    },
    {
     "name": "stdout",
     "output_type": "stream",
     "text": [
      "######################################################\n",
      "Generator_Loss: 0.31910977881865304\t at epoch: 5\n",
      "Discriminator_Loss: 0.7884582945976243\t at epoch: 5\n"
     ]
    },
    {
     "data": {
      "application/vnd.jupyter.widget-view+json": {
       "model_id": "a987c1873f5c49308d9a7275eba570e2",
       "version_major": 2,
       "version_minor": 0
      },
      "text/plain": [
       "  0%|          | 0/8 [00:00<?, ?it/s]"
      ]
     },
     "metadata": {},
     "output_type": "display_data"
    },
    {
     "name": "stdout",
     "output_type": "stream",
     "text": [
      "######################################################\n",
      "Generator_Loss: 0.3167494341613124\t at epoch: 6\n",
      "Discriminator_Loss: 0.7851859766439001\t at epoch: 6\n"
     ]
    },
    {
     "data": {
      "application/vnd.jupyter.widget-view+json": {
       "model_id": "91363a6af05747b5af019123de409d0b",
       "version_major": 2,
       "version_minor": 0
      },
      "text/plain": [
       "  0%|          | 0/8 [00:00<?, ?it/s]"
      ]
     },
     "metadata": {},
     "output_type": "display_data"
    },
    {
     "name": "stdout",
     "output_type": "stream",
     "text": [
      "######################################################\n",
      "Generator_Loss: 0.3109621450715182\t at epoch: 7\n",
      "Discriminator_Loss: 0.7938459731778241\t at epoch: 7\n"
     ]
    },
    {
     "data": {
      "application/vnd.jupyter.widget-view+json": {
       "model_id": "06e931390cf64ab6a7be877e5551bc20",
       "version_major": 2,
       "version_minor": 0
      },
      "text/plain": [
       "  0%|          | 0/8 [00:00<?, ?it/s]"
      ]
     },
     "metadata": {},
     "output_type": "display_data"
    },
    {
     "name": "stdout",
     "output_type": "stream",
     "text": [
      "######################################################\n",
      "Generator_Loss: 0.29995119417725136\t at epoch: 8\n",
      "Discriminator_Loss: 0.8060298977568687\t at epoch: 8\n"
     ]
    },
    {
     "data": {
      "application/vnd.jupyter.widget-view+json": {
       "model_id": "8ade806194fe4886a2bf774c66a82554",
       "version_major": 2,
       "version_minor": 0
      },
      "text/plain": [
       "  0%|          | 0/8 [00:00<?, ?it/s]"
      ]
     },
     "metadata": {},
     "output_type": "display_data"
    },
    {
     "name": "stdout",
     "output_type": "stream",
     "text": [
      "######################################################\n",
      "Generator_Loss: 0.32485865508771633\t at epoch: 9\n",
      "Discriminator_Loss: 0.7633189423913557\t at epoch: 9\n"
     ]
    },
    {
     "data": {
      "application/vnd.jupyter.widget-view+json": {
       "model_id": "78a7f0cc81644c268285dc173dfbfbf6",
       "version_major": 2,
       "version_minor": 0
      },
      "text/plain": [
       "  0%|          | 0/8 [00:00<?, ?it/s]"
      ]
     },
     "metadata": {},
     "output_type": "display_data"
    },
    {
     "name": "stdout",
     "output_type": "stream",
     "text": [
      "######################################################\n",
      "Generator_Loss: 0.33156089668222505\t at epoch: 10\n",
      "Discriminator_Loss: 0.7481162006712389\t at epoch: 10\n"
     ]
    },
    {
     "data": {
      "application/vnd.jupyter.widget-view+json": {
       "model_id": "2d8a64428a4441df8c8227da9961a905",
       "version_major": 2,
       "version_minor": 0
      },
      "text/plain": [
       "  0%|          | 0/8 [00:00<?, ?it/s]"
      ]
     },
     "metadata": {},
     "output_type": "display_data"
    },
    {
     "name": "stdout",
     "output_type": "stream",
     "text": [
      "######################################################\n",
      "Generator_Loss: 0.3206194749424868\t at epoch: 11\n",
      "Discriminator_Loss: 0.7607810804383014\t at epoch: 11\n"
     ]
    },
    {
     "data": {
      "application/vnd.jupyter.widget-view+json": {
       "model_id": "83eb31dc79b1429389fc159bef4b9d1b",
       "version_major": 2,
       "version_minor": 0
      },
      "text/plain": [
       "  0%|          | 0/8 [00:00<?, ?it/s]"
      ]
     },
     "metadata": {},
     "output_type": "display_data"
    },
    {
     "name": "stdout",
     "output_type": "stream",
     "text": [
      "######################################################\n",
      "Generator_Loss: 0.319517316691912\t at epoch: 12\n",
      "Discriminator_Loss: 0.7570259831096874\t at epoch: 12\n"
     ]
    },
    {
     "data": {
      "application/vnd.jupyter.widget-view+json": {
       "model_id": "490ea52f4d9f4724ae2affe72ba06134",
       "version_major": 2,
       "version_minor": 0
      },
      "text/plain": [
       "  0%|          | 0/8 [00:00<?, ?it/s]"
      ]
     },
     "metadata": {},
     "output_type": "display_data"
    },
    {
     "name": "stdout",
     "output_type": "stream",
     "text": [
      "######################################################\n",
      "Generator_Loss: 0.31700400779058174\t at epoch: 13\n",
      "Discriminator_Loss: 0.7681980027913025\t at epoch: 13\n"
     ]
    },
    {
     "data": {
      "application/vnd.jupyter.widget-view+json": {
       "model_id": "3eca8350e377499b94cc12246a19c150",
       "version_major": 2,
       "version_minor": 0
      },
      "text/plain": [
       "  0%|          | 0/8 [00:00<?, ?it/s]"
      ]
     },
     "metadata": {},
     "output_type": "display_data"
    },
    {
     "name": "stdout",
     "output_type": "stream",
     "text": [
      "######################################################\n",
      "Generator_Loss: 0.31792276705185474\t at epoch: 14\n",
      "Discriminator_Loss: 0.7590479402034609\t at epoch: 14\n"
     ]
    },
    {
     "data": {
      "application/vnd.jupyter.widget-view+json": {
       "model_id": "19f505f1e2b344319036d57b003b5713",
       "version_major": 2,
       "version_minor": 0
      },
      "text/plain": [
       "  0%|          | 0/8 [00:00<?, ?it/s]"
      ]
     },
     "metadata": {},
     "output_type": "display_data"
    }
   ],
   "source": [
    "if __name__ == '__main__':\n",
    "    \n",
    "    print(\"Starting...\")\n",
    "    train_loader = DataLoader(dataset, batch_size=BATCH_SIZE, shuffle=True)\n",
    "    G, D  = train(learning_rate = 1e-3, num_epochs = 200, train_loader = train_loader)\n",
    "\n",
    "    #Save Model\n",
    "    FILE_MODEL_G = \"./saved_models/Model_G.pth\"\n",
    "    FILE_MODEL_D = \"./saved_models/Model_D.pth\"\n",
    "    torch.save(G, FILE_MODEL_G)\n",
    "    torch.save(D, FILE_MODEL_D)"
   ]
  },
  {
   "cell_type": "code",
   "execution_count": null,
   "id": "5fab462b-7cc6-4e59-902a-4c090cde6038",
   "metadata": {
    "tags": []
   },
   "outputs": [],
   "source": [
    "!nvidia-smi"
   ]
  },
  {
   "cell_type": "code",
   "execution_count": 22,
   "id": "dfa85bd1-0e61-4b26-8737-6de42b3b974a",
   "metadata": {
    "execution": {
     "iopub.execute_input": "2023-02-02T05:53:44.395157Z",
     "iopub.status.busy": "2023-02-02T05:53:44.394816Z",
     "iopub.status.idle": "2023-02-02T05:53:44.404703Z",
     "shell.execute_reply": "2023-02-02T05:53:44.404101Z",
     "shell.execute_reply.started": "2023-02-02T05:53:44.395129Z"
    }
   },
   "outputs": [
    {
     "data": {
      "text/plain": [
       "14.7548828125"
      ]
     },
     "execution_count": 22,
     "metadata": {},
     "output_type": "execute_result"
    }
   ],
   "source": [
    "15109/1024"
   ]
  },
  {
   "cell_type": "code",
   "execution_count": null,
   "id": "f61b2197-1c22-4780-a8d7-40ef71f4143e",
   "metadata": {
    "execution": {
     "iopub.status.busy": "2023-02-01T22:09:20.568925Z",
     "iopub.status.idle": "2023-02-01T22:09:20.569251Z",
     "shell.execute_reply": "2023-02-01T22:09:20.569138Z",
     "shell.execute_reply.started": "2023-02-01T22:09:20.569125Z"
    },
    "tags": []
   },
   "outputs": [],
   "source": [
    "import random\n",
    "random.randint(0, len(dataset.perturb_seq) - 1)"
   ]
  },
  {
   "cell_type": "code",
   "execution_count": null,
   "id": "8ecfe76a-9ac9-47d1-998c-eddaa811a7b3",
   "metadata": {
    "execution": {
     "iopub.status.busy": "2023-02-01T22:09:20.571273Z",
     "iopub.status.idle": "2023-02-01T22:09:20.571531Z",
     "shell.execute_reply": "2023-02-01T22:09:20.571406Z",
     "shell.execute_reply.started": "2023-02-01T22:09:20.571394Z"
    },
    "tags": []
   },
   "outputs": [],
   "source": [
    "dataset.perturb_seq - 1"
   ]
  },
  {
   "cell_type": "code",
   "execution_count": 21,
   "id": "3f459dae-9915-47e2-9edf-04673475d714",
   "metadata": {
    "execution": {
     "iopub.execute_input": "2023-02-01T20:48:13.166120Z",
     "iopub.status.busy": "2023-02-01T20:48:13.165745Z",
     "iopub.status.idle": "2023-02-01T20:48:13.191437Z",
     "shell.execute_reply": "2023-02-01T20:48:13.190860Z",
     "shell.execute_reply.started": "2023-02-01T20:48:13.166095Z"
    }
   },
   "outputs": [
    {
     "data": {
      "text/html": [
       "<div>\n",
       "<style scoped>\n",
       "    .dataframe tbody tr th:only-of-type {\n",
       "        vertical-align: middle;\n",
       "    }\n",
       "\n",
       "    .dataframe tbody tr th {\n",
       "        vertical-align: top;\n",
       "    }\n",
       "\n",
       "    .dataframe thead th {\n",
       "        text-align: right;\n",
       "    }\n",
       "</style>\n",
       "<table border=\"1\" class=\"dataframe\">\n",
       "  <thead>\n",
       "    <tr style=\"text-align: right;\">\n",
       "      <th></th>\n",
       "      <th>0</th>\n",
       "      <th>1</th>\n",
       "      <th>2</th>\n",
       "      <th>3</th>\n",
       "      <th>4</th>\n",
       "      <th>5</th>\n",
       "      <th>6</th>\n",
       "      <th>7</th>\n",
       "      <th>8</th>\n",
       "      <th>9</th>\n",
       "      <th>...</th>\n",
       "      <th>140</th>\n",
       "      <th>141</th>\n",
       "      <th>142</th>\n",
       "      <th>143</th>\n",
       "      <th>144</th>\n",
       "      <th>145</th>\n",
       "      <th>146</th>\n",
       "      <th>147</th>\n",
       "      <th>148</th>\n",
       "      <th>149</th>\n",
       "    </tr>\n",
       "  </thead>\n",
       "  <tbody>\n",
       "    <tr>\n",
       "      <th>0</th>\n",
       "      <td>0.084076</td>\n",
       "      <td>0.066017</td>\n",
       "      <td>0.160443</td>\n",
       "      <td>0.045989</td>\n",
       "      <td>0.028019</td>\n",
       "      <td>0.028495</td>\n",
       "      <td>0.109682</td>\n",
       "      <td>0.028926</td>\n",
       "      <td>-0.119988</td>\n",
       "      <td>0.043822</td>\n",
       "      <td>...</td>\n",
       "      <td>0.055338</td>\n",
       "      <td>-0.025267</td>\n",
       "      <td>0.045266</td>\n",
       "      <td>0.107301</td>\n",
       "      <td>-0.083249</td>\n",
       "      <td>-0.053435</td>\n",
       "      <td>0.011428</td>\n",
       "      <td>-0.010621</td>\n",
       "      <td>-0.017017</td>\n",
       "      <td>0.035835</td>\n",
       "    </tr>\n",
       "    <tr>\n",
       "      <th>1</th>\n",
       "      <td>-0.097811</td>\n",
       "      <td>0.017677</td>\n",
       "      <td>0.024524</td>\n",
       "      <td>-0.034668</td>\n",
       "      <td>-0.077248</td>\n",
       "      <td>-0.040067</td>\n",
       "      <td>0.077137</td>\n",
       "      <td>-0.008848</td>\n",
       "      <td>-0.055085</td>\n",
       "      <td>0.091817</td>\n",
       "      <td>...</td>\n",
       "      <td>0.134737</td>\n",
       "      <td>0.031279</td>\n",
       "      <td>0.043491</td>\n",
       "      <td>0.094547</td>\n",
       "      <td>0.055724</td>\n",
       "      <td>0.009046</td>\n",
       "      <td>-0.022644</td>\n",
       "      <td>0.055887</td>\n",
       "      <td>0.121261</td>\n",
       "      <td>-0.056232</td>\n",
       "    </tr>\n",
       "    <tr>\n",
       "      <th>2</th>\n",
       "      <td>0.000243</td>\n",
       "      <td>0.078149</td>\n",
       "      <td>0.098819</td>\n",
       "      <td>0.069123</td>\n",
       "      <td>0.016560</td>\n",
       "      <td>-0.042909</td>\n",
       "      <td>0.053804</td>\n",
       "      <td>0.057282</td>\n",
       "      <td>-0.166803</td>\n",
       "      <td>-0.040503</td>\n",
       "      <td>...</td>\n",
       "      <td>0.121094</td>\n",
       "      <td>-0.043642</td>\n",
       "      <td>0.075727</td>\n",
       "      <td>0.015954</td>\n",
       "      <td>-0.046719</td>\n",
       "      <td>-0.029619</td>\n",
       "      <td>-0.026320</td>\n",
       "      <td>0.061115</td>\n",
       "      <td>0.157111</td>\n",
       "      <td>-0.075119</td>\n",
       "    </tr>\n",
       "    <tr>\n",
       "      <th>3</th>\n",
       "      <td>0.089756</td>\n",
       "      <td>-0.035879</td>\n",
       "      <td>-0.114247</td>\n",
       "      <td>0.033007</td>\n",
       "      <td>-0.089655</td>\n",
       "      <td>0.026436</td>\n",
       "      <td>0.019157</td>\n",
       "      <td>0.057533</td>\n",
       "      <td>-0.145426</td>\n",
       "      <td>-0.102638</td>\n",
       "      <td>...</td>\n",
       "      <td>0.073326</td>\n",
       "      <td>-0.040363</td>\n",
       "      <td>-0.015797</td>\n",
       "      <td>0.125135</td>\n",
       "      <td>-0.042652</td>\n",
       "      <td>0.115123</td>\n",
       "      <td>-0.082012</td>\n",
       "      <td>0.003727</td>\n",
       "      <td>-0.043642</td>\n",
       "      <td>0.080191</td>\n",
       "    </tr>\n",
       "    <tr>\n",
       "      <th>4</th>\n",
       "      <td>-0.068236</td>\n",
       "      <td>-0.014179</td>\n",
       "      <td>-0.116757</td>\n",
       "      <td>-0.049554</td>\n",
       "      <td>0.008640</td>\n",
       "      <td>0.076427</td>\n",
       "      <td>0.112634</td>\n",
       "      <td>-0.058167</td>\n",
       "      <td>-0.034452</td>\n",
       "      <td>-0.089467</td>\n",
       "      <td>...</td>\n",
       "      <td>0.086226</td>\n",
       "      <td>0.025905</td>\n",
       "      <td>-0.010350</td>\n",
       "      <td>0.102784</td>\n",
       "      <td>-0.099384</td>\n",
       "      <td>0.077953</td>\n",
       "      <td>0.021640</td>\n",
       "      <td>-0.012799</td>\n",
       "      <td>0.150379</td>\n",
       "      <td>0.069952</td>\n",
       "    </tr>\n",
       "    <tr>\n",
       "      <th>...</th>\n",
       "      <td>...</td>\n",
       "      <td>...</td>\n",
       "      <td>...</td>\n",
       "      <td>...</td>\n",
       "      <td>...</td>\n",
       "      <td>...</td>\n",
       "      <td>...</td>\n",
       "      <td>...</td>\n",
       "      <td>...</td>\n",
       "      <td>...</td>\n",
       "      <td>...</td>\n",
       "      <td>...</td>\n",
       "      <td>...</td>\n",
       "      <td>...</td>\n",
       "      <td>...</td>\n",
       "      <td>...</td>\n",
       "      <td>...</td>\n",
       "      <td>...</td>\n",
       "      <td>...</td>\n",
       "      <td>...</td>\n",
       "      <td>...</td>\n",
       "    </tr>\n",
       "    <tr>\n",
       "      <th>15705</th>\n",
       "      <td>-0.014159</td>\n",
       "      <td>-0.033720</td>\n",
       "      <td>0.009675</td>\n",
       "      <td>-0.064084</td>\n",
       "      <td>0.121911</td>\n",
       "      <td>-0.018223</td>\n",
       "      <td>-0.102532</td>\n",
       "      <td>-0.102793</td>\n",
       "      <td>0.138172</td>\n",
       "      <td>-0.058916</td>\n",
       "      <td>...</td>\n",
       "      <td>0.126625</td>\n",
       "      <td>-0.090644</td>\n",
       "      <td>0.055296</td>\n",
       "      <td>0.071481</td>\n",
       "      <td>-0.055293</td>\n",
       "      <td>0.029780</td>\n",
       "      <td>0.004009</td>\n",
       "      <td>-0.002020</td>\n",
       "      <td>-0.047531</td>\n",
       "      <td>0.036867</td>\n",
       "    </tr>\n",
       "    <tr>\n",
       "      <th>15706</th>\n",
       "      <td>0.062602</td>\n",
       "      <td>-0.054406</td>\n",
       "      <td>0.044205</td>\n",
       "      <td>0.061566</td>\n",
       "      <td>0.124266</td>\n",
       "      <td>-0.021329</td>\n",
       "      <td>-0.055662</td>\n",
       "      <td>-0.036168</td>\n",
       "      <td>0.113291</td>\n",
       "      <td>-0.095599</td>\n",
       "      <td>...</td>\n",
       "      <td>-0.099225</td>\n",
       "      <td>0.077612</td>\n",
       "      <td>0.015890</td>\n",
       "      <td>0.095092</td>\n",
       "      <td>0.010492</td>\n",
       "      <td>-0.018273</td>\n",
       "      <td>-0.075841</td>\n",
       "      <td>0.062877</td>\n",
       "      <td>-0.141602</td>\n",
       "      <td>0.126040</td>\n",
       "    </tr>\n",
       "    <tr>\n",
       "      <th>15707</th>\n",
       "      <td>-0.067877</td>\n",
       "      <td>0.197717</td>\n",
       "      <td>0.118632</td>\n",
       "      <td>-0.044108</td>\n",
       "      <td>-0.013304</td>\n",
       "      <td>0.000297</td>\n",
       "      <td>-0.103470</td>\n",
       "      <td>-0.027654</td>\n",
       "      <td>0.076239</td>\n",
       "      <td>0.047753</td>\n",
       "      <td>...</td>\n",
       "      <td>-0.089681</td>\n",
       "      <td>0.068424</td>\n",
       "      <td>0.062545</td>\n",
       "      <td>0.022933</td>\n",
       "      <td>-0.019549</td>\n",
       "      <td>-0.005379</td>\n",
       "      <td>0.068350</td>\n",
       "      <td>0.036818</td>\n",
       "      <td>0.000432</td>\n",
       "      <td>0.065463</td>\n",
       "    </tr>\n",
       "    <tr>\n",
       "      <th>15708</th>\n",
       "      <td>0.042693</td>\n",
       "      <td>-0.086445</td>\n",
       "      <td>0.054753</td>\n",
       "      <td>-0.056397</td>\n",
       "      <td>-0.002129</td>\n",
       "      <td>-0.127126</td>\n",
       "      <td>-0.053702</td>\n",
       "      <td>-0.130947</td>\n",
       "      <td>-0.014795</td>\n",
       "      <td>-0.019460</td>\n",
       "      <td>...</td>\n",
       "      <td>-0.148341</td>\n",
       "      <td>-0.055738</td>\n",
       "      <td>-0.000493</td>\n",
       "      <td>0.075588</td>\n",
       "      <td>0.030998</td>\n",
       "      <td>0.025893</td>\n",
       "      <td>-0.027715</td>\n",
       "      <td>-0.035677</td>\n",
       "      <td>-0.006670</td>\n",
       "      <td>-0.093611</td>\n",
       "    </tr>\n",
       "    <tr>\n",
       "      <th>15709</th>\n",
       "      <td>0.143806</td>\n",
       "      <td>-0.128124</td>\n",
       "      <td>-0.038937</td>\n",
       "      <td>-0.173769</td>\n",
       "      <td>-0.041713</td>\n",
       "      <td>0.119013</td>\n",
       "      <td>0.005856</td>\n",
       "      <td>-0.010126</td>\n",
       "      <td>-0.040457</td>\n",
       "      <td>-0.080468</td>\n",
       "      <td>...</td>\n",
       "      <td>-0.008554</td>\n",
       "      <td>0.121293</td>\n",
       "      <td>-0.113255</td>\n",
       "      <td>-0.117010</td>\n",
       "      <td>-0.018247</td>\n",
       "      <td>-0.084030</td>\n",
       "      <td>0.076813</td>\n",
       "      <td>-0.029869</td>\n",
       "      <td>-0.011627</td>\n",
       "      <td>-0.081353</td>\n",
       "    </tr>\n",
       "  </tbody>\n",
       "</table>\n",
       "<p>15710 rows × 150 columns</p>\n",
       "</div>"
      ],
      "text/plain": [
       "            0         1         2         3         4         5         6    \\\n",
       "0      0.084076  0.066017  0.160443  0.045989  0.028019  0.028495  0.109682   \n",
       "1     -0.097811  0.017677  0.024524 -0.034668 -0.077248 -0.040067  0.077137   \n",
       "2      0.000243  0.078149  0.098819  0.069123  0.016560 -0.042909  0.053804   \n",
       "3      0.089756 -0.035879 -0.114247  0.033007 -0.089655  0.026436  0.019157   \n",
       "4     -0.068236 -0.014179 -0.116757 -0.049554  0.008640  0.076427  0.112634   \n",
       "...         ...       ...       ...       ...       ...       ...       ...   \n",
       "15705 -0.014159 -0.033720  0.009675 -0.064084  0.121911 -0.018223 -0.102532   \n",
       "15706  0.062602 -0.054406  0.044205  0.061566  0.124266 -0.021329 -0.055662   \n",
       "15707 -0.067877  0.197717  0.118632 -0.044108 -0.013304  0.000297 -0.103470   \n",
       "15708  0.042693 -0.086445  0.054753 -0.056397 -0.002129 -0.127126 -0.053702   \n",
       "15709  0.143806 -0.128124 -0.038937 -0.173769 -0.041713  0.119013  0.005856   \n",
       "\n",
       "            7         8         9    ...       140       141       142  \\\n",
       "0      0.028926 -0.119988  0.043822  ...  0.055338 -0.025267  0.045266   \n",
       "1     -0.008848 -0.055085  0.091817  ...  0.134737  0.031279  0.043491   \n",
       "2      0.057282 -0.166803 -0.040503  ...  0.121094 -0.043642  0.075727   \n",
       "3      0.057533 -0.145426 -0.102638  ...  0.073326 -0.040363 -0.015797   \n",
       "4     -0.058167 -0.034452 -0.089467  ...  0.086226  0.025905 -0.010350   \n",
       "...         ...       ...       ...  ...       ...       ...       ...   \n",
       "15705 -0.102793  0.138172 -0.058916  ...  0.126625 -0.090644  0.055296   \n",
       "15706 -0.036168  0.113291 -0.095599  ... -0.099225  0.077612  0.015890   \n",
       "15707 -0.027654  0.076239  0.047753  ... -0.089681  0.068424  0.062545   \n",
       "15708 -0.130947 -0.014795 -0.019460  ... -0.148341 -0.055738 -0.000493   \n",
       "15709 -0.010126 -0.040457 -0.080468  ... -0.008554  0.121293 -0.113255   \n",
       "\n",
       "            143       144       145       146       147       148       149  \n",
       "0      0.107301 -0.083249 -0.053435  0.011428 -0.010621 -0.017017  0.035835  \n",
       "1      0.094547  0.055724  0.009046 -0.022644  0.055887  0.121261 -0.056232  \n",
       "2      0.015954 -0.046719 -0.029619 -0.026320  0.061115  0.157111 -0.075119  \n",
       "3      0.125135 -0.042652  0.115123 -0.082012  0.003727 -0.043642  0.080191  \n",
       "4      0.102784 -0.099384  0.077953  0.021640 -0.012799  0.150379  0.069952  \n",
       "...         ...       ...       ...       ...       ...       ...       ...  \n",
       "15705  0.071481 -0.055293  0.029780  0.004009 -0.002020 -0.047531  0.036867  \n",
       "15706  0.095092  0.010492 -0.018273 -0.075841  0.062877 -0.141602  0.126040  \n",
       "15707  0.022933 -0.019549 -0.005379  0.068350  0.036818  0.000432  0.065463  \n",
       "15708  0.075588  0.030998  0.025893 -0.027715 -0.035677 -0.006670 -0.093611  \n",
       "15709 -0.117010 -0.018247 -0.084030  0.076813 -0.029869 -0.011627 -0.081353  \n",
       "\n",
       "[15710 rows x 150 columns]"
      ]
     },
     "execution_count": 21,
     "metadata": {},
     "output_type": "execute_result"
    }
   ],
   "source": [
    "pd.DataFrame(np.load(\"./gene_embedding/entities_kg_emb_TransE_nepochs_128.npy\"))"
   ]
  },
  {
   "cell_type": "code",
   "execution_count": 17,
   "id": "e58f066c-d775-4102-bdc8-01e3336343d3",
   "metadata": {
    "execution": {
     "iopub.execute_input": "2023-02-02T02:41:33.071241Z",
     "iopub.status.busy": "2023-02-02T02:41:33.070851Z",
     "iopub.status.idle": "2023-02-02T02:41:33.077759Z",
     "shell.execute_reply": "2023-02-02T02:41:33.077221Z",
     "shell.execute_reply.started": "2023-02-02T02:41:33.071216Z"
    },
    "tags": []
   },
   "outputs": [
    {
     "data": {
      "text/plain": [
       "array(['Tox2', 'Tpt1', 'Tcf7', 'Il12rb1', 'Ikzf3', 'Nr4a3', 'Litaf',\n",
       "       'Elf1', 'Irf2', 'Arid5b', 'Zeb2', 'Satb1', 'Dvl2', 'Nr4a1',\n",
       "       'Hif1a', 'Crem', 'Runx2', 'Ctnnb1', 'Tcf3', 'Foxo1', 'Dvl1',\n",
       "       'Gsk3b', 'Dkk3', 'Hmgb1', 'Dvl3', 'Sox4', 'Fzd1', 'Stat4', 'Nr4a2',\n",
       "       'Sp100', 'Rela', 'Ldhb', 'Eomes', 'Zfp292', 'Prdm1', 'Atf2',\n",
       "       'Il12rb2', 'Egr1', 'Id2', 'Lef1', 'Arid4b', 'Fzd6', 'Foxp1', 'Id3',\n",
       "       'Fzd3', 'Foxm1', 'Nr3c1', 'Irf9', 'Tox', 'Hmgb2', 'Oxnad1',\n",
       "       'Sp140', 'Sub1', 'Yy1', 'Lrp1', 'Ep300', 'P2rx7', 'Runx3', 'Rad21',\n",
       "       'Klf2', 'Ezh2', 'Myb', 'Eef2', 'Batf', 'Tbx21', 'Rps6', 'Aqr',\n",
       "       'Bach2', 'Bhlhe40', 'Ets1', 'Fosb', 'Mafk', 'Stat3'], dtype=object)"
      ]
     },
     "execution_count": 17,
     "metadata": {},
     "output_type": "execute_result"
    }
   ],
   "source": [
    "pd.read_csv('./data/knockout_list_conditions.csv')[1::].values.flatten()"
   ]
  },
  {
   "cell_type": "code",
   "execution_count": 8,
   "id": "bd00f8ce-39e7-45f8-9619-4e22a95d7aa1",
   "metadata": {
    "execution": {
     "iopub.execute_input": "2023-02-02T02:57:27.189093Z",
     "iopub.status.busy": "2023-02-02T02:57:27.188811Z",
     "iopub.status.idle": "2023-02-02T02:58:11.120100Z",
     "shell.execute_reply": "2023-02-02T02:58:11.119205Z",
     "shell.execute_reply.started": "2023-02-02T02:57:27.189073Z"
    },
    "tags": []
   },
   "outputs": [
    {
     "ename": "KeyboardInterrupt",
     "evalue": "",
     "output_type": "error",
     "traceback": [
      "\u001b[0;31m---------------------------------------------------------------------------\u001b[0m",
      "\u001b[0;31mKeyboardInterrupt\u001b[0m                         Traceback (most recent call last)",
      "Cell \u001b[0;32mIn [8], line 1\u001b[0m\n\u001b[0;32m----> 1\u001b[0m pd\u001b[38;5;241m.\u001b[39mread_csv(\u001b[38;5;124m'\u001b[39m\u001b[38;5;124m./data/perturbed_gene_expression.csv\u001b[39m\u001b[38;5;124m'\u001b[39m)\u001b[38;5;241m.\u001b[39mhead()\n",
      "File \u001b[0;32m/opt/saturncloud/envs/saturn/lib/python3.9/site-packages/pandas/util/_decorators.py:211\u001b[0m, in \u001b[0;36mdeprecate_kwarg.<locals>._deprecate_kwarg.<locals>.wrapper\u001b[0;34m(*args, **kwargs)\u001b[0m\n\u001b[1;32m    209\u001b[0m     \u001b[38;5;28;01melse\u001b[39;00m:\n\u001b[1;32m    210\u001b[0m         kwargs[new_arg_name] \u001b[38;5;241m=\u001b[39m new_arg_value\n\u001b[0;32m--> 211\u001b[0m \u001b[38;5;28;01mreturn\u001b[39;00m \u001b[43mfunc\u001b[49m\u001b[43m(\u001b[49m\u001b[38;5;241;43m*\u001b[39;49m\u001b[43margs\u001b[49m\u001b[43m,\u001b[49m\u001b[43m \u001b[49m\u001b[38;5;241;43m*\u001b[39;49m\u001b[38;5;241;43m*\u001b[39;49m\u001b[43mkwargs\u001b[49m\u001b[43m)\u001b[49m\n",
      "File \u001b[0;32m/opt/saturncloud/envs/saturn/lib/python3.9/site-packages/pandas/util/_decorators.py:331\u001b[0m, in \u001b[0;36mdeprecate_nonkeyword_arguments.<locals>.decorate.<locals>.wrapper\u001b[0;34m(*args, **kwargs)\u001b[0m\n\u001b[1;32m    325\u001b[0m \u001b[38;5;28;01mif\u001b[39;00m \u001b[38;5;28mlen\u001b[39m(args) \u001b[38;5;241m>\u001b[39m num_allow_args:\n\u001b[1;32m    326\u001b[0m     warnings\u001b[38;5;241m.\u001b[39mwarn(\n\u001b[1;32m    327\u001b[0m         msg\u001b[38;5;241m.\u001b[39mformat(arguments\u001b[38;5;241m=\u001b[39m_format_argument_list(allow_args)),\n\u001b[1;32m    328\u001b[0m         \u001b[38;5;167;01mFutureWarning\u001b[39;00m,\n\u001b[1;32m    329\u001b[0m         stacklevel\u001b[38;5;241m=\u001b[39mfind_stack_level(),\n\u001b[1;32m    330\u001b[0m     )\n\u001b[0;32m--> 331\u001b[0m \u001b[38;5;28;01mreturn\u001b[39;00m \u001b[43mfunc\u001b[49m\u001b[43m(\u001b[49m\u001b[38;5;241;43m*\u001b[39;49m\u001b[43margs\u001b[49m\u001b[43m,\u001b[49m\u001b[43m \u001b[49m\u001b[38;5;241;43m*\u001b[39;49m\u001b[38;5;241;43m*\u001b[39;49m\u001b[43mkwargs\u001b[49m\u001b[43m)\u001b[49m\n",
      "File \u001b[0;32m/opt/saturncloud/envs/saturn/lib/python3.9/site-packages/pandas/io/parsers/readers.py:950\u001b[0m, in \u001b[0;36mread_csv\u001b[0;34m(filepath_or_buffer, sep, delimiter, header, names, index_col, usecols, squeeze, prefix, mangle_dupe_cols, dtype, engine, converters, true_values, false_values, skipinitialspace, skiprows, skipfooter, nrows, na_values, keep_default_na, na_filter, verbose, skip_blank_lines, parse_dates, infer_datetime_format, keep_date_col, date_parser, dayfirst, cache_dates, iterator, chunksize, compression, thousands, decimal, lineterminator, quotechar, quoting, doublequote, escapechar, comment, encoding, encoding_errors, dialect, error_bad_lines, warn_bad_lines, on_bad_lines, delim_whitespace, low_memory, memory_map, float_precision, storage_options)\u001b[0m\n\u001b[1;32m    935\u001b[0m kwds_defaults \u001b[38;5;241m=\u001b[39m _refine_defaults_read(\n\u001b[1;32m    936\u001b[0m     dialect,\n\u001b[1;32m    937\u001b[0m     delimiter,\n\u001b[0;32m   (...)\u001b[0m\n\u001b[1;32m    946\u001b[0m     defaults\u001b[38;5;241m=\u001b[39m{\u001b[38;5;124m\"\u001b[39m\u001b[38;5;124mdelimiter\u001b[39m\u001b[38;5;124m\"\u001b[39m: \u001b[38;5;124m\"\u001b[39m\u001b[38;5;124m,\u001b[39m\u001b[38;5;124m\"\u001b[39m},\n\u001b[1;32m    947\u001b[0m )\n\u001b[1;32m    948\u001b[0m kwds\u001b[38;5;241m.\u001b[39mupdate(kwds_defaults)\n\u001b[0;32m--> 950\u001b[0m \u001b[38;5;28;01mreturn\u001b[39;00m \u001b[43m_read\u001b[49m\u001b[43m(\u001b[49m\u001b[43mfilepath_or_buffer\u001b[49m\u001b[43m,\u001b[49m\u001b[43m \u001b[49m\u001b[43mkwds\u001b[49m\u001b[43m)\u001b[49m\n",
      "File \u001b[0;32m/opt/saturncloud/envs/saturn/lib/python3.9/site-packages/pandas/io/parsers/readers.py:611\u001b[0m, in \u001b[0;36m_read\u001b[0;34m(filepath_or_buffer, kwds)\u001b[0m\n\u001b[1;32m    608\u001b[0m     \u001b[38;5;28;01mreturn\u001b[39;00m parser\n\u001b[1;32m    610\u001b[0m \u001b[38;5;28;01mwith\u001b[39;00m parser:\n\u001b[0;32m--> 611\u001b[0m     \u001b[38;5;28;01mreturn\u001b[39;00m \u001b[43mparser\u001b[49m\u001b[38;5;241;43m.\u001b[39;49m\u001b[43mread\u001b[49m\u001b[43m(\u001b[49m\u001b[43mnrows\u001b[49m\u001b[43m)\u001b[49m\n",
      "File \u001b[0;32m/opt/saturncloud/envs/saturn/lib/python3.9/site-packages/pandas/io/parsers/readers.py:1778\u001b[0m, in \u001b[0;36mTextFileReader.read\u001b[0;34m(self, nrows)\u001b[0m\n\u001b[1;32m   1771\u001b[0m nrows \u001b[38;5;241m=\u001b[39m validate_integer(\u001b[38;5;124m\"\u001b[39m\u001b[38;5;124mnrows\u001b[39m\u001b[38;5;124m\"\u001b[39m, nrows)\n\u001b[1;32m   1772\u001b[0m \u001b[38;5;28;01mtry\u001b[39;00m:\n\u001b[1;32m   1773\u001b[0m     \u001b[38;5;66;03m# error: \"ParserBase\" has no attribute \"read\"\u001b[39;00m\n\u001b[1;32m   1774\u001b[0m     (\n\u001b[1;32m   1775\u001b[0m         index,\n\u001b[1;32m   1776\u001b[0m         columns,\n\u001b[1;32m   1777\u001b[0m         col_dict,\n\u001b[0;32m-> 1778\u001b[0m     ) \u001b[38;5;241m=\u001b[39m \u001b[38;5;28;43mself\u001b[39;49m\u001b[38;5;241;43m.\u001b[39;49m\u001b[43m_engine\u001b[49m\u001b[38;5;241;43m.\u001b[39;49m\u001b[43mread\u001b[49m\u001b[43m(\u001b[49m\u001b[43m  \u001b[49m\u001b[38;5;66;43;03m# type: ignore[attr-defined]\u001b[39;49;00m\n\u001b[1;32m   1779\u001b[0m \u001b[43m        \u001b[49m\u001b[43mnrows\u001b[49m\n\u001b[1;32m   1780\u001b[0m \u001b[43m    \u001b[49m\u001b[43m)\u001b[49m\n\u001b[1;32m   1781\u001b[0m \u001b[38;5;28;01mexcept\u001b[39;00m \u001b[38;5;167;01mException\u001b[39;00m:\n\u001b[1;32m   1782\u001b[0m     \u001b[38;5;28mself\u001b[39m\u001b[38;5;241m.\u001b[39mclose()\n",
      "File \u001b[0;32m/opt/saturncloud/envs/saturn/lib/python3.9/site-packages/pandas/io/parsers/c_parser_wrapper.py:230\u001b[0m, in \u001b[0;36mCParserWrapper.read\u001b[0;34m(self, nrows)\u001b[0m\n\u001b[1;32m    228\u001b[0m \u001b[38;5;28;01mtry\u001b[39;00m:\n\u001b[1;32m    229\u001b[0m     \u001b[38;5;28;01mif\u001b[39;00m \u001b[38;5;28mself\u001b[39m\u001b[38;5;241m.\u001b[39mlow_memory:\n\u001b[0;32m--> 230\u001b[0m         chunks \u001b[38;5;241m=\u001b[39m \u001b[38;5;28;43mself\u001b[39;49m\u001b[38;5;241;43m.\u001b[39;49m\u001b[43m_reader\u001b[49m\u001b[38;5;241;43m.\u001b[39;49m\u001b[43mread_low_memory\u001b[49m\u001b[43m(\u001b[49m\u001b[43mnrows\u001b[49m\u001b[43m)\u001b[49m\n\u001b[1;32m    231\u001b[0m         \u001b[38;5;66;03m# destructive to chunks\u001b[39;00m\n\u001b[1;32m    232\u001b[0m         data \u001b[38;5;241m=\u001b[39m _concatenate_chunks(chunks)\n",
      "File \u001b[0;32m/opt/saturncloud/envs/saturn/lib/python3.9/site-packages/pandas/_libs/parsers.pyx:808\u001b[0m, in \u001b[0;36mpandas._libs.parsers.TextReader.read_low_memory\u001b[0;34m()\u001b[0m\n",
      "File \u001b[0;32m/opt/saturncloud/envs/saturn/lib/python3.9/site-packages/pandas/_libs/parsers.pyx:890\u001b[0m, in \u001b[0;36mpandas._libs.parsers.TextReader._read_rows\u001b[0;34m()\u001b[0m\n",
      "File \u001b[0;32m/opt/saturncloud/envs/saturn/lib/python3.9/site-packages/pandas/_libs/parsers.pyx:1037\u001b[0m, in \u001b[0;36mpandas._libs.parsers.TextReader._convert_column_data\u001b[0;34m()\u001b[0m\n",
      "File \u001b[0;32m/opt/saturncloud/envs/saturn/lib/python3.9/site-packages/pandas/_libs/parsers.pyx:1083\u001b[0m, in \u001b[0;36mpandas._libs.parsers.TextReader._convert_tokens\u001b[0;34m()\u001b[0m\n",
      "File \u001b[0;32m/opt/saturncloud/envs/saturn/lib/python3.9/site-packages/pandas/_libs/parsers.pyx:1158\u001b[0m, in \u001b[0;36mpandas._libs.parsers.TextReader._convert_with_dtype\u001b[0;34m()\u001b[0m\n",
      "File \u001b[0;32m/opt/saturncloud/envs/saturn/lib/python3.9/site-packages/pandas/core/dtypes/common.py:1433\u001b[0m, in \u001b[0;36mis_extension_array_dtype\u001b[0;34m(arr_or_dtype)\u001b[0m\n\u001b[1;32m   1424\u001b[0m     \u001b[38;5;66;03m# Note: if other EA dtypes are ever held in HybridBlock, exclude those\u001b[39;00m\n\u001b[1;32m   1425\u001b[0m     \u001b[38;5;66;03m#  here too.\u001b[39;00m\n\u001b[1;32m   1426\u001b[0m     \u001b[38;5;66;03m# NB: need to check DatetimeTZDtype and not is_datetime64tz_dtype\u001b[39;00m\n\u001b[1;32m   1427\u001b[0m     \u001b[38;5;66;03m#  to exclude ArrowTimestampUSDtype\u001b[39;00m\n\u001b[1;32m   1428\u001b[0m     \u001b[38;5;28;01mreturn\u001b[39;00m \u001b[38;5;28misinstance\u001b[39m(dtype, ExtensionDtype) \u001b[38;5;129;01mand\u001b[39;00m \u001b[38;5;129;01mnot\u001b[39;00m \u001b[38;5;28misinstance\u001b[39m(\n\u001b[1;32m   1429\u001b[0m         dtype, (DatetimeTZDtype, PeriodDtype)\n\u001b[1;32m   1430\u001b[0m     )\n\u001b[0;32m-> 1433\u001b[0m \u001b[38;5;28;01mdef\u001b[39;00m \u001b[38;5;21mis_extension_array_dtype\u001b[39m(arr_or_dtype) \u001b[38;5;241m-\u001b[39m\u001b[38;5;241m>\u001b[39m \u001b[38;5;28mbool\u001b[39m:\n\u001b[1;32m   1434\u001b[0m     \u001b[38;5;124;03m\"\"\"\u001b[39;00m\n\u001b[1;32m   1435\u001b[0m \u001b[38;5;124;03m    Check if an object is a pandas extension array type.\u001b[39;00m\n\u001b[1;32m   1436\u001b[0m \n\u001b[0;32m   (...)\u001b[0m\n\u001b[1;32m   1476\u001b[0m \u001b[38;5;124;03m    False\u001b[39;00m\n\u001b[1;32m   1477\u001b[0m \u001b[38;5;124;03m    \"\"\"\u001b[39;00m\n\u001b[1;32m   1478\u001b[0m     dtype \u001b[38;5;241m=\u001b[39m \u001b[38;5;28mgetattr\u001b[39m(arr_or_dtype, \u001b[38;5;124m\"\u001b[39m\u001b[38;5;124mdtype\u001b[39m\u001b[38;5;124m\"\u001b[39m, arr_or_dtype)\n",
      "\u001b[0;31mKeyboardInterrupt\u001b[0m: "
     ]
    }
   ],
   "source": [
    "import pandas as pd\n",
    "pd.read_csv('./data/perturbed_gene_expression.csv').head()"
   ]
  },
  {
   "cell_type": "code",
   "execution_count": null,
   "id": "d8c1fb84-3a54-4883-9f0b-a96ffee4090e",
   "metadata": {},
   "outputs": [],
   "source": []
  }
 ],
 "metadata": {
  "kernelspec": {
   "display_name": "saturn (Python 3)",
   "language": "python",
   "name": "python3"
  },
  "language_info": {
   "codemirror_mode": {
    "name": "ipython",
    "version": 3
   },
   "file_extension": ".py",
   "mimetype": "text/x-python",
   "name": "python",
   "nbconvert_exporter": "python",
   "pygments_lexer": "ipython3",
   "version": "3.9.12"
  }
 },
 "nbformat": 4,
 "nbformat_minor": 5
}
