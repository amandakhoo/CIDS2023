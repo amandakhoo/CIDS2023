{
 "cells": [
  {
   "cell_type": "code",
   "execution_count": 1,
   "id": "7da5e565-c18a-4b8f-b32e-ed13e84cb79a",
   "metadata": {
    "execution": {
     "iopub.execute_input": "2023-01-28T03:30:51.679133Z",
     "iopub.status.busy": "2023-01-28T03:30:51.678897Z",
     "iopub.status.idle": "2023-01-28T03:30:53.187321Z",
     "shell.execute_reply": "2023-01-28T03:30:53.186725Z",
     "shell.execute_reply.started": "2023-01-28T03:30:51.679077Z"
    },
    "tags": []
   },
   "outputs": [],
   "source": [
    "import scanpy as sc\n",
    "\n",
    "from warnings import filterwarnings\n",
    "filterwarnings('ignore')\n",
    "\n",
    "from sklearn.model_selection import GridSearchCV\n",
    "\n",
    "from xgboost import XGBClassifier\n",
    "from sklearn.model_selection import train_test_split\n",
    "from sklearn.pipeline import Pipeline\n",
    "import pandas as pd\n",
    "\n",
    "from sklearn.svm import SVC\n",
    "from sklearn.metrics import confusion_matrix, ConfusionMatrixDisplay, f1_score\n",
    "import matplotlib.pyplot as plt\n",
    "\n",
    "import pickle\n",
    "import numpy as np\n",
    "\n",
    "from scipy.stats import ks_2samp\n",
    "import seaborn as sns"
   ]
  },
  {
   "cell_type": "code",
   "execution_count": 2,
   "id": "795d6c60-5495-4f45-91e5-c7c135810c67",
   "metadata": {
    "execution": {
     "iopub.execute_input": "2023-01-28T03:30:53.189160Z",
     "iopub.status.busy": "2023-01-28T03:30:53.188723Z",
     "iopub.status.idle": "2023-01-28T03:30:56.355173Z",
     "shell.execute_reply": "2023-01-28T03:30:56.354528Z",
     "shell.execute_reply.started": "2023-01-28T03:30:53.189135Z"
    },
    "tags": []
   },
   "outputs": [],
   "source": [
    "adata = sc.read_h5ad('sc_training.h5ad')\n",
    "adata.layers['normalized_logcounts'] = adata.X.copy()\n",
    "adata.X = adata.layers['rawcounts'].copy()  \n",
    "\n",
    "sc.pp.normalize_total(adata, target_sum=5e3)\n",
    "sc.pp.log1p(adata)"
   ]
  },
  {
   "cell_type": "code",
   "execution_count": 3,
   "id": "4310cfd8-35fa-4275-9034-0936a177350b",
   "metadata": {
    "execution": {
     "iopub.execute_input": "2023-01-28T03:30:56.358310Z",
     "iopub.status.busy": "2023-01-28T03:30:56.357844Z",
     "iopub.status.idle": "2023-01-28T03:30:57.861080Z",
     "shell.execute_reply": "2023-01-28T03:30:57.860446Z",
     "shell.execute_reply.started": "2023-01-28T03:30:56.358288Z"
    },
    "tags": []
   },
   "outputs": [],
   "source": [
    "normdf = adata.to_df(layer=\"normalized_logcounts\")"
   ]
  },
  {
   "cell_type": "code",
   "execution_count": 4,
   "id": "4beb2f49-62a8-4924-a9d2-d14e92c7310b",
   "metadata": {
    "execution": {
     "iopub.execute_input": "2023-01-28T03:30:57.862199Z",
     "iopub.status.busy": "2023-01-28T03:30:57.861919Z",
     "iopub.status.idle": "2023-01-28T03:30:57.957248Z",
     "shell.execute_reply": "2023-01-28T03:30:57.956616Z",
     "shell.execute_reply.started": "2023-01-28T03:30:57.862178Z"
    },
    "tags": []
   },
   "outputs": [],
   "source": [
    "df_cond = pd.DataFrame(adata.obs['condition'])\n",
    "unpert_sample_in = df_cond[df_cond['condition'] == 'Unperturbed'].index\n",
    "\n",
    "df_unpert = normdf.filter(unpert_sample_in, axis = 0)"
   ]
  },
  {
   "cell_type": "code",
   "execution_count": 5,
   "id": "4750fd2f-5bd1-4dbd-a70c-b2675e9791b9",
   "metadata": {
    "execution": {
     "iopub.execute_input": "2023-01-28T03:30:57.959210Z",
     "iopub.status.busy": "2023-01-28T03:30:57.958889Z",
     "iopub.status.idle": "2023-01-28T03:30:57.962992Z",
     "shell.execute_reply": "2023-01-28T03:30:57.962487Z",
     "shell.execute_reply.started": "2023-01-28T03:30:57.959189Z"
    },
    "tags": []
   },
   "outputs": [],
   "source": [
    "def filter(normdf):\n",
    "    var_per_gene = normdf.var(axis = 0)\n",
    "    filt = var_per_gene[var_per_gene >= ((var_per_gene.sort_values()[-1:][0])/100)]\n",
    "    X = normdf.filter(filt.index.values, axis = 1)\n",
    "    return X"
   ]
  },
  {
   "cell_type": "code",
   "execution_count": 6,
   "id": "de307bb4-39fc-4954-bb77-c62347296b5f",
   "metadata": {
    "execution": {
     "iopub.execute_input": "2023-01-28T03:30:57.963943Z",
     "iopub.status.busy": "2023-01-28T03:30:57.963752Z",
     "iopub.status.idle": "2023-01-28T03:30:59.073234Z",
     "shell.execute_reply": "2023-01-28T03:30:59.072648Z",
     "shell.execute_reply.started": "2023-01-28T03:30:57.963925Z"
    },
    "tags": []
   },
   "outputs": [
    {
     "data": {
      "text/html": [
       "<div>\n",
       "<style scoped>\n",
       "    .dataframe tbody tr th:only-of-type {\n",
       "        vertical-align: middle;\n",
       "    }\n",
       "\n",
       "    .dataframe tbody tr th {\n",
       "        vertical-align: top;\n",
       "    }\n",
       "\n",
       "    .dataframe thead th {\n",
       "        text-align: right;\n",
       "    }\n",
       "</style>\n",
       "<table border=\"1\" class=\"dataframe\">\n",
       "  <thead>\n",
       "    <tr style=\"text-align: right;\">\n",
       "      <th></th>\n",
       "      <th>Mrpl15</th>\n",
       "      <th>Lypla1</th>\n",
       "      <th>Tcea1</th>\n",
       "      <th>Atp6v1h</th>\n",
       "      <th>Rb1cc1</th>\n",
       "      <th>Pcmtd1</th>\n",
       "      <th>Rrs1</th>\n",
       "      <th>Vcpip1</th>\n",
       "      <th>Snhg6</th>\n",
       "      <th>Cops5</th>\n",
       "      <th>...</th>\n",
       "      <th>mt-Nd3</th>\n",
       "      <th>mt-Nd4l</th>\n",
       "      <th>mt-Nd4</th>\n",
       "      <th>mt-Nd5</th>\n",
       "      <th>mt-Nd6</th>\n",
       "      <th>mt-Cytb</th>\n",
       "      <th>CAAA01118383.1</th>\n",
       "      <th>Vamp7</th>\n",
       "      <th>CAAA01147332.1</th>\n",
       "      <th>AC149090.1</th>\n",
       "    </tr>\n",
       "  </thead>\n",
       "  <tbody>\n",
       "    <tr>\n",
       "      <th>053l1_AAACCTGAGATGTCGG-1</th>\n",
       "      <td>0.511520</td>\n",
       "      <td>0.000000</td>\n",
       "      <td>0.000000</td>\n",
       "      <td>0.000000</td>\n",
       "      <td>0.000000</td>\n",
       "      <td>0.0</td>\n",
       "      <td>0.000000</td>\n",
       "      <td>0.0</td>\n",
       "      <td>0.0</td>\n",
       "      <td>0.000000</td>\n",
       "      <td>...</td>\n",
       "      <td>0.000000</td>\n",
       "      <td>1.610826</td>\n",
       "      <td>1.099769</td>\n",
       "      <td>0.000000</td>\n",
       "      <td>0.000000</td>\n",
       "      <td>1.736030</td>\n",
       "      <td>0.000000</td>\n",
       "      <td>0.0</td>\n",
       "      <td>0.000000</td>\n",
       "      <td>0.0</td>\n",
       "    </tr>\n",
       "    <tr>\n",
       "      <th>053l1_AAACCTGAGTGTTAGA-1</th>\n",
       "      <td>0.000000</td>\n",
       "      <td>1.089103</td>\n",
       "      <td>0.686024</td>\n",
       "      <td>0.686024</td>\n",
       "      <td>0.000000</td>\n",
       "      <td>0.0</td>\n",
       "      <td>0.000000</td>\n",
       "      <td>0.0</td>\n",
       "      <td>0.0</td>\n",
       "      <td>0.000000</td>\n",
       "      <td>...</td>\n",
       "      <td>0.686024</td>\n",
       "      <td>1.375591</td>\n",
       "      <td>0.686024</td>\n",
       "      <td>0.000000</td>\n",
       "      <td>0.686024</td>\n",
       "      <td>1.779859</td>\n",
       "      <td>0.686024</td>\n",
       "      <td>0.0</td>\n",
       "      <td>0.000000</td>\n",
       "      <td>0.0</td>\n",
       "    </tr>\n",
       "    <tr>\n",
       "      <th>053l1_AAACCTGCATAGACTC-1</th>\n",
       "      <td>0.292065</td>\n",
       "      <td>0.292065</td>\n",
       "      <td>0.292065</td>\n",
       "      <td>0.292065</td>\n",
       "      <td>0.292065</td>\n",
       "      <td>0.0</td>\n",
       "      <td>0.292065</td>\n",
       "      <td>0.0</td>\n",
       "      <td>0.0</td>\n",
       "      <td>0.517829</td>\n",
       "      <td>...</td>\n",
       "      <td>0.517829</td>\n",
       "      <td>2.135607</td>\n",
       "      <td>1.216197</td>\n",
       "      <td>1.479762</td>\n",
       "      <td>0.000000</td>\n",
       "      <td>2.284313</td>\n",
       "      <td>0.292065</td>\n",
       "      <td>0.0</td>\n",
       "      <td>0.292065</td>\n",
       "      <td>0.0</td>\n",
       "    </tr>\n",
       "    <tr>\n",
       "      <th>053l1_AAACGGGAGTGGAGAA-1</th>\n",
       "      <td>1.020401</td>\n",
       "      <td>1.020401</td>\n",
       "      <td>0.000000</td>\n",
       "      <td>0.000000</td>\n",
       "      <td>0.000000</td>\n",
       "      <td>0.0</td>\n",
       "      <td>0.000000</td>\n",
       "      <td>0.0</td>\n",
       "      <td>0.0</td>\n",
       "      <td>0.000000</td>\n",
       "      <td>...</td>\n",
       "      <td>0.000000</td>\n",
       "      <td>0.000000</td>\n",
       "      <td>1.020401</td>\n",
       "      <td>0.000000</td>\n",
       "      <td>0.000000</td>\n",
       "      <td>1.844182</td>\n",
       "      <td>0.000000</td>\n",
       "      <td>0.0</td>\n",
       "      <td>1.020401</td>\n",
       "      <td>0.0</td>\n",
       "    </tr>\n",
       "    <tr>\n",
       "      <th>053l1_AAACGGGCAATCGAAA-1</th>\n",
       "      <td>0.000000</td>\n",
       "      <td>0.000000</td>\n",
       "      <td>0.000000</td>\n",
       "      <td>0.000000</td>\n",
       "      <td>0.000000</td>\n",
       "      <td>0.0</td>\n",
       "      <td>0.000000</td>\n",
       "      <td>0.0</td>\n",
       "      <td>0.0</td>\n",
       "      <td>0.000000</td>\n",
       "      <td>...</td>\n",
       "      <td>1.836899</td>\n",
       "      <td>2.187799</td>\n",
       "      <td>2.187799</td>\n",
       "      <td>0.000000</td>\n",
       "      <td>0.000000</td>\n",
       "      <td>2.187799</td>\n",
       "      <td>0.000000</td>\n",
       "      <td>0.0</td>\n",
       "      <td>0.000000</td>\n",
       "      <td>0.0</td>\n",
       "    </tr>\n",
       "  </tbody>\n",
       "</table>\n",
       "<p>5 rows × 7466 columns</p>\n",
       "</div>"
      ],
      "text/plain": [
       "                            Mrpl15    Lypla1     Tcea1   Atp6v1h    Rb1cc1  \\\n",
       "053l1_AAACCTGAGATGTCGG-1  0.511520  0.000000  0.000000  0.000000  0.000000   \n",
       "053l1_AAACCTGAGTGTTAGA-1  0.000000  1.089103  0.686024  0.686024  0.000000   \n",
       "053l1_AAACCTGCATAGACTC-1  0.292065  0.292065  0.292065  0.292065  0.292065   \n",
       "053l1_AAACGGGAGTGGAGAA-1  1.020401  1.020401  0.000000  0.000000  0.000000   \n",
       "053l1_AAACGGGCAATCGAAA-1  0.000000  0.000000  0.000000  0.000000  0.000000   \n",
       "\n",
       "                          Pcmtd1      Rrs1  Vcpip1  Snhg6     Cops5  ...  \\\n",
       "053l1_AAACCTGAGATGTCGG-1     0.0  0.000000     0.0    0.0  0.000000  ...   \n",
       "053l1_AAACCTGAGTGTTAGA-1     0.0  0.000000     0.0    0.0  0.000000  ...   \n",
       "053l1_AAACCTGCATAGACTC-1     0.0  0.292065     0.0    0.0  0.517829  ...   \n",
       "053l1_AAACGGGAGTGGAGAA-1     0.0  0.000000     0.0    0.0  0.000000  ...   \n",
       "053l1_AAACGGGCAATCGAAA-1     0.0  0.000000     0.0    0.0  0.000000  ...   \n",
       "\n",
       "                            mt-Nd3   mt-Nd4l    mt-Nd4    mt-Nd5    mt-Nd6  \\\n",
       "053l1_AAACCTGAGATGTCGG-1  0.000000  1.610826  1.099769  0.000000  0.000000   \n",
       "053l1_AAACCTGAGTGTTAGA-1  0.686024  1.375591  0.686024  0.000000  0.686024   \n",
       "053l1_AAACCTGCATAGACTC-1  0.517829  2.135607  1.216197  1.479762  0.000000   \n",
       "053l1_AAACGGGAGTGGAGAA-1  0.000000  0.000000  1.020401  0.000000  0.000000   \n",
       "053l1_AAACGGGCAATCGAAA-1  1.836899  2.187799  2.187799  0.000000  0.000000   \n",
       "\n",
       "                           mt-Cytb  CAAA01118383.1  Vamp7  CAAA01147332.1  \\\n",
       "053l1_AAACCTGAGATGTCGG-1  1.736030        0.000000    0.0        0.000000   \n",
       "053l1_AAACCTGAGTGTTAGA-1  1.779859        0.686024    0.0        0.000000   \n",
       "053l1_AAACCTGCATAGACTC-1  2.284313        0.292065    0.0        0.292065   \n",
       "053l1_AAACGGGAGTGGAGAA-1  1.844182        0.000000    0.0        1.020401   \n",
       "053l1_AAACGGGCAATCGAAA-1  2.187799        0.000000    0.0        0.000000   \n",
       "\n",
       "                          AC149090.1  \n",
       "053l1_AAACCTGAGATGTCGG-1         0.0  \n",
       "053l1_AAACCTGAGTGTTAGA-1         0.0  \n",
       "053l1_AAACCTGCATAGACTC-1         0.0  \n",
       "053l1_AAACGGGAGTGGAGAA-1         0.0  \n",
       "053l1_AAACGGGCAATCGAAA-1         0.0  \n",
       "\n",
       "[5 rows x 7466 columns]"
      ]
     },
     "execution_count": 6,
     "metadata": {},
     "output_type": "execute_result"
    }
   ],
   "source": [
    "filter(df_unpert).head()"
   ]
  },
  {
   "cell_type": "code",
   "execution_count": 7,
   "id": "317c5dd5-3633-42a7-a871-8a90d7a0e292",
   "metadata": {
    "execution": {
     "iopub.execute_input": "2023-01-28T03:30:59.074195Z",
     "iopub.status.busy": "2023-01-28T03:30:59.073993Z",
     "iopub.status.idle": "2023-01-28T03:30:59.078122Z",
     "shell.execute_reply": "2023-01-28T03:30:59.077560Z",
     "shell.execute_reply.started": "2023-01-28T03:30:59.074177Z"
    },
    "tags": []
   },
   "outputs": [],
   "source": [
    "#combine perturbation lists to create all genes of interest\n",
    "pert = adata.obs.condition.values.unique().to_list()\n",
    "val_pert = ['Aqr', 'Bach2', 'Bhlhe40', 'Ets1', 'Fosb', 'Mafk', 'Stat3']\n",
    "all_pert = pert + val_pert"
   ]
  },
  {
   "cell_type": "code",
   "execution_count": 8,
   "id": "061f72a6-163e-4008-90d1-2e74899db91d",
   "metadata": {
    "execution": {
     "iopub.execute_input": "2023-01-28T03:30:59.078981Z",
     "iopub.status.busy": "2023-01-28T03:30:59.078791Z",
     "iopub.status.idle": "2023-01-28T03:30:59.083472Z",
     "shell.execute_reply": "2023-01-28T03:30:59.082959Z",
     "shell.execute_reply.started": "2023-01-28T03:30:59.078963Z"
    },
    "tags": []
   },
   "outputs": [],
   "source": [
    "def cond_filter(normdf, condition):\n",
    "    df_cond_list = pd.DataFrame(adata.obs['condition'])\n",
    "    cond_index = df_cond_list[df_cond_list['condition'] == condition].index\n",
    "    df_cond = normdf.filter(cond_index, axis = 0)\n",
    "    return df_cond"
   ]
  },
  {
   "cell_type": "code",
   "execution_count": 9,
   "id": "eca0f9cd-fd87-4cfc-af1f-62968ba3cf1e",
   "metadata": {
    "execution": {
     "iopub.execute_input": "2023-01-28T03:30:59.084302Z",
     "iopub.status.busy": "2023-01-28T03:30:59.084101Z",
     "iopub.status.idle": "2023-01-28T03:30:59.090782Z",
     "shell.execute_reply": "2023-01-28T03:30:59.090286Z",
     "shell.execute_reply.started": "2023-01-28T03:30:59.084286Z"
    },
    "tags": []
   },
   "outputs": [],
   "source": [
    "def real_perturbseq(df, gene_of_interest, df_svm_trained):\n",
    "    df_cond = pd.DataFrame(adata.obs['condition'])\n",
    "    goi_sample_index = df_cond[df_cond['condition'] == gene_of_interest].index\n",
    "    if gene_of_interest in df.columns and df.filter(goi_sample_index, axis = 0).shape[0] >= 10:\n",
    "        #get relevant dataset based on gene_of_interest\n",
    "        pert_goi_df = df.filter(goi_sample_index, axis = 0) #perturbseq data, normalized\n",
    "\n",
    "        df = pert_goi_df[df_svm_trained.columns]\n",
    "        df_labels = adata.obs['state'].filter(pert_goi_df[df_svm_trained.columns].index.values)\n",
    "\n",
    "        loaded_model = pickle.load(open('../saved_models/svc_model_unperturbed.sav', 'rb'))\n",
    "        result = loaded_model.score(df, df_labels)\n",
    "        print(result, 'rb')\n",
    "        preds = loaded_model.predict(df)\n",
    "        cm = confusion_matrix(df_labels, preds, normalize = 'all')\n",
    "        print(loaded_model.classes_)\n",
    "        print(f1_score(df_labels, preds, average=None))\n",
    "        if len(cm) < 5:\n",
    "            print('less than 5 categories. not enough data') \n",
    "            dist = []\n",
    "        else:\n",
    "            dist = [cm[0][0], cm[1][1], cm[2][2], cm[3][3], cm[4][4]]\n",
    "            print(dist)\n",
    "    else:\n",
    "        print('gene of interest not found in columns, or less than 10 samples')\n",
    "        dist = []   \n",
    "    return dist\n",
    "    "
   ]
  },
  {
   "cell_type": "code",
   "execution_count": 10,
   "id": "2e99a5ec-b23b-43ee-ab04-66955d0fbc27",
   "metadata": {
    "execution": {
     "iopub.execute_input": "2023-01-28T03:30:59.091615Z",
     "iopub.status.busy": "2023-01-28T03:30:59.091426Z",
     "iopub.status.idle": "2023-01-28T03:30:59.097951Z",
     "shell.execute_reply": "2023-01-28T03:30:59.097453Z",
     "shell.execute_reply.started": "2023-01-28T03:30:59.091598Z"
    },
    "tags": []
   },
   "outputs": [],
   "source": [
    "def fake_perturbseq(gene_of_interest, X_test, y_test):\n",
    "    print(gene_of_interest)\n",
    "    if gene_of_interest in X_test.columns and X_test[X_test[gene_of_interest] == 0].shape[0] > 0:\n",
    "        goi_df = X_test[X_test[gene_of_interest] == 0]\n",
    "        goi_labels = y_test.filter(goi_df.index.values, axis = 0)\n",
    "        loaded_model = pickle.load(open('../saved_models/svc_model_unperturbed.sav', 'rb'))\n",
    "        result = loaded_model.score(goi_df, goi_labels)\n",
    "        print(result, 'rb')\n",
    "        preds = loaded_model.predict(goi_df)\n",
    "        cm = confusion_matrix(goi_labels, preds, normalize = 'all')\n",
    "        print(loaded_model.classes_)\n",
    "        print(f1_score(goi_labels, preds, average=None))\n",
    "        if len(cm) < 5: \n",
    "            dist = cm\n",
    "        else:\n",
    "            dist = [cm[0][0], cm[1][1], cm[2][2], cm[3][3], cm[4][4]]\n",
    "            print(dist)\n",
    "    else:\n",
    "        print('gene of interest not found in columns')\n",
    "        dist = []\n",
    "    return dist\n"
   ]
  },
  {
   "cell_type": "code",
   "execution_count": 11,
   "id": "fab8cce1-a4db-40f7-8f8e-c7c5c97078bf",
   "metadata": {
    "execution": {
     "iopub.execute_input": "2023-01-28T03:31:00.045145Z",
     "iopub.status.busy": "2023-01-28T03:31:00.044752Z",
     "iopub.status.idle": "2023-01-28T03:31:01.140446Z",
     "shell.execute_reply": "2023-01-28T03:31:01.139807Z",
     "shell.execute_reply.started": "2023-01-28T03:31:00.045119Z"
    },
    "tags": []
   },
   "outputs": [],
   "source": [
    "df = filter(df_unpert)\n",
    "labels = adata.obs['state'].filter(df.index.values, axis = 0)"
   ]
  },
  {
   "cell_type": "code",
   "execution_count": 14,
   "id": "c05fc76f-22e6-415d-94f8-9273cf6ecbb0",
   "metadata": {
    "execution": {
     "iopub.execute_input": "2023-01-28T03:31:29.275646Z",
     "iopub.status.busy": "2023-01-28T03:31:29.275257Z",
     "iopub.status.idle": "2023-01-28T03:34:54.008676Z",
     "shell.execute_reply": "2023-01-28T03:34:54.007983Z",
     "shell.execute_reply.started": "2023-01-28T03:31:29.275622Z"
    },
    "tags": []
   },
   "outputs": [
    {
     "name": "stdout",
     "output_type": "stream",
     "text": [
      "Aqr\n",
      "0.9896542335965152 rb\n",
      "['cycling' 'effector' 'other' 'progenitor' 'terminal exhausted']\n",
      "[0.99646365 0.98466594 0.96124031 0.98728814 0.98820556]\n",
      "[0.3452218894636537, 0.24475905254560304, 0.016879934658317452, 0.06343588347399945, 0.3193574734549415]\n"
     ]
    }
   ],
   "source": [
    "Aqr = fake_perturbseq('Aqr', filter(df_unpert), labels)"
   ]
  },
  {
   "cell_type": "code",
   "execution_count": null,
   "id": "6560b1ad-07e2-480c-9bad-10ee09949149",
   "metadata": {},
   "outputs": [],
   "source": [
    "#val_pert = ['Aqr', 'Bach2', 'Bhlhe40', 'Ets1', 'Fosb', 'Mafk', 'Stat3']"
   ]
  },
  {
   "cell_type": "code",
   "execution_count": 15,
   "id": "c09a4d51-1ca8-4f7d-98c3-303404b48708",
   "metadata": {
    "execution": {
     "iopub.execute_input": "2023-01-28T03:34:57.721985Z",
     "iopub.status.busy": "2023-01-28T03:34:57.721606Z",
     "iopub.status.idle": "2023-01-28T03:39:10.120691Z",
     "shell.execute_reply": "2023-01-28T03:39:10.119867Z",
     "shell.execute_reply.started": "2023-01-28T03:34:57.721962Z"
    }
   },
   "outputs": [
    {
     "name": "stdout",
     "output_type": "stream",
     "text": [
      "Bach2\n",
      "0.9901055408970977 rb\n",
      "['cycling' 'effector' 'other' 'progenitor' 'terminal exhausted']\n",
      "[0.99665552 0.98335068 0.96153846 0.98684211 0.98856759]\n",
      "[0.39313984168865435, 0.20778364116094986, 0.016490765171503958, 0.04947229551451187, 0.3232189973614776]\n"
     ]
    }
   ],
   "source": [
    "Bach2 = fake_perturbseq(val_pert[1], filter(df_unpert), labels)"
   ]
  },
  {
   "cell_type": "code",
   "execution_count": 16,
   "id": "0ffd523c-0acf-428e-9aaa-3e73d1c0ae45",
   "metadata": {
    "execution": {
     "iopub.execute_input": "2023-01-28T03:39:10.122516Z",
     "iopub.status.busy": "2023-01-28T03:39:10.122169Z",
     "iopub.status.idle": "2023-01-28T03:39:43.238854Z",
     "shell.execute_reply": "2023-01-28T03:39:43.238005Z",
     "shell.execute_reply.started": "2023-01-28T03:39:10.122489Z"
    }
   },
   "outputs": [
    {
     "name": "stdout",
     "output_type": "stream",
     "text": [
      "Bhlhe40\n",
      "0.9875222816399287 rb\n",
      "['cycling' 'effector' 'other' 'progenitor' 'terminal exhausted']\n",
      "[0.99253731 0.98591549 0.98591549 0.97297297 0.98870056]\n",
      "[0.23707664884135474, 0.31194295900178254, 0.062388591800356503, 0.06417112299465241, 0.31194295900178254]\n"
     ]
    }
   ],
   "source": [
    "Bhlhe40 = fake_perturbseq(val_pert[2], filter(df_unpert), labels)"
   ]
  },
  {
   "cell_type": "code",
   "execution_count": 17,
   "id": "df9b65cd-8e5c-4c87-b662-6f6079b232e7",
   "metadata": {
    "execution": {
     "iopub.execute_input": "2023-01-28T03:39:43.240818Z",
     "iopub.status.busy": "2023-01-28T03:39:43.239999Z",
     "iopub.status.idle": "2023-01-28T03:40:46.860032Z",
     "shell.execute_reply": "2023-01-28T03:40:46.859315Z",
     "shell.execute_reply.started": "2023-01-28T03:39:43.240782Z"
    }
   },
   "outputs": [
    {
     "name": "stdout",
     "output_type": "stream",
     "text": [
      "Ets1\n",
      "0.9890909090909091 rb\n",
      "['cycling' 'effector' 'other' 'progenitor' 'terminal exhausted']\n",
      "[0.99502488 0.98658718 0.96969697 0.98924731 0.98813056]\n",
      "[0.2727272727272727, 0.3009090909090909, 0.02909090909090909, 0.08363636363636363, 0.30272727272727273]\n"
     ]
    }
   ],
   "source": [
    "Ets1 = fake_perturbseq(val_pert[3], filter(df_unpert), labels)"
   ]
  },
  {
   "cell_type": "code",
   "execution_count": 18,
   "id": "37b9c9a8-fa09-4202-a70c-60340be4a94d",
   "metadata": {
    "execution": {
     "iopub.execute_input": "2023-01-28T03:40:46.861739Z",
     "iopub.status.busy": "2023-01-28T03:40:46.861446Z",
     "iopub.status.idle": "2023-01-28T03:44:54.370798Z",
     "shell.execute_reply": "2023-01-28T03:44:54.369981Z",
     "shell.execute_reply.started": "2023-01-28T03:40:46.861719Z"
    }
   },
   "outputs": [
    {
     "name": "stdout",
     "output_type": "stream",
     "text": [
      "Fosb\n",
      "0.9900439916647372 rb\n",
      "['cycling' 'effector' 'other' 'progenitor' 'terminal exhausted']\n",
      "[0.99622879 0.9847769  0.96052632 0.98905109 0.98842511]\n",
      "[0.3669830979393378, 0.2171799027552674, 0.016902060662190323, 0.06274600601991202, 0.32623292428802964]\n"
     ]
    }
   ],
   "source": [
    "Fosb = fake_perturbseq(val_pert[4], filter(df_unpert), labels)"
   ]
  },
  {
   "cell_type": "code",
   "execution_count": 19,
   "id": "523312fd-5540-4161-b695-564d41ec4aaa",
   "metadata": {
    "execution": {
     "iopub.execute_input": "2023-01-28T03:44:54.372066Z",
     "iopub.status.busy": "2023-01-28T03:44:54.371834Z",
     "iopub.status.idle": "2023-01-28T03:49:13.685051Z",
     "shell.execute_reply": "2023-01-28T03:49:13.684161Z",
     "shell.execute_reply.started": "2023-01-28T03:44:54.372046Z"
    }
   },
   "outputs": [
    {
     "name": "stdout",
     "output_type": "stream",
     "text": [
      "Mafk\n",
      "0.9902869757174393 rb\n",
      "['cycling' 'effector' 'other' 'progenitor' 'terminal exhausted']\n",
      "[0.99631415 0.98512057 0.96202532 0.98675497 0.98866052]\n",
      "[0.38785871964679913, 0.2119205298013245, 0.016777041942604858, 0.06578366445916115, 0.3079470198675497]\n"
     ]
    }
   ],
   "source": [
    "Mafk = fake_perturbseq(val_pert[5], filter(df_unpert), labels)"
   ]
  },
  {
   "cell_type": "code",
   "execution_count": 20,
   "id": "6408dfb5-895c-470a-9cb6-2b6315f19d83",
   "metadata": {
    "execution": {
     "iopub.execute_input": "2023-01-28T03:49:13.686766Z",
     "iopub.status.busy": "2023-01-28T03:49:13.686214Z",
     "iopub.status.idle": "2023-01-28T03:49:37.283420Z",
     "shell.execute_reply": "2023-01-28T03:49:37.282756Z",
     "shell.execute_reply.started": "2023-01-28T03:49:13.686730Z"
    },
    "tags": []
   },
   "outputs": [
    {
     "name": "stdout",
     "output_type": "stream",
     "text": [
      "Stat3\n",
      "0.989821882951654 rb\n",
      "['cycling' 'effector' 'other' 'progenitor' 'terminal exhausted']\n",
      "[1.         0.98773006 1.         0.98876404 0.98429319]\n",
      "[0.18575063613231552, 0.40966921119592875, 0.043256997455470736, 0.11195928753180662, 0.23918575063613232]\n"
     ]
    }
   ],
   "source": [
    "Stat3 = fake_perturbseq(val_pert[6], filter(df_unpert), labels)"
   ]
  },
  {
   "cell_type": "code",
   "execution_count": 31,
   "id": "0875f52c-a931-4e26-9a41-31bf63a167fd",
   "metadata": {
    "execution": {
     "iopub.execute_input": "2023-01-28T03:52:57.257552Z",
     "iopub.status.busy": "2023-01-28T03:52:57.257192Z",
     "iopub.status.idle": "2023-01-28T03:52:57.262824Z",
     "shell.execute_reply": "2023-01-28T03:52:57.262268Z",
     "shell.execute_reply.started": "2023-01-28T03:52:57.257526Z"
    },
    "tags": []
   },
   "outputs": [],
   "source": [
    "validation = pd.DataFrame([Aqr, Bach2, Bhlhe40], columns = ['cycling', 'effector', 'other' ,'progenitor' ,'terminal exhausted'], index = ['Aqr', 'Bach2', 'Bhlhe40'] )\n",
    "test = pd.DataFrame([Fosb, Mafk, Stat3, Ets1], columns = ['cycling' ,'effector' ,'other', 'progenitor', 'terminal exhausted'], index = ['Fosb', 'Mafk', 'Stat3', 'Ets1'])"
   ]
  },
  {
   "cell_type": "code",
   "execution_count": null,
   "id": "589c9178-bfbe-4122-aa0f-af3ceada6363",
   "metadata": {
    "execution": {
     "iopub.execute_input": "2023-01-28T03:52:57.423107Z",
     "iopub.status.busy": "2023-01-28T03:52:57.422790Z",
     "iopub.status.idle": "2023-01-28T03:52:57.428454Z",
     "shell.execute_reply": "2023-01-28T03:52:57.427920Z",
     "shell.execute_reply.started": "2023-01-28T03:52:57.423085Z"
    },
    "tags": []
   },
   "outputs": [
    {
     "ename": "NameError",
     "evalue": "name 'test' is not defined",
     "output_type": "error",
     "traceback": [
      "\u001b[0;31m---------------------------------------------------------------------------\u001b[0m",
      "\u001b[0;31mNameError\u001b[0m                                 Traceback (most recent call last)",
      "Cell \u001b[0;32mIn [1], line 1\u001b[0m\n\u001b[0;32m----> 1\u001b[0m test\u001b[38;5;241m.\u001b[39mto_csv(\u001b[38;5;124m'\u001b[39m\u001b[38;5;124mtest_output.csv\u001b[39m\u001b[38;5;124m'\u001b[39m, index \u001b[38;5;241m=\u001b[39m [\u001b[38;5;124m'\u001b[39m\u001b[38;5;124mAqr\u001b[39m\u001b[38;5;124m'\u001b[39m, \u001b[38;5;124m'\u001b[39m\u001b[38;5;124mBach2\u001b[39m\u001b[38;5;124m'\u001b[39m, \u001b[38;5;124m'\u001b[39m\u001b[38;5;124mBhlhe40\u001b[39m\u001b[38;5;124m'\u001b[39m] )\n\u001b[1;32m      2\u001b[0m validation\u001b[38;5;241m.\u001b[39mto_csv(\u001b[38;5;124m'\u001b[39m\u001b[38;5;124mvalidation_output.csv\u001b[39m\u001b[38;5;124m'\u001b[39m, index \u001b[38;5;241m=\u001b[39m [\u001b[38;5;124m'\u001b[39m\u001b[38;5;124mFosb\u001b[39m\u001b[38;5;124m'\u001b[39m, \u001b[38;5;124m'\u001b[39m\u001b[38;5;124mMafk\u001b[39m\u001b[38;5;124m'\u001b[39m, \u001b[38;5;124m'\u001b[39m\u001b[38;5;124mStat3\u001b[39m\u001b[38;5;124m'\u001b[39m, \u001b[38;5;124m'\u001b[39m\u001b[38;5;124mEts1\u001b[39m\u001b[38;5;124m'\u001b[39m])\n",
      "\u001b[0;31mNameError\u001b[0m: name 'test' is not defined"
     ]
    }
   ],
   "source": [
    "test.to_csv('test_output.csv', index = 0)\n",
    "validation.to_csv('validation_output.csv', index = 0)"
   ]
  },
  {
   "cell_type": "code",
   "execution_count": null,
   "id": "85d9aef6-f215-44c2-8d04-544b21e95ac3",
   "metadata": {},
   "outputs": [],
   "source": []
  }
 ],
 "metadata": {
  "kernelspec": {
   "display_name": ".venv",
   "language": "python",
   "name": "python3"
  },
  "language_info": {
   "codemirror_mode": {
    "name": "ipython",
    "version": 3
   },
   "file_extension": ".py",
   "mimetype": "text/x-python",
   "name": "python",
   "nbconvert_exporter": "python",
   "pygments_lexer": "ipython3",
   "version": "3.8.9 (default, Feb 18 2022, 07:45:33) \n[Clang 13.1.6 (clang-1316.0.21.2)]"
  },
  "vscode": {
   "interpreter": {
    "hash": "07f87e5aa4ea373706471be662c54053069fe0fa7a416f5e213b1290595948c7"
   }
  }
 },
 "nbformat": 4,
 "nbformat_minor": 5
}
